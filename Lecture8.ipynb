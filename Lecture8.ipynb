{
 "cells": [
  {
   "cell_type": "markdown",
   "id": "8764c2c6",
   "metadata": {},
   "source": [
    "<a target=\"_blank\" href=\"https://colab.research.google.com/github/svniko/python-fund-2023/blob/main/Lecture8.ipynb\">\n",
    "  <img src=\"https://colab.research.google.com/assets/colab-badge.svg\" alt=\"Open In Colab\"/>"
   ]
  },
  {
   "cell_type": "markdown",
   "id": "06c1a339",
   "metadata": {},
   "source": [
    "# Lecture 8"
   ]
  },
  {
   "cell_type": "code",
   "execution_count": 1,
   "id": "a5ea6969",
   "metadata": {},
   "outputs": [],
   "source": [
    "def fibonacci(n):\n",
    "    \n",
    "    #initialize the list with starting elements: 0, 1\n",
    "    fibonacciSeries = [0,1]\n",
    "\n",
    "    if n>2:\n",
    "        for i in range(2, n):\n",
    "            #next element in series = sum of its previous two numbers\n",
    "            nextElement = fibonacciSeries[i-1] + fibonacciSeries[i-2]\n",
    "            #append the element to the series\n",
    "            fibonacciSeries.append(nextElement)\n",
    "\n",
    "    return fibonacciSeries\n"
   ]
  },
  {
   "cell_type": "code",
   "execution_count": 3,
   "id": "618f857d",
   "metadata": {},
   "outputs": [
    {
     "data": {
      "text/plain": [
       "[0, 1, 1, 2, 3, 5, 8, 13, 21, 34]"
      ]
     },
     "execution_count": 3,
     "metadata": {},
     "output_type": "execute_result"
    }
   ],
   "source": [
    "fibonacci(10)"
   ]
  },
  {
   "cell_type": "markdown",
   "id": "7906da22",
   "metadata": {},
   "source": [
    "### Example\n",
    "write and test a function which takes one argument (a year) and returns True if the year is a leap year, or False otherwise."
   ]
  },
  {
   "cell_type": "code",
   "execution_count": null,
   "id": "7ee3e8ce",
   "metadata": {},
   "outputs": [],
   "source": [
    "# example from lecture 3\n",
    "year = int(input('Enter a year to check: '))\n",
    "\n",
    "if year % 4 != 0:\n",
    "    print(\"Common year\")\n",
    "elif year % 400 == 0:\n",
    "    print('A leap year')\n",
    "elif year % 100 == 0:\n",
    "    print(\"Common year\")\n",
    "else:\n",
    "    print(\"A leap year\")"
   ]
  },
  {
   "cell_type": "markdown",
   "id": "e17c8bb9",
   "metadata": {},
   "source": [
    "#### Let's redo it into a function"
   ]
  },
  {
   "cell_type": "code",
   "execution_count": 4,
   "id": "b50a136c",
   "metadata": {},
   "outputs": [],
   "source": [
    "def is_year_leap(year):\n",
    "    if year % 4 != 0:\n",
    "        return False\n",
    "    elif year % 400 == 0:\n",
    "        return True\n",
    "    elif year % 100 == 0:\n",
    "        return False\n",
    "    else:\n",
    "        return True"
   ]
  },
  {
   "cell_type": "code",
   "execution_count": 8,
   "id": "809d4885",
   "metadata": {},
   "outputs": [
    {
     "data": {
      "text/plain": [
       "False"
      ]
     },
     "execution_count": 8,
     "metadata": {},
     "output_type": "execute_result"
    }
   ],
   "source": [
    "is_year_leap(2022)"
   ]
  },
  {
   "cell_type": "markdown",
   "id": "fe45f82a",
   "metadata": {},
   "source": [
    "To test the function we will use `assert` statements\n",
    "These Python `assert` statements stop the program if their condition is `False`. "
   ]
  },
  {
   "cell_type": "code",
   "execution_count": 10,
   "id": "57e209cc",
   "metadata": {},
   "outputs": [
    {
     "name": "stdout",
     "output_type": "stream",
     "text": [
      "Looks like all tests passed\n"
     ]
    }
   ],
   "source": [
    "# All test pass\n",
    "assert is_year_leap(2022) == False\n",
    "assert is_year_leap(2023) == False\n",
    "assert is_year_leap(2020) == True\n",
    "assert is_year_leap(1900) == False\n",
    "assert is_year_leap(2000) == True\n",
    "print(\"Looks like all tests passed\")"
   ]
  },
  {
   "cell_type": "code",
   "execution_count": 13,
   "id": "cd987603",
   "metadata": {},
   "outputs": [
    {
     "ename": "AssertionError",
     "evalue": "2022 Should be False",
     "output_type": "error",
     "traceback": [
      "\u001b[1;31m---------------------------------------------------------------------------\u001b[0m",
      "\u001b[1;31mAssertionError\u001b[0m                            Traceback (most recent call last)",
      "Cell \u001b[1;32mIn[13], line 2\u001b[0m\n\u001b[0;32m      1\u001b[0m \u001b[38;5;66;03m# Not all test pass\u001b[39;00m\n\u001b[1;32m----> 2\u001b[0m \u001b[38;5;28;01massert\u001b[39;00m is_year_leap(\u001b[38;5;241m2022\u001b[39m) \u001b[38;5;241m==\u001b[39m \u001b[38;5;28;01mTrue\u001b[39;00m, \u001b[38;5;124m\"\u001b[39m\u001b[38;5;124m2022 Should be False\u001b[39m\u001b[38;5;124m\"\u001b[39m\n\u001b[0;32m      3\u001b[0m \u001b[38;5;28;01massert\u001b[39;00m is_year_leap(\u001b[38;5;241m2023\u001b[39m) \u001b[38;5;241m==\u001b[39m \u001b[38;5;28;01mFalse\u001b[39;00m\n\u001b[0;32m      4\u001b[0m \u001b[38;5;28;01massert\u001b[39;00m is_year_leap(\u001b[38;5;241m2020\u001b[39m) \u001b[38;5;241m==\u001b[39m \u001b[38;5;28;01mTrue\u001b[39;00m\n",
      "\u001b[1;31mAssertionError\u001b[0m: 2022 Should be False"
     ]
    }
   ],
   "source": [
    "# Not all test pass\n",
    "assert is_year_leap(2022) == True, \"2022 Should be False\"\n",
    "assert is_year_leap(2023) == False\n",
    "assert is_year_leap(2020) == True\n",
    "assert is_year_leap(1900) == False\n",
    "assert is_year_leap(2000) == True\n",
    "print(\"Looks like all tests passed\")"
   ]
  },
  {
   "cell_type": "markdown",
   "id": "87c7ee4c",
   "metadata": {},
   "source": [
    "More improvement"
   ]
  },
  {
   "cell_type": "code",
   "execution_count": null,
   "id": "5be4f0dc",
   "metadata": {},
   "outputs": [],
   "source": [
    "# code from lecture 3\n",
    "year = int(input('Enter a year to check: '))\n",
    "if year % 4 == 0 and year % 100 != 0 or year % 400 == 0:\n",
    "    print(\"A leap year\")\n",
    "else:\n",
    "    print(\"Common year\")"
   ]
  },
  {
   "cell_type": "code",
   "execution_count": 14,
   "id": "2be298f5",
   "metadata": {},
   "outputs": [],
   "source": [
    "def is_year_leap1(year):\n",
    "    if year % 4 == 0 and year % 100 != 0 or year % 400 == 0:\n",
    "        return True\n",
    "    else:\n",
    "        return False"
   ]
  },
  {
   "cell_type": "code",
   "execution_count": 15,
   "id": "dd3c0121",
   "metadata": {},
   "outputs": [
    {
     "name": "stdout",
     "output_type": "stream",
     "text": [
      "Looks like all tests passed\n"
     ]
    }
   ],
   "source": [
    "assert is_year_leap(2022) == False\n",
    "assert is_year_leap(2000) == True\n",
    "assert is_year_leap(1900) == False\n",
    "assert is_year_leap(2021) == False\n",
    "print(\"Looks like all tests passed\")"
   ]
  },
  {
   "cell_type": "code",
   "execution_count": 16,
   "id": "0b0e3db2",
   "metadata": {},
   "outputs": [],
   "source": [
    "def is_year_leap(year):\n",
    "    return year % 4 == 0 and year % 100 != 0 or year % 400 == 0"
   ]
  },
  {
   "cell_type": "code",
   "execution_count": 18,
   "id": "9385cca9",
   "metadata": {},
   "outputs": [
    {
     "ename": "AssertionError",
     "evalue": "",
     "output_type": "error",
     "traceback": [
      "\u001b[1;31m---------------------------------------------------------------------------\u001b[0m",
      "\u001b[1;31mAssertionError\u001b[0m                            Traceback (most recent call last)",
      "Cell \u001b[1;32mIn[18], line 4\u001b[0m\n\u001b[0;32m      2\u001b[0m \u001b[38;5;28;01massert\u001b[39;00m is_year_leap(\u001b[38;5;241m2000\u001b[39m) \u001b[38;5;241m==\u001b[39m \u001b[38;5;28;01mTrue\u001b[39;00m\n\u001b[0;32m      3\u001b[0m \u001b[38;5;28;01massert\u001b[39;00m is_year_leap(\u001b[38;5;241m1900\u001b[39m) \u001b[38;5;241m==\u001b[39m \u001b[38;5;28;01mFalse\u001b[39;00m\n\u001b[1;32m----> 4\u001b[0m \u001b[38;5;28;01massert\u001b[39;00m is_year_leap(\u001b[38;5;241m2021\u001b[39m) \u001b[38;5;241m==\u001b[39m \u001b[38;5;28;01mTrue\u001b[39;00m\n\u001b[0;32m      5\u001b[0m \u001b[38;5;28mprint\u001b[39m(\u001b[38;5;124m\"\u001b[39m\u001b[38;5;124mLooks like all tests passed\u001b[39m\u001b[38;5;124m\"\u001b[39m)\n",
      "\u001b[1;31mAssertionError\u001b[0m: "
     ]
    }
   ],
   "source": [
    "assert is_year_leap(2022) == False\n",
    "assert is_year_leap(2000) == True\n",
    "assert is_year_leap(1900) == False\n",
    "assert is_year_leap(2021) == True\n",
    "print(\"Looks like all tests passed\")"
   ]
  },
  {
   "cell_type": "markdown",
   "id": "770573c0",
   "metadata": {},
   "source": [
    "### Functions and scopes"
   ]
  },
  {
   "cell_type": "markdown",
   "id": "7cb0349d",
   "metadata": {},
   "source": [
    "Let's start with a definition:\n",
    "\n",
    "The **scope of a name** (e.g., a variable name) is the part of a code where the name is properly recognizable.\n",
    "\n",
    "For example, the scope of a function's parameter is the function itself. The parameter is inaccessible outside the function.\n",
    "\n",
    "\n",
    "Let's check it. Look at the code. What will happen when you run it?\n",
    "\n",
    "The program will fail when run. The error message will read:"
   ]
  },
  {
   "cell_type": "code",
   "execution_count": 19,
   "id": "07404dc5",
   "metadata": {},
   "outputs": [
    {
     "ename": "NameError",
     "evalue": "name 'xx' is not defined",
     "output_type": "error",
     "traceback": [
      "\u001b[1;31m---------------------------------------------------------------------------\u001b[0m",
      "\u001b[1;31mNameError\u001b[0m                                 Traceback (most recent call last)",
      "Cell \u001b[1;32mIn[19], line 6\u001b[0m\n\u001b[0;32m      2\u001b[0m     xx \u001b[38;5;241m=\u001b[39m \u001b[38;5;241m123\u001b[39m\n\u001b[0;32m      5\u001b[0m scope_test()\n\u001b[1;32m----> 6\u001b[0m \u001b[38;5;28mprint\u001b[39m(\u001b[43mxx\u001b[49m)\n",
      "\u001b[1;31mNameError\u001b[0m: name 'xx' is not defined"
     ]
    }
   ],
   "source": [
    "def scope_test():\n",
    "    xx = 123\n",
    "\n",
    "\n",
    "scope_test()\n",
    "print(xx)\n"
   ]
  },
  {
   "cell_type": "markdown",
   "id": "f6af06fa",
   "metadata": {},
   "source": [
    "Let's start by checking whether or not a variable created outside any function is visible inside the functions.\n",
    "In other words, does a variable's name propagate into a function's body?\n",
    "\n",
    "Look at the code:"
   ]
  },
  {
   "cell_type": "code",
   "execution_count": 21,
   "id": "de371457",
   "metadata": {},
   "outputs": [
    {
     "name": "stdout",
     "output_type": "stream",
     "text": [
      "Inside the function 100\n",
      "Outside the function 100\n"
     ]
    }
   ],
   "source": [
    "def my_function():\n",
    "    print(\"Inside the function\", var)\n",
    "\n",
    "\n",
    "var = 100\n",
    "my_function()\n",
    "print(\"Outside the function\",var)"
   ]
  },
  {
   "cell_type": "markdown",
   "id": "85360631",
   "metadata": {},
   "source": [
    "The answer is: a variable existing outside a function has a scope inside the functions' bodies.\n",
    "\n",
    "This rule has a very **important exception**. Let's try to find it.\n",
    "\n",
    "\n",
    "Let's make a small change to the code:"
   ]
  },
  {
   "cell_type": "code",
   "execution_count": 23,
   "id": "18aa9cf8",
   "metadata": {},
   "outputs": [
    {
     "name": "stdout",
     "output_type": "stream",
     "text": [
      "1942747072\n",
      "Inside the function 2\n",
      "1942747056\n",
      "Outside the function 1\n"
     ]
    }
   ],
   "source": [
    "def my_function():\n",
    "    var = 2\n",
    "    print(id(var))\n",
    "    print(\"Inside the function\", var)\n",
    "\n",
    "\n",
    "var = 1\n",
    "my_function()\n",
    "print(id(var))\n",
    "print(\"Outside the function\", var)"
   ]
  },
  {
   "cell_type": "markdown",
   "id": "1445ccf9",
   "metadata": {},
   "source": [
    "* The var variable created inside the function is not the same as when defined outside it - it seems that there two different variables of the same name;\n",
    "* Moreover, the function's variable shadows the variable coming from the outside world.\n",
    "\n",
    "We can make the previous rule more precise and adequate:\n",
    "\n",
    "**A variable existing outside a function has a scope inside the functions' bodies, excluding those of them which define a variable of the same name.**\n",
    "\n",
    "It also means that the scope of a variable existing outside a function is supported only when getting its value (reading). Assigning a value forces the creation of the function's own variable.\n",
    "\n"
   ]
  },
  {
   "cell_type": "markdown",
   "id": "3c53e7c2",
   "metadata": {},
   "source": [
    "### Functions and scopes: the `global` keyword\n",
    "Hopefully, you should now have arrived at the following question: does this mean that a function is not able to modify a variable defined outside it? This would create a lot of discomfort.\n",
    "\n",
    "Fortunately, the answer is no.\n",
    "\n",
    "There's a special Python method which can extend a variable's scope in a way which includes the functions' bodies (even if you want not only to read the values, but also to modify them).\n",
    "\n",
    "Such an effect is caused by a keyword named `global`:"
   ]
  },
  {
   "cell_type": "code",
   "execution_count": null,
   "id": "27b6f42d",
   "metadata": {},
   "outputs": [],
   "source": [
    "global name\n",
    "global name1, name2, ..."
   ]
  },
  {
   "cell_type": "markdown",
   "id": "479aa501",
   "metadata": {},
   "source": [
    "Using this keyword inside a function with the name (or names separated with commas) of a variable(s), forces Python to refrain from creating a new variable inside the function - the one accessible from outside will be used instead.\n",
    "\n",
    "In other words, this name becomes global (it has a **global scope**, and it doesn't matter whether it's the subject of read or assign).\n",
    "\n",
    "\n",
    "Look at the code in the editor.\n",
    "\n",
    "We've added global to the function.\n",
    "\n",
    "The code now outputs:"
   ]
  },
  {
   "cell_type": "code",
   "execution_count": 25,
   "id": "52230475",
   "metadata": {},
   "outputs": [
    {
     "name": "stdout",
     "output_type": "stream",
     "text": [
      "Before the function 1\n",
      "Inside the function 2\n",
      "Outside the function 2\n"
     ]
    }
   ],
   "source": [
    "def my_function():\n",
    "    global var\n",
    "    var = 2\n",
    "    print(\"Inside the function\", var)\n",
    "\n",
    "\n",
    "var = 1\n",
    "print(\"Before the function\", var)\n",
    "my_function()\n",
    "print(\"Outside the function\", var)"
   ]
  },
  {
   "cell_type": "markdown",
   "id": "bee6e1cf",
   "metadata": {},
   "source": [
    "#### How the function interacts with its arguments\n",
    "Now let's find out how the function interacts with its arguments.\n",
    "\n",
    "The code in the editor should teach you something. As you can see, the function changes the value of its parameter. Does the change affect the argument?"
   ]
  },
  {
   "cell_type": "code",
   "execution_count": 26,
   "id": "0edbdef7",
   "metadata": {},
   "outputs": [
    {
     "name": "stdout",
     "output_type": "stream",
     "text": [
      "I got 1\n",
      "I have 2\n",
      "1\n"
     ]
    }
   ],
   "source": [
    "def my_function(n):\n",
    "    print(\"I got\", n)\n",
    "    n += 1\n",
    "    print(\"I have\", n)\n",
    "\n",
    "\n",
    "var = 1\n",
    "# print(id(var))\n",
    "my_function(var)\n",
    "print(var)\n",
    "# print(id(var))"
   ]
  },
  {
   "cell_type": "markdown",
   "id": "19944dee",
   "metadata": {},
   "source": [
    "The conclusion is obvious - **changing the parameter's value doesn't propagate outside the function** (in any case, not when the variable is a scalar, like in the example).\n",
    "\n",
    "This also means that a function receives the argument's value, not the argument itself. This is true for scalars.\n",
    "\n",
    "Is it worth checking how it works with lists"
   ]
  },
  {
   "cell_type": "code",
   "execution_count": 27,
   "id": "ed63dcc2",
   "metadata": {},
   "outputs": [
    {
     "name": "stdout",
     "output_type": "stream",
     "text": [
      "I got [1, 2, 3, 4]\n",
      "I have [0, 1]\n",
      "[1, 2, 3, 4]\n"
     ]
    }
   ],
   "source": [
    "def my_function(n):\n",
    "    print(\"I got\", n)\n",
    "    n = [0, 1]\n",
    "    print(\"I have\", n)\n",
    "\n",
    "\n",
    "var = [1,2,3,4 ]\n",
    "my_function(var)\n",
    "print(var)\n"
   ]
  },
  {
   "cell_type": "markdown",
   "id": "6a446cec",
   "metadata": {},
   "source": [
    "Let's try another example"
   ]
  },
  {
   "cell_type": "code",
   "execution_count": 28,
   "id": "6ae29a11",
   "metadata": {},
   "outputs": [
    {
     "name": "stdout",
     "output_type": "stream",
     "text": [
      "I got [1, 2, 3, 4]\n",
      "I have [2, 2, 3, 4]\n",
      "[2, 2, 3, 4]\n"
     ]
    }
   ],
   "source": [
    "def my_function(n):\n",
    "    print(\"I got\", n)\n",
    "    n[0] += 1\n",
    "    print(\"I have\", n)\n",
    "\n",
    "\n",
    "var = [1,2,3,4 ]\n",
    "my_function(var)\n",
    "print(var)"
   ]
  },
  {
   "cell_type": "markdown",
   "id": "e583314a",
   "metadata": {},
   "source": [
    "We don't change the value of the parameter `n` (we already know it will not affect the argument), but instead modify the list identified by it."
   ]
  },
  {
   "cell_type": "markdown",
   "id": "ae940e9a",
   "metadata": {},
   "source": [
    "* if the argument is a list, then changing the value of the corresponding parameter doesn't affect the list (remember: variables containing lists are stored in a different way than scalars),\n",
    "* but if you change a list identified by the parameter (note: the list, not the parameter!), the list will reflect the change."
   ]
  },
  {
   "cell_type": "markdown",
   "id": "24c48056",
   "metadata": {},
   "source": [
    "## Recursion\n",
    "*Recursion* is a technique where a function invokes itself.\n",
    "\n",
    "These two cases seem to be the best to illustrate the phenomenon - factorials and Fibonacci numbers.\n",
    "\n",
    "The Fibonacci numbers definition is a clear example of recursion. We already told that:\n",
    "\n",
    "$$Fib_i = Fib_{i-1} + Fib_{i-2}$$\n",
    "\n",
    "The definition of the $i^{th}$ number refers to the i-1 number, and so on, till you reach the first two.\n",
    "\n",
    "Can it be used in the code? Yes, it can. It can also make the code shorter and clearer.\n",
    "\n",
    "The second version of our `fib()` function makes direct use of this definition:"
   ]
  },
  {
   "cell_type": "code",
   "execution_count": null,
   "id": "f11afe44",
   "metadata": {},
   "outputs": [],
   "source": [
    "0 + 1 + 1+2 3 5 8 13..."
   ]
  },
  {
   "cell_type": "code",
   "execution_count": 29,
   "id": "9140d9e3",
   "metadata": {},
   "outputs": [],
   "source": [
    "def fib_rec(n):\n",
    "    if n in [0, 1]:  # Base case\n",
    "        return n\n",
    "    return fib_rec(n - 1) + fib_rec(n - 2)"
   ]
  },
  {
   "cell_type": "code",
   "execution_count": 35,
   "id": "75f0f8fb",
   "metadata": {},
   "outputs": [
    {
     "data": {
      "text/plain": [
       "[0, 1, 1, 2, 3, 5, 8, 13, 21, 34]"
      ]
     },
     "execution_count": 35,
     "metadata": {},
     "output_type": "execute_result"
    }
   ],
   "source": [
    "[fib_rec(i) for i in range(10)]"
   ]
  },
  {
   "cell_type": "code",
   "execution_count": 30,
   "id": "ea58b857",
   "metadata": {},
   "outputs": [
    {
     "data": {
      "text/plain": [
       "55"
      ]
     },
     "execution_count": 30,
     "metadata": {},
     "output_type": "execute_result"
    }
   ],
   "source": [
    "fib_rec(10)"
   ]
  },
  {
   "cell_type": "code",
   "execution_count": 34,
   "id": "757f474b",
   "metadata": {},
   "outputs": [
    {
     "data": {
      "text/plain": [
       "[0, 1, 1, 2, 3, 5, 8, 13, 21, 34]"
      ]
     },
     "execution_count": 34,
     "metadata": {},
     "output_type": "execute_result"
    }
   ],
   "source": [
    "def fib_rec(n):\n",
    "    if n in [0, 1]:  # Base case\n",
    "         return n\n",
    "    return fib_rec(n - 1) + fib_rec(n - 2)\n",
    "\n",
    "def fib_sec(n):\n",
    "    return [fib_rec(i) for i in range(n)]\n",
    "\n",
    "fib_sec(10)"
   ]
  },
  {
   "cell_type": "markdown",
   "id": "c5977202",
   "metadata": {},
   "source": [
    "The factorial has a recursive side too. Look:\n",
    "\n",
    "n! = 1 × 2 × 3 × ... × n-1 × n\n",
    "\n",
    "\n",
    "It's obvious that:\n",
    "\n",
    "1 × 2 × 3 × ... × n-1 = (n-1)!\n",
    "\n",
    "\n",
    "So, finally, the result is:\n",
    "\n",
    "n! = (n-1)! × n\n",
    "\n",
    "Here it is:"
   ]
  },
  {
   "cell_type": "code",
   "execution_count": 37,
   "id": "0d4bac4f",
   "metadata": {},
   "outputs": [],
   "source": [
    "def factor(n):\n",
    "    if n < 0:\n",
    "        return None\n",
    "    if n < 2:\n",
    "        return 1\n",
    "    return n * factor(n - 1)"
   ]
  },
  {
   "cell_type": "code",
   "execution_count": 38,
   "id": "50c71c72",
   "metadata": {},
   "outputs": [
    {
     "data": {
      "text/plain": [
       "24"
      ]
     },
     "execution_count": 38,
     "metadata": {},
     "output_type": "execute_result"
    }
   ],
   "source": [
    "factor(4)"
   ]
  },
  {
   "cell_type": "code",
   "execution_count": 40,
   "id": "82a71435",
   "metadata": {},
   "outputs": [
    {
     "name": "stdout",
     "output_type": "stream",
     "text": [
      "None\n"
     ]
    }
   ],
   "source": [
    "print(factor(-4))"
   ]
  },
  {
   "cell_type": "markdown",
   "id": "30051ce2",
   "metadata": {},
   "source": [
    "Note: If you forget to consider the conditions which can stop the chain of recursive invocations, the program may enter an infinite loop. You have to be careful."
   ]
  },
  {
   "cell_type": "code",
   "execution_count": 41,
   "id": "f3bfcc1b",
   "metadata": {},
   "outputs": [
    {
     "ename": "RecursionError",
     "evalue": "maximum recursion depth exceeded",
     "output_type": "error",
     "traceback": [
      "\u001b[1;31m---------------------------------------------------------------------------\u001b[0m",
      "\u001b[1;31mRecursionError\u001b[0m                            Traceback (most recent call last)",
      "Cell \u001b[1;32mIn[41], line 5\u001b[0m\n\u001b[0;32m      1\u001b[0m \u001b[38;5;28;01mdef\u001b[39;00m \u001b[38;5;21mfactorial\u001b[39m(n):\n\u001b[0;32m      2\u001b[0m     \u001b[38;5;28;01mreturn\u001b[39;00m n \u001b[38;5;241m*\u001b[39m factorial(n \u001b[38;5;241m-\u001b[39m \u001b[38;5;241m1\u001b[39m)\n\u001b[1;32m----> 5\u001b[0m \u001b[38;5;28mprint\u001b[39m(\u001b[43mfactorial\u001b[49m\u001b[43m(\u001b[49m\u001b[38;5;241;43m4\u001b[39;49m\u001b[43m)\u001b[49m)\n",
      "Cell \u001b[1;32mIn[41], line 2\u001b[0m, in \u001b[0;36mfactorial\u001b[1;34m(n)\u001b[0m\n\u001b[0;32m      1\u001b[0m \u001b[38;5;28;01mdef\u001b[39;00m \u001b[38;5;21mfactorial\u001b[39m(n):\n\u001b[1;32m----> 2\u001b[0m     \u001b[38;5;28;01mreturn\u001b[39;00m n \u001b[38;5;241m*\u001b[39m \u001b[43mfactorial\u001b[49m\u001b[43m(\u001b[49m\u001b[43mn\u001b[49m\u001b[43m \u001b[49m\u001b[38;5;241;43m-\u001b[39;49m\u001b[43m \u001b[49m\u001b[38;5;241;43m1\u001b[39;49m\u001b[43m)\u001b[49m\n",
      "Cell \u001b[1;32mIn[41], line 2\u001b[0m, in \u001b[0;36mfactorial\u001b[1;34m(n)\u001b[0m\n\u001b[0;32m      1\u001b[0m \u001b[38;5;28;01mdef\u001b[39;00m \u001b[38;5;21mfactorial\u001b[39m(n):\n\u001b[1;32m----> 2\u001b[0m     \u001b[38;5;28;01mreturn\u001b[39;00m n \u001b[38;5;241m*\u001b[39m \u001b[43mfactorial\u001b[49m\u001b[43m(\u001b[49m\u001b[43mn\u001b[49m\u001b[43m \u001b[49m\u001b[38;5;241;43m-\u001b[39;49m\u001b[43m \u001b[49m\u001b[38;5;241;43m1\u001b[39;49m\u001b[43m)\u001b[49m\n",
      "    \u001b[1;31m[... skipping similar frames: factorial at line 2 (2970 times)]\u001b[0m\n",
      "Cell \u001b[1;32mIn[41], line 2\u001b[0m, in \u001b[0;36mfactorial\u001b[1;34m(n)\u001b[0m\n\u001b[0;32m      1\u001b[0m \u001b[38;5;28;01mdef\u001b[39;00m \u001b[38;5;21mfactorial\u001b[39m(n):\n\u001b[1;32m----> 2\u001b[0m     \u001b[38;5;28;01mreturn\u001b[39;00m n \u001b[38;5;241m*\u001b[39m \u001b[43mfactorial\u001b[49m\u001b[43m(\u001b[49m\u001b[43mn\u001b[49m\u001b[43m \u001b[49m\u001b[38;5;241;43m-\u001b[39;49m\u001b[43m \u001b[49m\u001b[38;5;241;43m1\u001b[39;49m\u001b[43m)\u001b[49m\n",
      "\u001b[1;31mRecursionError\u001b[0m: maximum recursion depth exceeded"
     ]
    }
   ],
   "source": [
    "def factorial(n):\n",
    "    return n * factorial(n - 1)\n",
    "\n",
    "\n",
    "print(factorial(4))"
   ]
  },
  {
   "cell_type": "markdown",
   "id": "34b22568",
   "metadata": {},
   "source": [
    "## Nested Function\n",
    "\n",
    "A nested function is simply a function within another function, and is sometimes called an \"inner function\". "
   ]
  },
  {
   "cell_type": "code",
   "execution_count": 42,
   "id": "b631605e",
   "metadata": {},
   "outputs": [
    {
     "name": "stdout",
     "output_type": "stream",
     "text": [
      "Hello from outer function\n",
      "Hello from inner function\n"
     ]
    }
   ],
   "source": [
    "def function1(): # outer function\n",
    "    print (\"Hello from outer function\")\n",
    "    \n",
    "    def function2(): # inner function\n",
    "        print (\"Hello from inner function\")\n",
    "        \n",
    "    function2()\n",
    "\n",
    "function1()"
   ]
  },
  {
   "cell_type": "code",
   "execution_count": 43,
   "id": "4f4ab4ad",
   "metadata": {},
   "outputs": [
    {
     "ename": "NameError",
     "evalue": "name 'function2' is not defined",
     "output_type": "error",
     "traceback": [
      "\u001b[1;31m---------------------------------------------------------------------------\u001b[0m",
      "\u001b[1;31mNameError\u001b[0m                                 Traceback (most recent call last)",
      "Cell \u001b[1;32mIn[43], line 1\u001b[0m\n\u001b[1;32m----> 1\u001b[0m \u001b[43mfunction2\u001b[49m()\n",
      "\u001b[1;31mNameError\u001b[0m: name 'function2' is not defined"
     ]
    }
   ],
   "source": [
    "function2()"
   ]
  },
  {
   "cell_type": "code",
   "execution_count": 47,
   "id": "6c519489",
   "metadata": {},
   "outputs": [
    {
     "name": "stdout",
     "output_type": "stream",
     "text": [
      "13\n"
     ]
    },
    {
     "ename": "NameError",
     "evalue": "name 'inner_increment' is not defined",
     "output_type": "error",
     "traceback": [
      "\u001b[1;31m---------------------------------------------------------------------------\u001b[0m",
      "\u001b[1;31mNameError\u001b[0m                                 Traceback (most recent call last)",
      "Cell \u001b[1;32mIn[47], line 6\u001b[0m\n\u001b[0;32m      4\u001b[0m     \u001b[38;5;28;01mreturn\u001b[39;00m inner_increment()\n\u001b[0;32m      5\u001b[0m \u001b[38;5;28mprint\u001b[39m(increment(\u001b[38;5;241m12\u001b[39m))\n\u001b[1;32m----> 6\u001b[0m \u001b[38;5;28mprint\u001b[39m(\u001b[43minner_increment\u001b[49m())\n",
      "\u001b[1;31mNameError\u001b[0m: name 'inner_increment' is not defined"
     ]
    }
   ],
   "source": [
    "def increment(number):\n",
    "    def inner_increment():\n",
    "        return number + 1\n",
    "    return inner_increment()\n",
    "print(increment(12))\n",
    "print(inner_increment())"
   ]
  },
  {
   "cell_type": "code",
   "execution_count": 46,
   "id": "d43547a0",
   "metadata": {},
   "outputs": [
    {
     "ename": "NameError",
     "evalue": "name 'inner_increment' is not defined",
     "output_type": "error",
     "traceback": [
      "\u001b[1;31m---------------------------------------------------------------------------\u001b[0m",
      "\u001b[1;31mNameError\u001b[0m                                 Traceback (most recent call last)",
      "Cell \u001b[1;32mIn[46], line 1\u001b[0m\n\u001b[1;32m----> 1\u001b[0m \u001b[43minner_increment\u001b[49m()\n",
      "\u001b[1;31mNameError\u001b[0m: name 'inner_increment' is not defined"
     ]
    }
   ],
   "source": [
    "inner_increment()"
   ]
  },
  {
   "cell_type": "code",
   "execution_count": 48,
   "id": "7b0a0a34",
   "metadata": {},
   "outputs": [
    {
     "name": "stdout",
     "output_type": "stream",
     "text": [
      "25\n"
     ]
    }
   ],
   "source": [
    "def fun1(x):\n",
    "    def fun2(y):\n",
    "        return y ** x\n",
    "    return fun2\n",
    "\n",
    "print(fun1(2)(5))"
   ]
  },
  {
   "cell_type": "code",
   "execution_count": 49,
   "id": "a933ee42",
   "metadata": {},
   "outputs": [
    {
     "name": "stdout",
     "output_type": "stream",
     "text": [
      "25\n"
     ]
    }
   ],
   "source": [
    "res = fun1(2)\n",
    "print(res(5))"
   ]
  },
  {
   "cell_type": "code",
   "execution_count": 50,
   "id": "4f65f5f7",
   "metadata": {},
   "outputs": [
    {
     "data": {
      "text/plain": [
       "25"
      ]
     },
     "execution_count": 50,
     "metadata": {},
     "output_type": "execute_result"
    }
   ],
   "source": [
    "pow_two = fun1(2)\n",
    "pow_two(5)"
   ]
  },
  {
   "cell_type": "code",
   "execution_count": 51,
   "id": "cd9a3ab2",
   "metadata": {},
   "outputs": [
    {
     "data": {
      "text/plain": [
       "27"
      ]
     },
     "execution_count": 51,
     "metadata": {},
     "output_type": "execute_result"
    }
   ],
   "source": [
    "pow_three = fun1(3)\n",
    "pow_three(3)"
   ]
  },
  {
   "cell_type": "code",
   "execution_count": 52,
   "id": "389dd72c",
   "metadata": {},
   "outputs": [
    {
     "data": {
      "text/plain": [
       "16"
      ]
     },
     "execution_count": 52,
     "metadata": {},
     "output_type": "execute_result"
    }
   ],
   "source": [
    "pow_four = fun1(4)\n",
    "pow_four(2)"
   ]
  },
  {
   "cell_type": "markdown",
   "id": "f3e31a8b",
   "metadata": {},
   "source": [
    "The example shows that an inner function is able to access variables accessible in the outer function.\n",
    "\n",
    "So far, you have seen that it is possible for us to access the variables of the outer function inside the inner function. What if we attempt to change the variables of the outer function from inside the inner function? Let us see what happens:"
   ]
  },
  {
   "cell_type": "markdown",
   "id": "ca7c889a",
   "metadata": {},
   "source": [
    "More about nested function: https://stackabuse.com/python-nested-functions/"
   ]
  },
  {
   "cell_type": "markdown",
   "id": "b94ef65c",
   "metadata": {},
   "source": [
    "# Рядки"
   ]
  },
  {
   "cell_type": "code",
   "execution_count": 53,
   "id": "0485602b",
   "metadata": {},
   "outputs": [
    {
     "data": {
      "text/plain": [
       "[10, 2, 3]"
      ]
     },
     "execution_count": 53,
     "metadata": {},
     "output_type": "execute_result"
    }
   ],
   "source": [
    "a = [1, 2, 3]\n",
    "a[0] = 10\n",
    "a"
   ]
  },
  {
   "cell_type": "code",
   "execution_count": 54,
   "id": "8db0f5b3",
   "metadata": {},
   "outputs": [
    {
     "data": {
      "text/plain": [
       "'P'"
      ]
     },
     "execution_count": 54,
     "metadata": {},
     "output_type": "execute_result"
    }
   ],
   "source": [
    "s = 'Python Fundamentals'\n",
    "s[0]"
   ]
  },
  {
   "cell_type": "code",
   "execution_count": 56,
   "id": "ee322624",
   "metadata": {},
   "outputs": [
    {
     "name": "stdout",
     "output_type": "stream",
     "text": [
      "P\n",
      "y\n",
      "t\n",
      "h\n",
      "o\n",
      "n\n",
      " \n",
      "F\n",
      "u\n",
      "n\n",
      "d\n",
      "a\n",
      "m\n",
      "e\n",
      "n\n",
      "t\n",
      "a\n",
      "l\n",
      "s\n"
     ]
    }
   ],
   "source": [
    "for ch in s:\n",
    "    print(ch)"
   ]
  },
  {
   "cell_type": "code",
   "execution_count": 57,
   "id": "fa2975e7",
   "metadata": {},
   "outputs": [
    {
     "data": {
      "text/plain": [
       "'Python'"
      ]
     },
     "execution_count": 57,
     "metadata": {},
     "output_type": "execute_result"
    }
   ],
   "source": [
    "s[:6]"
   ]
  },
  {
   "cell_type": "code",
   "execution_count": 58,
   "id": "09aad1c8",
   "metadata": {},
   "outputs": [
    {
     "data": {
      "text/plain": [
       "['P', 't', 'h', 'n', ' ', 'F', 'n', 'd', 'm', 'n', 't', 'l', 's']"
      ]
     },
     "execution_count": 58,
     "metadata": {},
     "output_type": "execute_result"
    }
   ],
   "source": [
    "[ch for ch in s if ch not in 'eyuioa']"
   ]
  },
  {
   "cell_type": "code",
   "execution_count": 59,
   "id": "c39ce15c",
   "metadata": {},
   "outputs": [
    {
     "data": {
      "text/plain": [
       "'Pthn Fndmntls'"
      ]
     },
     "execution_count": 59,
     "metadata": {},
     "output_type": "execute_result"
    }
   ],
   "source": [
    "''.join([ch for ch in s if ch not in 'eyuioa'])"
   ]
  },
  {
   "cell_type": "code",
   "execution_count": 60,
   "id": "42924b64",
   "metadata": {},
   "outputs": [
    {
     "data": {
      "text/plain": [
       "'P t h n   F n d m n t l s'"
      ]
     },
     "execution_count": 60,
     "metadata": {},
     "output_type": "execute_result"
    }
   ],
   "source": [
    "' '.join([ch for ch in s if ch not in 'eyuioa'])"
   ]
  },
  {
   "cell_type": "code",
   "execution_count": 61,
   "id": "54490917",
   "metadata": {},
   "outputs": [
    {
     "ename": "TypeError",
     "evalue": "'str' object does not support item assignment",
     "output_type": "error",
     "traceback": [
      "\u001b[1;31m---------------------------------------------------------------------------\u001b[0m",
      "\u001b[1;31mTypeError\u001b[0m                                 Traceback (most recent call last)",
      "Cell \u001b[1;32mIn[61], line 1\u001b[0m\n\u001b[1;32m----> 1\u001b[0m \u001b[43ms\u001b[49m\u001b[43m[\u001b[49m\u001b[38;5;241;43m0\u001b[39;49m\u001b[43m]\u001b[49m \u001b[38;5;241m=\u001b[39m \u001b[38;5;124m'\u001b[39m\u001b[38;5;124mB\u001b[39m\u001b[38;5;124m'\u001b[39m\n",
      "\u001b[1;31mTypeError\u001b[0m: 'str' object does not support item assignment"
     ]
    }
   ],
   "source": [
    "s[0] = 'B'"
   ]
  },
  {
   "cell_type": "code",
   "execution_count": 63,
   "id": "7933ea57",
   "metadata": {},
   "outputs": [
    {
     "data": {
      "text/plain": [
       "'Python Fundamentals'"
      ]
     },
     "execution_count": 63,
     "metadata": {},
     "output_type": "execute_result"
    }
   ],
   "source": [
    "s = 'Python'\n",
    "t = 'Fundamentals'\n",
    "s + ' ' + t"
   ]
  },
  {
   "cell_type": "code",
   "execution_count": 64,
   "id": "51ede5c8",
   "metadata": {},
   "outputs": [
    {
     "data": {
      "text/plain": [
       "'Python Fundamentals'"
      ]
     },
     "execution_count": 64,
     "metadata": {},
     "output_type": "execute_result"
    }
   ],
   "source": [
    "q = s + ' ' + t\n",
    "q"
   ]
  },
  {
   "cell_type": "code",
   "execution_count": 65,
   "id": "a89cde4d",
   "metadata": {},
   "outputs": [
    {
     "data": {
      "text/plain": [
       "'Python!Python!Python!'"
      ]
     },
     "execution_count": 65,
     "metadata": {},
     "output_type": "execute_result"
    }
   ],
   "source": [
    "'Python!' * 3"
   ]
  },
  {
   "cell_type": "code",
   "execution_count": 66,
   "id": "86fb913e",
   "metadata": {},
   "outputs": [
    {
     "ename": "TypeError",
     "evalue": "unsupported operand type(s) for ** or pow(): 'str' and 'int'",
     "output_type": "error",
     "traceback": [
      "\u001b[1;31m---------------------------------------------------------------------------\u001b[0m",
      "\u001b[1;31mTypeError\u001b[0m                                 Traceback (most recent call last)",
      "Cell \u001b[1;32mIn[66], line 1\u001b[0m\n\u001b[1;32m----> 1\u001b[0m \u001b[38;5;124;43m'\u001b[39;49m\u001b[38;5;124;43mPython!\u001b[39;49m\u001b[38;5;124;43m'\u001b[39;49m\u001b[43m \u001b[49m\u001b[38;5;241;43m*\u001b[39;49m\u001b[38;5;241;43m*\u001b[39;49m\u001b[43m \u001b[49m\u001b[38;5;241;43m3\u001b[39;49m\n",
      "\u001b[1;31mTypeError\u001b[0m: unsupported operand type(s) for ** or pow(): 'str' and 'int'"
     ]
    }
   ],
   "source": [
    "'Python!' ** 3"
   ]
  },
  {
   "cell_type": "code",
   "execution_count": 67,
   "id": "991de953",
   "metadata": {},
   "outputs": [
    {
     "data": {
      "text/plain": [
       "'Python Fundamentals'"
      ]
     },
     "execution_count": 67,
     "metadata": {},
     "output_type": "execute_result"
    }
   ],
   "source": [
    "q"
   ]
  },
  {
   "cell_type": "code",
   "execution_count": 68,
   "id": "1b5ecba1",
   "metadata": {},
   "outputs": [
    {
     "data": {
      "text/plain": [
       "True"
      ]
     },
     "execution_count": 68,
     "metadata": {},
     "output_type": "execute_result"
    }
   ],
   "source": [
    "'Python' in q"
   ]
  },
  {
   "cell_type": "code",
   "execution_count": 69,
   "id": "f4e1d409",
   "metadata": {},
   "outputs": [
    {
     "data": {
      "text/plain": [
       "False"
      ]
     },
     "execution_count": 69,
     "metadata": {},
     "output_type": "execute_result"
    }
   ],
   "source": [
    "'Python' not in q"
   ]
  },
  {
   "cell_type": "code",
   "execution_count": 70,
   "id": "35be3056",
   "metadata": {},
   "outputs": [
    {
     "data": {
      "text/plain": [
       "False"
      ]
     },
     "execution_count": 70,
     "metadata": {},
     "output_type": "execute_result"
    }
   ],
   "source": [
    "'C' in q"
   ]
  },
  {
   "cell_type": "code",
   "execution_count": 71,
   "id": "af190faa",
   "metadata": {},
   "outputs": [],
   "source": [
    "s = 'Python'\n",
    "s += ' Fundamentals'"
   ]
  },
  {
   "cell_type": "code",
   "execution_count": 73,
   "id": "8e88a628",
   "metadata": {},
   "outputs": [
    {
     "data": {
      "text/plain": [
       "'Python Fundamentals'"
      ]
     },
     "execution_count": 73,
     "metadata": {},
     "output_type": "execute_result"
    }
   ],
   "source": [
    "s"
   ]
  },
  {
   "cell_type": "code",
   "execution_count": 74,
   "id": "abb29a07",
   "metadata": {},
   "outputs": [
    {
     "name": "stdout",
     "output_type": "stream",
     "text": [
      "14027008\n",
      "82583824\n"
     ]
    },
    {
     "data": {
      "text/plain": [
       "'Python Fundamentals'"
      ]
     },
     "execution_count": 74,
     "metadata": {},
     "output_type": "execute_result"
    }
   ],
   "source": [
    "s = 'Python'\n",
    "print(id(s))\n",
    "s += ' Fundamentals'\n",
    "print(id(s))\n",
    "s"
   ]
  },
  {
   "cell_type": "code",
   "execution_count": 75,
   "id": "2e334c11",
   "metadata": {},
   "outputs": [
    {
     "data": {
      "text/plain": [
       "6"
      ]
     },
     "execution_count": 75,
     "metadata": {},
     "output_type": "execute_result"
    }
   ],
   "source": [
    "len(\"Python\")\n"
   ]
  },
  {
   "cell_type": "markdown",
   "id": "a30bd06f",
   "metadata": {},
   "source": [
    "## Built-In String Functions"
   ]
  },
  {
   "cell_type": "markdown",
   "id": "a558950c",
   "metadata": {},
   "source": [
    "Python provides many functions that are built into the interpreter and always available. In this lesson, you’ll see a few that work with strings and character data:\n",
    "\n",
    "|Function\t|Description|\n",
    "|----------|---------------|\n",
    "|chr()|\tConverts an integer to a character|\n",
    "|ord()|\tConverts a character to an integer|\n",
    "|len()|\tReturns the length of a string|\n",
    "|str()|\tReturns a string representation of an object|\n",
    "|int()|Returns an integer object from the specified input. The returned int object will always be in base 10|\n",
    "|float()|Returns a floating representation of an object|"
   ]
  },
  {
   "cell_type": "code",
   "execution_count": null,
   "id": "d7aee9eb",
   "metadata": {},
   "outputs": [],
   "source": []
  },
  {
   "cell_type": "code",
   "execution_count": 76,
   "id": "f03936c3",
   "metadata": {},
   "outputs": [
    {
     "data": {
      "text/plain": [
       "'34'"
      ]
     },
     "execution_count": 76,
     "metadata": {},
     "output_type": "execute_result"
    }
   ],
   "source": [
    "str(34)"
   ]
  },
  {
   "cell_type": "code",
   "execution_count": null,
   "id": "bf9c9afc",
   "metadata": {},
   "outputs": [],
   "source": [
    "'Python'\n",
    "\"Python\"\n",
    "'''Python\n",
    "   Fundament'''"
   ]
  },
  {
   "cell_type": "code",
   "execution_count": 80,
   "id": "76ed2ce7",
   "metadata": {},
   "outputs": [
    {
     "name": "stdout",
     "output_type": "stream",
     "text": [
      "Python\n",
      "Fundamentals\n"
     ]
    }
   ],
   "source": [
    "s = '''Python\n",
    "Fundamentals'''\n",
    "print(s)"
   ]
  },
  {
   "cell_type": "code",
   "execution_count": 81,
   "id": "06644a8c",
   "metadata": {},
   "outputs": [
    {
     "data": {
      "text/plain": [
       "345345"
      ]
     },
     "execution_count": 81,
     "metadata": {},
     "output_type": "execute_result"
    }
   ],
   "source": [
    "int('345345')"
   ]
  },
  {
   "cell_type": "code",
   "execution_count": 83,
   "id": "102bfe7a",
   "metadata": {},
   "outputs": [
    {
     "name": "stdout",
     "output_type": "stream",
     "text": [
      "0 - \u0000\n",
      "1 - \u0001\n",
      "2 - \u0002\n",
      "3 - \u0003\n",
      "4 - \u0004\n",
      "5 - \u0005\n",
      "6 - \u0006\n",
      "7 - \u0007\n",
      "8 - \b\n",
      "9 - \t\n",
      "10 - \n",
      "\n",
      "11 - \u000b",
      "\n",
      "12 - \f",
      "\n",
      "13 - \r\n",
      "14 - \u000e\n",
      "15 - \u000f\n",
      "16 - \u0010\n",
      "17 - \u0011\n",
      "18 - \u0012\n",
      "19 - \u0013\n",
      "20 - \u0014\n",
      "21 - \u0015\n",
      "22 - \u0016\n",
      "23 - \u0017\n",
      "24 - \u0018\n",
      "25 - \u0019\n",
      "26 - \u001a\n",
      "27 - \u001b\n",
      "28 - \u001c",
      "\n",
      "29 - \u001d",
      "\n",
      "30 - \u001e",
      "\n",
      "31 - \u001f\n",
      "32 -  \n",
      "33 - !\n",
      "34 - \"\n",
      "35 - #\n",
      "36 - $\n",
      "37 - %\n",
      "38 - &\n",
      "39 - '\n",
      "40 - (\n",
      "41 - )\n",
      "42 - *\n",
      "43 - +\n",
      "44 - ,\n",
      "45 - -\n",
      "46 - .\n",
      "47 - /\n",
      "48 - 0\n",
      "49 - 1\n",
      "50 - 2\n",
      "51 - 3\n",
      "52 - 4\n",
      "53 - 5\n",
      "54 - 6\n",
      "55 - 7\n",
      "56 - 8\n",
      "57 - 9\n",
      "58 - :\n",
      "59 - ;\n",
      "60 - <\n",
      "61 - =\n",
      "62 - >\n",
      "63 - ?\n",
      "64 - @\n",
      "65 - A\n",
      "66 - B\n",
      "67 - C\n",
      "68 - D\n",
      "69 - E\n",
      "70 - F\n",
      "71 - G\n",
      "72 - H\n",
      "73 - I\n",
      "74 - J\n",
      "75 - K\n",
      "76 - L\n",
      "77 - M\n",
      "78 - N\n",
      "79 - O\n",
      "80 - P\n",
      "81 - Q\n",
      "82 - R\n",
      "83 - S\n",
      "84 - T\n",
      "85 - U\n",
      "86 - V\n",
      "87 - W\n",
      "88 - X\n",
      "89 - Y\n",
      "90 - Z\n",
      "91 - [\n",
      "92 - \\\n",
      "93 - ]\n",
      "94 - ^\n",
      "95 - _\n",
      "96 - `\n",
      "97 - a\n",
      "98 - b\n",
      "99 - c\n",
      "100 - d\n",
      "101 - e\n",
      "102 - f\n",
      "103 - g\n",
      "104 - h\n",
      "105 - i\n",
      "106 - j\n",
      "107 - k\n",
      "108 - l\n",
      "109 - m\n",
      "110 - n\n",
      "111 - o\n",
      "112 - p\n",
      "113 - q\n",
      "114 - r\n",
      "115 - s\n",
      "116 - t\n",
      "117 - u\n",
      "118 - v\n",
      "119 - w\n",
      "120 - x\n",
      "121 - y\n",
      "122 - z\n",
      "123 - {\n",
      "124 - |\n",
      "125 - }\n",
      "126 - ~\n",
      "127 - \n",
      "128 - \n",
      "129 - \n",
      "130 - \n",
      "131 - \n",
      "132 - \n",
      "133 - ",
      "\n",
      "134 - \n",
      "135 - \n",
      "136 - \n",
      "137 - \n",
      "138 - \n",
      "139 - \n",
      "140 - \n",
      "141 - \n",
      "142 - \n",
      "143 - \n",
      "144 - \n",
      "145 - \n",
      "146 - \n",
      "147 - \n",
      "148 - \n",
      "149 - \n",
      "150 - \n",
      "151 - \n",
      "152 - \n",
      "153 - \n",
      "154 - \n",
      "155 - \n",
      "156 - \n",
      "157 - \n",
      "158 - \n",
      "159 - \n",
      "160 -  \n",
      "161 - ¡\n",
      "162 - ¢\n",
      "163 - £\n",
      "164 - ¤\n",
      "165 - ¥\n",
      "166 - ¦\n",
      "167 - §\n",
      "168 - ¨\n",
      "169 - ©\n",
      "170 - ª\n",
      "171 - «\n",
      "172 - ¬\n",
      "173 - ­\n",
      "174 - ®\n",
      "175 - ¯\n",
      "176 - °\n",
      "177 - ±\n",
      "178 - ²\n",
      "179 - ³\n",
      "180 - ´\n",
      "181 - µ\n",
      "182 - ¶\n",
      "183 - ·\n",
      "184 - ¸\n",
      "185 - ¹\n",
      "186 - º\n",
      "187 - »\n",
      "188 - ¼\n",
      "189 - ½\n",
      "190 - ¾\n",
      "191 - ¿\n",
      "192 - À\n",
      "193 - Á\n",
      "194 - Â\n",
      "195 - Ã\n",
      "196 - Ä\n",
      "197 - Å\n",
      "198 - Æ\n",
      "199 - Ç\n",
      "200 - È\n",
      "201 - É\n",
      "202 - Ê\n",
      "203 - Ë\n",
      "204 - Ì\n",
      "205 - Í\n",
      "206 - Î\n",
      "207 - Ï\n",
      "208 - Ð\n",
      "209 - Ñ\n",
      "210 - Ò\n",
      "211 - Ó\n",
      "212 - Ô\n",
      "213 - Õ\n",
      "214 - Ö\n",
      "215 - ×\n",
      "216 - Ø\n",
      "217 - Ù\n",
      "218 - Ú\n",
      "219 - Û\n",
      "220 - Ü\n",
      "221 - Ý\n",
      "222 - Þ\n",
      "223 - ß\n",
      "224 - à\n",
      "225 - á\n",
      "226 - â\n",
      "227 - ã\n",
      "228 - ä\n",
      "229 - å\n",
      "230 - æ\n",
      "231 - ç\n",
      "232 - è\n",
      "233 - é\n",
      "234 - ê\n",
      "235 - ë\n",
      "236 - ì\n",
      "237 - í\n",
      "238 - î\n",
      "239 - ï\n",
      "240 - ð\n",
      "241 - ñ\n",
      "242 - ò\n",
      "243 - ó\n",
      "244 - ô\n",
      "245 - õ\n",
      "246 - ö\n",
      "247 - ÷\n",
      "248 - ø\n",
      "249 - ù\n",
      "250 - ú\n",
      "251 - û\n",
      "252 - ü\n",
      "253 - ý\n",
      "254 - þ\n"
     ]
    }
   ],
   "source": [
    "for num in range(255):\n",
    "    print(f'{num} - {chr(num)}')"
   ]
  },
  {
   "cell_type": "code",
   "execution_count": 84,
   "id": "8df5b0b6",
   "metadata": {},
   "outputs": [
    {
     "data": {
      "text/plain": [
       "[80,\n",
       " 121,\n",
       " 116,\n",
       " 104,\n",
       " 111,\n",
       " 110,\n",
       " 32,\n",
       " 70,\n",
       " 117,\n",
       " 110,\n",
       " 100,\n",
       " 97,\n",
       " 109,\n",
       " 101,\n",
       " 110,\n",
       " 116,\n",
       " 97,\n",
       " 108,\n",
       " 115]"
      ]
     },
     "execution_count": 84,
     "metadata": {},
     "output_type": "execute_result"
    }
   ],
   "source": [
    "s = \"Python Fundamentals\"\n",
    "[ord(i) for i in s]"
   ]
  },
  {
   "cell_type": "code",
   "execution_count": 86,
   "id": "af6daa2c",
   "metadata": {},
   "outputs": [
    {
     "data": {
      "text/plain": [
       "[80,\n",
       " 121,\n",
       " 116,\n",
       " 104,\n",
       " 111,\n",
       " 110,\n",
       " 32,\n",
       " 70,\n",
       " 117,\n",
       " 110,\n",
       " 100,\n",
       " 97,\n",
       " 109,\n",
       " 101,\n",
       " 110,\n",
       " 116,\n",
       " 97,\n",
       " 108,\n",
       " 115]"
      ]
     },
     "execution_count": 86,
     "metadata": {},
     "output_type": "execute_result"
    }
   ],
   "source": [
    "list(map(ord, s))"
   ]
  },
  {
   "cell_type": "code",
   "execution_count": 87,
   "id": "e4480030",
   "metadata": {},
   "outputs": [
    {
     "name": "stdout",
     "output_type": "stream",
     "text": [
      "Enter an integer: 3.14\n"
     ]
    }
   ],
   "source": [
    "a = float(input('Enter an integer: '))"
   ]
  },
  {
   "cell_type": "code",
   "execution_count": 88,
   "id": "f896db67",
   "metadata": {},
   "outputs": [
    {
     "data": {
      "text/plain": [
       "3.14"
      ]
     },
     "execution_count": 88,
     "metadata": {},
     "output_type": "execute_result"
    }
   ],
   "source": [
    "a"
   ]
  },
  {
   "cell_type": "code",
   "execution_count": 89,
   "id": "deb7419c",
   "metadata": {},
   "outputs": [
    {
     "name": "stdout",
     "output_type": "stream",
     "text": [
      "Enter an integer: 3\n"
     ]
    }
   ],
   "source": [
    "a = float(input('Enter an integer: '))"
   ]
  },
  {
   "cell_type": "code",
   "execution_count": 90,
   "id": "19231901",
   "metadata": {},
   "outputs": [
    {
     "data": {
      "text/plain": [
       "3.0"
      ]
     },
     "execution_count": 90,
     "metadata": {},
     "output_type": "execute_result"
    }
   ],
   "source": [
    "a"
   ]
  },
  {
   "cell_type": "code",
   "execution_count": 91,
   "id": "26b7c843",
   "metadata": {},
   "outputs": [
    {
     "name": "stdout",
     "output_type": "stream",
     "text": [
      "Enter an integer: 3.12\n"
     ]
    },
    {
     "ename": "ValueError",
     "evalue": "invalid literal for int() with base 10: '3.12'",
     "output_type": "error",
     "traceback": [
      "\u001b[1;31m---------------------------------------------------------------------------\u001b[0m",
      "\u001b[1;31mValueError\u001b[0m                                Traceback (most recent call last)",
      "Cell \u001b[1;32mIn[91], line 1\u001b[0m\n\u001b[1;32m----> 1\u001b[0m a \u001b[38;5;241m=\u001b[39m \u001b[38;5;28;43mint\u001b[39;49m\u001b[43m(\u001b[49m\u001b[38;5;28;43minput\u001b[39;49m\u001b[43m(\u001b[49m\u001b[38;5;124;43m'\u001b[39;49m\u001b[38;5;124;43mEnter an integer: \u001b[39;49m\u001b[38;5;124;43m'\u001b[39;49m\u001b[43m)\u001b[49m\u001b[43m)\u001b[49m\n",
      "\u001b[1;31mValueError\u001b[0m: invalid literal for int() with base 10: '3.12'"
     ]
    }
   ],
   "source": [
    "a = int(input('Enter an integer: '))"
   ]
  },
  {
   "cell_type": "code",
   "execution_count": null,
   "id": "77eee3d0",
   "metadata": {},
   "outputs": [],
   "source": []
  }
 ],
 "metadata": {
  "kernelspec": {
   "display_name": "Python 3",
   "language": "python",
   "name": "python3"
  },
  "language_info": {
   "codemirror_mode": {
    "name": "ipython",
    "version": 3
   },
   "file_extension": ".py",
   "mimetype": "text/x-python",
   "name": "python",
   "nbconvert_exporter": "python",
   "pygments_lexer": "ipython3",
   "version": "3.8.2"
  }
 },
 "nbformat": 4,
 "nbformat_minor": 5
}
