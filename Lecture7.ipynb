{
 "cells": [
  {
   "cell_type": "markdown",
   "id": "f836827b",
   "metadata": {},
   "source": [
    "<a target=\"_blank\" href=\"https://colab.research.google.com/github/svniko/python-fund-2023/blob/main/Lecture7.ipynb\">\n",
    "  <img src=\"https://colab.research.google.com/assets/colab-badge.svg\" alt=\"Open In Colab\"/>"
   ]
  },
  {
   "cell_type": "markdown",
   "id": "95e398df",
   "metadata": {},
   "source": [
    "# Lecture 7"
   ]
  },
  {
   "cell_type": "code",
   "execution_count": 1,
   "id": "a7c2386a",
   "metadata": {},
   "outputs": [
    {
     "data": {
      "text/plain": [
       "3"
      ]
     },
     "execution_count": 1,
     "metadata": {},
     "output_type": "execute_result"
    }
   ],
   "source": [
    "List = [1, 2, 3]\n",
    "len(List)"
   ]
  },
  {
   "cell_type": "code",
   "execution_count": 2,
   "id": "02ceb062",
   "metadata": {},
   "outputs": [],
   "source": [
    "List.append(4)"
   ]
  },
  {
   "cell_type": "code",
   "execution_count": 3,
   "id": "4b069945",
   "metadata": {
    "scrolled": true
   },
   "outputs": [
    {
     "data": {
      "text/plain": [
       "[1, 2, 3, 4]"
      ]
     },
     "execution_count": 3,
     "metadata": {},
     "output_type": "execute_result"
    }
   ],
   "source": [
    "List"
   ]
  },
  {
   "cell_type": "code",
   "execution_count": 4,
   "id": "e98c4d4c",
   "metadata": {},
   "outputs": [
    {
     "data": {
      "text/plain": [
       "['__add__',\n",
       " '__class__',\n",
       " '__contains__',\n",
       " '__delattr__',\n",
       " '__delitem__',\n",
       " '__dir__',\n",
       " '__doc__',\n",
       " '__eq__',\n",
       " '__format__',\n",
       " '__ge__',\n",
       " '__getattribute__',\n",
       " '__getitem__',\n",
       " '__gt__',\n",
       " '__hash__',\n",
       " '__iadd__',\n",
       " '__imul__',\n",
       " '__init__',\n",
       " '__init_subclass__',\n",
       " '__iter__',\n",
       " '__le__',\n",
       " '__len__',\n",
       " '__lt__',\n",
       " '__mul__',\n",
       " '__ne__',\n",
       " '__new__',\n",
       " '__reduce__',\n",
       " '__reduce_ex__',\n",
       " '__repr__',\n",
       " '__reversed__',\n",
       " '__rmul__',\n",
       " '__setattr__',\n",
       " '__setitem__',\n",
       " '__sizeof__',\n",
       " '__str__',\n",
       " '__subclasshook__',\n",
       " 'append',\n",
       " 'clear',\n",
       " 'copy',\n",
       " 'count',\n",
       " 'extend',\n",
       " 'index',\n",
       " 'insert',\n",
       " 'pop',\n",
       " 'remove',\n",
       " 'reverse',\n",
       " 'sort']"
      ]
     },
     "execution_count": 4,
     "metadata": {},
     "output_type": "execute_result"
    }
   ],
   "source": [
    "dir(List)"
   ]
  },
  {
   "cell_type": "markdown",
   "id": "42575f1b",
   "metadata": {},
   "source": [
    "### Python list methods "
   ]
  },
  {
   "cell_type": "markdown",
   "id": "7faad314",
   "metadata": {},
   "source": [
    "|Method|Description|\n",
    "|--|--|\n",
    "|`append(element)`| Used for appending and adding elements to the end of the list. |\n",
    "|`copy()`|It returns a shallow copy of a list. Equivalent to `a[:]`|\n",
    "|`clear()`|This method is used for removing **all** items from the list. |\n",
    "|`count(element)`|Return the number of times *element* appears in the list|\n",
    "|`extend(iterable)`|Adds each element of the iterable to the end of the list|\n",
    "|`index(element[, start[, end]])`|Return zero-based index in the list of the **first** item whose value is equal to x. Raises a `ValueError` if there is no such item. The optional arguments `start` and `end` are interpreted as in the slice notation and are used to limit the search to a particular subsequence of the list. The returned index is computed relative to the beginning of the full sequence rather than the start argument. |\n",
    "|`insert(index, element)`|Inserts a given element at a given index in a list. |\n",
    "|`pop([index])`| Remove the item at the given position in the list, and return it. If no index is specified, a.pop() removes and returns the last item in the list. |\n",
    "|`remove(element)`|Removes a given object from the list. |\n",
    "|`reverse()`| Reverses the elements of the list in place.|\n",
    "|`sort([key=None][, reverse=False])`|Sort a list in ascending, descending, or user-defined order |\n"
   ]
  },
  {
   "cell_type": "code",
   "execution_count": 5,
   "id": "e94b3265",
   "metadata": {},
   "outputs": [
    {
     "data": {
      "text/plain": [
       "[]"
      ]
     },
     "execution_count": 5,
     "metadata": {},
     "output_type": "execute_result"
    }
   ],
   "source": [
    "List.clear()\n",
    "List"
   ]
  },
  {
   "cell_type": "code",
   "execution_count": 6,
   "id": "6a7b172a",
   "metadata": {},
   "outputs": [
    {
     "data": {
      "text/plain": [
       "3"
      ]
     },
     "execution_count": 6,
     "metadata": {},
     "output_type": "execute_result"
    }
   ],
   "source": [
    "List = [1, 2, 3, 1, 1]\n",
    "List.count(1)"
   ]
  },
  {
   "cell_type": "code",
   "execution_count": 11,
   "id": "62549925",
   "metadata": {},
   "outputs": [
    {
     "data": {
      "text/plain": [
       "[1, 2, 3, 5, 6, 7]"
      ]
     },
     "execution_count": 11,
     "metadata": {},
     "output_type": "execute_result"
    }
   ],
   "source": [
    "List = [1, 2, 3,]\n",
    "List.extend([5, 6, 7])\n",
    "List"
   ]
  },
  {
   "cell_type": "code",
   "execution_count": 12,
   "id": "5e46aff6",
   "metadata": {},
   "outputs": [
    {
     "data": {
      "text/plain": [
       "[1, 2, 3, 5, 6, 7]"
      ]
     },
     "execution_count": 12,
     "metadata": {},
     "output_type": "execute_result"
    }
   ],
   "source": [
    "List = [1, 2, 3,]\n",
    "List.extend((5, 6, 7))\n",
    "List"
   ]
  },
  {
   "cell_type": "code",
   "execution_count": 13,
   "id": "01f6401e",
   "metadata": {},
   "outputs": [
    {
     "data": {
      "text/plain": [
       "[1, 2, 3, 5, 6, 7]"
      ]
     },
     "execution_count": 13,
     "metadata": {},
     "output_type": "execute_result"
    }
   ],
   "source": [
    "List = [1, 2, 3,]\n",
    "List.extend({5, 6, 7})\n",
    "List"
   ]
  },
  {
   "cell_type": "code",
   "execution_count": 16,
   "id": "f2bfa185",
   "metadata": {},
   "outputs": [
    {
     "data": {
      "text/plain": [
       "2"
      ]
     },
     "execution_count": 16,
     "metadata": {},
     "output_type": "execute_result"
    }
   ],
   "source": [
    "List = [1, 2, 3, 1, 1, 3]\n",
    "List.count(max(List))"
   ]
  },
  {
   "cell_type": "code",
   "execution_count": 17,
   "id": "072d0e2f",
   "metadata": {},
   "outputs": [],
   "source": [
    "List = [7, 22, 1, 2, 111, 5, 7, 111]\n",
    "List.sort()"
   ]
  },
  {
   "cell_type": "code",
   "execution_count": 18,
   "id": "4bd23590",
   "metadata": {},
   "outputs": [
    {
     "data": {
      "text/plain": [
       "[1, 2, 5, 7, 7, 22, 111, 111]"
      ]
     },
     "execution_count": 18,
     "metadata": {},
     "output_type": "execute_result"
    }
   ],
   "source": [
    "List"
   ]
  },
  {
   "cell_type": "code",
   "execution_count": 19,
   "id": "75f002a4",
   "metadata": {},
   "outputs": [
    {
     "data": {
      "text/plain": [
       "[1, 111, 111, 2, 22, 5, 7, 7]"
      ]
     },
     "execution_count": 19,
     "metadata": {},
     "output_type": "execute_result"
    }
   ],
   "source": [
    "List = [7, 22, 1, 2, 111, 5, 7, 111]\n",
    "List.sort(key=str)\n",
    "List"
   ]
  },
  {
   "cell_type": "code",
   "execution_count": 20,
   "id": "bce367fc",
   "metadata": {},
   "outputs": [
    {
     "data": {
      "text/plain": [
       "[7, 7, 5, 22, 2, 111, 111, 1]"
      ]
     },
     "execution_count": 20,
     "metadata": {},
     "output_type": "execute_result"
    }
   ],
   "source": [
    "List = [7, 22, 1, 2, 111, 5, 7, 111]\n",
    "List.sort(key=str, reverse=True)\n",
    "List"
   ]
  },
  {
   "cell_type": "code",
   "execution_count": 21,
   "id": "2b76ffc5",
   "metadata": {},
   "outputs": [
    {
     "data": {
      "text/plain": [
       "4"
      ]
     },
     "execution_count": 21,
     "metadata": {},
     "output_type": "execute_result"
    }
   ],
   "source": [
    "List = [7, 22, 1, 2, 111, 5, 7, 111]\n",
    "List.index(111)"
   ]
  },
  {
   "cell_type": "code",
   "execution_count": 22,
   "id": "45c016c0",
   "metadata": {},
   "outputs": [
    {
     "data": {
      "text/plain": [
       "7"
      ]
     },
     "execution_count": 22,
     "metadata": {},
     "output_type": "execute_result"
    }
   ],
   "source": [
    "List.index(111,5)"
   ]
  },
  {
   "cell_type": "code",
   "execution_count": 25,
   "id": "ae68c01e",
   "metadata": {},
   "outputs": [
    {
     "data": {
      "text/plain": [
       "7"
      ]
     },
     "execution_count": 25,
     "metadata": {},
     "output_type": "execute_result"
    }
   ],
   "source": [
    "last = List.pop()\n",
    "last"
   ]
  },
  {
   "cell_type": "code",
   "execution_count": 26,
   "id": "023257c6",
   "metadata": {},
   "outputs": [
    {
     "data": {
      "text/plain": [
       "[7, 22, 1, 2, 111, 5]"
      ]
     },
     "execution_count": 26,
     "metadata": {},
     "output_type": "execute_result"
    }
   ],
   "source": [
    "List"
   ]
  },
  {
   "cell_type": "markdown",
   "id": "a6239fd8",
   "metadata": {},
   "source": [
    "# Функції Python"
   ]
  },
  {
   "cell_type": "code",
   "execution_count": null,
   "id": "34a69302",
   "metadata": {},
   "outputs": [],
   "source": [
    "# Syntax\n",
    "def function_name(parameters):\n",
    "    \"\"\"\n",
    "    docstring\n",
    "    \"\"\"\n",
    "    statements"
   ]
  },
  {
   "cell_type": "code",
   "execution_count": 27,
   "id": "9927cda1",
   "metadata": {},
   "outputs": [
    {
     "name": "stdout",
     "output_type": "stream",
     "text": [
      "Help on built-in function len in module builtins:\n",
      "\n",
      "len(obj, /)\n",
      "    Return the number of items in a container.\n",
      "\n"
     ]
    }
   ],
   "source": [
    "help(len)"
   ]
  },
  {
   "cell_type": "code",
   "execution_count": 28,
   "id": "b0f97989",
   "metadata": {},
   "outputs": [],
   "source": [
    "def greet(name):\n",
    "    \"\"\"\n",
    "    This function greets\n",
    "    the person passed in as \n",
    "    a parameter\n",
    "    \"\"\"\n",
    "    print(\"Hello, \" + name + \". Good morning!\" )"
   ]
  },
  {
   "cell_type": "code",
   "execution_count": 29,
   "id": "1be5cfd6",
   "metadata": {},
   "outputs": [
    {
     "name": "stdout",
     "output_type": "stream",
     "text": [
      "Help on function greet in module __main__:\n",
      "\n",
      "greet(name)\n",
      "    This function greets\n",
      "    the person passed in as \n",
      "    a parameter\n",
      "\n"
     ]
    }
   ],
   "source": [
    "help(greet)"
   ]
  },
  {
   "cell_type": "code",
   "execution_count": 30,
   "id": "1549c3ab",
   "metadata": {},
   "outputs": [
    {
     "name": "stdout",
     "output_type": "stream",
     "text": [
      "\n",
      "    This function greets\n",
      "    the person passed in as \n",
      "    a parameter\n",
      "    \n"
     ]
    }
   ],
   "source": [
    "print(greet.__doc__)"
   ]
  },
  {
   "cell_type": "code",
   "execution_count": 31,
   "id": "20fd7928",
   "metadata": {},
   "outputs": [
    {
     "name": "stdout",
     "output_type": "stream",
     "text": [
      "Hello, John. Good morning!\n"
     ]
    }
   ],
   "source": [
    "greet('John')"
   ]
  },
  {
   "cell_type": "code",
   "execution_count": 32,
   "id": "ea0bcefa",
   "metadata": {},
   "outputs": [
    {
     "name": "stdout",
     "output_type": "stream",
     "text": [
      "Before the function\n",
      "Hello, Anna. Good morning!\n",
      "After the function\n"
     ]
    }
   ],
   "source": [
    "print(\"Before the function\")\n",
    "greet(\"Anna\")\n",
    "print(\"After the function\")"
   ]
  },
  {
   "cell_type": "code",
   "execution_count": 33,
   "id": "51bb2b0a",
   "metadata": {},
   "outputs": [
    {
     "ename": "NameError",
     "evalue": "name 'greet1' is not defined",
     "output_type": "error",
     "traceback": [
      "\u001b[1;31m---------------------------------------------------------------------------\u001b[0m",
      "\u001b[1;31mNameError\u001b[0m                                 Traceback (most recent call last)",
      "Cell \u001b[1;32mIn[33], line 1\u001b[0m\n\u001b[1;32m----> 1\u001b[0m \u001b[43mgreet1\u001b[49m(\u001b[38;5;124m'\u001b[39m\u001b[38;5;124mPaul\u001b[39m\u001b[38;5;124m'\u001b[39m)\n\u001b[0;32m      3\u001b[0m \u001b[38;5;28;01mdef\u001b[39;00m \u001b[38;5;21mgreet1\u001b[39m(name):\n\u001b[0;32m      4\u001b[0m \u001b[38;5;250m    \u001b[39m\u001b[38;5;124;03m\"\"\"\u001b[39;00m\n\u001b[0;32m      5\u001b[0m \u001b[38;5;124;03m    This function greets\u001b[39;00m\n\u001b[0;32m      6\u001b[0m \u001b[38;5;124;03m    the person passed in as \u001b[39;00m\n\u001b[0;32m      7\u001b[0m \u001b[38;5;124;03m    a parameter\u001b[39;00m\n\u001b[0;32m      8\u001b[0m \u001b[38;5;124;03m    \"\"\"\u001b[39;00m\n",
      "\u001b[1;31mNameError\u001b[0m: name 'greet1' is not defined"
     ]
    }
   ],
   "source": [
    "greet1('Paul')\n",
    "\n",
    "def greet1(name):\n",
    "    \"\"\"\n",
    "    This function greets\n",
    "    the person passed in as \n",
    "    a parameter\n",
    "    \"\"\"\n",
    "    print(\"Hello, \" + name + \". Good morning!\" )"
   ]
  },
  {
   "cell_type": "code",
   "execution_count": 34,
   "id": "f2ed2371",
   "metadata": {},
   "outputs": [
    {
     "data": {
      "text/plain": [
       "<function __main__.greet(name)>"
      ]
     },
     "execution_count": 34,
     "metadata": {},
     "output_type": "execute_result"
    }
   ],
   "source": [
    "greet"
   ]
  },
  {
   "cell_type": "code",
   "execution_count": 35,
   "id": "b335dc63",
   "metadata": {},
   "outputs": [
    {
     "ename": "TypeError",
     "evalue": "'int' object is not callable",
     "output_type": "error",
     "traceback": [
      "\u001b[1;31m---------------------------------------------------------------------------\u001b[0m",
      "\u001b[1;31mTypeError\u001b[0m                                 Traceback (most recent call last)",
      "Cell \u001b[1;32mIn[35], line 2\u001b[0m\n\u001b[0;32m      1\u001b[0m greet \u001b[38;5;241m=\u001b[39m \u001b[38;5;241m5\u001b[39m\n\u001b[1;32m----> 2\u001b[0m \u001b[43mgreet\u001b[49m\u001b[43m(\u001b[49m\u001b[38;5;124;43m'\u001b[39;49m\u001b[38;5;124;43mJohn\u001b[39;49m\u001b[38;5;124;43m'\u001b[39;49m\u001b[43m)\u001b[49m\n",
      "\u001b[1;31mTypeError\u001b[0m: 'int' object is not callable"
     ]
    }
   ],
   "source": [
    "greet = 5\n",
    "greet('John')"
   ]
  },
  {
   "cell_type": "code",
   "execution_count": 36,
   "id": "99649770",
   "metadata": {},
   "outputs": [],
   "source": [
    "def greet(name):\n",
    "    \"\"\"\n",
    "    This function greets\n",
    "    the person passed in as \n",
    "    a parameter\n",
    "    \"\"\"\n",
    "    print(\"Hello, \" + name + \". Good morning!\" )"
   ]
  },
  {
   "cell_type": "code",
   "execution_count": 37,
   "id": "29fe7f62",
   "metadata": {},
   "outputs": [
    {
     "name": "stdout",
     "output_type": "stream",
     "text": [
      "Hello, Jerry. Good morning!\n"
     ]
    }
   ],
   "source": [
    "n = 'Jerry'\n",
    "greet(n)"
   ]
  },
  {
   "cell_type": "code",
   "execution_count": 38,
   "id": "360e22bc",
   "metadata": {},
   "outputs": [
    {
     "ename": "TypeError",
     "evalue": "greet() missing 1 required positional argument: 'name'",
     "output_type": "error",
     "traceback": [
      "\u001b[1;31m---------------------------------------------------------------------------\u001b[0m",
      "\u001b[1;31mTypeError\u001b[0m                                 Traceback (most recent call last)",
      "Cell \u001b[1;32mIn[38], line 1\u001b[0m\n\u001b[1;32m----> 1\u001b[0m \u001b[43mgreet\u001b[49m\u001b[43m(\u001b[49m\u001b[43m)\u001b[49m\n",
      "\u001b[1;31mTypeError\u001b[0m: greet() missing 1 required positional argument: 'name'"
     ]
    }
   ],
   "source": [
    "greet()"
   ]
  },
  {
   "cell_type": "code",
   "execution_count": 39,
   "id": "e76c0dea",
   "metadata": {},
   "outputs": [
    {
     "name": "stdout",
     "output_type": "stream",
     "text": [
      "Hello, Jerry. Good morning!\n",
      "John\n"
     ]
    }
   ],
   "source": [
    "def greet(name):\n",
    "    print(\"Hello, \" + name + \". Good morning!\" )\n",
    "    \n",
    "name = 'John'\n",
    "greet('Jerry')\n",
    "print(name)"
   ]
  },
  {
   "cell_type": "code",
   "execution_count": null,
   "id": "fbf59d04",
   "metadata": {},
   "outputs": [],
   "source": [
    "# c^3+ b^2 - a^2"
   ]
  },
  {
   "cell_type": "code",
   "execution_count": 44,
   "id": "2b4be6f1",
   "metadata": {},
   "outputs": [],
   "source": [
    "def  calc(a, b, c):\n",
    "    print(c**3+ b**2 - a**2)"
   ]
  },
  {
   "cell_type": "code",
   "execution_count": 45,
   "id": "1f64f6c5",
   "metadata": {},
   "outputs": [
    {
     "name": "stdout",
     "output_type": "stream",
     "text": [
      "20\n"
     ]
    }
   ],
   "source": [
    "calc(2, 4, 2)"
   ]
  },
  {
   "cell_type": "code",
   "execution_count": 46,
   "id": "59739665",
   "metadata": {},
   "outputs": [
    {
     "name": "stdout",
     "output_type": "stream",
     "text": [
      "8\n"
     ]
    }
   ],
   "source": [
    "calc(4, 4, 2)"
   ]
  },
  {
   "cell_type": "code",
   "execution_count": 49,
   "id": "244b9509",
   "metadata": {},
   "outputs": [],
   "source": [
    "def greet(first_name, last_name):\n",
    "    print(f\"Hello, {first_name} {last_name}! Good morning!\" )"
   ]
  },
  {
   "cell_type": "code",
   "execution_count": 50,
   "id": "f68ee1ed",
   "metadata": {},
   "outputs": [
    {
     "name": "stdout",
     "output_type": "stream",
     "text": [
      "Hello, James Bond! Good morning!\n"
     ]
    }
   ],
   "source": [
    "greet('James', 'Bond')"
   ]
  },
  {
   "cell_type": "code",
   "execution_count": 51,
   "id": "4d2eed27",
   "metadata": {},
   "outputs": [
    {
     "name": "stdout",
     "output_type": "stream",
     "text": [
      "Hello, Bond James! Good morning!\n"
     ]
    }
   ],
   "source": [
    "greet('Bond', 'James')"
   ]
  },
  {
   "cell_type": "code",
   "execution_count": 53,
   "id": "dd78a855",
   "metadata": {},
   "outputs": [
    {
     "name": "stdout",
     "output_type": "stream",
     "text": [
      "Hello, James Bond! Good morning!\n"
     ]
    }
   ],
   "source": [
    "greet(first_name='James', last_name='Bond')"
   ]
  },
  {
   "cell_type": "code",
   "execution_count": 54,
   "id": "2af617c7",
   "metadata": {},
   "outputs": [
    {
     "name": "stdout",
     "output_type": "stream",
     "text": [
      "Hello, James Bond! Good morning!\n"
     ]
    }
   ],
   "source": [
    "greet(last_name='Bond', first_name='James')"
   ]
  },
  {
   "cell_type": "code",
   "execution_count": 55,
   "id": "5a5a84eb",
   "metadata": {},
   "outputs": [],
   "source": [
    "def adding(a, b, c):\n",
    "    print(f\"{a} + {b} + {c} = {a + b + c}\")"
   ]
  },
  {
   "cell_type": "code",
   "execution_count": 56,
   "id": "757b4ee5",
   "metadata": {},
   "outputs": [
    {
     "name": "stdout",
     "output_type": "stream",
     "text": [
      "1 + 2 + 3 = 6\n"
     ]
    }
   ],
   "source": [
    "adding(1,2,3)"
   ]
  },
  {
   "cell_type": "code",
   "execution_count": 57,
   "id": "5c938ac8",
   "metadata": {},
   "outputs": [
    {
     "name": "stdout",
     "output_type": "stream",
     "text": [
      "3 + 2 + 1 = 6\n"
     ]
    }
   ],
   "source": [
    "adding(c=1, b=2, a=3)"
   ]
  },
  {
   "cell_type": "code",
   "execution_count": 58,
   "id": "995a7366",
   "metadata": {},
   "outputs": [
    {
     "name": "stdout",
     "output_type": "stream",
     "text": [
      "3 + 3 + 2 = 8\n"
     ]
    }
   ],
   "source": [
    "adding(3, c=2, b=3)"
   ]
  },
  {
   "cell_type": "code",
   "execution_count": 59,
   "id": "c1179b40",
   "metadata": {},
   "outputs": [
    {
     "ename": "TypeError",
     "evalue": "adding() got multiple values for argument 'a'",
     "output_type": "error",
     "traceback": [
      "\u001b[1;31m---------------------------------------------------------------------------\u001b[0m",
      "\u001b[1;31mTypeError\u001b[0m                                 Traceback (most recent call last)",
      "Cell \u001b[1;32mIn[59], line 1\u001b[0m\n\u001b[1;32m----> 1\u001b[0m \u001b[43madding\u001b[49m\u001b[43m(\u001b[49m\u001b[38;5;241;43m3\u001b[39;49m\u001b[43m,\u001b[49m\u001b[43m \u001b[49m\u001b[43ma\u001b[49m\u001b[38;5;241;43m=\u001b[39;49m\u001b[38;5;241;43m2\u001b[39;49m\u001b[43m,\u001b[49m\u001b[43m \u001b[49m\u001b[43mb\u001b[49m\u001b[38;5;241;43m=\u001b[39;49m\u001b[38;5;241;43m3\u001b[39;49m\u001b[43m)\u001b[49m\n",
      "\u001b[1;31mTypeError\u001b[0m: adding() got multiple values for argument 'a'"
     ]
    }
   ],
   "source": [
    "adding(3, a=2, b=3)"
   ]
  },
  {
   "cell_type": "code",
   "execution_count": 61,
   "id": "9556998c",
   "metadata": {},
   "outputs": [
    {
     "name": "stdout",
     "output_type": "stream",
     "text": [
      "3 + 2 + 2 = 7\n"
     ]
    }
   ],
   "source": [
    "adding(a=3, c=2, b=2)"
   ]
  },
  {
   "cell_type": "code",
   "execution_count": 71,
   "id": "13d5190e",
   "metadata": {},
   "outputs": [],
   "source": [
    "def intro(first_name=\"John\", last_name=\"Doe\"):\n",
    "    print(f\"Hello, my name {first_name} {last_name}\" )"
   ]
  },
  {
   "cell_type": "code",
   "execution_count": 68,
   "id": "15116f7c",
   "metadata": {},
   "outputs": [
    {
     "name": "stdout",
     "output_type": "stream",
     "text": [
      "Hello, my name John Melnyk\n"
     ]
    }
   ],
   "source": [
    "intro('John')"
   ]
  },
  {
   "cell_type": "code",
   "execution_count": 70,
   "id": "d379cd66",
   "metadata": {},
   "outputs": [
    {
     "name": "stdout",
     "output_type": "stream",
     "text": [
      "Hello, my name John Smith\n"
     ]
    }
   ],
   "source": [
    "intro(first_name='John', last_name='Smith')"
   ]
  },
  {
   "cell_type": "code",
   "execution_count": 72,
   "id": "0700aa67",
   "metadata": {},
   "outputs": [
    {
     "name": "stdout",
     "output_type": "stream",
     "text": [
      "Hello, my name John Doe\n"
     ]
    }
   ],
   "source": [
    "intro()"
   ]
  },
  {
   "cell_type": "code",
   "execution_count": 74,
   "id": "0b8a3091",
   "metadata": {},
   "outputs": [
    {
     "name": "stdout",
     "output_type": "stream",
     "text": [
      "Hello, my name James Smith\n"
     ]
    }
   ],
   "source": [
    "intro(first_name='James', last_name='Smith')"
   ]
  },
  {
   "cell_type": "code",
   "execution_count": 75,
   "id": "176ec7fe",
   "metadata": {},
   "outputs": [
    {
     "name": "stdout",
     "output_type": "stream",
     "text": [
      "Hello, my name John Doe\n"
     ]
    }
   ],
   "source": [
    "def intro(first_name=\"John\", last_name=\"Doe\"):\n",
    "    print(f\"Hello, my name {first_name} {last_name}\" )\n",
    "    return \n",
    "\n",
    "intro()"
   ]
  },
  {
   "cell_type": "code",
   "execution_count": 77,
   "id": "6a13c17b",
   "metadata": {},
   "outputs": [
    {
     "name": "stdout",
     "output_type": "stream",
     "text": [
      "Hello, my name John Doe\n",
      "None\n"
     ]
    }
   ],
   "source": [
    "a = intro()\n",
    "print(a)"
   ]
  },
  {
   "cell_type": "code",
   "execution_count": 78,
   "id": "c00ce42b",
   "metadata": {},
   "outputs": [],
   "source": [
    "def addition(a, b):\n",
    "    return a+b\n"
   ]
  },
  {
   "cell_type": "code",
   "execution_count": 80,
   "id": "74bb8fc1",
   "metadata": {},
   "outputs": [
    {
     "name": "stdout",
     "output_type": "stream",
     "text": [
      "9\n"
     ]
    }
   ],
   "source": [
    "b = addition(4, 5)\n",
    "print(b)"
   ]
  },
  {
   "cell_type": "code",
   "execution_count": 81,
   "id": "2452b790",
   "metadata": {},
   "outputs": [
    {
     "data": {
      "text/plain": [
       "9"
      ]
     },
     "execution_count": 81,
     "metadata": {},
     "output_type": "execute_result"
    }
   ],
   "source": [
    "addition(4, 5)"
   ]
  },
  {
   "cell_type": "code",
   "execution_count": 82,
   "id": "89018e54",
   "metadata": {},
   "outputs": [],
   "source": [
    "xx = None"
   ]
  },
  {
   "cell_type": "code",
   "execution_count": 84,
   "id": "f0216594",
   "metadata": {},
   "outputs": [
    {
     "name": "stdout",
     "output_type": "stream",
     "text": [
      "None\n"
     ]
    }
   ],
   "source": [
    "print(xx)"
   ]
  },
  {
   "cell_type": "code",
   "execution_count": 85,
   "id": "78b17005",
   "metadata": {},
   "outputs": [
    {
     "name": "stdout",
     "output_type": "stream",
     "text": [
      "We don't have any value\n"
     ]
    }
   ],
   "source": [
    "if xx is None:\n",
    "    print(\"We don't have any value\")"
   ]
  },
  {
   "cell_type": "code",
   "execution_count": 86,
   "id": "5e485287",
   "metadata": {},
   "outputs": [
    {
     "ename": "TypeError",
     "evalue": "unsupported operand type(s) for *: 'NoneType' and 'int'",
     "output_type": "error",
     "traceback": [
      "\u001b[1;31m---------------------------------------------------------------------------\u001b[0m",
      "\u001b[1;31mTypeError\u001b[0m                                 Traceback (most recent call last)",
      "Cell \u001b[1;32mIn[86], line 1\u001b[0m\n\u001b[1;32m----> 1\u001b[0m \u001b[43mxx\u001b[49m\u001b[43m \u001b[49m\u001b[38;5;241;43m*\u001b[39;49m\u001b[43m \u001b[49m\u001b[38;5;241;43m3\u001b[39;49m\n",
      "\u001b[1;31mTypeError\u001b[0m: unsupported operand type(s) for *: 'NoneType' and 'int'"
     ]
    }
   ],
   "source": [
    "xx * 3"
   ]
  },
  {
   "cell_type": "code",
   "execution_count": 91,
   "id": "721a47cd",
   "metadata": {},
   "outputs": [],
   "source": [
    "def bad_is_even(a):\n",
    "    if a % 2 == 0:\n",
    "        return True\n",
    "    else:\n",
    "        return False"
   ]
  },
  {
   "cell_type": "code",
   "execution_count": 94,
   "id": "b5ae55f2",
   "metadata": {},
   "outputs": [
    {
     "data": {
      "text/plain": [
       "True"
      ]
     },
     "execution_count": 94,
     "metadata": {},
     "output_type": "execute_result"
    }
   ],
   "source": [
    "bad_is_even(2)"
   ]
  },
  {
   "cell_type": "code",
   "execution_count": 93,
   "id": "a801fc29",
   "metadata": {},
   "outputs": [
    {
     "name": "stdout",
     "output_type": "stream",
     "text": [
      "False\n"
     ]
    }
   ],
   "source": [
    "print(bad_is_even(3))"
   ]
  },
  {
   "cell_type": "code",
   "execution_count": 98,
   "id": "37fb9596",
   "metadata": {},
   "outputs": [],
   "source": [
    "def is_even(a):\n",
    "    return not (a % 2)"
   ]
  },
  {
   "cell_type": "code",
   "execution_count": 99,
   "id": "cb9c817d",
   "metadata": {},
   "outputs": [
    {
     "data": {
      "text/plain": [
       "True"
      ]
     },
     "execution_count": 99,
     "metadata": {},
     "output_type": "execute_result"
    }
   ],
   "source": [
    "is_even(2)"
   ]
  },
  {
   "cell_type": "code",
   "execution_count": 100,
   "id": "9d4fac89",
   "metadata": {},
   "outputs": [
    {
     "data": {
      "text/plain": [
       "False"
      ]
     },
     "execution_count": 100,
     "metadata": {},
     "output_type": "execute_result"
    }
   ],
   "source": [
    "is_even(3)"
   ]
  },
  {
   "cell_type": "code",
   "execution_count": 101,
   "id": "ccd6a33e",
   "metadata": {},
   "outputs": [],
   "source": [
    "def list_prod(lst):\n",
    "    p = 1\n",
    "    \n",
    "    for elem in lst:\n",
    "        p *= elem\n",
    "        \n",
    "    return p"
   ]
  },
  {
   "cell_type": "code",
   "execution_count": 103,
   "id": "0ca28fbb",
   "metadata": {},
   "outputs": [
    {
     "data": {
      "text/plain": [
       "24"
      ]
     },
     "execution_count": 103,
     "metadata": {},
     "output_type": "execute_result"
    }
   ],
   "source": [
    "list_prod([2, 3, 4])"
   ]
  },
  {
   "cell_type": "code",
   "execution_count": 105,
   "id": "83be3084",
   "metadata": {},
   "outputs": [
    {
     "data": {
      "text/plain": [
       "4"
      ]
     },
     "execution_count": 105,
     "metadata": {},
     "output_type": "execute_result"
    }
   ],
   "source": [
    "list_prod([4])"
   ]
  },
  {
   "cell_type": "markdown",
   "id": "1429fb26",
   "metadata": {},
   "source": [
    "0 1 1 2 3 5 8 13 21"
   ]
  },
  {
   "cell_type": "code",
   "execution_count": 109,
   "id": "612da5c3",
   "metadata": {},
   "outputs": [],
   "source": [
    "def fibonacci(n):\n",
    "    \n",
    "    fibonacci_series = [0, 1]\n",
    "    \n",
    "    if n > 2:\n",
    "        for i in range(2, n):\n",
    "            next_element = fibonacci_series[i-1] + fibonacci_series[i-2]\n",
    "            fibonacci_series.append(next_element)\n",
    "    return fibonacci_series"
   ]
  },
  {
   "cell_type": "code",
   "execution_count": 111,
   "id": "edaddc18",
   "metadata": {},
   "outputs": [
    {
     "data": {
      "text/plain": [
       "[0, 1, 1, 2, 3, 5, 8, 13, 21, 34, 55, 89, 144, 233, 377]"
      ]
     },
     "execution_count": 111,
     "metadata": {},
     "output_type": "execute_result"
    }
   ],
   "source": [
    "fibonacci(15)"
   ]
  },
  {
   "cell_type": "code",
   "execution_count": null,
   "id": "7a2265d8",
   "metadata": {},
   "outputs": [],
   "source": []
  }
 ],
 "metadata": {
  "kernelspec": {
   "display_name": "Python 3",
   "language": "python",
   "name": "python3"
  },
  "language_info": {
   "codemirror_mode": {
    "name": "ipython",
    "version": 3
   },
   "file_extension": ".py",
   "mimetype": "text/x-python",
   "name": "python",
   "nbconvert_exporter": "python",
   "pygments_lexer": "ipython3",
   "version": "3.8.2"
  }
 },
 "nbformat": 4,
 "nbformat_minor": 5
}
