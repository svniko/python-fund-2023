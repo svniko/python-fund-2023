{
 "cells": [
  {
   "cell_type": "markdown",
   "id": "e1144009",
   "metadata": {},
   "source": [
    "# Lecture 3"
   ]
  },
  {
   "cell_type": "markdown",
   "id": "3237bf37",
   "metadata": {},
   "source": [
    "# Conditionals"
   ]
  },
  {
   "cell_type": "markdown",
   "id": "681b4ba8",
   "metadata": {},
   "source": [
    "Comparators\n",
    "In python we use what are called comparators to compare data.\n",
    "The following comparators are generally used in python:\n",
    "\n",
    " - `>` to check if the left hand side is greater than the right hand side\n",
    " - `<` to check if the left hand side is lesser than the right hand side\n",
    " - `>=` to check if the left hand side is greater than or equal to the right hand side\n",
    " - `<=` to check if the left hand side is lesser than or equal to the right hand side\n",
    " - `==` to check if the left hand side is equal to the right hand side\n",
    " - `!=` to check if the left hand side is not equal to the right hand side\n",
    "The comparators return a boolean value (True/False) indicating if the expression is valid or not."
   ]
  },
  {
   "cell_type": "code",
   "execution_count": 1,
   "id": "7fef679a",
   "metadata": {},
   "outputs": [
    {
     "name": "stdout",
     "output_type": "stream",
     "text": [
      "False\n"
     ]
    }
   ],
   "source": [
    "print(18 < 10)"
   ]
  },
  {
   "cell_type": "code",
   "execution_count": 2,
   "id": "c6fcb649",
   "metadata": {},
   "outputs": [
    {
     "name": "stdout",
     "output_type": "stream",
     "text": [
      "True\n"
     ]
    }
   ],
   "source": [
    "print(10 > 1)"
   ]
  },
  {
   "cell_type": "code",
   "execution_count": 3,
   "id": "9fd8a4ac",
   "metadata": {},
   "outputs": [
    {
     "name": "stdout",
     "output_type": "stream",
     "text": [
      "True\n"
     ]
    }
   ],
   "source": [
    "print((10/2) == 5)"
   ]
  },
  {
   "cell_type": "code",
   "execution_count": 4,
   "id": "4dfe2c6a",
   "metadata": {},
   "outputs": [
    {
     "name": "stdout",
     "output_type": "stream",
     "text": [
      "True\n"
     ]
    }
   ],
   "source": [
    "print(1 != 2)"
   ]
  },
  {
   "cell_type": "code",
   "execution_count": 5,
   "id": "ee89b329",
   "metadata": {},
   "outputs": [
    {
     "name": "stdout",
     "output_type": "stream",
     "text": [
      "True\n"
     ]
    }
   ],
   "source": [
    "print(1.0 <= 1.1)"
   ]
  },
  {
   "cell_type": "code",
   "execution_count": 6,
   "id": "9276ba97",
   "metadata": {},
   "outputs": [
    {
     "name": "stdout",
     "output_type": "stream",
     "text": [
      "False\n"
     ]
    }
   ],
   "source": [
    "print(2.0 >= 3.0)"
   ]
  },
  {
   "cell_type": "markdown",
   "id": "4477383b",
   "metadata": {},
   "source": [
    "The above examples were quite simple and basically used numbers (integers or floats).  \n",
    "We can also use some comparators with strings to check if they are greater than or less than other strings. In the context of strings, a string is said to be less than another one if it comes first in the dictionary and vice versa."
   ]
  },
  {
   "cell_type": "code",
   "execution_count": 7,
   "id": "b320399e",
   "metadata": {},
   "outputs": [
    {
     "name": "stdout",
     "output_type": "stream",
     "text": [
      "True\n"
     ]
    }
   ],
   "source": [
    "print(\"AA\" < \"AB\")"
   ]
  },
  {
   "cell_type": "code",
   "execution_count": 8,
   "id": "fb867d6d",
   "metadata": {},
   "outputs": [
    {
     "data": {
      "text/plain": [
       "65"
      ]
     },
     "execution_count": 8,
     "metadata": {},
     "output_type": "execute_result"
    }
   ],
   "source": [
    "ord(\"A\")"
   ]
  },
  {
   "cell_type": "code",
   "execution_count": 9,
   "id": "bea19c0c",
   "metadata": {},
   "outputs": [
    {
     "data": {
      "text/plain": [
       "66"
      ]
     },
     "execution_count": 9,
     "metadata": {},
     "output_type": "execute_result"
    }
   ],
   "source": [
    "ord(\"B\")"
   ]
  },
  {
   "cell_type": "code",
   "execution_count": 11,
   "id": "3ccd3e2e",
   "metadata": {},
   "outputs": [
    {
     "name": "stdout",
     "output_type": "stream",
     "text": [
      "Help on built-in function ord in module builtins:\n",
      "\n",
      "ord(c, /)\n",
      "    Return the Unicode code point for a one-character string.\n",
      "\n"
     ]
    }
   ],
   "source": [
    "help(ord)"
   ]
  },
  {
   "cell_type": "code",
   "execution_count": 12,
   "id": "7c7eee50",
   "metadata": {
    "scrolled": true
   },
   "outputs": [
    {
     "name": "stdout",
     "output_type": "stream",
     "text": [
      "False\n"
     ]
    }
   ],
   "source": [
    "print(\"bz\" > \"za\")"
   ]
  },
  {
   "cell_type": "markdown",
   "id": "314eecef",
   "metadata": {},
   "source": [
    "We can't use the less than and greater than comparators between strings and numbers."
   ]
  },
  {
   "cell_type": "code",
   "execution_count": 13,
   "id": "6ea41bdd",
   "metadata": {},
   "outputs": [
    {
     "ename": "TypeError",
     "evalue": "'<' not supported between instances of 'int' and 'str'",
     "output_type": "error",
     "traceback": [
      "\u001b[1;31m---------------------------------------------------------------------------\u001b[0m",
      "\u001b[1;31mTypeError\u001b[0m                                 Traceback (most recent call last)",
      "Cell \u001b[1;32mIn[13], line 1\u001b[0m\n\u001b[1;32m----> 1\u001b[0m \u001b[38;5;28mprint\u001b[39m(\u001b[38;5;241;43m1\u001b[39;49m\u001b[43m \u001b[49m\u001b[38;5;241;43m<\u001b[39;49m\u001b[43m \u001b[49m\u001b[38;5;124;43m\"\u001b[39;49m\u001b[38;5;124;43m10\u001b[39;49m\u001b[38;5;124;43m\"\u001b[39;49m)\n",
      "\u001b[1;31mTypeError\u001b[0m: '<' not supported between instances of 'int' and 'str'"
     ]
    }
   ],
   "source": [
    "print(1 < \"10\")"
   ]
  },
  {
   "cell_type": "code",
   "execution_count": 14,
   "id": "850547b5",
   "metadata": {},
   "outputs": [
    {
     "ename": "TypeError",
     "evalue": "'>' not supported between instances of 'str' and 'int'",
     "output_type": "error",
     "traceback": [
      "\u001b[1;31m---------------------------------------------------------------------------\u001b[0m",
      "\u001b[1;31mTypeError\u001b[0m                                 Traceback (most recent call last)",
      "Cell \u001b[1;32mIn[14], line 1\u001b[0m\n\u001b[1;32m----> 1\u001b[0m \u001b[38;5;28mprint\u001b[39m(\u001b[38;5;124;43m\"\u001b[39;49m\u001b[38;5;124;43m10\u001b[39;49m\u001b[38;5;124;43m\"\u001b[39;49m\u001b[43m \u001b[49m\u001b[38;5;241;43m>\u001b[39;49m\u001b[43m \u001b[49m\u001b[38;5;241;43m1\u001b[39;49m)\n",
      "\u001b[1;31mTypeError\u001b[0m: '>' not supported between instances of 'str' and 'int'"
     ]
    }
   ],
   "source": [
    "print(\"10\" > 1)"
   ]
  },
  {
   "cell_type": "markdown",
   "id": "9a8027c2",
   "metadata": {},
   "source": [
    "We can also use the equal and not equal comparators between two strings, and a string and number. The latter case will always return False as a string can never be equal to a number data type in python."
   ]
  },
  {
   "cell_type": "code",
   "execution_count": 15,
   "id": "add9c7c3",
   "metadata": {},
   "outputs": [
    {
     "name": "stdout",
     "output_type": "stream",
     "text": [
      "True\n"
     ]
    }
   ],
   "source": [
    "print(\"cat\" == \"cat\")"
   ]
  },
  {
   "cell_type": "code",
   "execution_count": 16,
   "id": "69f6fa39",
   "metadata": {},
   "outputs": [
    {
     "name": "stdout",
     "output_type": "stream",
     "text": [
      "True\n"
     ]
    }
   ],
   "source": [
    "print(\"cat\" != \"dog\")"
   ]
  },
  {
   "cell_type": "code",
   "execution_count": 17,
   "id": "ae40017d",
   "metadata": {},
   "outputs": [
    {
     "name": "stdout",
     "output_type": "stream",
     "text": [
      "False\n"
     ]
    }
   ],
   "source": [
    "print(0 == \"1\")"
   ]
  },
  {
   "cell_type": "markdown",
   "id": "24ae4c24",
   "metadata": {},
   "source": [
    "# Logical operators\n",
    "In Python, Logical operators are used on conditional statements (either True or False). They perform Logical AND, Logical OR and Logical NOT operations.\n",
    "\n",
    "|OPERATOR|\tDESCRIPTION\t|SYNTAX|\n",
    "|--------|--------------|------|\n",
    "|`and`|\tLogical AND: True if both the operands are true\t|x and y|\n",
    "|`or`\t|Logical OR: True if either of the operands is true\t|x or y|\n",
    "|`not`|\tLogical NOT: True if operand is false\t|not x|"
   ]
  },
  {
   "cell_type": "markdown",
   "id": "62ca8f56",
   "metadata": {},
   "source": [
    "When working with the `True` or `False` attributes, they work as a logical `AND`, `OR` and `NOT`, and are often used in an if conditional expression:"
   ]
  },
  {
   "cell_type": "markdown",
   "id": "4ccd8729",
   "metadata": {},
   "source": [
    "## Precedence of Python Operators\n",
    "|Operators|Meaning|\n",
    "|----|----|\n",
    "|()|Parentheses|\n",
    "|**|Exponent|\n",
    "|+x, -x, ~x|Unary plus, Unary minus, Bitwise NOT|\n",
    "|*, /, //, %|Multiplication, Division, Floor division, Modulus|\n",
    "|+, -|Addition, Subtraction|\n",
    "|<<, >>|Bitwise shift operators|\n",
    "|&|Bitwise AND|\n",
    "|^|Bitwise XOR|\n",
    "||Bitwise OR|\n",
    "|==, !=, >, >=, <, <=, is, is not, in, not in|Comparisons, Identity, Membership operators|\n",
    "|not|Logical NOT|\n",
    "|and|Logical AND|\n",
    "|or|Logical OR|"
   ]
  },
  {
   "cell_type": "code",
   "execution_count": 19,
   "id": "ee2fe9d4",
   "metadata": {},
   "outputs": [
    {
     "name": "stdout",
     "output_type": "stream",
     "text": [
      "False\n",
      "False\n",
      "True\n"
     ]
    }
   ],
   "source": [
    "condition1 = True\n",
    "condition2 = False\n",
    "\n",
    "print(not condition1) #False\n",
    "print(condition1 and condition2) #False\n",
    "print(condition1 or condition2) #True"
   ]
  },
  {
   "cell_type": "code",
   "execution_count": 20,
   "id": "9e214c45",
   "metadata": {},
   "outputs": [
    {
     "name": "stdout",
     "output_type": "stream",
     "text": [
      "1\n",
      "hey\n",
      "hi\n",
      "False\n",
      "[]\n"
     ]
    }
   ],
   "source": [
    "print(0 or 1) ## 1\n",
    "print(False or 'hey') ## 'hey'\n",
    "print('hi' or 'hey') ## 'hi'\n",
    "print([] or False) ## 'False'\n",
    "print(False or []) ## '[]'"
   ]
  },
  {
   "cell_type": "markdown",
   "id": "67058836",
   "metadata": {},
   "source": [
    "Note a possible source of confusion:\n",
    "\n",
    "`or ` used in an expression returns the value of the *first* operand that is *not false* (False, 0, ' ', [ ], (), {} ). Otherwise, it returns the last operand."
   ]
  },
  {
   "cell_type": "code",
   "execution_count": 21,
   "id": "6df697c8",
   "metadata": {},
   "outputs": [
    {
     "data": {
      "text/plain": [
       "True"
      ]
     },
     "execution_count": 21,
     "metadata": {},
     "output_type": "execute_result"
    }
   ],
   "source": [
    "False == False"
   ]
  },
  {
   "cell_type": "code",
   "execution_count": 22,
   "id": "fe97260f",
   "metadata": {},
   "outputs": [
    {
     "data": {
      "text/plain": [
       "True"
      ]
     },
     "execution_count": 22,
     "metadata": {},
     "output_type": "execute_result"
    }
   ],
   "source": [
    "0 == False"
   ]
  },
  {
   "cell_type": "code",
   "execution_count": 24,
   "id": "e70ed6de",
   "metadata": {},
   "outputs": [
    {
     "data": {
      "text/plain": [
       "False"
      ]
     },
     "execution_count": 24,
     "metadata": {},
     "output_type": "execute_result"
    }
   ],
   "source": [
    "[] == False"
   ]
  },
  {
   "cell_type": "code",
   "execution_count": 25,
   "id": "f01a6104",
   "metadata": {},
   "outputs": [
    {
     "data": {
      "text/plain": [
       "True"
      ]
     },
     "execution_count": 25,
     "metadata": {},
     "output_type": "execute_result"
    }
   ],
   "source": [
    "bool([]) == False"
   ]
  },
  {
   "cell_type": "markdown",
   "id": "387fbde2",
   "metadata": {},
   "source": [
    "The Python documentation describes it this way:\n",
    "```Python\n",
    "\n",
    "if x is false, then y, else x\n",
    "```\n",
    "\n",
    "`and` evaluates the second argument only if the *first* argument is true. So if the first argument is false (False, 0, '', [] ..), it returns that argument. Otherwise, it evaluates the second argument:"
   ]
  },
  {
   "cell_type": "code",
   "execution_count": 26,
   "id": "b58f2c27",
   "metadata": {},
   "outputs": [
    {
     "name": "stdout",
     "output_type": "stream",
     "text": [
      "0\n",
      "0\n",
      "False\n",
      "hey\n",
      "[]\n",
      "False\n"
     ]
    }
   ],
   "source": [
    "print(0 and 1) ## 0\n",
    "print(1 and 0) ## 0\n",
    "print(False and 'hey') ## False\n",
    "print('hi' and 'hey') ## 'hey'\n",
    "print([] and False ) ## []\n",
    "print(False and [] ) ## False"
   ]
  },
  {
   "cell_type": "markdown",
   "id": "53d8f719",
   "metadata": {},
   "source": [
    "The Python documentation describes it this way:\n",
    "```Python\n",
    "\n",
    "if x is false, then x, else y\n",
    "```\n",
    "\n"
   ]
  },
  {
   "cell_type": "markdown",
   "id": "bca09ec3",
   "metadata": {},
   "source": [
    "## Control Statements \n",
    "\n",
    "in Python When you're dealing with booleans, and expressions that return a boolean in particular, we can make decisions and take different roads depending on their True or False values.\n",
    "\n",
    "In Python we do so using the if statement:"
   ]
  },
  {
   "cell_type": "markdown",
   "id": "8f450848",
   "metadata": {},
   "source": [
    "## ` if` Statements"
   ]
  },
  {
   "cell_type": "markdown",
   "id": "0e4a1aff",
   "metadata": {},
   "source": [
    " In its simplest form, it looks like this:\n",
    "```Python\n",
    "\n",
    "if <expr>:\n",
    "    <statement>\n",
    "```\n",
    "\n",
    "In the form shown above:\n",
    "\n",
    "- `<expr>` is an expression evaluated in a Boolean context, as discussed in the section on Logical Operators in the Operators and Expressions in Python tutorial.\n",
    "- `<statement>` is a valid Python statement, which must be indented. (You will see why very soon.)\n",
    "If `<expr>` is true (evaluates to a value that is “truthy”), then `<statement>` is executed. If <expr> is false, then <statement> is skipped over and not executed.\n",
    "\n",
    "Note that the colon `(:)` following `<expr>` is required. Some programming languages require `<expr>` to be enclosed in parentheses, but Python does not.\n",
    "\n",
    "Here are several examples of this type of if statement:"
   ]
  },
  {
   "cell_type": "code",
   "execution_count": 28,
   "id": "471a2e10",
   "metadata": {},
   "outputs": [
    {
     "name": "stdout",
     "output_type": "stream",
     "text": [
      "yes\n"
     ]
    }
   ],
   "source": [
    "x = 0\n",
    "y = 5\n",
    "\n",
    "if x < y:                            # Truthy\n",
    "    print('yes')"
   ]
  },
  {
   "cell_type": "code",
   "execution_count": 29,
   "id": "f428f012",
   "metadata": {},
   "outputs": [],
   "source": [
    "if y < x:                            # Falsy\n",
    "     print('yes')"
   ]
  },
  {
   "cell_type": "code",
   "execution_count": 31,
   "id": "45af1d93",
   "metadata": {},
   "outputs": [
    {
     "data": {
      "text/plain": [
       "False"
      ]
     },
     "execution_count": 31,
     "metadata": {},
     "output_type": "execute_result"
    }
   ],
   "source": [
    "bool(x)"
   ]
  },
  {
   "cell_type": "code",
   "execution_count": 32,
   "id": "92cd0e17",
   "metadata": {},
   "outputs": [],
   "source": [
    "if x:                                # Falsy\n",
    "    print('yes')"
   ]
  },
  {
   "cell_type": "code",
   "execution_count": 34,
   "id": "4e536fe6",
   "metadata": {},
   "outputs": [
    {
     "data": {
      "text/plain": [
       "5"
      ]
     },
     "execution_count": 34,
     "metadata": {},
     "output_type": "execute_result"
    }
   ],
   "source": [
    "y"
   ]
  },
  {
   "cell_type": "code",
   "execution_count": 33,
   "id": "e5ae180e",
   "metadata": {},
   "outputs": [
    {
     "data": {
      "text/plain": [
       "True"
      ]
     },
     "execution_count": 33,
     "metadata": {},
     "output_type": "execute_result"
    }
   ],
   "source": [
    "bool(y)"
   ]
  },
  {
   "cell_type": "code",
   "execution_count": 35,
   "id": "13759934",
   "metadata": {},
   "outputs": [
    {
     "name": "stdout",
     "output_type": "stream",
     "text": [
      "yes\n"
     ]
    }
   ],
   "source": [
    "if y:                                # Truthy\n",
    "    print('yes')"
   ]
  },
  {
   "cell_type": "code",
   "execution_count": 38,
   "id": "363af075",
   "metadata": {},
   "outputs": [
    {
     "name": "stdout",
     "output_type": "stream",
     "text": [
      "yes\n"
     ]
    }
   ],
   "source": [
    "if 0 <= y <=10:\n",
    "    print('yes')"
   ]
  },
  {
   "cell_type": "code",
   "execution_count": 41,
   "id": "83065883",
   "metadata": {},
   "outputs": [
    {
     "name": "stdout",
     "output_type": "stream",
     "text": [
      "yes\n"
     ]
    }
   ],
   "source": [
    "if x or y:                           # Truthy\n",
    "    print('yes')"
   ]
  },
  {
   "cell_type": "code",
   "execution_count": 42,
   "id": "99c07bd3",
   "metadata": {},
   "outputs": [],
   "source": [
    "if x and y:                          # Falsy\n",
    "    print('yes')"
   ]
  },
  {
   "cell_type": "code",
   "execution_count": 43,
   "id": "09f1a9cf",
   "metadata": {},
   "outputs": [
    {
     "name": "stdout",
     "output_type": "stream",
     "text": [
      "yes\n"
     ]
    }
   ],
   "source": [
    "# The 'in' operator is used to check if a character/ substring/ element exists in a sequence or not.\n",
    "# Evaluate to True if it finds the specified element in a sequence, otherwise False\n",
    "if 'ful' in 'grateful':                # Truthy\n",
    "    print('yes')"
   ]
  },
  {
   "cell_type": "code",
   "execution_count": 44,
   "id": "8c89d679",
   "metadata": {},
   "outputs": [],
   "source": [
    "if 'quux' in ['foo', 'bar', 'baz']:  # Falsy\n",
    "    print('yes')"
   ]
  },
  {
   "cell_type": "markdown",
   "id": "b5a2b9c0",
   "metadata": {},
   "source": [
    "In all the examples shown above, each if `<expr>`: has been followed by only a single `<statement>`. There needs to be some way to say `If <expr> is true, do all of the following things.`\n",
    "\n",
    "The usual approach taken by most programming languages is to define a syntactic device that groups multiple statements into one compound statement or block. A block is regarded syntactically as a single entity. When it is the target of an if statement, and `<expr>` is true, then all the statements in the block are executed. If `<expr>` is false, then none of them are."
   ]
  },
  {
   "cell_type": "markdown",
   "id": "aefa9460",
   "metadata": {},
   "source": [
    "Python follows a convention known as the `off-side rule`, a term coined by British computer scientist Peter J. Landin. (The term is taken from the offside law in association football.) Languages that adhere to the off-side rule define blocks by indentation. \n",
    "\n",
    "Recall from the previous lecture that indentation has special significance in a Python program. Now you know why: indentation is used to define compound statements or blocks. In a Python program, contiguous statements that are indented to the same level are considered to be part of the same block.\n",
    "\n",
    "Thus, a compound if statement in Python looks like this:\n",
    "```Python\n",
    "if <expr>:\n",
    "    <statement>\n",
    "    <statement>\n",
    "    ...\n",
    "    <statement>\n",
    "<following_statement>\n",
    "```"
   ]
  },
  {
   "cell_type": "markdown",
   "id": "e64e309f",
   "metadata": {},
   "source": [
    "Here, all the statements at the matching indentation level (lines 2 to 5) are considered part of the same block. The entire block is executed if <expr> is true, or skipped over if <expr> is false. Either way, execution proceeds with `<following_statement>` (line 6) afterward.\n",
    "\n"
   ]
  },
  {
   "cell_type": "code",
   "execution_count": 45,
   "id": "103ab06e",
   "metadata": {},
   "outputs": [
    {
     "name": "stdout",
     "output_type": "stream",
     "text": [
      "----\n",
      "This\n",
      "is\n",
      "the compound\n",
      "statement\n",
      "---\n",
      "This statement is outside if statement\n"
     ]
    }
   ],
   "source": [
    "if True:\n",
    "    print(\"----\")\n",
    "    print(\"This\")\n",
    "    print(\"is\")\n",
    "    print('the compound')\n",
    "    print('statement')\n",
    "    print(\"---\")\n",
    "print(\"This statement is outside if statement\")"
   ]
  },
  {
   "cell_type": "code",
   "execution_count": 46,
   "id": "b7b89139",
   "metadata": {},
   "outputs": [
    {
     "name": "stdout",
     "output_type": "stream",
     "text": [
      "This statement is outside if statement\n"
     ]
    }
   ],
   "source": [
    "if False:\n",
    "    print(\"----\")\n",
    "    print(\"This\")\n",
    "    print(\"is\")\n",
    "    print('the compound')\n",
    "    print('statement')\n",
    "    print(\"---\")\n",
    "print(\"This statement is outside if statement\")"
   ]
  },
  {
   "cell_type": "code",
   "execution_count": 47,
   "id": "e907938b",
   "metadata": {},
   "outputs": [
    {
     "ename": "IndentationError",
     "evalue": "unexpected indent (2884337700.py, line 6)",
     "output_type": "error",
     "traceback": [
      "\u001b[1;36m  Cell \u001b[1;32mIn[47], line 6\u001b[1;36m\u001b[0m\n\u001b[1;33m    print('statement')\u001b[0m\n\u001b[1;37m    ^\u001b[0m\n\u001b[1;31mIndentationError\u001b[0m\u001b[1;31m:\u001b[0m unexpected indent\n"
     ]
    }
   ],
   "source": [
    "if False:\n",
    "    print(\"----\")\n",
    "    print(\"This\")\n",
    "    print(\"is\")\n",
    "print('the compound')\n",
    "    print('statement')\n",
    "    print(\"---\")\n",
    "print(\"This statement is outside if statement\")"
   ]
  },
  {
   "cell_type": "markdown",
   "id": "78c5a1d3",
   "metadata": {},
   "source": [
    "There is also syntax for branching execution based on several alternatives. For this, use one or more elif (short for else if) clauses. Python evaluates each <expr> in turn and executes the suite corresponding to the first that is true. If none of the expressions are true, and an else clause is specified, then its suite is executed:\n",
    "\n",
    "``` Python\n",
    "if <expr>:\n",
    "    <statement(s)>\n",
    "elif <expr>:\n",
    "    <statement(s)>\n",
    "elif <expr>:\n",
    "    <statement(s)>\n",
    "    ...\n",
    "else:\n",
    "    <statement(s)>\n",
    "```\n",
    "An arbitrary number of elif clauses can be specified. The else clause is optional. If it is present, there can be only one, and it must be specified last:"
   ]
  },
  {
   "cell_type": "code",
   "execution_count": 51,
   "id": "109c4732",
   "metadata": {},
   "outputs": [
    {
     "name": "stdout",
     "output_type": "stream",
     "text": [
      "Score: 75\n",
      "Grade: C\n"
     ]
    }
   ],
   "source": [
    "score = int(input(\"Score: \"))\n",
    "\n",
    "if score >= 90 and score <= 100:\n",
    "    print(\"Grade: A\")\n",
    "elif score >=85 and score < 90:\n",
    "    print(\"Grade: B\")\n",
    "elif score >=75 and score < 85:\n",
    "    print(\"Grade: C\")\n",
    "elif score >=65 and score < 75:\n",
    "    print(\"Grade: D\")\n",
    "elif score >=60 and score < 65:\n",
    "    print(\"Grade: D\")\n",
    "else:\n",
    "    print(\"Grade: F\")"
   ]
  },
  {
   "cell_type": "code",
   "execution_count": 53,
   "id": "1bb2e8a7",
   "metadata": {},
   "outputs": [
    {
     "name": "stdout",
     "output_type": "stream",
     "text": [
      "Score: 98\n",
      "Grade: A\n"
     ]
    }
   ],
   "source": [
    " score = int(input(\"Score: \"))\n",
    "\n",
    "if 90 <= score <= 100:\n",
    "    print(\"Grade: A\")\n",
    "elif 85 <= score < 90:\n",
    "    print(\"Grade: B\")\n",
    "elif 75 <= score < 85:\n",
    "    print(\"Grade: C\")\n",
    "elif 65 <= score < 75:\n",
    "    print(\"Grade: D\")\n",
    "elif 60 <= score < 65:\n",
    "    print(\"Grade: E\")\n",
    "else:\n",
    "    print(\"Grade: F\")"
   ]
  },
  {
   "cell_type": "code",
   "execution_count": 55,
   "id": "8f2e8234",
   "metadata": {},
   "outputs": [
    {
     "name": "stdout",
     "output_type": "stream",
     "text": [
      "Score: 98\n",
      "Grade: A\n"
     ]
    }
   ],
   "source": [
    "score = int(input(\"Score: \"))\n",
    "\n",
    "if score >= 90:\n",
    "    print(\"Grade: A\")\n",
    "elif score >= 85:\n",
    "    print(\"Grade: B\")\n",
    "elif score >= 75:\n",
    "    print(\"Grade: C\")\n",
    "elif score >= 65:\n",
    "    print(\"Grade: D\")\n",
    "elif score >= 60:\n",
    "    print(\"Grade: E\")\n",
    "else:\n",
    "    print(\"Grade: F\")"
   ]
  },
  {
   "cell_type": "markdown",
   "id": "b6492ac4",
   "metadata": {},
   "source": [
    "# Conditional Expressions (Python’s Ternary Operator)\n",
    "Python supports one additional decision-making entity called a conditional expression. (It is also referred to as a conditional operator or ternary operator in various places in the Python documentation.) Conditional expressions were proposed for addition to the language in PEP 308 and green-lighted by Guido in 2005.\n",
    "\n",
    "In its simplest form, the syntax of the conditional expression is as follows:\n",
    "```Python\n",
    "<expr1> if <conditional_expr> else <expr2>\n",
    "```"
   ]
  },
  {
   "cell_type": "markdown",
   "id": "6ad77832",
   "metadata": {},
   "source": [
    "The modulo `%` operator in programming allows one to see if two numbers divide evenly or divide and have a remainder.\n",
    "For example, 4 % 2 would result in zero, because it evenly divides. However, 3 % 2 does not divide evenly and would result in a number other than zero!"
   ]
  },
  {
   "cell_type": "code",
   "execution_count": 57,
   "id": "13306c7d",
   "metadata": {},
   "outputs": [
    {
     "name": "stdout",
     "output_type": "stream",
     "text": [
      "Enter a number: 10\n",
      "True\n"
     ]
    }
   ],
   "source": [
    "# checking if the number if even\n",
    "n = int(input(\"Enter a number: \"))\n",
    "print(True if n % 2 == 0 else False)"
   ]
  },
  {
   "cell_type": "code",
   "execution_count": 59,
   "id": "37d0c81f",
   "metadata": {},
   "outputs": [
    {
     "name": "stdout",
     "output_type": "stream",
     "text": [
      "Enter a number: 45\n",
      "False\n"
     ]
    }
   ],
   "source": [
    "n = int(input(\"Enter a number: \"))\n",
    "print(True if not (n % 2) else False)"
   ]
  },
  {
   "cell_type": "code",
   "execution_count": 61,
   "id": "f063faaa",
   "metadata": {},
   "outputs": [
    {
     "name": "stdout",
     "output_type": "stream",
     "text": [
      "adult\n"
     ]
    }
   ],
   "source": [
    "age = 25\n",
    "s = 'kid' if age < 18 else 'adult'\n",
    "print(s)"
   ]
  },
  {
   "cell_type": "markdown",
   "id": "374ee908",
   "metadata": {},
   "source": [
    "# Walrus operator (Python 3.8 and higher)"
   ]
  },
  {
   "attachments": {
    "image-2.png": {
     "image/png": "[encoded data removed]"
    }
   },
   "cell_type": "markdown",
   "id": "8e1cb798",
   "metadata": {},
   "source": [
    "![image-2.png](attachment:image-2.png)"
   ]
  },
  {
   "cell_type": "code",
   "execution_count": 62,
   "id": "d481d668",
   "metadata": {},
   "outputs": [
    {
     "name": "stdout",
     "output_type": "stream",
     "text": [
      "30 is greater than 10\n"
     ]
    }
   ],
   "source": [
    "# !for Python version 3.8 and higher!\n",
    "# without walrus\n",
    "n = 30\n",
    "if n > 10:\n",
    "    print(f\"{n} is greater than 10\")"
   ]
  },
  {
   "cell_type": "code",
   "execution_count": 63,
   "id": "e85d8854",
   "metadata": {},
   "outputs": [
    {
     "name": "stdout",
     "output_type": "stream",
     "text": [
      "30 is greater than 10\n"
     ]
    }
   ],
   "source": [
    "# with walrus\n",
    "if (n := 30) > 10:\n",
    "    print(f\"{n} is greater than 10\")"
   ]
  },
  {
   "cell_type": "code",
   "execution_count": 64,
   "id": "ba99e601",
   "metadata": {},
   "outputs": [
    {
     "data": {
      "text/plain": [
       "30"
      ]
     },
     "execution_count": 64,
     "metadata": {},
     "output_type": "execute_result"
    }
   ],
   "source": [
    "n"
   ]
  },
  {
   "cell_type": "markdown",
   "id": "8726d6fb",
   "metadata": {},
   "source": [
    "# match statement (for Python 3.10)"
   ]
  },
  {
   "cell_type": "markdown",
   "id": "cf505380",
   "metadata": {},
   "source": [
    "https://www.python.org/shell/"
   ]
  },
  {
   "cell_type": "code",
   "execution_count": 65,
   "id": "61e465d5",
   "metadata": {},
   "outputs": [
    {
     "ename": "SyntaxError",
     "evalue": "invalid syntax (86705697.py, line 3)",
     "output_type": "error",
     "traceback": [
      "\u001b[1;36m  Cell \u001b[1;32mIn[65], line 3\u001b[1;36m\u001b[0m\n\u001b[1;33m    match name:\u001b[0m\n\u001b[1;37m          ^\u001b[0m\n\u001b[1;31mSyntaxError\u001b[0m\u001b[1;31m:\u001b[0m invalid syntax\n"
     ]
    }
   ],
   "source": [
    "# !for Python version 3.10\n",
    "name = input(\"Month? \")\n",
    "match name: \n",
    "    case \"March\" | \"April\" | \"May\":\n",
    "        print(\"Spring\")\n",
    "    case \"September\":\n",
    "        print(\"Automn\")\n",
    "    case _:\n",
    "          print(\"What?\")"
   ]
  },
  {
   "cell_type": "markdown",
   "id": "acb5bc2b",
   "metadata": {},
   "source": [
    "Example: Check the year is leap or common"
   ]
  },
  {
   "cell_type": "code",
   "execution_count": 69,
   "id": "424eccda",
   "metadata": {},
   "outputs": [
    {
     "name": "stdout",
     "output_type": "stream",
     "text": [
      "Enter a year to check: 2024\n",
      "A leap year\n"
     ]
    }
   ],
   "source": [
    "year = int(input('Enter a year to check: '))\n",
    "\n",
    "if year % 4 != 0:\n",
    "    print(\"Common year\")\n",
    "elif year % 400 == 0:\n",
    "    print('A leap year')\n",
    "elif year % 100 == 0:\n",
    "    print(\"Common year\")\n",
    "else:\n",
    "    print(\"A leap year\")\n"
   ]
  },
  {
   "cell_type": "code",
   "execution_count": 72,
   "id": "e5a5e12b",
   "metadata": {},
   "outputs": [
    {
     "name": "stdout",
     "output_type": "stream",
     "text": [
      "Enter a year to check: 1900\n",
      "Common year\n"
     ]
    }
   ],
   "source": [
    "year = int(input('Enter a year to check: '))\n",
    "\n",
    "if (year % 4 != 0) or (year % 100 == 0) and (year % 400 != 0):\n",
    "    print('Common year')\n",
    "else:\n",
    "    print(\"A leap year\")"
   ]
  },
  {
   "cell_type": "code",
   "execution_count": 79,
   "id": "ddb9563d",
   "metadata": {},
   "outputs": [
    {
     "name": "stdout",
     "output_type": "stream",
     "text": [
      "Enter a year to check: 2024\n",
      "A leap year\n"
     ]
    }
   ],
   "source": [
    "year = int(input('Enter a year to check: '))\n",
    "\n",
    "if not(year % 4 != 0 or year % 100 == 0 and year % 400 != 0):\n",
    "    print(\"A leap year\")\n",
    "else:\n",
    "    print(\"Common year\")"
   ]
  },
  {
   "cell_type": "code",
   "execution_count": 82,
   "id": "b536cd51",
   "metadata": {},
   "outputs": [
    {
     "name": "stdout",
     "output_type": "stream",
     "text": [
      "Enter a year to check: 2023\n",
      "Common year\n"
     ]
    }
   ],
   "source": [
    "year = int(input('Enter a year to check: '))\n",
    "\n",
    "if year % 4 == 0 and year % 100 != 0 or year % 400 == 0:\n",
    "    print(\"A leap year\")\n",
    "else:\n",
    "    print(\"Common year\")"
   ]
  },
  {
   "cell_type": "code",
   "execution_count": null,
   "id": "2323fdf4",
   "metadata": {},
   "outputs": [],
   "source": []
  }
 ],
 "metadata": {
  "kernelspec": {
   "display_name": "Python 3",
   "language": "python",
   "name": "python3"
  },
  "language_info": {
   "codemirror_mode": {
    "name": "ipython",
    "version": 3
   },
   "file_extension": ".py",
   "mimetype": "text/x-python",
   "name": "python",
   "nbconvert_exporter": "python",
   "pygments_lexer": "ipython3",
   "version": "3.8.2"
  }
 },
 "nbformat": 4,
 "nbformat_minor": 5
}
