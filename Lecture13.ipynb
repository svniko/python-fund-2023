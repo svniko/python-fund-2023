{
 "cells": [
  {
   "cell_type": "markdown",
   "id": "ec2d9706",
   "metadata": {},
   "source": [
    "<a target=\"_blank\" href=\"https://colab.research.google.com/github/svniko/python-fund-2023/blob/main/Lecture13.ipynb\">\n",
    "  <img src=\"https://colab.research.google.com/assets/colab-badge.svg\" alt=\"Open In Colab\"/>"
   ]
  },
  {
   "cell_type": "markdown",
   "id": "57270c18",
   "metadata": {},
   "source": [
    "    Assoc. Prof. Svitlana Kovalenko\n",
    "    Department of Software Engineering \n",
    "    and Management Intelligent Technologies\n",
    "    NTU KhPI"
   ]
  },
  {
   "cell_type": "markdown",
   "id": "275ff518",
   "metadata": {},
   "source": [
    "### Lecture 13. "
   ]
  },
  {
   "cell_type": "markdown",
   "id": "7dd3b053",
   "metadata": {},
   "source": [
    "Built-in functions for sets"
   ]
  },
  {
   "cell_type": "markdown",
   "id": "8d4f77fc",
   "metadata": {},
   "source": [
    "|Function|\tDescription|\n",
    "|--------|-------------|\n",
    "|all()|\tReturns `True` if all elements of the set are true (or if the set is empty).|\n",
    "|any()\t|Returns `True` if any element of the set is true. If the set is empty, returns` False`.|\n",
    "|enumerate()|\tReturns an enumerate object. It contains the index and value for all the items of the set as a pair.|\n",
    "|len()\t|Returns the length (the number of items) in the set.|\n",
    "|max()|\tReturns the largest item in the set.|\n",
    "|min()\t|Returns the smallest item in the set.|\n",
    "|sorted()|\tReturns a new sorted list from elements in the set(does not sort the set itself).|\n",
    "|sum()\t|Returns the sum of all elements in the set.|"
   ]
  },
  {
   "cell_type": "code",
   "execution_count": 1,
   "id": "eb6c6095",
   "metadata": {},
   "outputs": [
    {
     "data": {
      "text/plain": [
       "True"
      ]
     },
     "execution_count": 1,
     "metadata": {},
     "output_type": "execute_result"
    }
   ],
   "source": [
    "set1 = {1,'hi',True}\n",
    "all(set1)"
   ]
  },
  {
   "cell_type": "code",
   "execution_count": 2,
   "id": "d9a0b5d2",
   "metadata": {},
   "outputs": [
    {
     "data": {
      "text/plain": [
       "True"
      ]
     },
     "execution_count": 2,
     "metadata": {},
     "output_type": "execute_result"
    }
   ],
   "source": [
    "1 == True"
   ]
  },
  {
   "cell_type": "code",
   "execution_count": 3,
   "id": "fb1d5521",
   "metadata": {},
   "outputs": [
    {
     "data": {
      "text/plain": [
       "{1, 'hi'}"
      ]
     },
     "execution_count": 3,
     "metadata": {},
     "output_type": "execute_result"
    }
   ],
   "source": [
    "set1"
   ]
  },
  {
   "cell_type": "code",
   "execution_count": 4,
   "id": "be650af7",
   "metadata": {},
   "outputs": [
    {
     "data": {
      "text/plain": [
       "True"
      ]
     },
     "execution_count": 4,
     "metadata": {},
     "output_type": "execute_result"
    }
   ],
   "source": [
    "all(set())"
   ]
  },
  {
   "cell_type": "code",
   "execution_count": 5,
   "id": "41e1f6bf",
   "metadata": {},
   "outputs": [
    {
     "data": {
      "text/plain": [
       "True"
      ]
     },
     "execution_count": 5,
     "metadata": {},
     "output_type": "execute_result"
    }
   ],
   "source": [
    "set1 = {1,'hi',True, False,''}\n",
    "any(set1)"
   ]
  },
  {
   "cell_type": "code",
   "execution_count": 6,
   "id": "0c6e6241",
   "metadata": {},
   "outputs": [
    {
     "data": {
      "text/plain": [
       "False"
      ]
     },
     "execution_count": 6,
     "metadata": {},
     "output_type": "execute_result"
    }
   ],
   "source": [
    "all(set1)"
   ]
  },
  {
   "cell_type": "code",
   "execution_count": 7,
   "id": "e735be7c",
   "metadata": {
    "scrolled": true
   },
   "outputs": [
    {
     "data": {
      "text/plain": [
       "False"
      ]
     },
     "execution_count": 7,
     "metadata": {},
     "output_type": "execute_result"
    }
   ],
   "source": [
    "any(set())"
   ]
  },
  {
   "cell_type": "code",
   "execution_count": 8,
   "id": "8be3d332",
   "metadata": {},
   "outputs": [
    {
     "data": {
      "text/plain": [
       "{'', 1, False, 'hi'}"
      ]
     },
     "execution_count": 8,
     "metadata": {},
     "output_type": "execute_result"
    }
   ],
   "source": [
    "set1"
   ]
  },
  {
   "cell_type": "code",
   "execution_count": 9,
   "id": "0f02d23c",
   "metadata": {},
   "outputs": [
    {
     "name": "stdout",
     "output_type": "stream",
     "text": [
      "0 False\n",
      "1 1\n",
      "2 hi\n",
      "3 \n"
     ]
    }
   ],
   "source": [
    "for i, elem in enumerate(set1):\n",
    "    print(i,elem)"
   ]
  },
  {
   "cell_type": "markdown",
   "id": "efcb6788",
   "metadata": {},
   "source": [
    "### Unpacking set"
   ]
  },
  {
   "cell_type": "code",
   "execution_count": 10,
   "id": "8ce243c7",
   "metadata": {
    "scrolled": true
   },
   "outputs": [
    {
     "name": "stdout",
     "output_type": "stream",
     "text": [
      "cat\n",
      "dog duck\n",
      "ferret\n"
     ]
    }
   ],
   "source": [
    "pets = ['cat','dog','duck','ferret']\n",
    "meow, *bark, squick = pets\n",
    "print(meow)\n",
    "print(*bark)\n",
    "print(squick)"
   ]
  },
  {
   "cell_type": "code",
   "execution_count": 11,
   "id": "c4cbb12f",
   "metadata": {},
   "outputs": [
    {
     "name": "stdout",
     "output_type": "stream",
     "text": [
      "cat\n",
      "dog duck\n",
      "ferret\n"
     ]
    }
   ],
   "source": [
    "pets = ('cat','dog','duck','ferret')\n",
    "meow, *bark, squick = pets\n",
    "print(meow)\n",
    "print(*bark)\n",
    "print(squick)"
   ]
  },
  {
   "cell_type": "code",
   "execution_count": 12,
   "id": "2ebf1a71",
   "metadata": {},
   "outputs": [
    {
     "name": "stdout",
     "output_type": "stream",
     "text": [
      "duck\n",
      "ferret cat\n",
      "dog\n"
     ]
    }
   ],
   "source": [
    "pets = {'cat','dog','duck','ferret'}\n",
    "meow, *bark, squick = pets\n",
    "print(meow)\n",
    "print(*bark)\n",
    "print(squick)"
   ]
  },
  {
   "cell_type": "code",
   "execution_count": 13,
   "id": "f335dcbc",
   "metadata": {
    "scrolled": true
   },
   "outputs": [
    {
     "data": {
      "text/plain": [
       "{'', 1, False, 'hi'}"
      ]
     },
     "execution_count": 13,
     "metadata": {},
     "output_type": "execute_result"
    }
   ],
   "source": [
    "set1"
   ]
  },
  {
   "cell_type": "code",
   "execution_count": 14,
   "id": "f786fc6b",
   "metadata": {},
   "outputs": [
    {
     "ename": "ValueError",
     "evalue": "too many values to unpack (expected 2)",
     "output_type": "error",
     "traceback": [
      "\u001b[1;31m---------------------------------------------------------------------------\u001b[0m",
      "\u001b[1;31mValueError\u001b[0m                                Traceback (most recent call last)",
      "\u001b[1;32m<ipython-input-14-5655249af576>\u001b[0m in \u001b[0;36m<module>\u001b[1;34m\u001b[0m\n\u001b[1;32m----> 1\u001b[1;33m \u001b[0ma\u001b[0m\u001b[1;33m,\u001b[0m\u001b[0mb\u001b[0m \u001b[1;33m=\u001b[0m \u001b[0mset1\u001b[0m\u001b[1;33m\u001b[0m\u001b[1;33m\u001b[0m\u001b[0m\n\u001b[0m\u001b[0;32m      2\u001b[0m \u001b[0ma\u001b[0m\u001b[1;33m,\u001b[0m\u001b[0mb\u001b[0m\u001b[1;33m\u001b[0m\u001b[1;33m\u001b[0m\u001b[0m\n",
      "\u001b[1;31mValueError\u001b[0m: too many values to unpack (expected 2)"
     ]
    }
   ],
   "source": [
    "a,b = set1\n",
    "a,b"
   ]
  },
  {
   "cell_type": "code",
   "execution_count": null,
   "id": "0b60263a",
   "metadata": {},
   "outputs": [],
   "source": [
    "list1 = [1,'hi',True, False,'']\n",
    "a,b,c,d,e = list1\n",
    "a,b,c,d,e"
   ]
  },
  {
   "cell_type": "markdown",
   "id": "f07884ec",
   "metadata": {},
   "source": [
    "## Alternative container: frozenset\n",
    "A frozenset object is a set that, once created, cannot be changed. We create a frozenset in Python using the `frozenset([iterable])` constructor, providing an iterable as input.\n",
    "\n",
    "Since frozensets are *immutable*, they do not accept the methods that modify sets in-place such as add, pop, or remove. As shown below, trying to add an element to a frozenset raises an exception (`AttributeError`).\n",
    "\n",
    "\n",
    "Unlike sets, frozensets can be used as keys in a dictionary or as elements of another set.\n",
    "\n"
   ]
  },
  {
   "cell_type": "code",
   "execution_count": 15,
   "id": "5a307709",
   "metadata": {},
   "outputs": [
    {
     "name": "stdout",
     "output_type": "stream",
     "text": [
      "{'Valencia', 'Madrid', 'Munich'}\n"
     ]
    }
   ],
   "source": [
    "cities = {'Valencia', 'Madrid'}\n",
    "cities.add('Munich')\n",
    "print(cities)"
   ]
  },
  {
   "cell_type": "code",
   "execution_count": 16,
   "id": "c55e296c",
   "metadata": {},
   "outputs": [
    {
     "ename": "AttributeError",
     "evalue": "'frozenset' object has no attribute 'add'",
     "output_type": "error",
     "traceback": [
      "\u001b[1;31m---------------------------------------------------------------------------\u001b[0m",
      "\u001b[1;31mAttributeError\u001b[0m                            Traceback (most recent call last)",
      "\u001b[1;32m<ipython-input-16-9810d40a011a>\u001b[0m in \u001b[0;36m<module>\u001b[1;34m\u001b[0m\n\u001b[0;32m      2\u001b[0m \u001b[1;33m\u001b[0m\u001b[0m\n\u001b[0;32m      3\u001b[0m \u001b[1;31m# frozensets are immutable\u001b[0m\u001b[1;33m\u001b[0m\u001b[1;33m\u001b[0m\u001b[1;33m\u001b[0m\u001b[0m\n\u001b[1;32m----> 4\u001b[1;33m \u001b[0mcities_frozen\u001b[0m\u001b[1;33m.\u001b[0m\u001b[0madd\u001b[0m\u001b[1;33m(\u001b[0m\u001b[1;34m'Kharkiv'\u001b[0m\u001b[1;33m)\u001b[0m\u001b[1;33m\u001b[0m\u001b[1;33m\u001b[0m\u001b[0m\n\u001b[0m",
      "\u001b[1;31mAttributeError\u001b[0m: 'frozenset' object has no attribute 'add'"
     ]
    }
   ],
   "source": [
    "cities_frozen = frozenset(['Barcelona', 'Berlin'])\n",
    "\n",
    "# frozensets are immutable \n",
    "cities_frozen.add('Kharkiv')"
   ]
  },
  {
   "cell_type": "markdown",
   "id": "d67c9861",
   "metadata": {},
   "source": [
    "*Unlike sets, frozensets can be used as keys in a dictionary or as elements of another set.*"
   ]
  },
  {
   "cell_type": "markdown",
   "id": "6d9f0b1a",
   "metadata": {},
   "source": [
    "### Example 1: \n",
    "Codewars kata: https://www.codewars.com/kata/604287495a72ae00131685c7\n",
    "\n",
    "We will call a natural number a \"doubleton number\" if it contains exactly two distinct digits. For example, 23, 35, 100, 12121 are doubleton numbers, and 123 and 9980 are not.\n",
    "\n",
    "For a given natural number n (from 1 to 1 000 000), you need to find the next doubleton number. If n itself is a doubleton, return the next bigger than n.\n",
    "\n",
    "Examples:\n",
    "- doubleton(120) == 121\n",
    "- doubleton(1234) == 1311\n",
    "- doubleton(10) == 12"
   ]
  },
  {
   "cell_type": "code",
   "execution_count": 17,
   "id": "2fff580e",
   "metadata": {},
   "outputs": [
    {
     "data": {
      "text/plain": [
       "{'1', '2', '3', '4', '5'}"
      ]
     },
     "execution_count": 17,
     "metadata": {},
     "output_type": "execute_result"
    }
   ],
   "source": [
    "a = 12435435\n",
    "set(str(a))"
   ]
  },
  {
   "cell_type": "code",
   "execution_count": 18,
   "id": "9832ab0c",
   "metadata": {},
   "outputs": [],
   "source": [
    "def doubleton(num):\n",
    "    for i in range (num + 1, 1000000+1):\n",
    "        if len(set(str(i))) == 2:\n",
    "            return i\n"
   ]
  },
  {
   "cell_type": "code",
   "execution_count": 19,
   "id": "cba7dc08",
   "metadata": {},
   "outputs": [],
   "source": [
    "assert doubleton(120) == 121, 'Wrong result for 120. It should be 121'\n",
    "assert doubleton(1234)== 1311, 'Wrong result for 1234. It should be 1311'\n",
    "assert doubleton(10) == 12, 'Wrong result for 10. It should be 12'\n",
    "assert doubleton(1) == 10, 'Wrong result for 1. It should be 10' \n",
    "assert doubleton(111) == 112, 'Wrong result for 111. It should be 112'"
   ]
  },
  {
   "cell_type": "markdown",
   "id": "264dbda1",
   "metadata": {},
   "source": [
    "## List, dictionary,set comprehentions and generators expressions"
   ]
  },
  {
   "cell_type": "markdown",
   "id": "1bdf9c90",
   "metadata": {},
   "source": [
    "From previous lecture we know about list comprehentions"
   ]
  },
  {
   "cell_type": "code",
   "execution_count": 20,
   "id": "62c258f7",
   "metadata": {},
   "outputs": [
    {
     "data": {
      "text/plain": [
       "[0.0,\n",
       " 0.8414709848078965,\n",
       " 0.9092974268256817,\n",
       " 0.1411200080598672,\n",
       " -0.7568024953079282,\n",
       " -0.9589242746631385,\n",
       " -0.27941549819892586,\n",
       " 0.6569865987187891,\n",
       " 0.9893582466233818,\n",
       " 0.4121184852417566]"
      ]
     },
     "execution_count": 20,
     "metadata": {},
     "output_type": "execute_result"
    }
   ],
   "source": [
    "import math\n",
    "[math.sin(i) for i in range(10)]"
   ]
  },
  {
   "cell_type": "code",
   "execution_count": 21,
   "id": "b61e6636",
   "metadata": {},
   "outputs": [
    {
     "data": {
      "text/plain": [
       "[0.8414709848078965,\n",
       " 0.1411200080598672,\n",
       " -0.9589242746631385,\n",
       " 0.6569865987187891,\n",
       " 0.4121184852417566]"
      ]
     },
     "execution_count": 21,
     "metadata": {},
     "output_type": "execute_result"
    }
   ],
   "source": [
    "[math.sin(i) for i in range(10) if i%2 ]"
   ]
  },
  {
   "cell_type": "code",
   "execution_count": 22,
   "id": "93636f88",
   "metadata": {},
   "outputs": [
    {
     "data": {
      "text/plain": [
       "[1.0,\n",
       " 0.8414709848078965,\n",
       " -0.4161468365471424,\n",
       " 0.1411200080598672,\n",
       " -0.6536436208636119,\n",
       " -0.9589242746631385,\n",
       " 0.960170286650366,\n",
       " 0.6569865987187891,\n",
       " -0.14550003380861354,\n",
       " 0.4121184852417566]"
      ]
     },
     "execution_count": 22,
     "metadata": {},
     "output_type": "execute_result"
    }
   ],
   "source": [
    "[math.sin(i) if i%2 else math.cos(i) for i in range(10)] "
   ]
  },
  {
   "cell_type": "markdown",
   "id": "5b4a28ab",
   "metadata": {},
   "source": [
    "### Set comprehension\n",
    "is a method for creating sets in python using the elements from other iterables like lists, sets, or tuples. Just like we use list comprehension to create lists, we can use set comprehension instead of for loop to create a new set and add elements to it.  \n",
    "\n",
    "Syntax\n",
    "```Python\n",
    "newSet= { expression for element in  iterable } \n",
    "```\n"
   ]
  },
  {
   "cell_type": "code",
   "execution_count": 23,
   "id": "d37e1c53",
   "metadata": {},
   "outputs": [
    {
     "data": {
      "text/plain": [
       "{1, 4, 9, 16, 25, 36, 49, 64, 81, 100}"
      ]
     },
     "execution_count": 23,
     "metadata": {},
     "output_type": "execute_result"
    }
   ],
   "source": [
    "set1 = {1,2,3,4,5,6,7,8,9,10}\n",
    "{n**2 for n in set1}"
   ]
  },
  {
   "cell_type": "code",
   "execution_count": 24,
   "id": "cd5e8f4c",
   "metadata": {},
   "outputs": [
    {
     "data": {
      "text/plain": [
       "{36, 49, 64, 81, 100}"
      ]
     },
     "execution_count": 24,
     "metadata": {},
     "output_type": "execute_result"
    }
   ],
   "source": [
    "{n**2 for n in set1 if n >5}"
   ]
  },
  {
   "cell_type": "code",
   "execution_count": 25,
   "id": "0d9ba402",
   "metadata": {},
   "outputs": [
    {
     "data": {
      "text/plain": [
       "{1, 2, 3, 4, 5, 36, 49, 64, 81, 100}"
      ]
     },
     "execution_count": 25,
     "metadata": {},
     "output_type": "execute_result"
    }
   ],
   "source": [
    "{n**2 if n >5 else n for n in set1 }"
   ]
  },
  {
   "cell_type": "markdown",
   "id": "25528198",
   "metadata": {},
   "source": [
    "### Python Dictionary Comprehension"
   ]
  },
  {
   "cell_type": "code",
   "execution_count": 26,
   "id": "ac9714a5",
   "metadata": {},
   "outputs": [
    {
     "data": {
      "text/plain": [
       "{1: 1, 2: 4, 3: 9, 4: 16, 5: 25, 6: 36, 7: 49, 8: 64, 9: 81, 10: 100}"
      ]
     },
     "execution_count": 26,
     "metadata": {},
     "output_type": "execute_result"
    }
   ],
   "source": [
    "{n: n**2 for n in set1}"
   ]
  },
  {
   "cell_type": "code",
   "execution_count": 27,
   "id": "3f8bce5e",
   "metadata": {},
   "outputs": [
    {
     "data": {
      "text/plain": [
       "{'1': 1, '3': 9, '5': 25, '7': 49, '9': 81}"
      ]
     },
     "execution_count": 27,
     "metadata": {},
     "output_type": "execute_result"
    }
   ],
   "source": [
    "dict1 = {str(n): n**2 for n in set1 if n%2}\n",
    "dict1"
   ]
  },
  {
   "cell_type": "code",
   "execution_count": 28,
   "id": "16b87d1d",
   "metadata": {},
   "outputs": [
    {
     "data": {
      "text/plain": [
       "{'1': 2, '3': 18, '5': 50, '7': 98, '9': 162}"
      ]
     },
     "execution_count": 28,
     "metadata": {},
     "output_type": "execute_result"
    }
   ],
   "source": [
    "double_dict1 = {k:v*2 for (k,v) in dict1.items()}\n",
    "double_dict1"
   ]
  },
  {
   "cell_type": "markdown",
   "id": "e40ecf7c",
   "metadata": {},
   "source": [
    "### Python Generator Expression"
   ]
  },
  {
   "cell_type": "markdown",
   "id": "ab5acfc8",
   "metadata": {},
   "source": [
    "The syntax for generator expression is similar to that of a list comprehension in Python. But the square brackets are replaced with round parentheses."
   ]
  },
  {
   "cell_type": "code",
   "execution_count": 29,
   "id": "4e023ee4",
   "metadata": {
    "scrolled": true
   },
   "outputs": [
    {
     "data": {
      "text/plain": [
       "{1, 2, 3, 4, 5, 6, 7, 8, 9, 10}"
      ]
     },
     "execution_count": 29,
     "metadata": {},
     "output_type": "execute_result"
    }
   ],
   "source": [
    "set1"
   ]
  },
  {
   "cell_type": "code",
   "execution_count": 30,
   "id": "443dd5ef",
   "metadata": {},
   "outputs": [
    {
     "data": {
      "text/plain": [
       "[1, 4, 9, 16, 25, 36, 49, 64, 81, 100]"
      ]
     },
     "execution_count": 30,
     "metadata": {},
     "output_type": "execute_result"
    }
   ],
   "source": [
    "[n**2 for n in set1]"
   ]
  },
  {
   "cell_type": "code",
   "execution_count": 31,
   "id": "ea4ef2ec",
   "metadata": {},
   "outputs": [
    {
     "data": {
      "text/plain": [
       "<generator object <genexpr> at 0x0000000005B11E48>"
      ]
     },
     "execution_count": 31,
     "metadata": {},
     "output_type": "execute_result"
    }
   ],
   "source": [
    "a = (n**2 for n in set1)\n",
    "a"
   ]
  },
  {
   "cell_type": "markdown",
   "id": "e586350a",
   "metadata": {},
   "source": [
    "The major difference between a list comprehension and a generator expression is that a list comprehension produces the entire list while the generator expression produces one item at a time.\n",
    "\n",
    "They have lazy execution ( producing items only when asked for ). For this reason, a generator expression is much more memory efficient than an equivalent list comprehension."
   ]
  },
  {
   "cell_type": "markdown",
   "id": "c4eef7b6",
   "metadata": {},
   "source": [
    "Here is how we can start getting items from the generator:"
   ]
  },
  {
   "cell_type": "code",
   "execution_count": 32,
   "id": "1d1d4ffe",
   "metadata": {},
   "outputs": [
    {
     "name": "stdout",
     "output_type": "stream",
     "text": [
      "1\n",
      "4\n"
     ]
    }
   ],
   "source": [
    "print(next(a))\n",
    "print(next(a))"
   ]
  },
  {
   "cell_type": "code",
   "execution_count": 33,
   "id": "3b846877",
   "metadata": {},
   "outputs": [
    {
     "name": "stdout",
     "output_type": "stream",
     "text": [
      "9\n"
     ]
    }
   ],
   "source": [
    "print(next(a))"
   ]
  },
  {
   "cell_type": "code",
   "execution_count": 34,
   "id": "ad288fb4",
   "metadata": {},
   "outputs": [
    {
     "name": "stdout",
     "output_type": "stream",
     "text": [
      "16\n",
      "25\n",
      "36\n",
      "49\n",
      "64\n",
      "81\n",
      "100\n"
     ]
    }
   ],
   "source": [
    "# we can use for loop\n",
    "# in this case we start where we stoped previously\n",
    "for i in a:\n",
    "    print(i)"
   ]
  },
  {
   "cell_type": "code",
   "execution_count": 35,
   "id": "250377f3",
   "metadata": {},
   "outputs": [
    {
     "data": {
      "text/plain": [
       "[1, 4, 9, 16, 25, 36, 49, 64, 81, 100]"
      ]
     },
     "execution_count": 35,
     "metadata": {},
     "output_type": "execute_result"
    }
   ],
   "source": [
    "a = (n**2 for n in set1)\n",
    "list(a)"
   ]
  },
  {
   "cell_type": "code",
   "execution_count": 36,
   "id": "e397280f",
   "metadata": {
    "scrolled": true
   },
   "outputs": [
    {
     "data": {
      "text/plain": [
       "[]"
      ]
     },
     "execution_count": 36,
     "metadata": {},
     "output_type": "execute_result"
    }
   ],
   "source": [
    "# if we try again we get an emply list\n",
    "list(a)"
   ]
  },
  {
   "cell_type": "code",
   "execution_count": 37,
   "id": "3b0c5663",
   "metadata": {
    "scrolled": true
   },
   "outputs": [
    {
     "data": {
      "text/plain": [
       "[1, 4, 9, 16, 25, 36, 49, 64, 81, 100]"
      ]
     },
     "execution_count": 37,
     "metadata": {},
     "output_type": "execute_result"
    }
   ],
   "source": [
    "a = [n**2 for n in set1]\n",
    "a"
   ]
  },
  {
   "cell_type": "code",
   "execution_count": 38,
   "id": "f8399405",
   "metadata": {},
   "outputs": [
    {
     "data": {
      "text/plain": [
       "[1, 4, 9, 16, 25, 36, 49, 64, 81, 100]"
      ]
     },
     "execution_count": 38,
     "metadata": {},
     "output_type": "execute_result"
    }
   ],
   "source": [
    "a"
   ]
  },
  {
   "cell_type": "code",
   "execution_count": 39,
   "id": "29b0f255",
   "metadata": {},
   "outputs": [
    {
     "data": {
      "text/plain": [
       "[1, 4, 9, 16, 25, 36, 49, 64, 81, 100]"
      ]
     },
     "execution_count": 39,
     "metadata": {},
     "output_type": "execute_result"
    }
   ],
   "source": [
    "a"
   ]
  },
  {
   "cell_type": "code",
   "execution_count": 40,
   "id": "2512831d",
   "metadata": {},
   "outputs": [
    {
     "data": {
      "text/plain": [
       "['15',\n",
       " '16',\n",
       " '17',\n",
       " '18',\n",
       " '25',\n",
       " '26',\n",
       " '27',\n",
       " '28',\n",
       " '35',\n",
       " '36',\n",
       " '37',\n",
       " '38',\n",
       " '45',\n",
       " '46',\n",
       " '47',\n",
       " '48']"
      ]
     },
     "execution_count": 40,
     "metadata": {},
     "output_type": "execute_result"
    }
   ],
   "source": [
    "# also we use list comprehension with more than 1 parameter:\n",
    "a = [str(i)+str(j) for i in range(1,5) for j in range(5,9)]\n",
    "a"
   ]
  },
  {
   "cell_type": "code",
   "execution_count": 41,
   "id": "57a6de3f",
   "metadata": {},
   "outputs": [
    {
     "data": {
      "text/plain": [
       "[('5', '1'),\n",
       " ('6', '1'),\n",
       " ('7', '1'),\n",
       " ('8', '1'),\n",
       " ('5', '2'),\n",
       " ('6', '2'),\n",
       " ('7', '2'),\n",
       " ('8', '2'),\n",
       " ('5', '3'),\n",
       " ('6', '3'),\n",
       " ('7', '3'),\n",
       " ('8', '3'),\n",
       " ('5', '4'),\n",
       " ('6', '4'),\n",
       " ('7', '4'),\n",
       " ('8', '4')]"
      ]
     },
     "execution_count": 41,
     "metadata": {},
     "output_type": "execute_result"
    }
   ],
   "source": [
    "a = [(str(i),str(j)) for j in range(1,5) for i in range(5,9)]\n",
    "a"
   ]
  },
  {
   "cell_type": "code",
   "execution_count": 42,
   "id": "fddcc55a",
   "metadata": {},
   "outputs": [
    {
     "data": {
      "text/plain": [
       "[['15', '25', '35', '45'],\n",
       " ['16', '26', '36', '46'],\n",
       " ['17', '27', '37', '47'],\n",
       " ['18', '28', '38', '48']]"
      ]
     },
     "execution_count": 42,
     "metadata": {},
     "output_type": "execute_result"
    }
   ],
   "source": [
    "b = [[str(i)+str(j) for i in range(1,5)] for j in range(5,9)]\n",
    "b"
   ]
  },
  {
   "cell_type": "code",
   "execution_count": 43,
   "id": "667b07c7",
   "metadata": {},
   "outputs": [
    {
     "data": {
      "text/plain": [
       "[['15', '16', '17', '18'],\n",
       " ['25', '26', '27', '28'],\n",
       " ['35', '36', '37', '38'],\n",
       " ['45', '46', '47', '48']]"
      ]
     },
     "execution_count": 43,
     "metadata": {},
     "output_type": "execute_result"
    }
   ],
   "source": [
    "c = [[str(i)+str(j) for j in range(5,9)] for i in range(1,5)]\n",
    "c"
   ]
  },
  {
   "cell_type": "markdown",
   "id": "09248597",
   "metadata": {},
   "source": [
    "### Nested Data structures"
   ]
  },
  {
   "cell_type": "markdown",
   "id": "f8be24a1",
   "metadata": {},
   "source": [
    "Python supports nested data structures."
   ]
  },
  {
   "cell_type": "code",
   "execution_count": 44,
   "id": "5b40e2e8",
   "metadata": {},
   "outputs": [
    {
     "data": {
      "text/plain": [
       "[[1, 2], [3, 4, 5], [6]]"
      ]
     },
     "execution_count": 44,
     "metadata": {},
     "output_type": "execute_result"
    }
   ],
   "source": [
    "#We can create list of lists (nested list)\n",
    "nested_l = [[1,2],[3,4,5],[6]]\n",
    "nested_l"
   ]
  },
  {
   "cell_type": "code",
   "execution_count": 45,
   "id": "3e80e7c9",
   "metadata": {},
   "outputs": [
    {
     "data": {
      "text/plain": [
       "((1, 2), (3, 4, 5), 6)"
      ]
     },
     "execution_count": 45,
     "metadata": {},
     "output_type": "execute_result"
    }
   ],
   "source": [
    "# or nested tuples\n",
    "nested_t = ((1,2),(3,4,5),(6))\n",
    "nested_t"
   ]
  },
  {
   "cell_type": "code",
   "execution_count": 46,
   "id": "48ace660",
   "metadata": {},
   "outputs": [
    {
     "data": {
      "text/plain": [
       "{'family': {'humans': {'mother': 'Hanna',\n",
       "   'father': 'John',\n",
       "   'kids': ['Mark', 'Mary']},\n",
       "  'pets': {'cat': 'Mars', 'dog': 'Snikers'}}}"
      ]
     },
     "execution_count": 46,
     "metadata": {},
     "output_type": "execute_result"
    }
   ],
   "source": [
    "# or nested dict\n",
    "nested_d = {'family':\n",
    "                {'humans':\n",
    "                         {'mother':'Hanna',\n",
    "                          'father':'John',\n",
    "                          'kids':['Mark','Mary']},\n",
    "                 'pets':\n",
    "                        {'cat':'Mars',\n",
    "                         'dog':'Snikers'}\n",
    "                }\n",
    "         }\n",
    "nested_d"
   ]
  },
  {
   "cell_type": "code",
   "execution_count": 47,
   "id": "50e83248",
   "metadata": {},
   "outputs": [
    {
     "ename": "TypeError",
     "evalue": "unhashable type: 'set'",
     "output_type": "error",
     "traceback": [
      "\u001b[1;31m---------------------------------------------------------------------------\u001b[0m",
      "\u001b[1;31mTypeError\u001b[0m                                 Traceback (most recent call last)",
      "\u001b[1;32m<ipython-input-47-9f1982714577>\u001b[0m in \u001b[0;36m<module>\u001b[1;34m\u001b[0m\n\u001b[0;32m      1\u001b[0m \u001b[1;31m# but we cannot create nested set\u001b[0m\u001b[1;33m\u001b[0m\u001b[1;33m\u001b[0m\u001b[1;33m\u001b[0m\u001b[0m\n\u001b[1;32m----> 2\u001b[1;33m \u001b[1;33m{\u001b[0m\u001b[1;33m{\u001b[0m\u001b[1;36m1\u001b[0m\u001b[1;33m,\u001b[0m\u001b[1;36m2\u001b[0m\u001b[1;33m}\u001b[0m\u001b[1;33m,\u001b[0m\u001b[1;33m{\u001b[0m\u001b[1;36m1\u001b[0m\u001b[1;33m,\u001b[0m\u001b[1;36m2\u001b[0m\u001b[1;33m}\u001b[0m\u001b[1;33m}\u001b[0m\u001b[1;33m\u001b[0m\u001b[1;33m\u001b[0m\u001b[0m\n\u001b[0m",
      "\u001b[1;31mTypeError\u001b[0m: unhashable type: 'set'"
     ]
    }
   ],
   "source": [
    "# but we cannot create nested set\n",
    "{{1,2},{1,2}}"
   ]
  },
  {
   "cell_type": "code",
   "execution_count": 48,
   "id": "599b22d3",
   "metadata": {},
   "outputs": [
    {
     "data": {
      "text/plain": [
       "{frozenset({1, 2}), frozenset({1, 2, 3})}"
      ]
     },
     "execution_count": 48,
     "metadata": {},
     "output_type": "execute_result"
    }
   ],
   "source": [
    "{frozenset([1,2]),frozenset((1,2,3))}"
   ]
  },
  {
   "cell_type": "markdown",
   "id": "7cd65775",
   "metadata": {},
   "source": [
    "We can combine several data structures to create a nested one"
   ]
  },
  {
   "cell_type": "code",
   "execution_count": 49,
   "id": "c5012ae4",
   "metadata": {},
   "outputs": [
    {
     "data": {
      "text/plain": [
       "[{'species': 'cat', 'name': 'Brownie', 'age': '5'},\n",
       " {'species': 'dog', 'name': 'Mylo', 'age': '3'},\n",
       " {'species': 'hamster', 'name': 'Pie', 'age': '5'}]"
      ]
     },
     "execution_count": 49,
     "metadata": {},
     "output_type": "execute_result"
    }
   ],
   "source": [
    "pets = [\n",
    "        {'species':'cat',\n",
    "        'name':'Brownie',\n",
    "        'age':'5'},\n",
    "    \n",
    "        {'species':'dog',\n",
    "        'name':'Mylo',\n",
    "        'age':'3'},\n",
    "    \n",
    "        {'species':'hamster',\n",
    "        'name':'Pie',\n",
    "        'age':'5'} \n",
    "]\n",
    "pets"
   ]
  },
  {
   "cell_type": "markdown",
   "id": "c8f18385",
   "metadata": {},
   "source": [
    "Get access to the item of nested data "
   ]
  },
  {
   "cell_type": "code",
   "execution_count": 50,
   "id": "4d9fd851",
   "metadata": {},
   "outputs": [
    {
     "data": {
      "text/plain": [
       "3"
      ]
     },
     "execution_count": 50,
     "metadata": {},
     "output_type": "execute_result"
    }
   ],
   "source": [
    "len(pets)"
   ]
  },
  {
   "cell_type": "code",
   "execution_count": 51,
   "id": "247c6bbe",
   "metadata": {},
   "outputs": [
    {
     "data": {
      "text/plain": [
       "list"
      ]
     },
     "execution_count": 51,
     "metadata": {},
     "output_type": "execute_result"
    }
   ],
   "source": [
    "type(pets)"
   ]
  },
  {
   "cell_type": "code",
   "execution_count": 52,
   "id": "f0c7f2ac",
   "metadata": {},
   "outputs": [
    {
     "data": {
      "text/plain": [
       "{'species': 'cat', 'name': 'Brownie', 'age': '5'}"
      ]
     },
     "execution_count": 52,
     "metadata": {},
     "output_type": "execute_result"
    }
   ],
   "source": [
    "pets[0]"
   ]
  },
  {
   "cell_type": "code",
   "execution_count": 53,
   "id": "e28b4e2f",
   "metadata": {},
   "outputs": [
    {
     "data": {
      "text/plain": [
       "dict"
      ]
     },
     "execution_count": 53,
     "metadata": {},
     "output_type": "execute_result"
    }
   ],
   "source": [
    "type(pets[0])"
   ]
  },
  {
   "cell_type": "code",
   "execution_count": 54,
   "id": "fb2cca57",
   "metadata": {},
   "outputs": [
    {
     "data": {
      "text/plain": [
       "'Brownie'"
      ]
     },
     "execution_count": 54,
     "metadata": {},
     "output_type": "execute_result"
    }
   ],
   "source": [
    "pets[0]['name']"
   ]
  },
  {
   "cell_type": "code",
   "execution_count": 55,
   "id": "36040bf8",
   "metadata": {},
   "outputs": [
    {
     "data": {
      "text/plain": [
       "3"
      ]
     },
     "execution_count": 55,
     "metadata": {},
     "output_type": "execute_result"
    }
   ],
   "source": [
    "len(pets[2])"
   ]
  },
  {
   "cell_type": "code",
   "execution_count": 56,
   "id": "e624a19c",
   "metadata": {},
   "outputs": [
    {
     "data": {
      "text/plain": [
       "[[1, 2], [3, 4, 5], [6]]"
      ]
     },
     "execution_count": 56,
     "metadata": {},
     "output_type": "execute_result"
    }
   ],
   "source": [
    "nested_l"
   ]
  },
  {
   "cell_type": "code",
   "execution_count": 57,
   "id": "754259b9",
   "metadata": {},
   "outputs": [
    {
     "name": "stdout",
     "output_type": "stream",
     "text": [
      "2\n",
      "3\n",
      "1\n"
     ]
    }
   ],
   "source": [
    "for i in nested_l:\n",
    "    print(len(i))"
   ]
  },
  {
   "cell_type": "code",
   "execution_count": 58,
   "id": "77893faf",
   "metadata": {},
   "outputs": [
    {
     "name": "stdout",
     "output_type": "stream",
     "text": [
      "1 2 \n",
      "3 4 5 \n",
      "6 \n"
     ]
    }
   ],
   "source": [
    "for row in nested_l:\n",
    "    for i in row:\n",
    "        print(i, end=' ')\n",
    "    print()"
   ]
  },
  {
   "cell_type": "code",
   "execution_count": 59,
   "id": "1a6a1041",
   "metadata": {},
   "outputs": [
    {
     "ename": "IndexError",
     "evalue": "list index out of range",
     "output_type": "error",
     "traceback": [
      "\u001b[1;31m---------------------------------------------------------------------------\u001b[0m",
      "\u001b[1;31mIndexError\u001b[0m                                Traceback (most recent call last)",
      "\u001b[1;32m<ipython-input-59-1a8bcf8133c3>\u001b[0m in \u001b[0;36m<module>\u001b[1;34m\u001b[0m\n\u001b[0;32m      1\u001b[0m \u001b[1;31m# To get access to the element\u001b[0m\u001b[1;33m\u001b[0m\u001b[1;33m\u001b[0m\u001b[1;33m\u001b[0m\u001b[0m\n\u001b[1;32m----> 2\u001b[1;33m \u001b[0mnested_l\u001b[0m\u001b[1;33m[\u001b[0m\u001b[1;36m0\u001b[0m\u001b[1;33m]\u001b[0m\u001b[1;33m[\u001b[0m\u001b[1;36m2\u001b[0m\u001b[1;33m]\u001b[0m\u001b[1;33m\u001b[0m\u001b[1;33m\u001b[0m\u001b[0m\n\u001b[0m",
      "\u001b[1;31mIndexError\u001b[0m: list index out of range"
     ]
    }
   ],
   "source": [
    "# To get access to the element\n",
    "nested_l[0][2]"
   ]
  },
  {
   "cell_type": "code",
   "execution_count": 60,
   "id": "9eebaaad",
   "metadata": {},
   "outputs": [
    {
     "data": {
      "text/plain": [
       "{'family': {'humans': {'mother': 'Hanna',\n",
       "   'father': 'John',\n",
       "   'kids': ['Mark', 'Mary']},\n",
       "  'pets': {'cat': 'Mars', 'dog': 'Snikers'}}}"
      ]
     },
     "execution_count": 60,
     "metadata": {},
     "output_type": "execute_result"
    }
   ],
   "source": [
    "nested_d"
   ]
  },
  {
   "cell_type": "code",
   "execution_count": 61,
   "id": "87a2d1d5",
   "metadata": {},
   "outputs": [
    {
     "data": {
      "text/plain": [
       "1"
      ]
     },
     "execution_count": 61,
     "metadata": {},
     "output_type": "execute_result"
    }
   ],
   "source": [
    "len(nested_d)"
   ]
  },
  {
   "cell_type": "code",
   "execution_count": 62,
   "id": "ff046e1a",
   "metadata": {},
   "outputs": [
    {
     "data": {
      "text/plain": [
       "'Mary'"
      ]
     },
     "execution_count": 62,
     "metadata": {},
     "output_type": "execute_result"
    }
   ],
   "source": [
    "# to get access to the second kid\n",
    "nested_d['family']['humans']['kids'][1]"
   ]
  },
  {
   "cell_type": "code",
   "execution_count": 63,
   "id": "f604d46c",
   "metadata": {},
   "outputs": [
    {
     "data": {
      "text/plain": [
       "dict"
      ]
     },
     "execution_count": 63,
     "metadata": {},
     "output_type": "execute_result"
    }
   ],
   "source": [
    "type(nested_d['family'])"
   ]
  },
  {
   "cell_type": "code",
   "execution_count": 64,
   "id": "c697aa0d",
   "metadata": {},
   "outputs": [
    {
     "data": {
      "text/plain": [
       "list"
      ]
     },
     "execution_count": 64,
     "metadata": {},
     "output_type": "execute_result"
    }
   ],
   "source": [
    "type(nested_d['family']['humans']['kids'])"
   ]
  },
  {
   "cell_type": "markdown",
   "id": "f9782e0f",
   "metadata": {},
   "source": [
    "### Example: Create a weather app using `openweatherapp` API"
   ]
  },
  {
   "attachments": {
    "image.png": {
     "image/png": "[encoded data removed]"
    }
   },
   "cell_type": "markdown",
   "id": "45c6d92a",
   "metadata": {},
   "source": [
    "An API (Application programming interfaces) is a set of programming code that enables data transmission between one software product and another. It also contains the terms of this data exchange.\n",
    "\n",
    "![image.png](attachment:image.png)\n",
    "\n",
    "APIs let your product or service communicate with other products and services without having to know how they’re implemented. \n",
    " \n"
   ]
  },
  {
   "cell_type": "markdown",
   "id": "a6902e58",
   "metadata": {},
   "source": [
    "Open and register on https://openweathermap.org/\n",
    "\n",
    "Go to API web-page: https://openweathermap.org/api\n",
    "\n",
    "Press API doc for Current Weather Data and scroll down to Built-in API request by city name - there is some code there:\n",
    "```Python\n",
    "https://api.openweathermap.org/data/2.5/weather?q={city name}&appid={API key}\n",
    "   ```"
   ]
  },
  {
   "attachments": {
    "image-3.png": {
     "image/png": "[encoded data removed]"
    }
   },
   "cell_type": "markdown",
   "id": "a0e71d1c",
   "metadata": {},
   "source": [
    "Go to your account to get API key  \n",
    "\n",
    "![image-3.png](attachment:image-3.png)"
   ]
  },
  {
   "cell_type": "markdown",
   "id": "a852ce63",
   "metadata": {},
   "source": [
    "To send the request from the app Python has a module Requests - https://requests.readthedocs.io/en/latest/\n",
    "\n",
    "\"Requests is an elegant and simple HTTP library for Python, built for human beings.\""
   ]
  },
  {
   "cell_type": "markdown",
   "id": "e06cc2ac",
   "metadata": {},
   "source": [
    "1) Go to the terminal and run \n",
    "```\n",
    "pip list\n",
    "```\n",
    "to check all intalled modules\n",
    "\n",
    "2) If you do not have **requests** module installed, run \n",
    "```\n",
    "pip install requests\n",
    "```\n"
   ]
  },
  {
   "cell_type": "code",
   "execution_count": 65,
   "id": "95ab1ceb",
   "metadata": {},
   "outputs": [
    {
     "name": "stdout",
     "output_type": "stream",
     "text": [
      "Enter a city: Kharkiv\n",
      "{'coord': {'lon': 36.25, 'lat': 50}, 'weather': [{'id': 804, 'main': 'Clouds', 'description': 'overcast clouds', 'icon': '04d'}], 'base': 'stations', 'main': {'temp': 275.04, 'feels_like': 270.27, 'temp_min': 275.04, 'temp_max': 275.04, 'pressure': 1013, 'humidity': 72, 'sea_level': 1013, 'grnd_level': 994}, 'visibility': 10000, 'wind': {'speed': 5.63, 'deg': 269, 'gust': 9.51}, 'clouds': {'all': 99}, 'dt': 1669196527, 'sys': {'country': 'UA', 'sunrise': 1669179605, 'sunset': 1669210976}, 'timezone': 7200, 'id': 706483, 'name': 'Kharkiv', 'cod': 200}\n"
     ]
    }
   ],
   "source": [
    "import requests\n",
    "\n",
    "city = input(\"Enter a city: \")\n",
    "\n",
    "API_key = 'c124fdaaa610d8f8091ce555740c7cd8'\n",
    "url = f'https://api.openweathermap.org/data/2.5/weather?q={city}&appid={API_key}'\n",
    "\n",
    "response = requests.get(url).json()\n",
    "\n",
    "if response['cod'] == 200:\n",
    "    print(response)\n",
    "else:\n",
    "    print(\"Something went wrong\")"
   ]
  },
  {
   "cell_type": "markdown",
   "id": "85dd0f53",
   "metadata": {},
   "source": [
    "Let's app some functionality"
   ]
  },
  {
   "cell_type": "code",
   "execution_count": 66,
   "id": "2dff76b7",
   "metadata": {
    "scrolled": true
   },
   "outputs": [
    {
     "name": "stdout",
     "output_type": "stream",
     "text": [
      "Enter a city: Lviv\n",
      "\n",
      "Weather: overcast clouds \n",
      "Temperature: 0.4 \n"
     ]
    }
   ],
   "source": [
    "import requests\n",
    "\n",
    "city = input('Enter a city: ')\n",
    "API_key = 'c124fdaaa610d8f8091ce555740c7cd8'\n",
    "\n",
    "url = f'https://api.openweathermap.org/data/2.5/weather?q={city}&appid={API_key}'\n",
    "\n",
    "response = requests.get(url).json()\n",
    "\n",
    "if response['cod'] == 200:\n",
    "    state = response['weather'][0]['description']\n",
    "    print(f\"\\nWeather: {state} \")\n",
    "    temp = round(response['main']['temp'] - 273.15,1)\n",
    "    print(f\"Temperature: {temp} \")\n",
    "else:\n",
    "    print(\"Something went wrong\")\n"
   ]
  },
  {
   "cell_type": "markdown",
   "id": "2a287344",
   "metadata": {},
   "source": [
    "## Try and Except in Python"
   ]
  },
  {
   "cell_type": "markdown",
   "id": "6fa11682",
   "metadata": {},
   "source": [
    "Python has built-in exceptions which can output an error. If an error occurs while running the program, it’s called an exception.\n",
    "\n",
    "If an exception occurs, the type of exception is shown. Exceptions needs to be dealt with or the program will crash. To handle exceptions, the try-catch block is used."
   ]
  },
  {
   "cell_type": "markdown",
   "id": "c4413935",
   "metadata": {},
   "source": [
    "The `try except` statement can handle exceptions. Exceptions may happen when you run a program.\n",
    "\n",
    "Exceptions are errors that happen during execution of the program. A Python program terminates as soon as it encounters an error. In Python, an error can be a syntax error or an exception. \n",
    "\n",
    "*An abrupt exit is bad for both the end user and developer.*\n",
    "\n",
    "Instead of an emergency halt, you can use a try except statement to properly deal with the problem. An emergency halt will happen if you do not properly handle exceptions.\n",
    "\n",
    "In fact we already know some kind og exceptions"
   ]
  },
  {
   "cell_type": "code",
   "execution_count": 67,
   "id": "fddbba2c",
   "metadata": {
    "scrolled": true
   },
   "outputs": [
    {
     "ename": "ZeroDivisionError",
     "evalue": "division by zero",
     "output_type": "error",
     "traceback": [
      "\u001b[1;31m---------------------------------------------------------------------------\u001b[0m",
      "\u001b[1;31mZeroDivisionError\u001b[0m                         Traceback (most recent call last)",
      "\u001b[1;32m<ipython-input-67-6c16767f6731>\u001b[0m in \u001b[0;36m<module>\u001b[1;34m\u001b[0m\n\u001b[1;32m----> 1\u001b[1;33m \u001b[0ma\u001b[0m \u001b[1;33m=\u001b[0m \u001b[1;36m1\u001b[0m\u001b[1;33m/\u001b[0m\u001b[1;36m0\u001b[0m\u001b[1;33m\u001b[0m\u001b[1;33m\u001b[0m\u001b[0m\n\u001b[0m",
      "\u001b[1;31mZeroDivisionError\u001b[0m: division by zero"
     ]
    }
   ],
   "source": [
    "a = 1/0"
   ]
  },
  {
   "cell_type": "code",
   "execution_count": 68,
   "id": "91e1e647",
   "metadata": {},
   "outputs": [
    {
     "ename": "KeyError",
     "evalue": "'c'",
     "output_type": "error",
     "traceback": [
      "\u001b[1;31m---------------------------------------------------------------------------\u001b[0m",
      "\u001b[1;31mKeyError\u001b[0m                                  Traceback (most recent call last)",
      "\u001b[1;32m<ipython-input-68-bd6808b4aae1>\u001b[0m in \u001b[0;36m<module>\u001b[1;34m\u001b[0m\n\u001b[0;32m      1\u001b[0m \u001b[0ma\u001b[0m \u001b[1;33m=\u001b[0m \u001b[1;33m{\u001b[0m\u001b[1;34m'a'\u001b[0m\u001b[1;33m:\u001b[0m\u001b[1;36m1\u001b[0m\u001b[1;33m,\u001b[0m\u001b[1;34m'b'\u001b[0m\u001b[1;33m:\u001b[0m\u001b[1;36m2\u001b[0m\u001b[1;33m}\u001b[0m\u001b[1;33m\u001b[0m\u001b[1;33m\u001b[0m\u001b[0m\n\u001b[1;32m----> 2\u001b[1;33m \u001b[0ma\u001b[0m\u001b[1;33m[\u001b[0m\u001b[1;34m'c'\u001b[0m\u001b[1;33m]\u001b[0m\u001b[1;33m\u001b[0m\u001b[1;33m\u001b[0m\u001b[0m\n\u001b[0m",
      "\u001b[1;31mKeyError\u001b[0m: 'c'"
     ]
    }
   ],
   "source": [
    "a = {'a':1,'b':2}\n",
    "a['c']"
   ]
  },
  {
   "cell_type": "code",
   "execution_count": 69,
   "id": "5ca4d1ef",
   "metadata": {},
   "outputs": [
    {
     "ename": "TypeError",
     "evalue": "unhashable type: 'list'",
     "output_type": "error",
     "traceback": [
      "\u001b[1;31m---------------------------------------------------------------------------\u001b[0m",
      "\u001b[1;31mTypeError\u001b[0m                                 Traceback (most recent call last)",
      "\u001b[1;32m<ipython-input-69-abf442ad56c0>\u001b[0m in \u001b[0;36m<module>\u001b[1;34m\u001b[0m\n\u001b[1;32m----> 1\u001b[1;33m \u001b[0ms\u001b[0m \u001b[1;33m=\u001b[0m \u001b[1;33m{\u001b[0m\u001b[1;33m[\u001b[0m\u001b[1;36m1\u001b[0m\u001b[1;33m,\u001b[0m\u001b[1;36m2\u001b[0m\u001b[1;33m]\u001b[0m\u001b[1;33m}\u001b[0m\u001b[1;33m\u001b[0m\u001b[1;33m\u001b[0m\u001b[0m\n\u001b[0m",
      "\u001b[1;31mTypeError\u001b[0m: unhashable type: 'list'"
     ]
    }
   ],
   "source": [
    "s = {[1,2]}"
   ]
  },
  {
   "cell_type": "code",
   "execution_count": 70,
   "id": "859f3e0e",
   "metadata": {},
   "outputs": [
    {
     "ename": "IndexError",
     "evalue": "list index out of range",
     "output_type": "error",
     "traceback": [
      "\u001b[1;31m---------------------------------------------------------------------------\u001b[0m",
      "\u001b[1;31mIndexError\u001b[0m                                Traceback (most recent call last)",
      "\u001b[1;32m<ipython-input-70-134743df6343>\u001b[0m in \u001b[0;36m<module>\u001b[1;34m\u001b[0m\n\u001b[0;32m      1\u001b[0m \u001b[0ma\u001b[0m \u001b[1;33m=\u001b[0m \u001b[1;33m[\u001b[0m\u001b[1;36m1\u001b[0m\u001b[1;33m,\u001b[0m\u001b[1;36m2\u001b[0m\u001b[1;33m,\u001b[0m\u001b[1;36m3\u001b[0m\u001b[1;33m]\u001b[0m\u001b[1;33m\u001b[0m\u001b[1;33m\u001b[0m\u001b[0m\n\u001b[1;32m----> 2\u001b[1;33m \u001b[0ma\u001b[0m\u001b[1;33m[\u001b[0m\u001b[1;36m6\u001b[0m\u001b[1;33m]\u001b[0m\u001b[1;33m\u001b[0m\u001b[1;33m\u001b[0m\u001b[0m\n\u001b[0m",
      "\u001b[1;31mIndexError\u001b[0m: list index out of range"
     ]
    }
   ],
   "source": [
    "a = [1,2,3]\n",
    "a[6]"
   ]
  },
  {
   "cell_type": "code",
   "execution_count": 71,
   "id": "c29df174",
   "metadata": {
    "scrolled": false
   },
   "outputs": [
    {
     "name": "stdout",
     "output_type": "stream",
     "text": [
      "\n"
     ]
    },
    {
     "ename": "TypeError",
     "evalue": "unsupported operand type(s) for /: 'str' and 'int'",
     "output_type": "error",
     "traceback": [
      "\u001b[1;31m---------------------------------------------------------------------------\u001b[0m",
      "\u001b[1;31mTypeError\u001b[0m                                 Traceback (most recent call last)",
      "\u001b[1;32m<ipython-input-71-dfc1abb363d4>\u001b[0m in \u001b[0;36m<module>\u001b[1;34m\u001b[0m\n\u001b[0;32m      1\u001b[0m \u001b[0mx\u001b[0m \u001b[1;33m=\u001b[0m \u001b[0minput\u001b[0m\u001b[1;33m(\u001b[0m\u001b[1;33m)\u001b[0m\u001b[1;33m\u001b[0m\u001b[1;33m\u001b[0m\u001b[0m\n\u001b[1;32m----> 2\u001b[1;33m \u001b[0mx\u001b[0m \u001b[1;33m/\u001b[0m \u001b[1;36m3\u001b[0m\u001b[1;33m\u001b[0m\u001b[1;33m\u001b[0m\u001b[0m\n\u001b[0m",
      "\u001b[1;31mTypeError\u001b[0m: unsupported operand type(s) for /: 'str' and 'int'"
     ]
    }
   ],
   "source": [
    "x = input()\n",
    "x / 3"
   ]
  },
  {
   "cell_type": "code",
   "execution_count": 72,
   "id": "c0610920",
   "metadata": {},
   "outputs": [],
   "source": [
    "def total(a,b):\n",
    "    return a+b"
   ]
  },
  {
   "cell_type": "code",
   "execution_count": 73,
   "id": "3ddb799a",
   "metadata": {},
   "outputs": [
    {
     "ename": "AssertionError",
     "evalue": "The result 2+2 shold be 4",
     "output_type": "error",
     "traceback": [
      "\u001b[1;31m---------------------------------------------------------------------------\u001b[0m",
      "\u001b[1;31mAssertionError\u001b[0m                            Traceback (most recent call last)",
      "\u001b[1;32m<ipython-input-73-af6304df0724>\u001b[0m in \u001b[0;36m<module>\u001b[1;34m\u001b[0m\n\u001b[0;32m      1\u001b[0m \u001b[1;32massert\u001b[0m \u001b[0mtotal\u001b[0m\u001b[1;33m(\u001b[0m\u001b[1;36m1\u001b[0m\u001b[1;33m,\u001b[0m\u001b[1;36m2\u001b[0m\u001b[1;33m)\u001b[0m \u001b[1;33m==\u001b[0m \u001b[1;36m3\u001b[0m\u001b[1;33m,\u001b[0m \u001b[1;34m\"The result 1+2 shold be 3\"\u001b[0m\u001b[1;33m\u001b[0m\u001b[1;33m\u001b[0m\u001b[0m\n\u001b[1;32m----> 2\u001b[1;33m \u001b[1;32massert\u001b[0m \u001b[0mtotal\u001b[0m\u001b[1;33m(\u001b[0m\u001b[1;36m2\u001b[0m\u001b[1;33m,\u001b[0m\u001b[1;36m2\u001b[0m\u001b[1;33m)\u001b[0m \u001b[1;33m==\u001b[0m \u001b[1;36m3\u001b[0m\u001b[1;33m,\u001b[0m \u001b[1;34m\"The result 2+2 shold be 4\"\u001b[0m\u001b[1;33m\u001b[0m\u001b[1;33m\u001b[0m\u001b[0m\n\u001b[0m",
      "\u001b[1;31mAssertionError\u001b[0m: The result 2+2 shold be 4"
     ]
    }
   ],
   "source": [
    "assert total(1,2) == 3, \"The result 1+2 shold be 3\"\n",
    "assert total(2,2) == 3, \"The result 2+2 shold be 4\""
   ]
  },
  {
   "cell_type": "markdown",
   "id": "199ce94a",
   "metadata": {},
   "source": [
    "#### Exceptions versus Syntax Errors\n",
    "Syntax errors occur when the parser detects an incorrect statement. Observe the following example:"
   ]
  },
  {
   "cell_type": "code",
   "execution_count": 74,
   "id": "7cbbab01",
   "metadata": {
    "scrolled": true
   },
   "outputs": [
    {
     "ename": "SyntaxError",
     "evalue": "invalid syntax (<ipython-input-74-1261a988665a>, line 1)",
     "output_type": "error",
     "traceback": [
      "\u001b[1;36m  File \u001b[1;32m\"<ipython-input-74-1261a988665a>\"\u001b[1;36m, line \u001b[1;32m1\u001b[0m\n\u001b[1;33m    if 3 < 5\u001b[0m\n\u001b[1;37m            ^\u001b[0m\n\u001b[1;31mSyntaxError\u001b[0m\u001b[1;31m:\u001b[0m invalid syntax\n"
     ]
    }
   ],
   "source": [
    "if 3 < 5\n",
    "    print(0/0)"
   ]
  },
  {
   "cell_type": "markdown",
   "id": "0a4c67a5",
   "metadata": {},
   "source": [
    "The arrow indicates where the parser ran into the syntax error. In this example, there was no colon. Add it and run your code again:"
   ]
  },
  {
   "cell_type": "code",
   "execution_count": 75,
   "id": "264ee5e2",
   "metadata": {},
   "outputs": [
    {
     "ename": "ZeroDivisionError",
     "evalue": "division by zero",
     "output_type": "error",
     "traceback": [
      "\u001b[1;31m---------------------------------------------------------------------------\u001b[0m",
      "\u001b[1;31mZeroDivisionError\u001b[0m                         Traceback (most recent call last)",
      "\u001b[1;32m<ipython-input-75-da475f9cf9cf>\u001b[0m in \u001b[0;36m<module>\u001b[1;34m\u001b[0m\n\u001b[0;32m      1\u001b[0m \u001b[1;32mif\u001b[0m \u001b[1;36m3\u001b[0m \u001b[1;33m<\u001b[0m \u001b[1;36m5\u001b[0m\u001b[1;33m:\u001b[0m\u001b[1;33m\u001b[0m\u001b[1;33m\u001b[0m\u001b[0m\n\u001b[1;32m----> 2\u001b[1;33m     \u001b[0mprint\u001b[0m\u001b[1;33m(\u001b[0m\u001b[1;36m0\u001b[0m\u001b[1;33m/\u001b[0m\u001b[1;36m0\u001b[0m\u001b[1;33m)\u001b[0m\u001b[1;33m\u001b[0m\u001b[1;33m\u001b[0m\u001b[0m\n\u001b[0m",
      "\u001b[1;31mZeroDivisionError\u001b[0m: division by zero"
     ]
    }
   ],
   "source": [
    "if 3 < 5:\n",
    "    print(0/0)"
   ]
  },
  {
   "cell_type": "markdown",
   "id": "abc7390b",
   "metadata": {},
   "source": [
    "All exceptions in Python inherit from the class BaseException. If you open the Python interactive shell and type the following statement it will list all built-in exceptions:"
   ]
  },
  {
   "cell_type": "code",
   "execution_count": 76,
   "id": "14a0c38a",
   "metadata": {},
   "outputs": [
    {
     "data": {
      "text/plain": [
       "['ArithmeticError',\n",
       " 'AssertionError',\n",
       " 'AttributeError',\n",
       " 'BaseException',\n",
       " 'BlockingIOError',\n",
       " 'BrokenPipeError',\n",
       " 'BufferError',\n",
       " 'BytesWarning',\n",
       " 'ChildProcessError',\n",
       " 'ConnectionAbortedError',\n",
       " 'ConnectionError',\n",
       " 'ConnectionRefusedError',\n",
       " 'ConnectionResetError',\n",
       " 'DeprecationWarning',\n",
       " 'EOFError',\n",
       " 'Ellipsis',\n",
       " 'EnvironmentError',\n",
       " 'Exception',\n",
       " 'False',\n",
       " 'FileExistsError',\n",
       " 'FileNotFoundError',\n",
       " 'FloatingPointError',\n",
       " 'FutureWarning',\n",
       " 'GeneratorExit',\n",
       " 'IOError',\n",
       " 'ImportError',\n",
       " 'ImportWarning',\n",
       " 'IndentationError',\n",
       " 'IndexError',\n",
       " 'InterruptedError',\n",
       " 'IsADirectoryError',\n",
       " 'KeyError',\n",
       " 'KeyboardInterrupt',\n",
       " 'LookupError',\n",
       " 'MemoryError',\n",
       " 'ModuleNotFoundError',\n",
       " 'NameError',\n",
       " 'None',\n",
       " 'NotADirectoryError',\n",
       " 'NotImplemented',\n",
       " 'NotImplementedError',\n",
       " 'OSError',\n",
       " 'OverflowError',\n",
       " 'PendingDeprecationWarning',\n",
       " 'PermissionError',\n",
       " 'ProcessLookupError',\n",
       " 'RecursionError',\n",
       " 'ReferenceError',\n",
       " 'ResourceWarning',\n",
       " 'RuntimeError',\n",
       " 'RuntimeWarning',\n",
       " 'StopAsyncIteration',\n",
       " 'StopIteration',\n",
       " 'SyntaxError',\n",
       " 'SyntaxWarning',\n",
       " 'SystemError',\n",
       " 'SystemExit',\n",
       " 'TabError',\n",
       " 'TimeoutError',\n",
       " 'True',\n",
       " 'TypeError',\n",
       " 'UnboundLocalError',\n",
       " 'UnicodeDecodeError',\n",
       " 'UnicodeEncodeError',\n",
       " 'UnicodeError',\n",
       " 'UnicodeTranslateError',\n",
       " 'UnicodeWarning',\n",
       " 'UserWarning',\n",
       " 'ValueError',\n",
       " 'Warning',\n",
       " 'WindowsError',\n",
       " 'ZeroDivisionError',\n",
       " '__IPYTHON__',\n",
       " '__build_class__',\n",
       " '__debug__',\n",
       " '__doc__',\n",
       " '__import__',\n",
       " '__loader__',\n",
       " '__name__',\n",
       " '__package__',\n",
       " '__spec__',\n",
       " 'abs',\n",
       " 'all',\n",
       " 'any',\n",
       " 'ascii',\n",
       " 'bin',\n",
       " 'bool',\n",
       " 'breakpoint',\n",
       " 'bytearray',\n",
       " 'bytes',\n",
       " 'callable',\n",
       " 'chr',\n",
       " 'classmethod',\n",
       " 'compile',\n",
       " 'complex',\n",
       " 'copyright',\n",
       " 'credits',\n",
       " 'delattr',\n",
       " 'dict',\n",
       " 'dir',\n",
       " 'display',\n",
       " 'divmod',\n",
       " 'enumerate',\n",
       " 'eval',\n",
       " 'exec',\n",
       " 'filter',\n",
       " 'float',\n",
       " 'format',\n",
       " 'frozenset',\n",
       " 'get_ipython',\n",
       " 'getattr',\n",
       " 'globals',\n",
       " 'hasattr',\n",
       " 'hash',\n",
       " 'help',\n",
       " 'hex',\n",
       " 'id',\n",
       " 'input',\n",
       " 'int',\n",
       " 'isinstance',\n",
       " 'issubclass',\n",
       " 'iter',\n",
       " 'len',\n",
       " 'license',\n",
       " 'list',\n",
       " 'locals',\n",
       " 'map',\n",
       " 'max',\n",
       " 'memoryview',\n",
       " 'min',\n",
       " 'next',\n",
       " 'object',\n",
       " 'oct',\n",
       " 'open',\n",
       " 'ord',\n",
       " 'pow',\n",
       " 'print',\n",
       " 'property',\n",
       " 'range',\n",
       " 'repr',\n",
       " 'reversed',\n",
       " 'round',\n",
       " 'set',\n",
       " 'setattr',\n",
       " 'slice',\n",
       " 'sorted',\n",
       " 'staticmethod',\n",
       " 'str',\n",
       " 'sum',\n",
       " 'super',\n",
       " 'tuple',\n",
       " 'type',\n",
       " 'vars',\n",
       " 'zip']"
      ]
     },
     "execution_count": 76,
     "metadata": {},
     "output_type": "execute_result"
    }
   ],
   "source": [
    "dir(__builtins__)"
   ]
  },
  {
   "cell_type": "markdown",
   "id": "03632813",
   "metadata": {},
   "source": [
    "### Built-in exceptions\n",
    "A list of Python's Built-in Exceptions is shown below. This list shows the Exception and why it is thrown (raised).\n",
    "\n",
    "|Exception|\tCause of Error|\n",
    "|---------|---------------|\n",
    "|AssertionError|\tif assert statement fails.|\n",
    "|AttributeError|\tif attribute assignment or reference fails.|\n",
    "|EOFError\t|if the input() functions hits end-of-file condition.|\n",
    "|FloatingPointError|\tif a floating point operation fails.|\n",
    "|GeneratorExit\t|Raise if a generator's close() method is called.|\n",
    "|ImportError|\tif the imported module is not found.|\n",
    "|IndexError\t|if index of a sequence is out of range.|\n",
    "|KeyError\t|if a key is not found in a dictionary.|\n",
    "|KeyboardInterrupt\t|if the user hits interrupt key (Ctrl+c or delete).|\n",
    "|MemoryError|\tif an operation runs out of memory.|\n",
    "|NameError|\tif a variable is not found in local or global scope.|\n",
    "|NotImplementedError|\tby abstract methods.|\n",
    "|OSError\t|if system operation causes system related error.|\n",
    "|OverflowError\t|if result of an arithmetic operation is too large to be represented.|\n",
    "|ReferenceError\t|if a weak reference proxy is used to access a garbage collected referent.|\n",
    "|RuntimeError\t|if an error does not fall under any other category.|\n",
    "|StopIteration|\tby next() function to indicate that there is no further item to be returned by iterator.|\n",
    "|SyntaxError\t|by parser if syntax error is encountered.|\n",
    "|IndentationError\t|if there is incorrect indentation.|\n",
    "|TabError|\tif indentation consists of inconsistent tabs and spaces.|\n",
    "|SystemError\t|if interpreter detects internal error.|\n",
    "|SystemExit|\tby sys.exit() function.|\n",
    "|TypeError|\tif a function or operation is applied to an object of incorrect type.|\n",
    "|UnboundLocalError|\tif a reference is made to a local variable in a function or method, but no value has been bound to that variable.|\n",
    "|UnicodeError|\tif a Unicode-related encoding or decoding error occurs.|\n",
    "|UnicodeEncodeError|\tif a Unicode-related error occurs during encoding.|\n",
    "|UnicodeDecodeError\t|if a Unicode-related error occurs during decoding.|\n",
    "|UnicodeTranslateError\t|if a Unicode-related error occurs during translating.|\n",
    "|ValueError|\tif a function gets argument of correct type but improper value.|\n",
    "|ZeroDivisionError|\tif second operand of division or modulo operation is zero.|"
   ]
  },
  {
   "cell_type": "markdown",
   "id": "9307e1b4",
   "metadata": {},
   "source": [
    "The idea of the try-except clause is to handle exceptions (errors at runtime). The syntax of the try-except block is:\n",
    "```Python\n",
    "try:\n",
    "    <do something>\n",
    "except Exception:\n",
    "    <handle the error>\n",
    "```"
   ]
  },
  {
   "attachments": {
    "image.png": {
     "image/png": "[encoded data removed]"
    }
   },
   "cell_type": "markdown",
   "id": "03014425",
   "metadata": {},
   "source": [
    "The idea of the `try-except` block is this:\n",
    "\n",
    "- `try`: this is the place where you put the code you suspect is risky and may be terminated in case of error; note: this kind of error is called an exception, while **the exception occurrence is called raising** – we can say that an exception is (or was) raised;\n",
    "\n",
    "- `except`: this code is only executed if an exception occured in the try block. The except block is required with a try block, even if it contains only the pass statement.\n",
    "\n",
    "It may be combined with the `else` and `finally` keywords.\n",
    "\n",
    "- `else`: Code in the else block is only executed if no exceptions were raised in the try block.\n",
    "\n",
    "- `finally`: The code in the finally block is always executed, regardless of if a an exception was raised or not.\n",
    "\n",
    "![image.png](attachment:image.png)\n",
    "\n",
    "Any part of the code placed between `try `and `except` is executed in a very special way – any error which occurs here won't terminate program execution. Instead, the control will immediately jump to the first line situated after the except keyword, and no other part of the try branch is executed;\n"
   ]
  },
  {
   "cell_type": "code",
   "execution_count": 77,
   "id": "a5c7e8ee",
   "metadata": {
    "scrolled": true
   },
   "outputs": [
    {
     "name": "stdout",
     "output_type": "stream",
     "text": [
      "Enter a natural number: 34.67\n"
     ]
    },
    {
     "ename": "ValueError",
     "evalue": "invalid literal for int() with base 10: '34.67'",
     "output_type": "error",
     "traceback": [
      "\u001b[1;31m---------------------------------------------------------------------------\u001b[0m",
      "\u001b[1;31mValueError\u001b[0m                                Traceback (most recent call last)",
      "\u001b[1;32m<ipython-input-77-689451a42859>\u001b[0m in \u001b[0;36m<module>\u001b[1;34m\u001b[0m\n\u001b[1;32m----> 1\u001b[1;33m \u001b[0mvalue\u001b[0m \u001b[1;33m=\u001b[0m \u001b[0mint\u001b[0m\u001b[1;33m(\u001b[0m\u001b[0minput\u001b[0m\u001b[1;33m(\u001b[0m\u001b[1;34m'Enter a natural number: '\u001b[0m\u001b[1;33m)\u001b[0m\u001b[1;33m)\u001b[0m\u001b[1;33m\u001b[0m\u001b[1;33m\u001b[0m\u001b[0m\n\u001b[0m\u001b[0;32m      2\u001b[0m \u001b[0mprint\u001b[0m\u001b[1;33m(\u001b[0m\u001b[1;34mf'The reciprocal of {value} is {1/value}'\u001b[0m\u001b[1;33m)\u001b[0m\u001b[1;33m\u001b[0m\u001b[1;33m\u001b[0m\u001b[0m\n",
      "\u001b[1;31mValueError\u001b[0m: invalid literal for int() with base 10: '34.67'"
     ]
    }
   ],
   "source": [
    "value = int(input('Enter a natural number: '))\n",
    "print(f'The reciprocal of {value} is {1/value}') "
   ]
  },
  {
   "cell_type": "code",
   "execution_count": 78,
   "id": "78871f94",
   "metadata": {},
   "outputs": [
    {
     "name": "stdout",
     "output_type": "stream",
     "text": [
      "Enter a natural number: 0\n"
     ]
    },
    {
     "ename": "ZeroDivisionError",
     "evalue": "division by zero",
     "output_type": "error",
     "traceback": [
      "\u001b[1;31m---------------------------------------------------------------------------\u001b[0m",
      "\u001b[1;31mZeroDivisionError\u001b[0m                         Traceback (most recent call last)",
      "\u001b[1;32m<ipython-input-78-689451a42859>\u001b[0m in \u001b[0;36m<module>\u001b[1;34m\u001b[0m\n\u001b[0;32m      1\u001b[0m \u001b[0mvalue\u001b[0m \u001b[1;33m=\u001b[0m \u001b[0mint\u001b[0m\u001b[1;33m(\u001b[0m\u001b[0minput\u001b[0m\u001b[1;33m(\u001b[0m\u001b[1;34m'Enter a natural number: '\u001b[0m\u001b[1;33m)\u001b[0m\u001b[1;33m)\u001b[0m\u001b[1;33m\u001b[0m\u001b[1;33m\u001b[0m\u001b[0m\n\u001b[1;32m----> 2\u001b[1;33m \u001b[0mprint\u001b[0m\u001b[1;33m(\u001b[0m\u001b[1;34mf'The reciprocal of {value} is {1/value}'\u001b[0m\u001b[1;33m)\u001b[0m\u001b[1;33m\u001b[0m\u001b[1;33m\u001b[0m\u001b[0m\n\u001b[0m",
      "\u001b[1;31mZeroDivisionError\u001b[0m: division by zero"
     ]
    }
   ],
   "source": [
    "value = int(input('Enter a natural number: '))\n",
    "print(f'The reciprocal of {value} is {1/value}') "
   ]
  },
  {
   "cell_type": "code",
   "execution_count": 79,
   "id": "9e70dc41",
   "metadata": {},
   "outputs": [
    {
     "name": "stdout",
     "output_type": "stream",
     "text": [
      "Enter a natural number: 3.14\n",
      "I do not know what to do.\n"
     ]
    }
   ],
   "source": [
    "try:\n",
    "    value = int(input('Enter a natural number: '))\n",
    "    print(f'The reciprocal of {value} is {1/value}')        \n",
    "except:\n",
    "    print('I do not know what to do.')"
   ]
  },
  {
   "cell_type": "code",
   "execution_count": 80,
   "id": "577029df",
   "metadata": {},
   "outputs": [
    {
     "name": "stdout",
     "output_type": "stream",
     "text": [
      "Enter a natural number: 0\n",
      "I do not know what to do.\n"
     ]
    }
   ],
   "source": [
    "try:\n",
    "    value = int(input('Enter a natural number: '))\n",
    "    print(f'The reciprocal of {value} is {1/value}')        \n",
    "except:\n",
    "    print('I do not know what to do.')"
   ]
  },
  {
   "cell_type": "markdown",
   "id": "b18add60",
   "metadata": {},
   "source": [
    "### How to deal with more than one exception"
   ]
  },
  {
   "cell_type": "code",
   "execution_count": 81,
   "id": "67171af4",
   "metadata": {},
   "outputs": [
    {
     "name": "stdout",
     "output_type": "stream",
     "text": [
      "Enter a natural number: hello\n",
      "Wrong entered data\n"
     ]
    }
   ],
   "source": [
    "try:\n",
    "    value = int(input('Enter a natural number: '))\n",
    "    print(f'The reciprocal of {value} is {1/value}')        \n",
    "except ValueError:\n",
    "    print('Wrong entered data')    \n",
    "except ZeroDivisionError:\n",
    "    print('Division by zero is not allowed') "
   ]
  },
  {
   "cell_type": "code",
   "execution_count": 82,
   "id": "86422f85",
   "metadata": {},
   "outputs": [
    {
     "name": "stdout",
     "output_type": "stream",
     "text": [
      "Enter a natural number: 0\n",
      "Division by zero is not allowed\n"
     ]
    }
   ],
   "source": [
    "try:\n",
    "    value = int(input('Enter a natural number: '))\n",
    "    print(f'The reciprocal of {value} is {1/value}')        \n",
    "except ValueError:\n",
    "    print('Wrong entered data')    \n",
    "except ZeroDivisionError:\n",
    "\n",
    "    print('Division by zero is not allowed') "
   ]
  },
  {
   "cell_type": "markdown",
   "id": "440cef04",
   "metadata": {},
   "source": [
    "### The default exception\n",
    "Now let's add a third except branch, but this time it has no exception name specified – we can say it's anonymous or (what is closer to its actual role) it's the default. You can expect that when an exception is raised and there is no except branch dedicated to this exception, it will be handled by the default branch.\n",
    "\n",
    "Note: **The default except branch must be the last except branch. Always!**"
   ]
  },
  {
   "cell_type": "code",
   "execution_count": 83,
   "id": "0f13f34b",
   "metadata": {},
   "outputs": [
    {
     "name": "stdout",
     "output_type": "stream",
     "text": [
      "Enter a natural number: 56.89\n",
      "Wrong entered data\n"
     ]
    }
   ],
   "source": [
    "try:\n",
    "    value = int(input('Enter a natural number: '))\n",
    "    print(f'The reciprocal of {value} is {1/value}')\n",
    "except ValueError:\n",
    "    print('Wrong entered data')    \n",
    "except ZeroDivisionError:\n",
    "    print('Division by zero is not allowed')    \n",
    "except:\n",
    "    print('Something strange has happened here... Sorry!')"
   ]
  },
  {
   "cell_type": "markdown",
   "id": "27e0fe38",
   "metadata": {},
   "source": [
    "### `finally` clause\n",
    "Everything in the finally clause will be executed. It does not matter if you encounter an exception somewhere in the `try` or `else` clauses. Running the previous code on a Windows machine would output the following:"
   ]
  },
  {
   "cell_type": "code",
   "execution_count": 84,
   "id": "4c508824",
   "metadata": {},
   "outputs": [
    {
     "name": "stdout",
     "output_type": "stream",
     "text": [
      "Enter a natural number: 0\n",
      "Division by zero is not allowed\n",
      "OK then\n"
     ]
    }
   ],
   "source": [
    "try:\n",
    "    value = int(input('Enter a natural number: '))\n",
    "    print(f'The reciprocal of {value} is {1/value}')          \n",
    "except ValueError:\n",
    "    print('I do not know what to do.')    \n",
    "except ZeroDivisionError:\n",
    "    print('Division by zero is not allowed')    \n",
    "except:\n",
    "    print('Something strange has happened here... Sorry!')\n",
    "finally:\n",
    "    print(\"OK then\")"
   ]
  },
  {
   "cell_type": "markdown",
   "id": "26aadb93",
   "metadata": {},
   "source": [
    "**Note: if we put the code with an error in the `exception` block, the error will still occur!!**"
   ]
  },
  {
   "cell_type": "code",
   "execution_count": 85,
   "id": "51bf6999",
   "metadata": {},
   "outputs": [
    {
     "name": "stdout",
     "output_type": "stream",
     "text": [
      "Enter a natural number: 3.12\n",
      "OK then\n"
     ]
    },
    {
     "ename": "ZeroDivisionError",
     "evalue": "division by zero",
     "output_type": "error",
     "traceback": [
      "\u001b[1;31m---------------------------------------------------------------------------\u001b[0m",
      "\u001b[1;31mValueError\u001b[0m                                Traceback (most recent call last)",
      "\u001b[1;32m<ipython-input-85-4775a790a8f4>\u001b[0m in \u001b[0;36m<module>\u001b[1;34m\u001b[0m\n\u001b[0;32m      1\u001b[0m \u001b[1;32mtry\u001b[0m\u001b[1;33m:\u001b[0m\u001b[1;33m\u001b[0m\u001b[1;33m\u001b[0m\u001b[0m\n\u001b[1;32m----> 2\u001b[1;33m     \u001b[0mvalue\u001b[0m \u001b[1;33m=\u001b[0m \u001b[0mint\u001b[0m\u001b[1;33m(\u001b[0m\u001b[0minput\u001b[0m\u001b[1;33m(\u001b[0m\u001b[1;34m'Enter a natural number: '\u001b[0m\u001b[1;33m)\u001b[0m\u001b[1;33m)\u001b[0m\u001b[1;33m\u001b[0m\u001b[1;33m\u001b[0m\u001b[0m\n\u001b[0m\u001b[0;32m      3\u001b[0m     \u001b[0mprint\u001b[0m\u001b[1;33m(\u001b[0m\u001b[1;34mf'The reciprocal of {value} is {1/value}'\u001b[0m\u001b[1;33m)\u001b[0m\u001b[1;33m\u001b[0m\u001b[1;33m\u001b[0m\u001b[0m\n",
      "\u001b[1;31mValueError\u001b[0m: invalid literal for int() with base 10: '3.12'",
      "\nDuring handling of the above exception, another exception occurred:\n",
      "\u001b[1;31mZeroDivisionError\u001b[0m                         Traceback (most recent call last)",
      "\u001b[1;32m<ipython-input-85-4775a790a8f4>\u001b[0m in \u001b[0;36m<module>\u001b[1;34m\u001b[0m\n\u001b[0;32m      3\u001b[0m     \u001b[0mprint\u001b[0m\u001b[1;33m(\u001b[0m\u001b[1;34mf'The reciprocal of {value} is {1/value}'\u001b[0m\u001b[1;33m)\u001b[0m\u001b[1;33m\u001b[0m\u001b[1;33m\u001b[0m\u001b[0m\n\u001b[0;32m      4\u001b[0m \u001b[1;32mexcept\u001b[0m \u001b[0mValueError\u001b[0m\u001b[1;33m:\u001b[0m\u001b[1;33m\u001b[0m\u001b[1;33m\u001b[0m\u001b[0m\n\u001b[1;32m----> 5\u001b[1;33m     \u001b[1;36m1\u001b[0m\u001b[1;33m/\u001b[0m\u001b[0mvalue\u001b[0m\u001b[1;33m\u001b[0m\u001b[1;33m\u001b[0m\u001b[0m\n\u001b[0m\u001b[0;32m      6\u001b[0m     \u001b[0mprint\u001b[0m\u001b[1;33m(\u001b[0m\u001b[1;34m'I do not know what to do.'\u001b[0m\u001b[1;33m)\u001b[0m\u001b[1;33m\u001b[0m\u001b[1;33m\u001b[0m\u001b[0m\n\u001b[0;32m      7\u001b[0m \u001b[1;32mexcept\u001b[0m \u001b[0mZeroDivisionError\u001b[0m\u001b[1;33m:\u001b[0m\u001b[1;33m\u001b[0m\u001b[1;33m\u001b[0m\u001b[0m\n",
      "\u001b[1;31mZeroDivisionError\u001b[0m: division by zero"
     ]
    }
   ],
   "source": [
    "try:\n",
    "    value = int(input('Enter a natural number: '))\n",
    "    print(f'The reciprocal of {value} is {1/value}')          \n",
    "except ValueError:\n",
    "    1/value\n",
    "    print('I do not know what to do.')    \n",
    "except ZeroDivisionError:\n",
    "    print('Division by zero is not allowed')    \n",
    "except:\n",
    "    print('Something strange has happened here... Sorry!')\n",
    "finally:\n",
    "    print(\"OK then\")"
   ]
  },
  {
   "cell_type": "markdown",
   "id": "5a996b2a",
   "metadata": {},
   "source": [
    "### Raise an exception\n",
    "As a Python developer you can choose to throw an exception if a condition occurs.\n",
    "\n",
    "To throw (or raise) an exception, use the `raise` keyword."
   ]
  },
  {
   "cell_type": "markdown",
   "id": "29fea54f",
   "metadata": {},
   "source": [
    "### Example: \n",
    "Raise an error and stop the program if x is lower than 0:"
   ]
  },
  {
   "cell_type": "code",
   "execution_count": 86,
   "id": "22537f73",
   "metadata": {},
   "outputs": [
    {
     "ename": "Exception",
     "evalue": "Sorry, no numbers below zero",
     "output_type": "error",
     "traceback": [
      "\u001b[1;31m---------------------------------------------------------------------------\u001b[0m",
      "\u001b[1;31mException\u001b[0m                                 Traceback (most recent call last)",
      "\u001b[1;32m<ipython-input-86-38174769ef86>\u001b[0m in \u001b[0;36m<module>\u001b[1;34m\u001b[0m\n\u001b[0;32m      2\u001b[0m \u001b[1;33m\u001b[0m\u001b[0m\n\u001b[0;32m      3\u001b[0m \u001b[1;32mif\u001b[0m \u001b[0mx\u001b[0m \u001b[1;33m<\u001b[0m \u001b[1;36m0\u001b[0m\u001b[1;33m:\u001b[0m\u001b[1;33m\u001b[0m\u001b[1;33m\u001b[0m\u001b[0m\n\u001b[1;32m----> 4\u001b[1;33m     \u001b[1;32mraise\u001b[0m \u001b[0mException\u001b[0m\u001b[1;33m(\u001b[0m\u001b[1;34m\"Sorry, no numbers below zero\"\u001b[0m\u001b[1;33m)\u001b[0m\u001b[1;33m\u001b[0m\u001b[1;33m\u001b[0m\u001b[0m\n\u001b[0m",
      "\u001b[1;31mException\u001b[0m: Sorry, no numbers below zero"
     ]
    }
   ],
   "source": [
    "x = -1\n",
    "\n",
    "if x < 0:\n",
    "    raise Exception(\"Sorry, no numbers below zero\")"
   ]
  },
  {
   "cell_type": "code",
   "execution_count": 87,
   "id": "400738a7",
   "metadata": {},
   "outputs": [
    {
     "ename": "TypeError",
     "evalue": "Only integers are allowed",
     "output_type": "error",
     "traceback": [
      "\u001b[1;31m---------------------------------------------------------------------------\u001b[0m",
      "\u001b[1;31mTypeError\u001b[0m                                 Traceback (most recent call last)",
      "\u001b[1;32m<ipython-input-87-ccce349d0c1d>\u001b[0m in \u001b[0;36m<module>\u001b[1;34m\u001b[0m\n\u001b[0;32m      2\u001b[0m \u001b[1;33m\u001b[0m\u001b[0m\n\u001b[0;32m      3\u001b[0m \u001b[1;32mif\u001b[0m \u001b[0mtype\u001b[0m\u001b[1;33m(\u001b[0m\u001b[0mx\u001b[0m\u001b[1;33m)\u001b[0m \u001b[1;32mis\u001b[0m \u001b[1;32mnot\u001b[0m \u001b[0mint\u001b[0m\u001b[1;33m:\u001b[0m\u001b[1;33m\u001b[0m\u001b[1;33m\u001b[0m\u001b[0m\n\u001b[1;32m----> 4\u001b[1;33m     \u001b[1;32mraise\u001b[0m \u001b[0mTypeError\u001b[0m\u001b[1;33m(\u001b[0m\u001b[1;34m\"Only integers are allowed\"\u001b[0m\u001b[1;33m)\u001b[0m\u001b[1;33m\u001b[0m\u001b[1;33m\u001b[0m\u001b[0m\n\u001b[0m",
      "\u001b[1;31mTypeError\u001b[0m: Only integers are allowed"
     ]
    }
   ],
   "source": [
    "x = \"hello\"\n",
    "\n",
    "if type(x) is not int:\n",
    "    raise TypeError(\"Only integers are allowed\")"
   ]
  },
  {
   "cell_type": "code",
   "execution_count": null,
   "id": "64a3e8bb",
   "metadata": {},
   "outputs": [],
   "source": []
  },
  {
   "cell_type": "code",
   "execution_count": null,
   "id": "69c13566",
   "metadata": {},
   "outputs": [],
   "source": []
  }
 ],
 "metadata": {
  "kernelspec": {
   "display_name": "Python 3",
   "language": "python",
   "name": "python3"
  },
  "language_info": {
   "codemirror_mode": {
    "name": "ipython",
    "version": 3
   },
   "file_extension": ".py",
   "mimetype": "text/x-python",
   "name": "python",
   "nbconvert_exporter": "python",
   "pygments_lexer": "ipython3",
   "version": "3.8.2"
  }
 },
 "nbformat": 4,
 "nbformat_minor": 5
}
