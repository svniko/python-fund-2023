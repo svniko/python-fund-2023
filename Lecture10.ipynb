{
 "cells": [
  {
   "cell_type": "markdown",
   "id": "d19b02e6",
   "metadata": {},
   "source": [
    "<a target=\"_blank\" href=\"https://colab.research.google.com/github/svniko/python-fund-2023/blob/main/Lecture10.ipynb\">\n",
    "  <img src=\"https://colab.research.google.com/assets/colab-badge.svg\" alt=\"Open In Colab\"/>"
   ]
  },
  {
   "cell_type": "markdown",
   "id": "58bba2d1",
   "metadata": {},
   "source": [
    "# Lecture 10"
   ]
  },
  {
   "cell_type": "markdown",
   "id": "3e4fe1b4",
   "metadata": {},
   "source": [
    "# Кортежі"
   ]
  },
  {
   "cell_type": "code",
   "execution_count": 1,
   "id": "57e72840",
   "metadata": {},
   "outputs": [
    {
     "data": {
      "text/plain": [
       "(1, 2, 3, 4)"
      ]
     },
     "execution_count": 1,
     "metadata": {},
     "output_type": "execute_result"
    }
   ],
   "source": [
    "tuple_1 = (1, 2, 3, 4)\n",
    "tuple_1"
   ]
  },
  {
   "cell_type": "code",
   "execution_count": 3,
   "id": "4b9f52a5",
   "metadata": {},
   "outputs": [
    {
     "data": {
      "text/plain": [
       "(1, 2, 3, 4)"
      ]
     },
     "execution_count": 3,
     "metadata": {},
     "output_type": "execute_result"
    }
   ],
   "source": [
    "tuple_1 = 1, 2, 3, 4\n",
    "tuple_1"
   ]
  },
  {
   "cell_type": "code",
   "execution_count": 4,
   "id": "92776620",
   "metadata": {},
   "outputs": [
    {
     "data": {
      "text/plain": [
       "(1, 2.3, [1, 2, 3], 'Hi', (2, 3, 4), {1, 2, 3})"
      ]
     },
     "execution_count": 4,
     "metadata": {},
     "output_type": "execute_result"
    }
   ],
   "source": [
    "tuple_1 = (1, 2.3, [1, 2, 3], 'Hi', (2, 3, 4), {1, 2, 3})\n",
    "tuple_1"
   ]
  },
  {
   "cell_type": "code",
   "execution_count": 5,
   "id": "f072c9dc",
   "metadata": {},
   "outputs": [
    {
     "data": {
      "text/plain": [
       "(1, [1, 2, 3])"
      ]
     },
     "execution_count": 5,
     "metadata": {},
     "output_type": "execute_result"
    }
   ],
   "source": [
    "tuple_1[0], tuple_1[2]"
   ]
  },
  {
   "cell_type": "code",
   "execution_count": 6,
   "id": "cc8cc67b",
   "metadata": {},
   "outputs": [
    {
     "ename": "TypeError",
     "evalue": "'tuple' object does not support item assignment",
     "output_type": "error",
     "traceback": [
      "\u001b[1;31m---------------------------------------------------------------------------\u001b[0m",
      "\u001b[1;31mTypeError\u001b[0m                                 Traceback (most recent call last)",
      "Cell \u001b[1;32mIn[6], line 1\u001b[0m\n\u001b[1;32m----> 1\u001b[0m \u001b[43mtuple_1\u001b[49m\u001b[43m[\u001b[49m\u001b[38;5;241;43m0\u001b[39;49m\u001b[43m]\u001b[49m \u001b[38;5;241m=\u001b[39m \u001b[38;5;241m0\u001b[39m\n",
      "\u001b[1;31mTypeError\u001b[0m: 'tuple' object does not support item assignment"
     ]
    }
   ],
   "source": [
    "tuple_1[0] = 0"
   ]
  },
  {
   "cell_type": "code",
   "execution_count": 7,
   "id": "1414146d",
   "metadata": {},
   "outputs": [
    {
     "data": {
      "text/plain": [
       "(1, 2, 3, 1, 2, 3, 1, 2, 3)"
      ]
     },
     "execution_count": 7,
     "metadata": {},
     "output_type": "execute_result"
    }
   ],
   "source": [
    "tuple_1 = (1, 2, 3, 1, 2, 3, 1, 2, 3)\n",
    "tuple_1"
   ]
  },
  {
   "cell_type": "code",
   "execution_count": 8,
   "id": "3377bb2a",
   "metadata": {},
   "outputs": [
    {
     "data": {
      "text/plain": [
       "tuple"
      ]
     },
     "execution_count": 8,
     "metadata": {},
     "output_type": "execute_result"
    }
   ],
   "source": [
    "empty_tuple = ()\n",
    "type(empty_tuple)"
   ]
  },
  {
   "cell_type": "code",
   "execution_count": 9,
   "id": "a72f06fc",
   "metadata": {},
   "outputs": [
    {
     "data": {
      "text/plain": [
       "(1, 2, 3, 4)"
      ]
     },
     "execution_count": 9,
     "metadata": {},
     "output_type": "execute_result"
    }
   ],
   "source": [
    "tuple([1, 2, 3, 4])"
   ]
  },
  {
   "cell_type": "code",
   "execution_count": 10,
   "id": "dea34d4b",
   "metadata": {},
   "outputs": [
    {
     "data": {
      "text/plain": [
       "(1, 2, 3, 4)"
      ]
     },
     "execution_count": 10,
     "metadata": {},
     "output_type": "execute_result"
    }
   ],
   "source": [
    "tuple((1, 2, 3, 4))"
   ]
  },
  {
   "cell_type": "code",
   "execution_count": 11,
   "id": "1c50c460",
   "metadata": {},
   "outputs": [
    {
     "data": {
      "text/plain": [
       "('P', 'y', 't', 'h', 'o', 'n')"
      ]
     },
     "execution_count": 11,
     "metadata": {},
     "output_type": "execute_result"
    }
   ],
   "source": [
    "tuple('Python')"
   ]
  },
  {
   "cell_type": "code",
   "execution_count": 12,
   "id": "4e6c09a9",
   "metadata": {},
   "outputs": [
    {
     "data": {
      "text/plain": [
       "('P',\n",
       " 'y',\n",
       " 't',\n",
       " 'h',\n",
       " 'o',\n",
       " 'n',\n",
       " ' ',\n",
       " 'F',\n",
       " 'u',\n",
       " 'n',\n",
       " 'd',\n",
       " 'a',\n",
       " 'm',\n",
       " 'e',\n",
       " 'n',\n",
       " 't',\n",
       " 'a',\n",
       " 'l',\n",
       " 's')"
      ]
     },
     "execution_count": 12,
     "metadata": {},
     "output_type": "execute_result"
    }
   ],
   "source": [
    "tuple('Python Fundamentals')"
   ]
  },
  {
   "cell_type": "code",
   "execution_count": 13,
   "id": "ca66a076",
   "metadata": {},
   "outputs": [
    {
     "data": {
      "text/plain": [
       "1"
      ]
     },
     "execution_count": 13,
     "metadata": {},
     "output_type": "execute_result"
    }
   ],
   "source": [
    "not_one_element_tuple = (1)\n",
    "not_one_element_tuple"
   ]
  },
  {
   "cell_type": "code",
   "execution_count": 14,
   "id": "6ae81405",
   "metadata": {},
   "outputs": [
    {
     "data": {
      "text/plain": [
       "(1,)"
      ]
     },
     "execution_count": 14,
     "metadata": {},
     "output_type": "execute_result"
    }
   ],
   "source": [
    "one_element_tuple = (1, )\n",
    "one_element_tuple"
   ]
  },
  {
   "cell_type": "code",
   "execution_count": 15,
   "id": "5593583e",
   "metadata": {},
   "outputs": [
    {
     "data": {
      "text/plain": [
       "(1,)"
      ]
     },
     "execution_count": 15,
     "metadata": {},
     "output_type": "execute_result"
    }
   ],
   "source": [
    "one_element_tuple = 1, \n",
    "one_element_tuple"
   ]
  },
  {
   "cell_type": "code",
   "execution_count": 16,
   "id": "baaaa691",
   "metadata": {},
   "outputs": [
    {
     "name": "stdout",
     "output_type": "stream",
     "text": [
      "1\n",
      "10000\n",
      "(10, 100, 1000, 10000)\n",
      "(1, 10, 100)\n",
      "(1, 100, 10000)\n",
      "(10000, 100, 1)\n",
      "\n",
      "\n",
      "1\n",
      "10\n",
      "100\n",
      "1000\n",
      "10000\n"
     ]
    }
   ],
   "source": [
    "my_tuple = (1, 10, 100, 1000, 10000)\n",
    "\n",
    "print(my_tuple[0])\n",
    "print(my_tuple[-1])\n",
    "print(my_tuple[1:])\n",
    "print(my_tuple[:-2])\n",
    "print(my_tuple[::2])\n",
    "print(my_tuple[::-2])\n",
    "print('\\n')\n",
    "for elem in my_tuple:\n",
    "    print(elem)\n"
   ]
  },
  {
   "cell_type": "code",
   "execution_count": 17,
   "id": "d2a53767",
   "metadata": {},
   "outputs": [
    {
     "data": {
      "text/plain": [
       "5"
      ]
     },
     "execution_count": 17,
     "metadata": {},
     "output_type": "execute_result"
    }
   ],
   "source": [
    "len(my_tuple)"
   ]
  },
  {
   "cell_type": "markdown",
   "id": "fc2d1423",
   "metadata": {},
   "source": [
    "# Оператори кортежів"
   ]
  },
  {
   "cell_type": "code",
   "execution_count": 18,
   "id": "ef3da117",
   "metadata": {},
   "outputs": [
    {
     "data": {
      "text/plain": [
       "(1, 2, 3, '4')"
      ]
     },
     "execution_count": 18,
     "metadata": {},
     "output_type": "execute_result"
    }
   ],
   "source": [
    "(1, 2) + (3, '4')"
   ]
  },
  {
   "cell_type": "code",
   "execution_count": 20,
   "id": "cfe3ec7e",
   "metadata": {},
   "outputs": [
    {
     "name": "stdout",
     "output_type": "stream",
     "text": [
      "21811688\n",
      "115853664\n"
     ]
    },
    {
     "data": {
      "text/plain": [
       "(1, 2, 3, '4')"
      ]
     },
     "execution_count": 20,
     "metadata": {},
     "output_type": "execute_result"
    }
   ],
   "source": [
    "tuple_1 = (1, 2)\n",
    "print(id(tuple_1))\n",
    "tuple_2 = (3, '4')\n",
    "tuple_1 = tuple_1 + tuple_2\n",
    "print(id(tuple_1))\n",
    "tuple_1"
   ]
  },
  {
   "cell_type": "code",
   "execution_count": 21,
   "id": "cb68a099",
   "metadata": {},
   "outputs": [
    {
     "data": {
      "text/plain": [
       "('cat', 'dog', 'hamster', 'cat', 'dog', 'hamster', 'cat', 'dog', 'hamster')"
      ]
     },
     "execution_count": 21,
     "metadata": {},
     "output_type": "execute_result"
    }
   ],
   "source": [
    "pets = ('cat', 'dog', 'hamster')\n",
    "my_tuple = pets * 3\n",
    "my_tuple"
   ]
  },
  {
   "cell_type": "markdown",
   "id": "d331d8e3",
   "metadata": {},
   "source": [
    "in \n",
    "not in"
   ]
  },
  {
   "cell_type": "code",
   "execution_count": 23,
   "id": "d4284fc8",
   "metadata": {},
   "outputs": [
    {
     "data": {
      "text/plain": [
       "False"
      ]
     },
     "execution_count": 23,
     "metadata": {},
     "output_type": "execute_result"
    }
   ],
   "source": [
    "'cow' in pets"
   ]
  },
  {
   "cell_type": "code",
   "execution_count": 24,
   "id": "10d4295e",
   "metadata": {},
   "outputs": [
    {
     "data": {
      "text/plain": [
       "True"
      ]
     },
     "execution_count": 24,
     "metadata": {},
     "output_type": "execute_result"
    }
   ],
   "source": [
    "'cow' not in pets"
   ]
  },
  {
   "cell_type": "code",
   "execution_count": 25,
   "id": "10a4af64",
   "metadata": {},
   "outputs": [
    {
     "ename": "TypeError",
     "evalue": "'tuple' object does not support item assignment",
     "output_type": "error",
     "traceback": [
      "\u001b[1;31m---------------------------------------------------------------------------\u001b[0m",
      "\u001b[1;31mTypeError\u001b[0m                                 Traceback (most recent call last)",
      "Cell \u001b[1;32mIn[25], line 1\u001b[0m\n\u001b[1;32m----> 1\u001b[0m \u001b[43mpets\u001b[49m\u001b[43m[\u001b[49m\u001b[38;5;241;43m0\u001b[39;49m\u001b[43m]\u001b[49m \u001b[38;5;241m=\u001b[39m \u001b[38;5;124m'\u001b[39m\u001b[38;5;124mduck\u001b[39m\u001b[38;5;124m'\u001b[39m\n",
      "\u001b[1;31mTypeError\u001b[0m: 'tuple' object does not support item assignment"
     ]
    }
   ],
   "source": [
    "pets[0] = 'duck'"
   ]
  },
  {
   "cell_type": "code",
   "execution_count": null,
   "id": "7ba26d53",
   "metadata": {},
   "outputs": [],
   "source": [
    "- у список\n",
    "- змінити список\n",
    "- у кортеж"
   ]
  },
  {
   "cell_type": "code",
   "execution_count": 26,
   "id": "f2a4f371",
   "metadata": {},
   "outputs": [
    {
     "data": {
      "text/plain": [
       "('cat', 'dog', 'hamster')"
      ]
     },
     "execution_count": 26,
     "metadata": {},
     "output_type": "execute_result"
    }
   ],
   "source": [
    "pets"
   ]
  },
  {
   "cell_type": "code",
   "execution_count": 28,
   "id": "84e4e059",
   "metadata": {},
   "outputs": [
    {
     "name": "stdout",
     "output_type": "stream",
     "text": [
      "20976232\n",
      "115863784\n"
     ]
    },
    {
     "data": {
      "text/plain": [
       "('duck', 'dog', 'hamster')"
      ]
     },
     "execution_count": 28,
     "metadata": {},
     "output_type": "execute_result"
    }
   ],
   "source": [
    "print(id(pets))\n",
    "pets_list = list(pets)\n",
    "pets_list[0] = 'duck'\n",
    "pets = tuple(pets_list)\n",
    "print(id(pets))\n",
    "pets"
   ]
  },
  {
   "cell_type": "markdown",
   "id": "c8e34ae9",
   "metadata": {},
   "source": [
    "# Розпакування"
   ]
  },
  {
   "cell_type": "code",
   "execution_count": 30,
   "id": "03758225",
   "metadata": {},
   "outputs": [
    {
     "data": {
      "text/plain": [
       "('duck', 'dog', 'hamster')"
      ]
     },
     "execution_count": 30,
     "metadata": {},
     "output_type": "execute_result"
    }
   ],
   "source": [
    "pets"
   ]
  },
  {
   "cell_type": "code",
   "execution_count": 33,
   "id": "e47292a2",
   "metadata": {},
   "outputs": [
    {
     "name": "stdout",
     "output_type": "stream",
     "text": [
      "duck\n",
      "dog\n",
      "hamster\n"
     ]
    }
   ],
   "source": [
    "quack, bark, squeak = pets\n",
    "print(quack)\n",
    "print(bark)\n",
    "print(squeak)"
   ]
  },
  {
   "cell_type": "code",
   "execution_count": 34,
   "id": "0abc26e5",
   "metadata": {},
   "outputs": [
    {
     "ename": "ValueError",
     "evalue": "too many values to unpack (expected 2)",
     "output_type": "error",
     "traceback": [
      "\u001b[1;31m---------------------------------------------------------------------------\u001b[0m",
      "\u001b[1;31mValueError\u001b[0m                                Traceback (most recent call last)",
      "Cell \u001b[1;32mIn[34], line 1\u001b[0m\n\u001b[1;32m----> 1\u001b[0m quack, bark \u001b[38;5;241m=\u001b[39m pets\n",
      "\u001b[1;31mValueError\u001b[0m: too many values to unpack (expected 2)"
     ]
    }
   ],
   "source": [
    "quack, bark = pets"
   ]
  },
  {
   "cell_type": "code",
   "execution_count": 35,
   "id": "5f2136c2",
   "metadata": {},
   "outputs": [
    {
     "ename": "ValueError",
     "evalue": "not enough values to unpack (expected 4, got 3)",
     "output_type": "error",
     "traceback": [
      "\u001b[1;31m---------------------------------------------------------------------------\u001b[0m",
      "\u001b[1;31mValueError\u001b[0m                                Traceback (most recent call last)",
      "Cell \u001b[1;32mIn[35], line 1\u001b[0m\n\u001b[1;32m----> 1\u001b[0m quack, bark, squeak, buzz \u001b[38;5;241m=\u001b[39m pets\n",
      "\u001b[1;31mValueError\u001b[0m: not enough values to unpack (expected 4, got 3)"
     ]
    }
   ],
   "source": [
    "quack, bark, squeak, buzz = pets"
   ]
  },
  {
   "cell_type": "code",
   "execution_count": 36,
   "id": "26f5de10",
   "metadata": {},
   "outputs": [
    {
     "name": "stdout",
     "output_type": "stream",
     "text": [
      "cat\n",
      "dog\n",
      "['hamster', 'guinea pig', 'duck', 'ferret']\n"
     ]
    }
   ],
   "source": [
    "pets = ('cat', 'dog', 'hamster', 'guinea pig', 'duck', 'ferret')\n",
    "meow, bark, *squeak = pets\n",
    "print(meow)\n",
    "print(bark)\n",
    "print(squeak)"
   ]
  },
  {
   "cell_type": "code",
   "execution_count": 37,
   "id": "1df8764f",
   "metadata": {},
   "outputs": [
    {
     "name": "stdout",
     "output_type": "stream",
     "text": [
      "cat\n",
      "['dog', 'hamster', 'guinea pig', 'duck']\n",
      "ferret\n"
     ]
    }
   ],
   "source": [
    "meow, *bark, squeak = pets\n",
    "print(meow)\n",
    "print(bark)\n",
    "print(squeak)"
   ]
  },
  {
   "cell_type": "code",
   "execution_count": 41,
   "id": "ed91823b",
   "metadata": {},
   "outputs": [
    {
     "name": "stdout",
     "output_type": "stream",
     "text": [
      "cat\n",
      "dog\n",
      "['hamster', 'guinea pig', 'duck', 'ferret']\n"
     ]
    }
   ],
   "source": [
    "pets = ['cat', 'dog', 'hamster', 'guinea pig', 'duck', 'ferret']\n",
    "meow, bark, *squeak = pets\n",
    "print(meow)\n",
    "print(bark)\n",
    "print(squeak)"
   ]
  },
  {
   "cell_type": "code",
   "execution_count": 42,
   "id": "b1e195e7",
   "metadata": {},
   "outputs": [
    {
     "name": "stdout",
     "output_type": "stream",
     "text": [
      "hamster\n",
      "duck\n",
      "['cat', 'guinea pig', 'ferret', 'dog']\n"
     ]
    }
   ],
   "source": [
    "pets = {'cat', 'dog', 'hamster', 'guinea pig', 'duck', 'ferret'}\n",
    "meow, bark, *squeak = pets\n",
    "print(meow)\n",
    "print(bark)\n",
    "print(squeak)"
   ]
  },
  {
   "cell_type": "code",
   "execution_count": 43,
   "id": "545fc6f2",
   "metadata": {},
   "outputs": [
    {
     "data": {
      "text/plain": [
       "['__add__',\n",
       " '__class__',\n",
       " '__contains__',\n",
       " '__delattr__',\n",
       " '__dir__',\n",
       " '__doc__',\n",
       " '__eq__',\n",
       " '__format__',\n",
       " '__ge__',\n",
       " '__getattribute__',\n",
       " '__getitem__',\n",
       " '__getnewargs__',\n",
       " '__gt__',\n",
       " '__hash__',\n",
       " '__init__',\n",
       " '__init_subclass__',\n",
       " '__iter__',\n",
       " '__le__',\n",
       " '__len__',\n",
       " '__lt__',\n",
       " '__mul__',\n",
       " '__ne__',\n",
       " '__new__',\n",
       " '__reduce__',\n",
       " '__reduce_ex__',\n",
       " '__repr__',\n",
       " '__rmul__',\n",
       " '__setattr__',\n",
       " '__sizeof__',\n",
       " '__str__',\n",
       " '__subclasshook__',\n",
       " 'count',\n",
       " 'index']"
      ]
     },
     "execution_count": 43,
     "metadata": {},
     "output_type": "execute_result"
    }
   ],
   "source": [
    "dir(tuple)"
   ]
  },
  {
   "cell_type": "code",
   "execution_count": 45,
   "id": "6507e7ca",
   "metadata": {},
   "outputs": [
    {
     "data": {
      "text/plain": [
       "3"
      ]
     },
     "execution_count": 45,
     "metadata": {},
     "output_type": "execute_result"
    }
   ],
   "source": [
    "tuple_1 = ('a', 'b', 'b', 'c', 'c', 'c')\n",
    "tuple_1.count('c')"
   ]
  },
  {
   "cell_type": "code",
   "execution_count": 47,
   "id": "02b82128",
   "metadata": {},
   "outputs": [
    {
     "name": "stdout",
     "output_type": "stream",
     "text": [
      "2\n"
     ]
    }
   ],
   "source": [
    "print(tuple_1.index('b', 2))"
   ]
  },
  {
   "cell_type": "code",
   "execution_count": 48,
   "id": "24e3c387",
   "metadata": {},
   "outputs": [],
   "source": [
    "def min_max(lst):\n",
    "    return min(lst), max(lst)\n"
   ]
  },
  {
   "cell_type": "code",
   "execution_count": 50,
   "id": "2b1a0914",
   "metadata": {},
   "outputs": [
    {
     "data": {
      "text/plain": [
       "(-24, 100)"
      ]
     },
     "execution_count": 50,
     "metadata": {},
     "output_type": "execute_result"
    }
   ],
   "source": [
    "list_1 = [100, 2, 3, 4 ,5, 34, -24, 0]\n",
    "min_max(list_1)"
   ]
  },
  {
   "cell_type": "code",
   "execution_count": 52,
   "id": "9a170e30",
   "metadata": {},
   "outputs": [
    {
     "name": "stdout",
     "output_type": "stream",
     "text": [
      "-24\n",
      "100\n"
     ]
    }
   ],
   "source": [
    "min_1, max_1 = min_max(list_1)\n",
    "print(min_1)\n",
    "print(max_1)"
   ]
  },
  {
   "cell_type": "code",
   "execution_count": 54,
   "id": "5c3f46de",
   "metadata": {},
   "outputs": [
    {
     "name": "stdout",
     "output_type": "stream",
     "text": [
      "(-24, 100)\n"
     ]
    }
   ],
   "source": [
    "min_2 = min_max(list_1)\n",
    "print(min_2)\n"
   ]
  },
  {
   "cell_type": "code",
   "execution_count": 56,
   "id": "7f8d00e0",
   "metadata": {},
   "outputs": [
    {
     "data": {
      "text/plain": [
       "-24"
      ]
     },
     "execution_count": 56,
     "metadata": {},
     "output_type": "execute_result"
    }
   ],
   "source": [
    "min_3 = min_2[0]\n",
    "min_3"
   ]
  },
  {
   "cell_type": "code",
   "execution_count": 58,
   "id": "c214ac01",
   "metadata": {},
   "outputs": [
    {
     "name": "stdout",
     "output_type": "stream",
     "text": [
      "-24\n"
     ]
    }
   ],
   "source": [
    "min_4, *_ = min_max(list_1)\n",
    "print(min_4)"
   ]
  },
  {
   "cell_type": "code",
   "execution_count": 61,
   "id": "d78424f8",
   "metadata": {},
   "outputs": [],
   "source": [
    "def min_max_sum(lst):\n",
    "    return min(lst), max(lst), sum(lst)\n"
   ]
  },
  {
   "cell_type": "code",
   "execution_count": 63,
   "id": "e815eed2",
   "metadata": {},
   "outputs": [
    {
     "name": "stdout",
     "output_type": "stream",
     "text": [
      "-24\n",
      "100\n"
     ]
    }
   ],
   "source": [
    "min_1, max_1, _ = min_max_sum(list_1)\n",
    "print(min_1)\n",
    "print(max_1)"
   ]
  },
  {
   "cell_type": "code",
   "execution_count": 64,
   "id": "66c6f74b",
   "metadata": {},
   "outputs": [
    {
     "name": "stdout",
     "output_type": "stream",
     "text": [
      "-24\n",
      "100\n",
      "124\n"
     ]
    }
   ],
   "source": [
    "min_1, max_1, sum_1 = min_max_sum(list_1)\n",
    "print(min_1)\n",
    "print(max_1)\n",
    "print(sum_1)"
   ]
  },
  {
   "cell_type": "code",
   "execution_count": 66,
   "id": "aa29c9ac",
   "metadata": {},
   "outputs": [
    {
     "data": {
      "text/plain": [
       "('cat', 'dog', 'hamster', 'guinea pig', 'duck', 'ferret')"
      ]
     },
     "execution_count": 66,
     "metadata": {},
     "output_type": "execute_result"
    }
   ],
   "source": [
    "pets = ('cat', 'dog', 'hamster', 'guinea pig', 'duck', 'ferret')\n",
    "pets"
   ]
  },
  {
   "cell_type": "code",
   "execution_count": 67,
   "id": "4fe18ed3",
   "metadata": {},
   "outputs": [
    {
     "name": "stdout",
     "output_type": "stream",
     "text": [
      "cat\n",
      "dog\n",
      "hamster\n",
      "guinea pig\n",
      "duck\n",
      "ferret\n"
     ]
    }
   ],
   "source": [
    "for pet in pets:\n",
    "    print(pet)"
   ]
  },
  {
   "cell_type": "code",
   "execution_count": 68,
   "id": "082add9a",
   "metadata": {},
   "outputs": [
    {
     "name": "stdout",
     "output_type": "stream",
     "text": [
      "cat\n",
      "dog\n",
      "hamster\n",
      "guinea pig\n",
      "duck\n",
      "ferret\n"
     ]
    }
   ],
   "source": [
    "for i in range(len(pets)):\n",
    "    print(pets[i])"
   ]
  },
  {
   "cell_type": "code",
   "execution_count": null,
   "id": "18a20948",
   "metadata": {},
   "outputs": [],
   "source": [
    "enumerate()"
   ]
  },
  {
   "cell_type": "code",
   "execution_count": 70,
   "id": "8bde3239",
   "metadata": {},
   "outputs": [
    {
     "name": "stdout",
     "output_type": "stream",
     "text": [
      "0 cat\n",
      "1 dog\n",
      "2 hamster\n",
      "3 guinea pig\n",
      "4 duck\n",
      "5 ferret\n"
     ]
    }
   ],
   "source": [
    "for i, pet in enumerate(pets):\n",
    "    print(i, pet)"
   ]
  },
  {
   "cell_type": "code",
   "execution_count": 71,
   "id": "8959df8c",
   "metadata": {},
   "outputs": [
    {
     "data": {
      "text/plain": [
       "<enumerate at 0x6d35568>"
      ]
     },
     "execution_count": 71,
     "metadata": {},
     "output_type": "execute_result"
    }
   ],
   "source": [
    "enumerate(pets)"
   ]
  },
  {
   "cell_type": "code",
   "execution_count": 72,
   "id": "5e4afaa7",
   "metadata": {},
   "outputs": [
    {
     "data": {
      "text/plain": [
       "((0, 'cat'),\n",
       " (1, 'dog'),\n",
       " (2, 'hamster'),\n",
       " (3, 'guinea pig'),\n",
       " (4, 'duck'),\n",
       " (5, 'ferret'))"
      ]
     },
     "execution_count": 72,
     "metadata": {},
     "output_type": "execute_result"
    }
   ],
   "source": [
    "tuple(enumerate(pets))"
   ]
  },
  {
   "cell_type": "code",
   "execution_count": 73,
   "id": "4956490a",
   "metadata": {},
   "outputs": [
    {
     "data": {
      "text/plain": [
       "[(0, 'cat'),\n",
       " (1, 'dog'),\n",
       " (2, 'hamster'),\n",
       " (3, 'guinea pig'),\n",
       " (4, 'duck'),\n",
       " (5, 'ferret')]"
      ]
     },
     "execution_count": 73,
     "metadata": {},
     "output_type": "execute_result"
    }
   ],
   "source": [
    "list(enumerate(pets))"
   ]
  },
  {
   "cell_type": "code",
   "execution_count": 74,
   "id": "72ead39e",
   "metadata": {},
   "outputs": [
    {
     "name": "stdout",
     "output_type": "stream",
     "text": [
      "10 cat\n",
      "11 dog\n",
      "12 hamster\n",
      "13 guinea pig\n",
      "14 duck\n",
      "15 ferret\n"
     ]
    }
   ],
   "source": [
    "for i, pet in enumerate(pets, start=10):\n",
    "    print(i, pet)"
   ]
  },
  {
   "cell_type": "code",
   "execution_count": null,
   "id": "bf7813fb",
   "metadata": {},
   "outputs": [],
   "source": [
    "SaRcAsM"
   ]
  },
  {
   "cell_type": "code",
   "execution_count": 75,
   "id": "be443fde",
   "metadata": {},
   "outputs": [],
   "source": [
    "def sarcasm(text):\n",
    "    lst = []\n",
    "    for i, char in enumerate(text):\n",
    "        if i%2 != 0:\n",
    "            lst.append(char.lower())\n",
    "        else:\n",
    "            lst.append(char.upper())\n",
    "            \n",
    "    return ''.join(lst)\n",
    "    \n",
    "    "
   ]
  },
  {
   "cell_type": "code",
   "execution_count": 76,
   "id": "b3cf357b",
   "metadata": {},
   "outputs": [
    {
     "data": {
      "text/plain": [
       "'PyThOn fUnDaMeNtAlS'"
      ]
     },
     "execution_count": 76,
     "metadata": {},
     "output_type": "execute_result"
    }
   ],
   "source": [
    "sarcasm('Python FundaMentals')"
   ]
  },
  {
   "cell_type": "code",
   "execution_count": 79,
   "id": "7765794a",
   "metadata": {},
   "outputs": [],
   "source": [
    "def sarcasm_1(text):\n",
    "    lst = [char.lower() if i%2 else char.upper() for i, char in enumerate(text) ]\n",
    "    return ''.join(lst)"
   ]
  },
  {
   "cell_type": "code",
   "execution_count": 80,
   "id": "50c19a51",
   "metadata": {},
   "outputs": [
    {
     "data": {
      "text/plain": [
       "'PyThOn fUnDaMeNtAlS'"
      ]
     },
     "execution_count": 80,
     "metadata": {},
     "output_type": "execute_result"
    }
   ],
   "source": [
    "sarcasm_1('PYTHON FUNDAMENTALS')"
   ]
  },
  {
   "cell_type": "markdown",
   "id": "deb9381f",
   "metadata": {},
   "source": [
    "# Словники Python"
   ]
  },
  {
   "cell_type": "markdown",
   "id": "4e1e0d3f",
   "metadata": {},
   "source": [
    "key: value\n",
    "\n",
    "Словники є\n",
    "- впорядкованими\n",
    "- змінними\n",
    "- не дозволяють дублікатів"
   ]
  },
  {
   "cell_type": "markdown",
   "id": "9ab3f89b",
   "metadata": {},
   "source": [
    "```Python\n",
    "d = {\n",
    "    <key>:<value>,\n",
    "    <key>:<value>,\n",
    "    <key>:<value>,\n",
    "    .\n",
    "    .\n",
    "    .\n",
    "    <key>:<value>\n",
    "}\n",
    "```"
   ]
  },
  {
   "cell_type": "code",
   "execution_count": 81,
   "id": "b0f3cc93",
   "metadata": {},
   "outputs": [
    {
     "data": {
      "text/plain": [
       "{'James Bond': 'bond007@mi7.gov.uk', 'Bill Gates': 'billg@microsoft.com'}"
      ]
     },
     "execution_count": 81,
     "metadata": {},
     "output_type": "execute_result"
    }
   ],
   "source": [
    "my_dict = {'James Bond':'bond007@mi7.gov.uk',\n",
    "          'Bill Gates': 'billg@microsoft.com'}\n",
    "my_dict"
   ]
  },
  {
   "cell_type": "code",
   "execution_count": 82,
   "id": "da92488d",
   "metadata": {},
   "outputs": [
    {
     "data": {
      "text/plain": [
       "{'James Bond': 'bond007@mi7.gov.uk', 'Bill Gates': 'billg@microsoft.com'}"
      ]
     },
     "execution_count": 82,
     "metadata": {},
     "output_type": "execute_result"
    }
   ],
   "source": [
    "my_dict1 = dict([('James Bond','bond007@mi7.gov.uk'),\n",
    "                ('Bill Gates', 'billg@microsoft.com')])\n",
    "my_dict1"
   ]
  },
  {
   "cell_type": "code",
   "execution_count": 84,
   "id": "3404cd2b",
   "metadata": {},
   "outputs": [
    {
     "data": {
      "text/plain": [
       "dict"
      ]
     },
     "execution_count": 84,
     "metadata": {},
     "output_type": "execute_result"
    }
   ],
   "source": [
    "type(my_dict1)"
   ]
  },
  {
   "cell_type": "code",
   "execution_count": 87,
   "id": "e34ee41a",
   "metadata": {},
   "outputs": [
    {
     "data": {
      "text/plain": [
       "{'James_Bond': 'bond007@mi7.gov.uk', 'Bill_Gates': 'billg@microsoft.com'}"
      ]
     },
     "execution_count": 87,
     "metadata": {},
     "output_type": "execute_result"
    }
   ],
   "source": [
    "my_dict2 = dict(James_Bond='bond007@mi7.gov.uk',\n",
    "                Bill_Gates='billg@microsoft.com')\n",
    "my_dict2"
   ]
  },
  {
   "cell_type": "markdown",
   "id": "55795a6a",
   "metadata": {},
   "source": [
    "Ключі в словнику\n",
    "- не повинно бути дублікатів\n",
    "- тип даних ключа повинен бути незмінним"
   ]
  },
  {
   "cell_type": "code",
   "execution_count": 89,
   "id": "fba67655",
   "metadata": {},
   "outputs": [
    {
     "data": {
      "text/plain": [
       "{'a': 4, 'b': 2}"
      ]
     },
     "execution_count": 89,
     "metadata": {},
     "output_type": "execute_result"
    }
   ],
   "source": [
    "dict_1 = {'a':1, 'b':2, 'a': 3, 'a':4}\n",
    "dict_1"
   ]
  },
  {
   "cell_type": "code",
   "execution_count": null,
   "id": "8e3b395d",
   "metadata": {},
   "outputs": [],
   "source": []
  }
 ],
 "metadata": {
  "kernelspec": {
   "display_name": "Python 3",
   "language": "python",
   "name": "python3"
  },
  "language_info": {
   "codemirror_mode": {
    "name": "ipython",
    "version": 3
   },
   "file_extension": ".py",
   "mimetype": "text/x-python",
   "name": "python",
   "nbconvert_exporter": "python",
   "pygments_lexer": "ipython3",
   "version": "3.8.2"
  }
 },
 "nbformat": 4,
 "nbformat_minor": 5
}
