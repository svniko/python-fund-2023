{
 "cells": [
  {
   "cell_type": "markdown",
   "id": "7b36ccbe",
   "metadata": {},
   "source": [
    "<a target=\"_blank\" href=\"https://colab.research.google.com/github/svniko/python-fund-2023/blob/main/Lecture4.ipynb\">\n",
    "  <img src=\"https://colab.research.google.com/assets/colab-badge.svg\" alt=\"Open In Colab\"/>\n",
    "</a>"
   ]
  },
  {
   "cell_type": "markdown",
   "id": "3984b2d7",
   "metadata": {},
   "source": [
    "# Lecture 4\n",
    "## Цикли"
   ]
  },
  {
   "cell_type": "code",
   "execution_count": null,
   "id": "05b484cf",
   "metadata": {},
   "outputs": [],
   "source": [
    "# for, while"
   ]
  },
  {
   "cell_type": "markdown",
   "id": "9ba89c7e",
   "metadata": {},
   "source": [
    "Syntax\n",
    "```python\n",
    "\n",
    "while <expression>:\n",
    "    statement(s)\n",
    " ```"
   ]
  },
  {
   "cell_type": "code",
   "execution_count": 2,
   "id": "bbb60a66",
   "metadata": {},
   "outputs": [],
   "source": [
    "while False:\n",
    "    print('Inside')\n"
   ]
  },
  {
   "cell_type": "code",
   "execution_count": null,
   "id": "5affd5e2",
   "metadata": {},
   "outputs": [],
   "source": [
    "i = 0\n",
    "while True:\n",
    "    print(i)\n",
    "    i += 1 # not i =+ 1 :)"
   ]
  },
  {
   "cell_type": "code",
   "execution_count": 8,
   "id": "07a42cd0",
   "metadata": {},
   "outputs": [
    {
     "name": "stdout",
     "output_type": "stream",
     "text": [
      "Enter a number or type -1 to stop: 2\n",
      "Enter a number or type -1 to stop: 3\n",
      "Enter a number or type -1 to stop: 8\n",
      "Enter a number or type -1 to stop: 12\n",
      "Enter a number or type -1 to stop: -1\n",
      "The largest number is  12\n"
     ]
    }
   ],
   "source": [
    "#Приклад. Знайти набільше число з послідовності натуральних чисел\n",
    "number = int(input(\"Enter a number or type -1 to stop: \"))\n",
    "larget_number = number\n",
    "\n",
    "while number != -1:\n",
    "    if number > larget_number:\n",
    "        larget_number = number\n",
    "    \n",
    "    number = int(input(\"Enter a number or type -1 to stop: \"))\n",
    "    \n",
    "print(\"The largest number is \", larget_number)"
   ]
  },
  {
   "cell_type": "code",
   "execution_count": 10,
   "id": "54c0523c",
   "metadata": {},
   "outputs": [
    {
     "name": "stdout",
     "output_type": "stream",
     "text": [
      "Enter a number or type 0 to stop: 1\n",
      "Enter a number or type 0 to stop: 2\n",
      "Enter a number or type 0 to stop: 0\n",
      "Odd number count: 1\n",
      "Even number count: 1\n"
     ]
    }
   ],
   "source": [
    "# Підрахувати кількість парних та непарних чисел в послідовності. Ознака останову - 0\n",
    "\n",
    "odd_number = 0\n",
    "even_number = 0\n",
    "\n",
    "number = int(input(\"Enter a number or type 0 to stop: \"))\n",
    "\n",
    "while number:\n",
    "    if number % 2:\n",
    "        odd_number += 1\n",
    "    else:\n",
    "        even_number += 1\n",
    "    number = int(input(\"Enter a number or type 0 to stop: \"))\n",
    "    \n",
    "print('Odd number count:', odd_number)\n",
    "print('Even number count:', even_number)"
   ]
  },
  {
   "cell_type": "code",
   "execution_count": 11,
   "id": "69310fa2",
   "metadata": {},
   "outputs": [
    {
     "name": "stdout",
     "output_type": "stream",
     "text": [
      "Inside the loop  5\n",
      "Inside the loop  4\n",
      "Inside the loop  3\n",
      "Inside the loop  2\n",
      "Inside the loop  1\n",
      "Outside the loop  0\n"
     ]
    }
   ],
   "source": [
    "counter = 5\n",
    "while counter != 0:\n",
    "    print('Inside the loop ', counter)\n",
    "    counter -= 1\n",
    "print('Outside the loop ', counter)"
   ]
  },
  {
   "cell_type": "code",
   "execution_count": 12,
   "id": "72ed22bc",
   "metadata": {},
   "outputs": [
    {
     "name": "stdout",
     "output_type": "stream",
     "text": [
      "Outside the loop  100\n"
     ]
    }
   ],
   "source": [
    "counter = 0\n",
    "while counter < 100:\n",
    "#     print('Inside the loop ', counter)\n",
    "    counter += 1\n",
    "print('Outside the loop ', counter)"
   ]
  },
  {
   "cell_type": "code",
   "execution_count": 15,
   "id": "bd61b636",
   "metadata": {},
   "outputs": [],
   "source": [
    "for i in range(100):\n",
    "    #do something()\n",
    "    pass #..."
   ]
  },
  {
   "cell_type": "code",
   "execution_count": 17,
   "id": "e37d8571",
   "metadata": {},
   "outputs": [
    {
     "name": "stdout",
     "output_type": "stream",
     "text": [
      "0\n",
      "1\n",
      "2\n",
      "3\n",
      "4\n",
      "5\n",
      "6\n",
      "7\n",
      "8\n",
      "9\n"
     ]
    }
   ],
   "source": [
    "for i in range(10):\n",
    "    print(i)"
   ]
  },
  {
   "cell_type": "code",
   "execution_count": null,
   "id": "3366a3a7",
   "metadata": {},
   "outputs": [],
   "source": [
    "# range([start,] stop[, step]])\n",
    "# range(stop)\n",
    "# range(start, stop)\n",
    "# range(start, stop, step)"
   ]
  },
  {
   "cell_type": "code",
   "execution_count": 20,
   "id": "d4c7b784",
   "metadata": {},
   "outputs": [
    {
     "name": "stdout",
     "output_type": "stream",
     "text": [
      "<class 'range'>\n"
     ]
    }
   ],
   "source": [
    "print(type(range(10)))"
   ]
  },
  {
   "cell_type": "code",
   "execution_count": 21,
   "id": "791bcc16",
   "metadata": {},
   "outputs": [
    {
     "data": {
      "text/plain": [
       "range"
      ]
     },
     "execution_count": 21,
     "metadata": {},
     "output_type": "execute_result"
    }
   ],
   "source": [
    "type(range(10))"
   ]
  },
  {
   "cell_type": "code",
   "execution_count": 22,
   "id": "f9a9b97b",
   "metadata": {},
   "outputs": [
    {
     "data": {
      "text/plain": [
       "range(0, 10)"
      ]
     },
     "execution_count": 22,
     "metadata": {},
     "output_type": "execute_result"
    }
   ],
   "source": [
    "range(10)"
   ]
  },
  {
   "cell_type": "code",
   "execution_count": 25,
   "id": "44442f9b",
   "metadata": {},
   "outputs": [
    {
     "name": "stdout",
     "output_type": "stream",
     "text": [
      "5\n",
      "7\n",
      "9\n"
     ]
    }
   ],
   "source": [
    "for i in range(5, 10, 2):\n",
    "    print(i)\n"
   ]
  },
  {
   "cell_type": "code",
   "execution_count": 26,
   "id": "a58387de",
   "metadata": {},
   "outputs": [
    {
     "ename": "ValueError",
     "evalue": "range() arg 3 must not be zero",
     "output_type": "error",
     "traceback": [
      "\u001b[1;31m---------------------------------------------------------------------------\u001b[0m",
      "\u001b[1;31mValueError\u001b[0m                                Traceback (most recent call last)",
      "Cell \u001b[1;32mIn[26], line 1\u001b[0m\n\u001b[1;32m----> 1\u001b[0m \u001b[38;5;28;01mfor\u001b[39;00m i \u001b[38;5;129;01min\u001b[39;00m \u001b[38;5;28;43mrange\u001b[39;49m\u001b[43m(\u001b[49m\u001b[38;5;241;43m5\u001b[39;49m\u001b[43m,\u001b[49m\u001b[43m \u001b[49m\u001b[38;5;241;43m10\u001b[39;49m\u001b[43m,\u001b[49m\u001b[43m \u001b[49m\u001b[38;5;241;43m0\u001b[39;49m\u001b[43m)\u001b[49m:\n\u001b[0;32m      2\u001b[0m     \u001b[38;5;28mprint\u001b[39m(i)\n",
      "\u001b[1;31mValueError\u001b[0m: range() arg 3 must not be zero"
     ]
    }
   ],
   "source": [
    "for i in range(5, 10, 0):\n",
    "    print(i)\n"
   ]
  },
  {
   "cell_type": "code",
   "execution_count": 27,
   "id": "29738368",
   "metadata": {},
   "outputs": [
    {
     "ename": "TypeError",
     "evalue": "'float' object cannot be interpreted as an integer",
     "output_type": "error",
     "traceback": [
      "\u001b[1;31m---------------------------------------------------------------------------\u001b[0m",
      "\u001b[1;31mTypeError\u001b[0m                                 Traceback (most recent call last)",
      "Cell \u001b[1;32mIn[27], line 1\u001b[0m\n\u001b[1;32m----> 1\u001b[0m \u001b[38;5;28;01mfor\u001b[39;00m i \u001b[38;5;129;01min\u001b[39;00m \u001b[38;5;28;43mrange\u001b[39;49m\u001b[43m(\u001b[49m\u001b[38;5;241;43m3.3\u001b[39;49m\u001b[43m)\u001b[49m:\n\u001b[0;32m      2\u001b[0m     \u001b[38;5;28mprint\u001b[39m(i)\n",
      "\u001b[1;31mTypeError\u001b[0m: 'float' object cannot be interpreted as an integer"
     ]
    }
   ],
   "source": [
    "for i in range(3.3):\n",
    "    print(i)"
   ]
  },
  {
   "cell_type": "code",
   "execution_count": 30,
   "id": "b44a34fa",
   "metadata": {},
   "outputs": [
    {
     "name": "stdout",
     "output_type": "stream",
     "text": [
      "25\n",
      "23\n",
      "21\n",
      "19\n",
      "17\n",
      "15\n",
      "13\n",
      "11\n",
      "9\n",
      "7\n",
      "5\n",
      "3\n"
     ]
    }
   ],
   "source": [
    "for i in range(25, 2, -2):\n",
    "    print(i)"
   ]
  },
  {
   "cell_type": "code",
   "execution_count": null,
   "id": "2e85ef82",
   "metadata": {},
   "outputs": [],
   "source": [
    "# break\n",
    "# continue"
   ]
  },
  {
   "cell_type": "code",
   "execution_count": 31,
   "id": "6a74b971",
   "metadata": {},
   "outputs": [
    {
     "name": "stdout",
     "output_type": "stream",
     "text": [
      "The break instruction:\n",
      "Inside the loop 1\n",
      "Inside the loop 2\n",
      "Outside the loop\n"
     ]
    }
   ],
   "source": [
    "print('The break instruction:')\n",
    "\n",
    "for i in range(1, 6):\n",
    "    if i == 3:\n",
    "        break\n",
    "    print(\"Inside the loop\", i)\n",
    "print(\"Outside the loop\")    "
   ]
  },
  {
   "cell_type": "code",
   "execution_count": 32,
   "id": "c594e7ef",
   "metadata": {},
   "outputs": [
    {
     "name": "stdout",
     "output_type": "stream",
     "text": [
      "The continue instruction:\n",
      "Inside the loop 1\n",
      "Inside the loop 2\n",
      "Inside the loop 4\n",
      "Inside the loop 5\n",
      "Outside the loop\n"
     ]
    }
   ],
   "source": [
    "print('The continue instruction:')\n",
    "\n",
    "for i in range(1, 6):\n",
    "    if i == 3:\n",
    "        continue\n",
    "    print(\"Inside the loop\", i)\n",
    "print(\"Outside the loop\")   "
   ]
  },
  {
   "cell_type": "code",
   "execution_count": 33,
   "id": "aca304e1",
   "metadata": {},
   "outputs": [
    {
     "name": "stdout",
     "output_type": "stream",
     "text": [
      "The number to be guessed is 83\n",
      "Enter a guess: 50\n",
      "50 is too low; try again\n",
      "Enter a guess: 75\n",
      "75 is too low; try again\n",
      "Enter a guess: 85\n",
      "85 is too high; try again\n",
      "Enter a guess: 80\n",
      "80 is too low; try again\n",
      "Enter a guess: 83\n",
      "You got it right\n"
     ]
    }
   ],
   "source": [
    "# Вгадай число\n",
    "\n",
    "import random\n",
    "\n",
    "number = random.randint(1, 100)\n",
    "print(f\"The number to be guessed is {number}\")\n",
    "\n",
    "while True:\n",
    "    guess = int(input(\"Enter a guess: \"))\n",
    "    \n",
    "    if guess == number:\n",
    "        print(\"You got it right\")\n",
    "        break\n",
    "    \n",
    "    elif guess < number:\n",
    "        print(f\"{guess} is too low; try again\")\n",
    "    \n",
    "    else:\n",
    "        print(f\"{guess} is too high; try again\")"
   ]
  },
  {
   "cell_type": "code",
   "execution_count": 35,
   "id": "2d2c2f2e",
   "metadata": {},
   "outputs": [
    {
     "name": "stdout",
     "output_type": "stream",
     "text": [
      "Enter a number or type -1 to stop: 3\n",
      "Enter a number or type -1 to stop: 4\n",
      "Enter a number or type -1 to stop: 12\n",
      "Enter a number or type -1 to stop: 6\n",
      "Enter a number or type -1 to stop: 3\n",
      "Enter a number or type -1 to stop: -1\n",
      "The largest number is  12\n"
     ]
    }
   ],
   "source": [
    "#Приклад. Знайти набільше число з послідовності натуральних чисел з використанням while True\n",
    "\n",
    "larget_number = 0\n",
    "\n",
    "while True:\n",
    "    number = int(input(\"Enter a number or type -1 to stop: \"))\n",
    "    if number == -1:\n",
    "        break\n",
    "    if number > larget_number:\n",
    "        larget_number = number\n",
    "        \n",
    "print(\"The largest number is \", larget_number)"
   ]
  },
  {
   "cell_type": "code",
   "execution_count": 37,
   "id": "22e41155",
   "metadata": {},
   "outputs": [
    {
     "name": "stdout",
     "output_type": "stream",
     "text": [
      "2\n",
      "3\n",
      "4\n",
      "else:  5\n"
     ]
    }
   ],
   "source": [
    "#else\n",
    "\n",
    "i = 2\n",
    "while i < 5:\n",
    "    print(i)\n",
    "    i += 1\n",
    "else:\n",
    "    print('else: ', i)"
   ]
  },
  {
   "cell_type": "code",
   "execution_count": 41,
   "id": "4f3d4809",
   "metadata": {},
   "outputs": [
    {
     "name": "stdout",
     "output_type": "stream",
     "text": [
      "1\n",
      "2\n",
      "3\n",
      "4\n",
      "else:  4\n"
     ]
    }
   ],
   "source": [
    "ii = 11\n",
    "for ii in range(1, 5):\n",
    "    print(ii)\n",
    "else:\n",
    "    print('else: ', ii)"
   ]
  },
  {
   "cell_type": "code",
   "execution_count": 42,
   "id": "e575b5c9",
   "metadata": {},
   "outputs": [
    {
     "data": {
      "text/plain": [
       "range(5, 1)"
      ]
     },
     "execution_count": 42,
     "metadata": {},
     "output_type": "execute_result"
    }
   ],
   "source": [
    "range(5, 1)"
   ]
  },
  {
   "cell_type": "code",
   "execution_count": 44,
   "id": "ee0611ec",
   "metadata": {},
   "outputs": [
    {
     "ename": "NameError",
     "evalue": "name 'xx' is not defined",
     "output_type": "error",
     "traceback": [
      "\u001b[1;31m---------------------------------------------------------------------------\u001b[0m",
      "\u001b[1;31mNameError\u001b[0m                                 Traceback (most recent call last)",
      "Cell \u001b[1;32mIn[44], line 4\u001b[0m\n\u001b[0;32m      2\u001b[0m     \u001b[38;5;28mprint\u001b[39m(xx)\n\u001b[0;32m      3\u001b[0m \u001b[38;5;28;01melse\u001b[39;00m:\n\u001b[1;32m----> 4\u001b[0m     \u001b[38;5;28mprint\u001b[39m(\u001b[38;5;124m'\u001b[39m\u001b[38;5;124melse: \u001b[39m\u001b[38;5;124m'\u001b[39m, \u001b[43mxx\u001b[49m)\n",
      "\u001b[1;31mNameError\u001b[0m: name 'xx' is not defined"
     ]
    }
   ],
   "source": [
    "for xx in range(5, 1):\n",
    "    print(xx)\n",
    "else:\n",
    "    print('else: ', xx)"
   ]
  },
  {
   "cell_type": "code",
   "execution_count": 45,
   "id": "152b649e",
   "metadata": {},
   "outputs": [
    {
     "name": "stdout",
     "output_type": "stream",
     "text": [
      "P y t h o n "
     ]
    }
   ],
   "source": [
    "for letter in \"Python\":\n",
    "    print(letter, end=\" \")"
   ]
  },
  {
   "cell_type": "code",
   "execution_count": 46,
   "id": "6210aae0",
   "metadata": {},
   "outputs": [
    {
     "name": "stdout",
     "output_type": "stream",
     "text": [
      "Sm vr lng txt bt Pthn prmrmmng lngg"
     ]
    }
   ],
   "source": [
    "text = \"Some very long text about Python promramming language\"\n",
    "for letter in text:\n",
    "    if letter in 'aeuoyi':\n",
    "        continue\n",
    "    print(letter, end=\"\")"
   ]
  },
  {
   "cell_type": "code",
   "execution_count": null,
   "id": "ad05fe98",
   "metadata": {},
   "outputs": [],
   "source": [
    "Sm vr lng txt bt..."
   ]
  },
  {
   "cell_type": "markdown",
   "id": "79c4d01f",
   "metadata": {},
   "source": [
    "# Списки"
   ]
  },
  {
   "cell_type": "code",
   "execution_count": null,
   "id": "53c6bcc9",
   "metadata": {},
   "outputs": [],
   "source": [
    "int\n",
    "float\n",
    "bool\n",
    "\n",
    "list\n",
    "tuple\n",
    "set\n",
    "str\n",
    "\n",
    "dict\n"
   ]
  },
  {
   "cell_type": "code",
   "execution_count": null,
   "id": "7613cae1",
   "metadata": {},
   "outputs": [],
   "source": [
    "list_name = [val1, val2, ..., valN]"
   ]
  },
  {
   "cell_type": "code",
   "execution_count": 47,
   "id": "1496bab0",
   "metadata": {},
   "outputs": [
    {
     "data": {
      "text/plain": [
       "[10, None, 5.0, 'Hello', '2', True, [1, 2, 3]]"
      ]
     },
     "execution_count": 47,
     "metadata": {},
     "output_type": "execute_result"
    }
   ],
   "source": [
    "numbers = [10, None, 5.0, \"Hello\", \"2\", True, [1, 2, 3]]\n",
    "numbers"
   ]
  },
  {
   "cell_type": "code",
   "execution_count": 48,
   "id": "aad842b5",
   "metadata": {},
   "outputs": [
    {
     "data": {
      "text/plain": [
       "10"
      ]
     },
     "execution_count": 48,
     "metadata": {},
     "output_type": "execute_result"
    }
   ],
   "source": [
    "numbers[0]"
   ]
  },
  {
   "cell_type": "code",
   "execution_count": 49,
   "id": "b38a65f7",
   "metadata": {},
   "outputs": [
    {
     "data": {
      "text/plain": [
       "116280200"
      ]
     },
     "execution_count": 49,
     "metadata": {},
     "output_type": "execute_result"
    }
   ],
   "source": [
    "id(numbers)"
   ]
  },
  {
   "cell_type": "code",
   "execution_count": 50,
   "id": "9950f6dd",
   "metadata": {},
   "outputs": [
    {
     "data": {
      "text/plain": [
       "[111, None, 5.0, 'Hello', '2', True, [1, 2, 3]]"
      ]
     },
     "execution_count": 50,
     "metadata": {},
     "output_type": "execute_result"
    }
   ],
   "source": [
    "numbers[0] = 111\n",
    "numbers"
   ]
  },
  {
   "cell_type": "code",
   "execution_count": 51,
   "id": "75b8427f",
   "metadata": {},
   "outputs": [
    {
     "data": {
      "text/plain": [
       "116280200"
      ]
     },
     "execution_count": 51,
     "metadata": {},
     "output_type": "execute_result"
    }
   ],
   "source": [
    "id(numbers)"
   ]
  },
  {
   "cell_type": "code",
   "execution_count": 52,
   "id": "c762f40a",
   "metadata": {},
   "outputs": [
    {
     "data": {
      "text/plain": [
       "7"
      ]
     },
     "execution_count": 52,
     "metadata": {},
     "output_type": "execute_result"
    }
   ],
   "source": [
    "len(numbers)"
   ]
  },
  {
   "cell_type": "code",
   "execution_count": 53,
   "id": "1feddff9",
   "metadata": {},
   "outputs": [
    {
     "data": {
      "text/plain": [
       "2"
      ]
     },
     "execution_count": 53,
     "metadata": {},
     "output_type": "execute_result"
    }
   ],
   "source": [
    "numbers[6][1]"
   ]
  },
  {
   "cell_type": "code",
   "execution_count": 54,
   "id": "696f7eea",
   "metadata": {},
   "outputs": [
    {
     "data": {
      "text/plain": [
       "2"
      ]
     },
     "execution_count": 54,
     "metadata": {},
     "output_type": "execute_result"
    }
   ],
   "source": [
    "numbers[-1][1]"
   ]
  },
  {
   "cell_type": "code",
   "execution_count": 57,
   "id": "62aed10b",
   "metadata": {},
   "outputs": [
    {
     "ename": "IndexError",
     "evalue": "list index out of range",
     "output_type": "error",
     "traceback": [
      "\u001b[1;31m---------------------------------------------------------------------------\u001b[0m",
      "\u001b[1;31mIndexError\u001b[0m                                Traceback (most recent call last)",
      "Cell \u001b[1;32mIn[57], line 1\u001b[0m\n\u001b[1;32m----> 1\u001b[0m \u001b[43mnumbers\u001b[49m\u001b[43m[\u001b[49m\u001b[38;5;241;43m7\u001b[39;49m\u001b[43m]\u001b[49m\n",
      "\u001b[1;31mIndexError\u001b[0m: list index out of range"
     ]
    }
   ],
   "source": [
    "numbers[7]"
   ]
  },
  {
   "cell_type": "code",
   "execution_count": 58,
   "id": "5c24fe6c",
   "metadata": {},
   "outputs": [
    {
     "data": {
      "text/plain": [
       "[111, None, 5.0, 'Hello', '2', True, [1, 2, 3]]"
      ]
     },
     "execution_count": 58,
     "metadata": {},
     "output_type": "execute_result"
    }
   ],
   "source": [
    "numbers"
   ]
  },
  {
   "cell_type": "code",
   "execution_count": 59,
   "id": "99539e01",
   "metadata": {},
   "outputs": [
    {
     "data": {
      "text/plain": [
       "[111, 5.0, 'Hello', '2', True, [1, 2, 3]]"
      ]
     },
     "execution_count": 59,
     "metadata": {},
     "output_type": "execute_result"
    }
   ],
   "source": [
    "del numbers[1]\n",
    "numbers"
   ]
  },
  {
   "cell_type": "code",
   "execution_count": 61,
   "id": "00196311",
   "metadata": {},
   "outputs": [
    {
     "ename": "NameError",
     "evalue": "name 'numbers' is not defined",
     "output_type": "error",
     "traceback": [
      "\u001b[1;31m---------------------------------------------------------------------------\u001b[0m",
      "\u001b[1;31mNameError\u001b[0m                                 Traceback (most recent call last)",
      "Cell \u001b[1;32mIn[61], line 1\u001b[0m\n\u001b[1;32m----> 1\u001b[0m \u001b[38;5;28;01mdel\u001b[39;00m numbers\n\u001b[0;32m      2\u001b[0m numbers\n",
      "\u001b[1;31mNameError\u001b[0m: name 'numbers' is not defined"
     ]
    }
   ],
   "source": [
    "del numbers\n",
    "numbers"
   ]
  },
  {
   "cell_type": "code",
   "execution_count": null,
   "id": "4edddd79",
   "metadata": {},
   "outputs": [],
   "source": []
  }
 ],
 "metadata": {
  "kernelspec": {
   "display_name": "Python 3",
   "language": "python",
   "name": "python3"
  },
  "language_info": {
   "codemirror_mode": {
    "name": "ipython",
    "version": 3
   },
   "file_extension": ".py",
   "mimetype": "text/x-python",
   "name": "python",
   "nbconvert_exporter": "python",
   "pygments_lexer": "ipython3",
   "version": "3.8.2"
  }
 },
 "nbformat": 4,
 "nbformat_minor": 5
}
