{
 "cells": [
  {
   "cell_type": "markdown",
   "id": "12ff8cdb",
   "metadata": {},
   "source": [
    "<a target=\"_blank\" href=\"https://colab.research.google.com/github/svniko/python-fund-2023/blob/main/Lecture14.ipynb\">\n",
    "  <img src=\"https://colab.research.google.com/assets/colab-badge.svg\" alt=\"Open In Colab\"/>"
   ]
  },
  {
   "cell_type": "markdown",
   "id": "13fcf9b2",
   "metadata": {},
   "source": [
    "    Assoc. Prof. Svitlana Kovalenko\n",
    "    Department of Software Engineering \n",
    "    and Management Intelligent Technologies\n",
    "    NTU KhPI"
   ]
  },
  {
   "cell_type": "markdown",
   "id": "aae5c379",
   "metadata": {},
   "source": [
    "## List, dictionary, set comprehentions and generators expressions"
   ]
  },
  {
   "cell_type": "markdown",
   "id": "d30b750d",
   "metadata": {},
   "source": [
    "From previous lectures we know about list comprehentions"
   ]
  },
  {
   "cell_type": "code",
   "execution_count": null,
   "id": "b864aa8d",
   "metadata": {},
   "outputs": [],
   "source": [
    "import math\n",
    "[math.sin(i) for i in range(10)]"
   ]
  },
  {
   "cell_type": "code",
   "execution_count": null,
   "id": "74f9b00c",
   "metadata": {},
   "outputs": [],
   "source": [
    "[math.sin(i) for i in range(10) if i%2 ]"
   ]
  },
  {
   "cell_type": "code",
   "execution_count": null,
   "id": "aab0072e",
   "metadata": {},
   "outputs": [],
   "source": [
    "[math.sin(i) if i%2 else math.cos(i) for i in range(10)] "
   ]
  },
  {
   "cell_type": "markdown",
   "id": "78b36784",
   "metadata": {},
   "source": [
    "### Set comprehension\n",
    "is a method for creating sets in python using the elements from other iterables like lists, sets, or tuples. Just like we use list comprehension to create lists, we can use set comprehension instead of for loop to create a new set and add elements to it.  \n",
    "\n",
    "Syntax\n",
    "```Python\n",
    "newSet= { expression for element in  iterable } \n",
    "```\n"
   ]
  },
  {
   "cell_type": "code",
   "execution_count": null,
   "id": "8b995d7b",
   "metadata": {},
   "outputs": [],
   "source": [
    "set1 = {1, 2, 3, 4, 5, 6, 7, 8, 9, 10}\n",
    "{n**2 for n in set1}"
   ]
  },
  {
   "cell_type": "code",
   "execution_count": null,
   "id": "0cb70575",
   "metadata": {},
   "outputs": [],
   "source": [
    "{n**2 for n in set1 if n >5}"
   ]
  },
  {
   "cell_type": "code",
   "execution_count": null,
   "id": "dad1d391",
   "metadata": {
    "scrolled": true
   },
   "outputs": [],
   "source": [
    "{n**2 if n >5 else n for n in set1 }"
   ]
  },
  {
   "cell_type": "code",
   "execution_count": null,
   "id": "8255fcb1",
   "metadata": {},
   "outputs": [],
   "source": [
    "list1 = [1, 2, 3, 4, 5, 6, 7, 8, 9, 10]\n",
    "{n**2 for n in list1}"
   ]
  },
  {
   "cell_type": "markdown",
   "id": "222aa7a7",
   "metadata": {},
   "source": [
    "### Python Dictionary Comprehension"
   ]
  },
  {
   "cell_type": "code",
   "execution_count": null,
   "id": "711aebf6",
   "metadata": {},
   "outputs": [],
   "source": [
    "{n: n**2 for n in set1}"
   ]
  },
  {
   "cell_type": "code",
   "execution_count": null,
   "id": "e33c88f8",
   "metadata": {},
   "outputs": [],
   "source": [
    "dict1 = {str(n): n**2 for n in set1 if n%2}\n",
    "dict1"
   ]
  },
  {
   "cell_type": "code",
   "execution_count": null,
   "id": "039e654b",
   "metadata": {},
   "outputs": [],
   "source": [
    "double_dict1 = {k:v*2 for (k,v) in dict1.items()}\n",
    "double_dict1"
   ]
  },
  {
   "cell_type": "markdown",
   "id": "aaf8fee0",
   "metadata": {},
   "source": [
    "### Python Generator Expression"
   ]
  },
  {
   "cell_type": "markdown",
   "id": "3a5404de",
   "metadata": {},
   "source": [
    "The syntax for generator expression is similar to that of a list comprehension in Python. But the square brackets are replaced with round parentheses."
   ]
  },
  {
   "cell_type": "code",
   "execution_count": null,
   "id": "5aaea2f1",
   "metadata": {
    "scrolled": true
   },
   "outputs": [],
   "source": [
    "set1"
   ]
  },
  {
   "cell_type": "code",
   "execution_count": null,
   "id": "afb62a92",
   "metadata": {},
   "outputs": [],
   "source": [
    "b = [n**2 for n in set1]\n",
    "b"
   ]
  },
  {
   "cell_type": "code",
   "execution_count": null,
   "id": "dac35884",
   "metadata": {},
   "outputs": [],
   "source": [
    "a = (n**2 for n in set1)\n",
    "a"
   ]
  },
  {
   "cell_type": "markdown",
   "id": "1a67fe6b",
   "metadata": {},
   "source": [
    "The major difference between a list comprehension and a generator expression is that a list comprehension produces the entire list while the generator expression produces one item at a time.\n",
    "\n",
    "They have lazy execution ( producing items only when asked for ). For this reason, a generator expression is much more memory efficient than an equivalent list comprehension."
   ]
  },
  {
   "cell_type": "markdown",
   "id": "a179eb88",
   "metadata": {},
   "source": [
    "Here is how we can start getting items from the generator:"
   ]
  },
  {
   "cell_type": "code",
   "execution_count": null,
   "id": "d1a5ed4d",
   "metadata": {},
   "outputs": [],
   "source": [
    "print(next(a))\n",
    "print(next(a))"
   ]
  },
  {
   "cell_type": "code",
   "execution_count": null,
   "id": "ac5cd4d1",
   "metadata": {},
   "outputs": [],
   "source": [
    "for i in b:\n",
    "    print(i**2)"
   ]
  },
  {
   "cell_type": "code",
   "execution_count": null,
   "id": "2d41a343",
   "metadata": {
    "scrolled": true
   },
   "outputs": [],
   "source": [
    "print(next(a))"
   ]
  },
  {
   "cell_type": "code",
   "execution_count": null,
   "id": "8ca5ddf4",
   "metadata": {},
   "outputs": [],
   "source": [
    "# we can use for loop\n",
    "# in this case we start where we stoped previously\n",
    "for i in a:\n",
    "    print(i)"
   ]
  },
  {
   "cell_type": "code",
   "execution_count": null,
   "id": "f5806b48",
   "metadata": {},
   "outputs": [],
   "source": [
    "a = (n**2 for n in set1)\n",
    "list(a)"
   ]
  },
  {
   "cell_type": "code",
   "execution_count": null,
   "id": "7bfe7331",
   "metadata": {
    "scrolled": true
   },
   "outputs": [],
   "source": [
    "# if we try again we get an emply list\n",
    "list(a)"
   ]
  },
  {
   "cell_type": "code",
   "execution_count": null,
   "id": "8584f09c",
   "metadata": {},
   "outputs": [],
   "source": []
  },
  {
   "cell_type": "code",
   "execution_count": null,
   "id": "cfe25168",
   "metadata": {},
   "outputs": [],
   "source": [
    "# also we use list comprehension with more than 1 parameter:\n",
    "a = [str(i)+str(j) for i in range(1,5) for j in range(5,9)]\n",
    "a"
   ]
  },
  {
   "cell_type": "code",
   "execution_count": null,
   "id": "ee823073",
   "metadata": {
    "scrolled": true
   },
   "outputs": [],
   "source": [
    "a = [(str(i),str(j)) for i in range(1,5) for j in range(5,9)]\n",
    "a"
   ]
  },
  {
   "cell_type": "code",
   "execution_count": null,
   "id": "7fbd9686",
   "metadata": {},
   "outputs": [],
   "source": [
    "a = [(str(i),str(j)) for j in range(1,5) for i in range(5,9)]\n",
    "a"
   ]
  },
  {
   "cell_type": "code",
   "execution_count": null,
   "id": "b862df8f",
   "metadata": {},
   "outputs": [],
   "source": [
    "b = [[str(i)+str(j) for i in range(1,5)] for j in range(5,9)]\n",
    "b"
   ]
  },
  {
   "cell_type": "code",
   "execution_count": null,
   "id": "13734cb3",
   "metadata": {},
   "outputs": [],
   "source": [
    "c = [[str(i)+str(j) for j in range(5,9)] for i in range(1,5)]\n",
    "c"
   ]
  },
  {
   "cell_type": "markdown",
   "id": "5ad18de2",
   "metadata": {},
   "source": [
    "### Nested Data structures"
   ]
  },
  {
   "cell_type": "markdown",
   "id": "04d74bd7",
   "metadata": {},
   "source": [
    "Python supports nested data structures."
   ]
  },
  {
   "cell_type": "code",
   "execution_count": null,
   "id": "4a3076bd",
   "metadata": {},
   "outputs": [],
   "source": [
    "#We can create list of lists (nested list)\n",
    "nested_l = [[1,2],[3,4,5],[6]]\n",
    "nested_l"
   ]
  },
  {
   "cell_type": "code",
   "execution_count": null,
   "id": "766df4dd",
   "metadata": {},
   "outputs": [],
   "source": [
    "# or nested tuples\n",
    "nested_t = ((1,2),(3,4,5),(6))\n",
    "nested_t"
   ]
  },
  {
   "cell_type": "code",
   "execution_count": null,
   "id": "25d13b8e",
   "metadata": {},
   "outputs": [],
   "source": [
    "# or nested dict\n",
    "nested_d = {'family':\n",
    "                {'humans':\n",
    "                         {'mother':'Hanna',\n",
    "                          'father':'John',\n",
    "                          'kids':['Mark','Mary']},\n",
    "                 'pets':\n",
    "                        {'cat':'Mars',\n",
    "                         'dog':'Snikers'}\n",
    "                }\n",
    "         }\n",
    "nested_d"
   ]
  },
  {
   "cell_type": "code",
   "execution_count": null,
   "id": "9867c991",
   "metadata": {},
   "outputs": [],
   "source": [
    "# but we cannot create nested set\n",
    "{{1,2},{1,2}}"
   ]
  },
  {
   "cell_type": "code",
   "execution_count": null,
   "id": "c5b678a2",
   "metadata": {},
   "outputs": [],
   "source": [
    "{frozenset([1,2]),frozenset((1,2,3))}"
   ]
  },
  {
   "cell_type": "markdown",
   "id": "f59b6cfd",
   "metadata": {},
   "source": [
    "We can combine several data structures to create a nested one"
   ]
  },
  {
   "cell_type": "code",
   "execution_count": null,
   "id": "756f5878",
   "metadata": {},
   "outputs": [],
   "source": [
    "pets = [\n",
    "        {'species':'cat',\n",
    "        'name':'Brownie',\n",
    "        'age':'5'},\n",
    "    \n",
    "        {'species':'dog',\n",
    "        'name':'Mylo',\n",
    "        'age':'3'},\n",
    "    \n",
    "        {'species':'hamster',\n",
    "        'name':'Pie',\n",
    "        'age':'5'} \n",
    "]\n",
    "pets"
   ]
  },
  {
   "cell_type": "markdown",
   "id": "d93ab1f9",
   "metadata": {},
   "source": [
    "Get access to the item of nested data "
   ]
  },
  {
   "cell_type": "code",
   "execution_count": null,
   "id": "3670beb3",
   "metadata": {},
   "outputs": [],
   "source": [
    "len(pets)"
   ]
  },
  {
   "cell_type": "code",
   "execution_count": null,
   "id": "3e565565",
   "metadata": {},
   "outputs": [],
   "source": [
    "type(pets)"
   ]
  },
  {
   "cell_type": "code",
   "execution_count": null,
   "id": "2a11a842",
   "metadata": {},
   "outputs": [],
   "source": [
    "pets[0]"
   ]
  },
  {
   "cell_type": "code",
   "execution_count": null,
   "id": "196a15fc",
   "metadata": {},
   "outputs": [],
   "source": [
    "type(pets[0])"
   ]
  },
  {
   "cell_type": "code",
   "execution_count": null,
   "id": "a0e1b5a1",
   "metadata": {},
   "outputs": [],
   "source": [
    "pets[0]['name']"
   ]
  },
  {
   "cell_type": "code",
   "execution_count": null,
   "id": "a92e6e3e",
   "metadata": {},
   "outputs": [],
   "source": [
    "len(pets[2])"
   ]
  },
  {
   "cell_type": "code",
   "execution_count": null,
   "id": "8efa2c39",
   "metadata": {},
   "outputs": [],
   "source": [
    "nested_l"
   ]
  },
  {
   "cell_type": "code",
   "execution_count": null,
   "id": "413be338",
   "metadata": {},
   "outputs": [],
   "source": [
    "for i in nested_l:\n",
    "    print(len(i))"
   ]
  },
  {
   "cell_type": "code",
   "execution_count": null,
   "id": "36115e20",
   "metadata": {},
   "outputs": [],
   "source": [
    "for row in nested_l:\n",
    "    for i in row:\n",
    "        print(i, end=' ')\n",
    "    print()"
   ]
  },
  {
   "cell_type": "code",
   "execution_count": null,
   "id": "776331b5",
   "metadata": {},
   "outputs": [],
   "source": [
    "# To get access to the element\n",
    "nested_l[0][2]"
   ]
  },
  {
   "cell_type": "code",
   "execution_count": null,
   "id": "8c3fd496",
   "metadata": {},
   "outputs": [],
   "source": [
    "nested_d"
   ]
  },
  {
   "cell_type": "code",
   "execution_count": null,
   "id": "4c2b69f3",
   "metadata": {},
   "outputs": [],
   "source": [
    "len(nested_d)"
   ]
  },
  {
   "cell_type": "code",
   "execution_count": null,
   "id": "8ff878a6",
   "metadata": {},
   "outputs": [],
   "source": [
    "# to get access to the second kid\n",
    "nested_d['family']['humans']['kids'][1]"
   ]
  },
  {
   "cell_type": "code",
   "execution_count": null,
   "id": "28d26802",
   "metadata": {},
   "outputs": [],
   "source": [
    "type(nested_d['family'])"
   ]
  },
  {
   "cell_type": "code",
   "execution_count": null,
   "id": "1e173486",
   "metadata": {},
   "outputs": [],
   "source": [
    "type(nested_d['family']['humans']['kids'])"
   ]
  },
  {
   "cell_type": "markdown",
   "id": "968ea84a",
   "metadata": {},
   "source": [
    "## Try and Except in Python"
   ]
  },
  {
   "cell_type": "markdown",
   "id": "eb4fc720",
   "metadata": {},
   "source": [
    "Python has built-in exceptions which can output an error. If an error occurs while running the program, it’s called an exception.\n",
    "\n",
    "If an exception occurs, the type of exception is shown. Exceptions needs to be dealt with or the program will crash. To handle exceptions, the try-catch block is used."
   ]
  },
  {
   "cell_type": "markdown",
   "id": "1f1e27d0",
   "metadata": {},
   "source": [
    "The `try except` statement can handle exceptions. Exceptions may happen when you run a program.\n",
    "\n",
    "Exceptions are errors that happen during execution of the program. A Python program terminates as soon as it encounters an error. In Python, an error can be a syntax error or an exception. \n",
    "\n",
    "*An abrupt exit is bad for both the end user and developer.*\n",
    "\n",
    "Instead of an emergency halt, you can use a try except statement to properly deal with the problem. An emergency halt will happen if you do not properly handle exceptions.\n",
    "\n",
    "In fact we already know some kind of exceptions"
   ]
  },
  {
   "cell_type": "code",
   "execution_count": null,
   "id": "33c3568d",
   "metadata": {
    "scrolled": true
   },
   "outputs": [],
   "source": [
    "a = 1/0"
   ]
  },
  {
   "cell_type": "code",
   "execution_count": null,
   "id": "069a9e5b",
   "metadata": {},
   "outputs": [],
   "source": [
    "a = {'a':1,'b':2}\n",
    "a['c']"
   ]
  },
  {
   "cell_type": "code",
   "execution_count": null,
   "id": "6d27f614",
   "metadata": {},
   "outputs": [],
   "source": [
    "s = {[1,2]}"
   ]
  },
  {
   "cell_type": "code",
   "execution_count": null,
   "id": "5716bbb0",
   "metadata": {},
   "outputs": [],
   "source": [
    "a = [1,2,3]\n",
    "a[6]"
   ]
  },
  {
   "cell_type": "code",
   "execution_count": null,
   "id": "91a5423a",
   "metadata": {
    "scrolled": false
   },
   "outputs": [],
   "source": [
    "x = input()\n",
    "x / 3"
   ]
  },
  {
   "cell_type": "code",
   "execution_count": null,
   "id": "58c173d4",
   "metadata": {},
   "outputs": [],
   "source": [
    "def total(a,b):\n",
    "    return a+b"
   ]
  },
  {
   "cell_type": "code",
   "execution_count": null,
   "id": "96f2637f",
   "metadata": {},
   "outputs": [],
   "source": [
    "assert total(1,2) == 3, \"The result 1+2 shold be 3\"\n",
    "assert total(2,2) == 3, \"The result 2+2 shold be 4\""
   ]
  },
  {
   "cell_type": "markdown",
   "id": "78fb9a81",
   "metadata": {},
   "source": [
    "#### Exceptions versus Syntax Errors\n",
    "Syntax errors occur when the parser detects an incorrect statement. Observe the following example:"
   ]
  },
  {
   "cell_type": "code",
   "execution_count": null,
   "id": "90b84f20",
   "metadata": {
    "scrolled": true
   },
   "outputs": [],
   "source": [
    "if 3 < 5\n",
    "    print(0/0)"
   ]
  },
  {
   "cell_type": "markdown",
   "id": "9b9d0a57",
   "metadata": {},
   "source": [
    "The arrow indicates where the parser ran into the syntax error. In this example, there was no colon. Add it and run your code again:"
   ]
  },
  {
   "cell_type": "code",
   "execution_count": null,
   "id": "1616f04f",
   "metadata": {},
   "outputs": [],
   "source": [
    "if 3 < 5:\n",
    "    print(0/0)"
   ]
  },
  {
   "cell_type": "markdown",
   "id": "bd6941be",
   "metadata": {},
   "source": [
    "All exceptions in Python inherit from the class BaseException:"
   ]
  },
  {
   "cell_type": "code",
   "execution_count": null,
   "id": "8b380e29",
   "metadata": {},
   "outputs": [],
   "source": [
    "dir(__builtins__)"
   ]
  },
  {
   "cell_type": "markdown",
   "id": "697096cb",
   "metadata": {},
   "source": [
    "### Built-in exceptions\n",
    "A list of Python's Built-in Exceptions is shown below. This list shows the Exception and why it is thrown (raised).\n",
    "\n",
    "|Exception|\tCause of Error|\n",
    "|---------|---------------|\n",
    "|AssertionError|\tif assert statement fails.|\n",
    "|AttributeError|\tif attribute assignment or reference fails.|\n",
    "|EOFError\t|if the input() functions hits end-of-file condition.|\n",
    "|FloatingPointError|\tif a floating point operation fails.|\n",
    "|GeneratorExit\t|Raise if a generator's close() method is called.|\n",
    "|ImportError|\tif the imported module is not found.|\n",
    "|IndexError\t|if index of a sequence is out of range.|\n",
    "|KeyError\t|if a key is not found in a dictionary.|\n",
    "|KeyboardInterrupt\t|if the user hits interrupt key (Ctrl+c or delete).|\n",
    "|MemoryError|\tif an operation runs out of memory.|\n",
    "|NameError|\tif a variable is not found in local or global scope.|\n",
    "|NotImplementedError|\tby abstract methods.|\n",
    "|OSError\t|if system operation causes system related error.|\n",
    "|OverflowError\t|if result of an arithmetic operation is too large to be represented.|\n",
    "|ReferenceError\t|if a weak reference proxy is used to access a garbage collected referent.|\n",
    "|RuntimeError\t|if an error does not fall under any other category.|\n",
    "|StopIteration|\tby next() function to indicate that there is no further item to be returned by iterator.|\n",
    "|SyntaxError\t|by parser if syntax error is encountered.|\n",
    "|IndentationError\t|if there is incorrect indentation.|\n",
    "|TabError|\tif indentation consists of inconsistent tabs and spaces.|\n",
    "|SystemError\t|if interpreter detects internal error.|\n",
    "|SystemExit|\tby sys.exit() function.|\n",
    "|TypeError|\tif a function or operation is applied to an object of incorrect type.|\n",
    "|UnboundLocalError|\tif a reference is made to a local variable in a function or method, but no value has been bound to that variable.|\n",
    "|UnicodeError|\tif a Unicode-related encoding or decoding error occurs.|\n",
    "|UnicodeEncodeError|\tif a Unicode-related error occurs during encoding.|\n",
    "|UnicodeDecodeError\t|if a Unicode-related error occurs during decoding.|\n",
    "|UnicodeTranslateError\t|if a Unicode-related error occurs during translating.|\n",
    "|ValueError|\tif a function gets argument of correct type but improper value.|\n",
    "|ZeroDivisionError|\tif second operand of division or modulo operation is zero.|"
   ]
  },
  {
   "cell_type": "markdown",
   "id": "2366199a",
   "metadata": {},
   "source": [
    "The idea of the try-except clause is to handle exceptions (errors at runtime). The syntax of the try-except block is:\n",
    "```Python\n",
    "try:\n",
    "    <do something>\n",
    "except Exception:\n",
    "    <handle the error>\n",
    "```"
   ]
  },
  {
   "attachments": {
    "image.png": {
     "image/png": "[encoded data removed]"
    }
   },
   "cell_type": "markdown",
   "id": "9d8cfbd1",
   "metadata": {},
   "source": [
    "The idea of the `try-except` block is this:\n",
    "\n",
    "- `try`: this is the place where you put the code you suspect is risky and may be terminated in case of error; note: this kind of error is called an exception, while **the exception occurrence is called raising** – we can say that an exception is (or was) raised;\n",
    "\n",
    "- `except`: this code is only executed if an exception occured in the try block. The except block is required with a try block, even if it contains only the pass statement.\n",
    "\n",
    "It may be combined with the `else` and `finally` keywords.\n",
    "\n",
    "- `else`: Code in the else block is only executed if no exceptions were raised in the try block.\n",
    "\n",
    "- `finally`: The code in the finally block is always executed, regardless of if a an exception was raised or not.\n",
    "\n",
    "![image.png](attachment:image.png)\n",
    "\n",
    "Any part of the code placed between `try `and `except` is executed in a very special way – any error which occurs here won't terminate program execution. Instead, the control will immediately jump to the first line situated after the except keyword, and no other part of the try branch is executed;\n"
   ]
  },
  {
   "cell_type": "code",
   "execution_count": null,
   "id": "b35ac050",
   "metadata": {
    "scrolled": true
   },
   "outputs": [],
   "source": [
    "value = int(input('Enter a natural number: '))\n",
    "print(f'The reciprocal of {value} is {1/value}') "
   ]
  },
  {
   "cell_type": "code",
   "execution_count": null,
   "id": "e214b232",
   "metadata": {},
   "outputs": [],
   "source": [
    "value = int(input('Enter a natural number: '))\n",
    "print(f'The reciprocal of {value} is {1/value}') "
   ]
  },
  {
   "cell_type": "code",
   "execution_count": null,
   "id": "f7006b1f",
   "metadata": {},
   "outputs": [],
   "source": [
    "try:\n",
    "    value = int(input('Enter a natural number: '))\n",
    "    print(f'The reciprocal of {value} is {1/value}')        \n",
    "except:\n",
    "    print('I do not know what to do.')"
   ]
  },
  {
   "cell_type": "code",
   "execution_count": null,
   "id": "c71c9d17",
   "metadata": {},
   "outputs": [],
   "source": [
    "try:\n",
    "    value = int(input('Enter a natural number: '))\n",
    "    print(f'The reciprocal of {value} is {1/value}')        \n",
    "except:\n",
    "    print('I do not know what to do.')"
   ]
  },
  {
   "cell_type": "markdown",
   "id": "6a8abb47",
   "metadata": {},
   "source": [
    "### How to deal with more than one exception"
   ]
  },
  {
   "cell_type": "code",
   "execution_count": null,
   "id": "39518a9b",
   "metadata": {},
   "outputs": [],
   "source": [
    "try:\n",
    "    value = int(input('Enter a natural number: '))\n",
    "    print(f'The reciprocal of {value} is {1/value}')        \n",
    "except ValueError:\n",
    "    print('Wrong entered data')    \n",
    "except ZeroDivisionError:\n",
    "    print('Division by zero is not allowed') "
   ]
  },
  {
   "cell_type": "code",
   "execution_count": null,
   "id": "7ebc239d",
   "metadata": {},
   "outputs": [],
   "source": [
    "try:\n",
    "    value = int(input('Enter a natural number: '))\n",
    "    print(f'The reciprocal of {value} is {1/value}')        \n",
    "except ValueError:\n",
    "    print('Wrong entered data')    \n",
    "except ZeroDivisionError:\n",
    "\n",
    "    print('Division by zero is not allowed') "
   ]
  },
  {
   "cell_type": "markdown",
   "id": "e48ebe86",
   "metadata": {},
   "source": [
    "### The default exception\n",
    "Now let's add a third except branch, but this time it has no exception name specified – we can say it's anonymous or (what is closer to its actual role) it's the default. You can expect that when an exception is raised and there is no except branch dedicated to this exception, it will be handled by the default branch.\n",
    "\n",
    "Note: **The default except branch must be the last except branch. Always!**"
   ]
  },
  {
   "cell_type": "code",
   "execution_count": null,
   "id": "fa8bdca4",
   "metadata": {},
   "outputs": [],
   "source": [
    "try:\n",
    "    value = int(input('Enter a natural number: '))\n",
    "    print(f'The reciprocal of {value} is {1/value}')\n",
    "    print(value/\"hello\")\n",
    "except ValueError:\n",
    "    print('Wrong entered data')    \n",
    "except ZeroDivisionError:\n",
    "    print('Division by zero is not allowed')    \n",
    "except:\n",
    "    print('Something strange has happened here... Sorry!')"
   ]
  },
  {
   "cell_type": "markdown",
   "id": "51ee42f0",
   "metadata": {},
   "source": [
    "### `finally` clause\n",
    "Everything in the finally clause will be executed. It does not matter if you encounter an exception somewhere in the `try` or `else` clauses. Running the previous code on a Windows machine would output the following:"
   ]
  },
  {
   "cell_type": "code",
   "execution_count": null,
   "id": "c80b54a2",
   "metadata": {},
   "outputs": [],
   "source": [
    "try:\n",
    "    value = int(input('Enter a natural number: '))\n",
    "    print(f'The reciprocal of {value} is {1/value}')          \n",
    "except ValueError:\n",
    "    print('I do not know what to do.')    \n",
    "except ZeroDivisionError:\n",
    "    print('Division by zero is not allowed')    \n",
    "except:\n",
    "    print('Something strange has happened here... Sorry!')\n",
    "finally:\n",
    "    print(\"OK then\")"
   ]
  },
  {
   "cell_type": "code",
   "execution_count": null,
   "id": "99500e2a",
   "metadata": {},
   "outputs": [],
   "source": [
    "try:\n",
    "    value = int(input('Enter a natural number: '))\n",
    "    print(f'The reciprocal of {value} is {1/value}')          \n",
    "except ValueError as e:\n",
    "    print('I do not know what to do:', e)    \n",
    "except ZeroDivisionError:\n",
    "    print('Division by zero is not allowed')    \n",
    "except:\n",
    "    print('Something strange has happened here... Sorry!')\n",
    "else:\n",
    "    print('We don\\'t have any problem with this code')\n",
    "finally:\n",
    "    print(\"OK then\")"
   ]
  },
  {
   "cell_type": "markdown",
   "id": "1d419fc6",
   "metadata": {},
   "source": [
    "**Note: if we put the code with an error in the `exception` block, the error will still occur!!**"
   ]
  },
  {
   "cell_type": "code",
   "execution_count": 54,
   "id": "6bf5ca19",
   "metadata": {},
   "outputs": [
    {
     "name": "stdout",
     "output_type": "stream",
     "text": [
      "Something strange has happened here... Sorry!\n",
      "OK then\n"
     ]
    }
   ],
   "source": [
    "try:\n",
    "    value = int(input('Enter a natural number: '))\n",
    "    print(f'The reciprocal of {value} is {1/value}')          \n",
    "except ValueError:\n",
    "    1/value\n",
    "    print('I do not know what to do.')    \n",
    "except ZeroDivisionError:\n",
    "    print('Division by zero is not allowed')    \n",
    "except:\n",
    "    print('Something strange has happened here... Sorry!')\n",
    "finally:\n",
    "    print(\"OK then\")"
   ]
  },
  {
   "cell_type": "code",
   "execution_count": null,
   "id": "5a2ce893",
   "metadata": {},
   "outputs": [],
   "source": [
    "try:\n",
    "    # Code that may raise an exception\n",
    "    # ...\n",
    "    result = 10 / 0  # This will raise a ZeroDivisionError\n",
    "    # ...\n",
    "except ZeroDivisionError as e:\n",
    "    # Handling a specific exception\n",
    "    print(\"Error:\", e)\n",
    "except ValueError as e:\n",
    "    # Handling a different specific exception\n",
    "    print(\"Value Error occurred:\", e)\n",
    "except Exception as e:\n",
    "    # Handling any other exceptions\n",
    "    print(\"An error occurred:\", e)\n",
    "else:\n",
    "    # This block executes if no exceptions were raised\n",
    "    print(\"No exceptions occurred.\")\n",
    "finally:\n",
    "    # This block always executes, regardless of whether an exception occurred or not\n",
    "    print(\"Finally block - This will execute no matter what.\")"
   ]
  },
  {
   "cell_type": "markdown",
   "id": "f44051b9",
   "metadata": {},
   "source": [
    "### Raise an exception\n",
    "As a Python developer you can choose to throw an exception if a condition occurs.\n",
    "\n",
    "To throw (or raise) an exception, use the `raise` keyword."
   ]
  },
  {
   "cell_type": "markdown",
   "id": "3a3fb1a6",
   "metadata": {},
   "source": [
    "### Example: \n",
    "Raise an error and stop the program if x is lower than 0:"
   ]
  },
  {
   "cell_type": "code",
   "execution_count": null,
   "id": "f2cd5f44",
   "metadata": {},
   "outputs": [],
   "source": [
    "x = -1\n",
    "\n",
    "if x < 0:\n",
    "    raise Exception(\"Sorry, no numbers below zero\")"
   ]
  },
  {
   "cell_type": "code",
   "execution_count": null,
   "id": "79d94f6a",
   "metadata": {},
   "outputs": [],
   "source": [
    "x = \"hello\"\n",
    "\n",
    "if type(x) is not int:\n",
    "    raise TypeError(\"Only integers are allowed\")"
   ]
  },
  {
   "cell_type": "code",
   "execution_count": null,
   "id": "143f5514",
   "metadata": {},
   "outputs": [],
   "source": [
    "def divide(a, b):\n",
    "    if b == 0:\n",
    "        raise ValueError(\"Division by zero is not allowed\")\n",
    "    return a / b\n",
    "\n",
    "try:\n",
    "    result = divide(10, 0)\n",
    "except ValueError as e:\n",
    "    print(\"Error:\", e)"
   ]
  },
  {
   "cell_type": "code",
   "execution_count": null,
   "id": "50f7ed9d",
   "metadata": {},
   "outputs": [],
   "source": []
  }
 ],
 "metadata": {
  "kernelspec": {
   "display_name": "Python 3",
   "language": "python",
   "name": "python3"
  },
  "language_info": {
   "codemirror_mode": {
    "name": "ipython",
    "version": 3
   },
   "file_extension": ".py",
   "mimetype": "text/x-python",
   "name": "python",
   "nbconvert_exporter": "python",
   "pygments_lexer": "ipython3",
   "version": "3.8.2"
  }
 },
 "nbformat": 4,
 "nbformat_minor": 5
}
