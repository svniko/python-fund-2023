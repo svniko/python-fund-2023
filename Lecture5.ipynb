{
 "cells": [
  {
   "cell_type": "markdown",
   "id": "2799e181",
   "metadata": {},
   "source": [
    "<a target=\"_blank\" href=\"https://colab.research.google.com/github/svniko/python-fund-2023/blob/main/Lecture5.ipynb\">\n",
    "  <img src=\"https://colab.research.google.com/assets/colab-badge.svg\" alt=\"Open In Colab\"/>\n",
    "</a>"
   ]
  },
  {
   "cell_type": "markdown",
   "id": "48f90764",
   "metadata": {},
   "source": [
    "# Списки"
   ]
  },
  {
   "cell_type": "code",
   "execution_count": null,
   "id": "5f0470f5",
   "metadata": {},
   "outputs": [],
   "source": [
    "int\n",
    "float\n",
    "bool\n",
    "\n",
    "list\n",
    "tuple\n",
    "set\n",
    "str\n",
    "\n",
    "dict\n"
   ]
  },
  {
   "cell_type": "code",
   "execution_count": null,
   "id": "ce42841a",
   "metadata": {},
   "outputs": [],
   "source": [
    "list_name = [val1, val2, ..., valN]"
   ]
  },
  {
   "cell_type": "code",
   "execution_count": 3,
   "id": "c3a2ae04",
   "metadata": {},
   "outputs": [
    {
     "data": {
      "text/plain": [
       "[10, None, 5.0, 'Hello', '2', True, [1, 2, 3]]"
      ]
     },
     "execution_count": 3,
     "metadata": {},
     "output_type": "execute_result"
    }
   ],
   "source": [
    "numbers = [10, None, 5.0, \"Hello\", \"2\", True, [1, 2, 3]]\n",
    "numbers"
   ]
  },
  {
   "cell_type": "code",
   "execution_count": 4,
   "id": "d9eb712a",
   "metadata": {},
   "outputs": [
    {
     "data": {
      "text/plain": [
       "10"
      ]
     },
     "execution_count": 4,
     "metadata": {},
     "output_type": "execute_result"
    }
   ],
   "source": [
    "numbers[0]"
   ]
  },
  {
   "cell_type": "code",
   "execution_count": 5,
   "id": "6f5ddfb7",
   "metadata": {},
   "outputs": [
    {
     "data": {
      "text/plain": [
       "105842792"
      ]
     },
     "execution_count": 5,
     "metadata": {},
     "output_type": "execute_result"
    }
   ],
   "source": [
    "id(numbers)"
   ]
  },
  {
   "cell_type": "code",
   "execution_count": 6,
   "id": "01c4b272",
   "metadata": {},
   "outputs": [
    {
     "data": {
      "text/plain": [
       "[111, None, 5.0, 'Hello', '2', True, [1, 2, 3]]"
      ]
     },
     "execution_count": 6,
     "metadata": {},
     "output_type": "execute_result"
    }
   ],
   "source": [
    "numbers[0] = 111\n",
    "numbers"
   ]
  },
  {
   "cell_type": "code",
   "execution_count": 7,
   "id": "f3830a41",
   "metadata": {},
   "outputs": [
    {
     "data": {
      "text/plain": [
       "105842792"
      ]
     },
     "execution_count": 7,
     "metadata": {},
     "output_type": "execute_result"
    }
   ],
   "source": [
    "id(numbers)"
   ]
  },
  {
   "cell_type": "code",
   "execution_count": 8,
   "id": "e9233683",
   "metadata": {},
   "outputs": [
    {
     "data": {
      "text/plain": [
       "7"
      ]
     },
     "execution_count": 8,
     "metadata": {},
     "output_type": "execute_result"
    }
   ],
   "source": [
    "len(numbers)"
   ]
  },
  {
   "cell_type": "code",
   "execution_count": 9,
   "id": "9bca6231",
   "metadata": {},
   "outputs": [
    {
     "data": {
      "text/plain": [
       "2"
      ]
     },
     "execution_count": 9,
     "metadata": {},
     "output_type": "execute_result"
    }
   ],
   "source": [
    "numbers[6][1]"
   ]
  },
  {
   "cell_type": "code",
   "execution_count": 10,
   "id": "17b515f3",
   "metadata": {},
   "outputs": [
    {
     "data": {
      "text/plain": [
       "2"
      ]
     },
     "execution_count": 10,
     "metadata": {},
     "output_type": "execute_result"
    }
   ],
   "source": [
    "numbers[-1][1]"
   ]
  },
  {
   "cell_type": "code",
   "execution_count": 11,
   "id": "af886312",
   "metadata": {},
   "outputs": [
    {
     "ename": "IndexError",
     "evalue": "list index out of range",
     "output_type": "error",
     "traceback": [
      "\u001b[1;31m---------------------------------------------------------------------------\u001b[0m",
      "\u001b[1;31mIndexError\u001b[0m                                Traceback (most recent call last)",
      "Cell \u001b[1;32mIn[11], line 1\u001b[0m\n\u001b[1;32m----> 1\u001b[0m \u001b[43mnumbers\u001b[49m\u001b[43m[\u001b[49m\u001b[38;5;241;43m7\u001b[39;49m\u001b[43m]\u001b[49m\n",
      "\u001b[1;31mIndexError\u001b[0m: list index out of range"
     ]
    }
   ],
   "source": [
    "numbers[7]"
   ]
  },
  {
   "cell_type": "code",
   "execution_count": 12,
   "id": "49ea2579",
   "metadata": {},
   "outputs": [
    {
     "data": {
      "text/plain": [
       "[111, None, 5.0, 'Hello', '2', True, [1, 2, 3]]"
      ]
     },
     "execution_count": 12,
     "metadata": {},
     "output_type": "execute_result"
    }
   ],
   "source": [
    "numbers"
   ]
  },
  {
   "cell_type": "code",
   "execution_count": 13,
   "id": "563a4e1e",
   "metadata": {},
   "outputs": [
    {
     "data": {
      "text/plain": [
       "[111, 5.0, 'Hello', '2', True, [1, 2, 3]]"
      ]
     },
     "execution_count": 13,
     "metadata": {},
     "output_type": "execute_result"
    }
   ],
   "source": [
    "del numbers[1]\n",
    "numbers"
   ]
  },
  {
   "cell_type": "code",
   "execution_count": 14,
   "id": "b91373e3",
   "metadata": {
    "scrolled": true
   },
   "outputs": [
    {
     "ename": "NameError",
     "evalue": "name 'numbers' is not defined",
     "output_type": "error",
     "traceback": [
      "\u001b[1;31m---------------------------------------------------------------------------\u001b[0m",
      "\u001b[1;31mNameError\u001b[0m                                 Traceback (most recent call last)",
      "Cell \u001b[1;32mIn[14], line 2\u001b[0m\n\u001b[0;32m      1\u001b[0m \u001b[38;5;28;01mdel\u001b[39;00m numbers\n\u001b[1;32m----> 2\u001b[0m \u001b[43mnumbers\u001b[49m\n",
      "\u001b[1;31mNameError\u001b[0m: name 'numbers' is not defined"
     ]
    }
   ],
   "source": [
    "del numbers\n",
    "numbers"
   ]
  },
  {
   "cell_type": "code",
   "execution_count": null,
   "id": "7b9f88a9",
   "metadata": {},
   "outputs": [],
   "source": [
    "Функції та методи"
   ]
  },
  {
   "cell_type": "code",
   "execution_count": null,
   "id": "8213f52f",
   "metadata": {},
   "outputs": [],
   "source": [
    "# result = function(arg)\n"
   ]
  },
  {
   "cell_type": "code",
   "execution_count": 15,
   "id": "f5b9e2f7",
   "metadata": {},
   "outputs": [
    {
     "data": {
      "text/plain": [
       "7"
      ]
     },
     "execution_count": 15,
     "metadata": {},
     "output_type": "execute_result"
    }
   ],
   "source": [
    "numbers = [10, None, 5.0, \"Hello\", \"2\", True, [1, 2, 3]]\n",
    "l = len(numbers)\n",
    "l"
   ]
  },
  {
   "cell_type": "code",
   "execution_count": null,
   "id": "544d3dfe",
   "metadata": {},
   "outputs": [],
   "source": [
    "# result = data.method(arg)"
   ]
  },
  {
   "cell_type": "code",
   "execution_count": 16,
   "id": "a3eed991",
   "metadata": {},
   "outputs": [
    {
     "data": {
      "text/plain": [
       "[10, None, 5.0, 'Hello', '2', True, [1, 2, 3]]"
      ]
     },
     "execution_count": 16,
     "metadata": {},
     "output_type": "execute_result"
    }
   ],
   "source": [
    "numbers"
   ]
  },
  {
   "cell_type": "code",
   "execution_count": 17,
   "id": "55b8872c",
   "metadata": {},
   "outputs": [
    {
     "name": "stdout",
     "output_type": "stream",
     "text": [
      "8\n",
      "[10, None, 5.0, 'Hello', '2', True, [1, 2, 3], 'new item']\n"
     ]
    }
   ],
   "source": [
    "numbers.append('new item')\n",
    "print(len(numbers))\n",
    "print(numbers)"
   ]
  },
  {
   "cell_type": "code",
   "execution_count": 20,
   "id": "f2448ba1",
   "metadata": {},
   "outputs": [
    {
     "name": "stdout",
     "output_type": "stream",
     "text": [
      "None\n"
     ]
    }
   ],
   "source": [
    "result = numbers.append('the newest item')\n",
    "print(result)"
   ]
  },
  {
   "cell_type": "code",
   "execution_count": 19,
   "id": "e2a0ff31",
   "metadata": {},
   "outputs": [
    {
     "data": {
      "text/plain": [
       "[10, None, 5.0, 'Hello', '2', True, [1, 2, 3], 'new item', 'the newest item']"
      ]
     },
     "execution_count": 19,
     "metadata": {},
     "output_type": "execute_result"
    }
   ],
   "source": [
    "numbers"
   ]
  },
  {
   "cell_type": "code",
   "execution_count": 21,
   "id": "354b7080",
   "metadata": {},
   "outputs": [
    {
     "data": {
      "text/plain": [
       "[222,\n",
       " 10,\n",
       " None,\n",
       " 5.0,\n",
       " 'Hello',\n",
       " '2',\n",
       " True,\n",
       " [1, 2, 3],\n",
       " 'new item',\n",
       " 'the newest item',\n",
       " 'the newest item']"
      ]
     },
     "execution_count": 21,
     "metadata": {},
     "output_type": "execute_result"
    }
   ],
   "source": [
    "numbers.insert(0, 222)\n",
    "numbers"
   ]
  },
  {
   "cell_type": "code",
   "execution_count": 22,
   "id": "bd588a62",
   "metadata": {},
   "outputs": [
    {
     "data": {
      "text/plain": [
       "['__add__',\n",
       " '__class__',\n",
       " '__contains__',\n",
       " '__delattr__',\n",
       " '__delitem__',\n",
       " '__dir__',\n",
       " '__doc__',\n",
       " '__eq__',\n",
       " '__format__',\n",
       " '__ge__',\n",
       " '__getattribute__',\n",
       " '__getitem__',\n",
       " '__gt__',\n",
       " '__hash__',\n",
       " '__iadd__',\n",
       " '__imul__',\n",
       " '__init__',\n",
       " '__init_subclass__',\n",
       " '__iter__',\n",
       " '__le__',\n",
       " '__len__',\n",
       " '__lt__',\n",
       " '__mul__',\n",
       " '__ne__',\n",
       " '__new__',\n",
       " '__reduce__',\n",
       " '__reduce_ex__',\n",
       " '__repr__',\n",
       " '__reversed__',\n",
       " '__rmul__',\n",
       " '__setattr__',\n",
       " '__setitem__',\n",
       " '__sizeof__',\n",
       " '__str__',\n",
       " '__subclasshook__',\n",
       " 'append',\n",
       " 'clear',\n",
       " 'copy',\n",
       " 'count',\n",
       " 'extend',\n",
       " 'index',\n",
       " 'insert',\n",
       " 'pop',\n",
       " 'remove',\n",
       " 'reverse',\n",
       " 'sort']"
      ]
     },
     "execution_count": 22,
     "metadata": {},
     "output_type": "execute_result"
    }
   ],
   "source": [
    "dir(numbers)"
   ]
  },
  {
   "cell_type": "code",
   "execution_count": 25,
   "id": "100ff176",
   "metadata": {},
   "outputs": [
    {
     "data": {
      "text/plain": [
       "[1, 2, 3, 4, 5]"
      ]
     },
     "execution_count": 25,
     "metadata": {},
     "output_type": "execute_result"
    }
   ],
   "source": [
    "list(range(1, 6))"
   ]
  },
  {
   "cell_type": "code",
   "execution_count": 24,
   "id": "d6b3f952",
   "metadata": {},
   "outputs": [
    {
     "data": {
      "text/plain": [
       "[1, 2, 3, 4, 5]"
      ]
     },
     "execution_count": 24,
     "metadata": {},
     "output_type": "execute_result"
    }
   ],
   "source": [
    "my_list = []\n",
    "\n",
    "for i in range(5):\n",
    "    my_list.append(i + 1)\n",
    "    \n",
    "my_list"
   ]
  },
  {
   "cell_type": "code",
   "execution_count": 26,
   "id": "bd2e68a1",
   "metadata": {},
   "outputs": [
    {
     "data": {
      "text/plain": [
       "[5, 4, 3, 2, 1]"
      ]
     },
     "execution_count": 26,
     "metadata": {},
     "output_type": "execute_result"
    }
   ],
   "source": [
    "my_list = []\n",
    "\n",
    "for i in range(5):\n",
    "    my_list.insert(0, i + 1)\n",
    "    \n",
    "my_list"
   ]
  },
  {
   "cell_type": "code",
   "execution_count": 27,
   "id": "f803f719",
   "metadata": {},
   "outputs": [
    {
     "data": {
      "text/plain": [
       "15"
      ]
     },
     "execution_count": 27,
     "metadata": {},
     "output_type": "execute_result"
    }
   ],
   "source": [
    "total = 0\n",
    "\n",
    "for i in my_list:\n",
    "    total += i\n",
    "\n",
    "total"
   ]
  },
  {
   "cell_type": "markdown",
   "id": "77a4f191",
   "metadata": {},
   "source": [
    "Бульбашкове сортування"
   ]
  },
  {
   "cell_type": "code",
   "execution_count": 30,
   "id": "e9c157ca",
   "metadata": {},
   "outputs": [
    {
     "name": "stdout",
     "output_type": "stream",
     "text": [
      "4 3\n"
     ]
    }
   ],
   "source": [
    "var1 = 3\n",
    "var2 = 4\n",
    "\n",
    "additional = var1\n",
    "var1 = var2\n",
    "var2 = additional\n",
    "print(var1, var2)"
   ]
  },
  {
   "cell_type": "code",
   "execution_count": 31,
   "id": "8d29e624",
   "metadata": {},
   "outputs": [
    {
     "name": "stdout",
     "output_type": "stream",
     "text": [
      "4 3\n"
     ]
    }
   ],
   "source": [
    "var1 = 3\n",
    "var2 = 4\n",
    "\n",
    "var1 += var2\n",
    "var2 = var1 - var2\n",
    "var1 = var1 - var2\n",
    "print(var1, var2)"
   ]
  },
  {
   "cell_type": "code",
   "execution_count": 33,
   "id": "e3615852",
   "metadata": {
    "scrolled": true
   },
   "outputs": [
    {
     "name": "stdout",
     "output_type": "stream",
     "text": [
      "4 3\n"
     ]
    }
   ],
   "source": [
    "var1 = 3\n",
    "var2 = 4\n",
    "\n",
    "var1, var2 = var2, var1\n",
    "print(var1, var2)"
   ]
  },
  {
   "cell_type": "code",
   "execution_count": 42,
   "id": "252661bb",
   "metadata": {},
   "outputs": [
    {
     "name": "stdout",
     "output_type": "stream",
     "text": [
      "Help on method randint in module random:\n",
      "\n",
      "randint(a, b) method of random.Random instance\n",
      "    Return random integer in range [a, b], including both end points.\n",
      "\n"
     ]
    }
   ],
   "source": [
    "import random\n",
    "help(random.randint)"
   ]
  },
  {
   "cell_type": "code",
   "execution_count": 46,
   "id": "767a584b",
   "metadata": {},
   "outputs": [
    {
     "data": {
      "text/plain": [
       "[964, -968, 904, 592, 689, 114, -220, -352, -36, 561]"
      ]
     },
     "execution_count": 46,
     "metadata": {},
     "output_type": "execute_result"
    }
   ],
   "source": [
    "my_list_input = [random.randint(-1000, 1000) for i in range(2000)]\n",
    "my_list_input[0:10]"
   ]
  },
  {
   "cell_type": "code",
   "execution_count": 64,
   "id": "bcd32375",
   "metadata": {},
   "outputs": [
    {
     "name": "stdout",
     "output_type": "stream",
     "text": [
      "[964, -968, 904, 592, 689, 114, -220, -352, -36, 561]\n"
     ]
    }
   ],
   "source": [
    "# варіант з повним проходженням\n",
    "# my_list = [8, 10, 6, 2, 4]\n",
    "my_list = my_list_input.copy()\n",
    "print(my_list[0:10])"
   ]
  },
  {
   "cell_type": "code",
   "execution_count": 65,
   "id": "b41287bb",
   "metadata": {},
   "outputs": [
    {
     "name": "stdout",
     "output_type": "stream",
     "text": [
      "[-999, -999, -997, -996, -995, -994, -993, -993, -992, -991]\n",
      "CPU times: total: 3.62 s\n",
      "Wall time: 6.03 s\n"
     ]
    }
   ],
   "source": [
    "%%time\n",
    "for i in range(len(my_list)):\n",
    "    for j in range(len(my_list)-1):\n",
    "        if my_list[j] > my_list[j + 1]:\n",
    "            my_list[j], my_list[j + 1] = my_list[j + 1], my_list[j]\n",
    "\n",
    "print(my_list[0:10])"
   ]
  },
  {
   "cell_type": "code",
   "execution_count": 60,
   "id": "8ae348a8",
   "metadata": {},
   "outputs": [
    {
     "name": "stdout",
     "output_type": "stream",
     "text": [
      "[964, -968, 904, 592, 689, 114, -220, -352, -36, 561]\n"
     ]
    }
   ],
   "source": [
    "my_list = my_list_input.copy()\n",
    "print(my_list[0:10])"
   ]
  },
  {
   "cell_type": "code",
   "execution_count": 61,
   "id": "765defe4",
   "metadata": {},
   "outputs": [
    {
     "name": "stdout",
     "output_type": "stream",
     "text": [
      "[-999, -999, -997, -996, -995, -994, -993, -993, -992, -991]\n",
      "CPU times: total: 2.19 s\n",
      "Wall time: 3.13 s\n"
     ]
    }
   ],
   "source": [
    "%%time\n",
    "# варіант з зупинкою перед відсортованою частиною\n",
    "# my_list = [8, 10, 6, 2, 4]\n",
    "\n",
    "for i in range(len(my_list)):\n",
    "    for j in range(len(my_list)-1 - i):\n",
    "        if my_list[j] > my_list[j + 1]:\n",
    "            my_list[j], my_list[j + 1] = my_list[j + 1], my_list[j]\n",
    "\n",
    "print(my_list[0:10])\n"
   ]
  },
  {
   "cell_type": "code",
   "execution_count": 62,
   "id": "1043786a",
   "metadata": {},
   "outputs": [
    {
     "name": "stdout",
     "output_type": "stream",
     "text": [
      "[964, -968, 904, 592, 689, 114, -220, -352, -36, 561]\n"
     ]
    }
   ],
   "source": [
    "my_list = my_list_input.copy()\n",
    "print(my_list[0:10])"
   ]
  },
  {
   "cell_type": "code",
   "execution_count": 63,
   "id": "76618972",
   "metadata": {},
   "outputs": [
    {
     "name": "stdout",
     "output_type": "stream",
     "text": [
      "[-999, -999, -997, -996, -995, -994, -993, -993, -992, -991]\n",
      "CPU times: total: 3.75 s\n",
      "Wall time: 4.53 s\n"
     ]
    }
   ],
   "source": [
    "%%time\n",
    "# my_list = [8, 10, 6, 2, 4]\n",
    "\n",
    "swapped = True\n",
    "\n",
    "while swapped:\n",
    "    swapped = False\n",
    "    for j in range(len(my_list)-1):\n",
    "        if my_list[j] > my_list[j + 1]:\n",
    "            swapped = True\n",
    "            my_list[j], my_list[j + 1] = my_list[j + 1], my_list[j]\n",
    "\n",
    "print(my_list[0:10])"
   ]
  },
  {
   "cell_type": "code",
   "execution_count": 66,
   "id": "f234ac10",
   "metadata": {},
   "outputs": [
    {
     "data": {
      "text/plain": [
       "[-999, -999, -997, -996, -995, -994, -993, -993, -992, -991]"
      ]
     },
     "execution_count": 66,
     "metadata": {},
     "output_type": "execute_result"
    }
   ],
   "source": [
    "my_list.sort()\n",
    "my_list[:10]"
   ]
  },
  {
   "cell_type": "code",
   "execution_count": 67,
   "id": "dd2971c9",
   "metadata": {},
   "outputs": [
    {
     "data": {
      "text/plain": [
       "[1, 2, 3, 5, 6, 7]"
      ]
     },
     "execution_count": 67,
     "metadata": {},
     "output_type": "execute_result"
    }
   ],
   "source": [
    "lst = [2, 5, 6, 1, 7, 3]\n",
    "lst.sort()\n",
    "lst"
   ]
  },
  {
   "cell_type": "code",
   "execution_count": 70,
   "id": "9ce27337",
   "metadata": {},
   "outputs": [
    {
     "data": {
      "text/plain": [
       "[1, 2, 3, 5, 6, 7]"
      ]
     },
     "execution_count": 70,
     "metadata": {},
     "output_type": "execute_result"
    }
   ],
   "source": [
    "lst = [2, 5, 6, 1, 7, 3]\n",
    "lst_sort = sorted(lst)\n",
    "lst_sort"
   ]
  },
  {
   "cell_type": "code",
   "execution_count": 71,
   "id": "2de9ae22",
   "metadata": {},
   "outputs": [
    {
     "data": {
      "text/plain": [
       "[2, 5, 6, 1, 7, 3]"
      ]
     },
     "execution_count": 71,
     "metadata": {},
     "output_type": "execute_result"
    }
   ],
   "source": [
    "lst"
   ]
  },
  {
   "cell_type": "code",
   "execution_count": 72,
   "id": "21ffc0cb",
   "metadata": {},
   "outputs": [
    {
     "data": {
      "text/plain": [
       "[2, 2, 3, 4]"
      ]
     },
     "execution_count": 72,
     "metadata": {},
     "output_type": "execute_result"
    }
   ],
   "source": [
    "list_1 = [1, 2, 3, 4]\n",
    "list_2 = list_1\n",
    "list_1[0] = 2\n",
    "list_1"
   ]
  },
  {
   "cell_type": "code",
   "execution_count": 73,
   "id": "7f11dff3",
   "metadata": {},
   "outputs": [
    {
     "data": {
      "text/plain": [
       "[2, 2, 3, 4]"
      ]
     },
     "execution_count": 73,
     "metadata": {},
     "output_type": "execute_result"
    }
   ],
   "source": [
    "list_2"
   ]
  },
  {
   "cell_type": "code",
   "execution_count": 74,
   "id": "9ae97b1a",
   "metadata": {},
   "outputs": [
    {
     "data": {
      "text/plain": [
       "['__add__',\n",
       " '__class__',\n",
       " '__contains__',\n",
       " '__delattr__',\n",
       " '__delitem__',\n",
       " '__dir__',\n",
       " '__doc__',\n",
       " '__eq__',\n",
       " '__format__',\n",
       " '__ge__',\n",
       " '__getattribute__',\n",
       " '__getitem__',\n",
       " '__gt__',\n",
       " '__hash__',\n",
       " '__iadd__',\n",
       " '__imul__',\n",
       " '__init__',\n",
       " '__init_subclass__',\n",
       " '__iter__',\n",
       " '__le__',\n",
       " '__len__',\n",
       " '__lt__',\n",
       " '__mul__',\n",
       " '__ne__',\n",
       " '__new__',\n",
       " '__reduce__',\n",
       " '__reduce_ex__',\n",
       " '__repr__',\n",
       " '__reversed__',\n",
       " '__rmul__',\n",
       " '__setattr__',\n",
       " '__setitem__',\n",
       " '__sizeof__',\n",
       " '__str__',\n",
       " '__subclasshook__',\n",
       " 'append',\n",
       " 'clear',\n",
       " 'copy',\n",
       " 'count',\n",
       " 'extend',\n",
       " 'index',\n",
       " 'insert',\n",
       " 'pop',\n",
       " 'remove',\n",
       " 'reverse',\n",
       " 'sort']"
      ]
     },
     "execution_count": 74,
     "metadata": {},
     "output_type": "execute_result"
    }
   ],
   "source": [
    "dir(list)"
   ]
  },
  {
   "cell_type": "code",
   "execution_count": 75,
   "id": "b627c427",
   "metadata": {},
   "outputs": [
    {
     "data": {
      "text/plain": [
       "[2, 2, 3, 4]"
      ]
     },
     "execution_count": 75,
     "metadata": {},
     "output_type": "execute_result"
    }
   ],
   "source": [
    "list_1"
   ]
  },
  {
   "cell_type": "code",
   "execution_count": 76,
   "id": "a1b79d02",
   "metadata": {},
   "outputs": [
    {
     "data": {
      "text/plain": [
       "[200, 2, 3, 4]"
      ]
     },
     "execution_count": 76,
     "metadata": {},
     "output_type": "execute_result"
    }
   ],
   "source": [
    "list_2 = list_1.copy()\n",
    "list_1[0] = 200\n",
    "list_1"
   ]
  },
  {
   "cell_type": "code",
   "execution_count": 77,
   "id": "216054fc",
   "metadata": {},
   "outputs": [
    {
     "data": {
      "text/plain": [
       "[2, 2, 3, 4]"
      ]
     },
     "execution_count": 77,
     "metadata": {},
     "output_type": "execute_result"
    }
   ],
   "source": [
    "list_2"
   ]
  },
  {
   "cell_type": "code",
   "execution_count": 78,
   "id": "ee69ec8e",
   "metadata": {},
   "outputs": [
    {
     "data": {
      "text/plain": [
       "[1, 2, [200, 4, 5]]"
      ]
     },
     "execution_count": 78,
     "metadata": {},
     "output_type": "execute_result"
    }
   ],
   "source": [
    "list_1 = [1, 2, [3, 4, 5]]\n",
    "list_2 = list_1.copy()\n",
    "list_1[-1][0] = 200\n",
    "list_1"
   ]
  },
  {
   "cell_type": "code",
   "execution_count": 79,
   "id": "1acf881b",
   "metadata": {},
   "outputs": [
    {
     "data": {
      "text/plain": [
       "[1, 2, [200, 4, 5]]"
      ]
     },
     "execution_count": 79,
     "metadata": {},
     "output_type": "execute_result"
    }
   ],
   "source": [
    "list_2"
   ]
  },
  {
   "cell_type": "markdown",
   "id": "6004b289",
   "metadata": {},
   "source": [
    "## Вправи для самоперевірки"
   ]
  },
  {
   "cell_type": "code",
   "execution_count": null,
   "id": "1536a89c",
   "metadata": {},
   "outputs": [],
   "source": [
    "#What is the output of the following snippet?\n",
    "lst = [1, 2, 3, 4, 5]\n",
    "lst.insert(1, 6)\n",
    "del lst[0]\n",
    "lst.append(1)\n",
    "\n",
    "print(lst)"
   ]
  },
  {
   "cell_type": "code",
   "execution_count": null,
   "id": "3cbe8e3d",
   "metadata": {},
   "outputs": [],
   "source": [
    "#What is the output of the following snippet?\n",
    "lst = [1, 2, 3, 4, 5]\n",
    "lst_2 = []\n",
    "add = 0\n",
    "\n",
    "for number in lst:\n",
    "    add += number\n",
    "    lst_2.append(add)\n",
    "\n",
    "print(lst_2)"
   ]
  },
  {
   "cell_type": "code",
   "execution_count": null,
   "id": "3e0be688",
   "metadata": {},
   "outputs": [],
   "source": [
    "#What happens when you run the following snippet?\n",
    "lst = []\n",
    "del lst\n",
    "print(lst)"
   ]
  },
  {
   "cell_type": "code",
   "execution_count": null,
   "id": "06f65300",
   "metadata": {},
   "outputs": [],
   "source": [
    "#What is the output of the following snippet?\n",
    "lst = [1, [2, 3], 4]\n",
    "print(lst[1])\n",
    "print(len(lst))"
   ]
  },
  {
   "cell_type": "code",
   "execution_count": null,
   "id": "8f2f8a3d",
   "metadata": {},
   "outputs": [],
   "source": [
    "#What is the output of the following snippet?\n",
    "lst = [\"D\", \"F\", \"A\", \"Z\"]\n",
    "lst.sort()\n",
    "\n",
    "print(lst)"
   ]
  },
  {
   "cell_type": "code",
   "execution_count": null,
   "id": "eb99765f",
   "metadata": {},
   "outputs": [],
   "source": [
    "#What is the output of the following snippet?\n",
    "a = 3\n",
    "b = 1\n",
    "c = 2\n",
    "\n",
    "lst = [a, c, b]\n",
    "lst.sort()\n",
    "\n",
    "print(lst)"
   ]
  },
  {
   "cell_type": "code",
   "execution_count": null,
   "id": "3ef10fc4",
   "metadata": {},
   "outputs": [],
   "source": [
    "#What is the output of the following snippet?\n",
    "a = \"A\"\n",
    "b = \"B\"\n",
    "c = \"C\"\n",
    "d = \" \"\n",
    "\n",
    "lst = [a, b, c, d]\n",
    "lst.reverse()\n",
    "\n",
    "print(lst)"
   ]
  },
  {
   "cell_type": "code",
   "execution_count": null,
   "id": "11cc486f",
   "metadata": {},
   "outputs": [],
   "source": [
    "#What is the output of the following snippet?\n",
    "list_1 = [\"A\", \"B\", \"C\"]\n",
    "list_2 = list_1\n",
    "list_3 = list_2\n",
    "\n",
    "del list_1[0]\n",
    "del list_2[0]\n",
    "\n",
    "print(list_3)\n"
   ]
  },
  {
   "cell_type": "code",
   "execution_count": null,
   "id": "dd65c0b4",
   "metadata": {},
   "outputs": [],
   "source": [
    "#What is the output of the following snippet?\n",
    "list_1 = [\"A\", \"B\", \"C\"]\n",
    "list_2 = list_1\n",
    "list_3 = list_2\n",
    "\n",
    "del list_1[0]\n",
    "del list_2\n",
    "\n",
    "print(list_3)"
   ]
  },
  {
   "cell_type": "code",
   "execution_count": null,
   "id": "f9966df4",
   "metadata": {},
   "outputs": [],
   "source": [
    "#What is the output of the following snippet?\n",
    "list_1 = [\"A\", \"B\", \"C\"]\n",
    "list_2 = list_1\n",
    "list_3 = list_2\n",
    "\n",
    "del list_1[0]\n",
    "del list_2[:]\n",
    "\n",
    "print(list_3)"
   ]
  },
  {
   "cell_type": "code",
   "execution_count": null,
   "id": "5db09554",
   "metadata": {},
   "outputs": [],
   "source": [
    "#What is the output of the following snippet?\n",
    "list_1 = [\"A\", \"B\", \"C\"]\n",
    "list_2 = list_1[:]\n",
    "list_3 = list_2[:]\n",
    "\n",
    "del list_1[0]\n",
    "del list_2[0]\n",
    "\n",
    "print(list_3)"
   ]
  },
  {
   "cell_type": "code",
   "execution_count": null,
   "id": "e0ec7ded",
   "metadata": {},
   "outputs": [],
   "source": [
    "#Insert in or not in instead of ??? so that the code outputs the expected result.\n",
    "my_list = [1, 2, \"in\", True, \"ABC\"]\n",
    "\n",
    "# print(1 ??? my_list)  # outputs True\n",
    "# print(\"A\" ??? my_list)  # outputs True\n",
    "# print(3 ??? my_list)  # outputs True\n",
    "# print(False ??? my_list)  # outputs False"
   ]
  },
  {
   "cell_type": "code",
   "execution_count": null,
   "id": "8610d4c3",
   "metadata": {},
   "outputs": [],
   "source": []
  }
 ],
 "metadata": {
  "kernelspec": {
   "display_name": "Python 3",
   "language": "python",
   "name": "python3"
  },
  "language_info": {
   "codemirror_mode": {
    "name": "ipython",
    "version": 3
   },
   "file_extension": ".py",
   "mimetype": "text/x-python",
   "name": "python",
   "nbconvert_exporter": "python",
   "pygments_lexer": "ipython3",
   "version": "3.8.2"
  }
 },
 "nbformat": 4,
 "nbformat_minor": 5
}
