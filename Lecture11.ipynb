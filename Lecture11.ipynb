{
 "cells": [
  {
   "cell_type": "markdown",
   "id": "6a233cb7",
   "metadata": {},
   "source": [
    "<a target=\"_blank\" href=\"https://colab.research.google.com/github/svniko/python-fund-2023/blob/main/Lecture11.ipynb\">\n",
    "  <img src=\"https://colab.research.google.com/assets/colab-badge.svg\" alt=\"Open In Colab\"/>"
   ]
  },
  {
   "cell_type": "markdown",
   "id": "f2b273ed",
   "metadata": {},
   "source": [
    "    Assoc. Prof. Svitlana Kovalenko\n",
    "    Department of Software Engineering \n",
    "    and Management Intelligent Technologies\n",
    "    NTU KhPI"
   ]
  },
  {
   "cell_type": "markdown",
   "id": "3e510f62",
   "metadata": {},
   "source": [
    "# Lecture 11"
   ]
  },
  {
   "cell_type": "markdown",
   "id": "c31f2165",
   "metadata": {},
   "source": [
    "### Python Dictionaries"
   ]
  },
  {
   "cell_type": "markdown",
   "id": "eea9ae7c",
   "metadata": {},
   "source": [
    "Dictionaries are used to store data values in `key:value` pairs.\n",
    "\n",
    "A dictionary is a collection which is ordered*, changeable and do not allow duplicates.\n",
    "\n",
    "*As of Python version 3.7, dictionaries are ordered. In Python 3.6 and earlier, dictionaries are unordered.*\n",
    "\n"
   ]
  },
  {
   "cell_type": "markdown",
   "id": "230c5a3d",
   "metadata": {},
   "source": [
    "You can define a dictionary by enclosing a comma-separated list of key-value pairs in curly braces (`{}`). A colon (`:`) separates each key from its associated value:\n",
    "```Python\n",
    "d = {\n",
    "    <key>: <value>,\n",
    "    <key>: <value>,\n",
    "      .\n",
    "      .\n",
    "      .\n",
    "    <key>: <value>\n",
    "}\n",
    "```"
   ]
  },
  {
   "cell_type": "code",
   "execution_count": 1,
   "id": "0d6f2020",
   "metadata": {},
   "outputs": [
    {
     "name": "stdout",
     "output_type": "stream",
     "text": [
      "{'James Bond': 'bond007@mi7.gov.uk', 'Bill Gates': 'billg@microsoft.com'}\n"
     ]
    }
   ],
   "source": [
    "my_dict = {'James Bond': 'bond007@mi7.gov.uk', 'Bill Gates': 'billg@microsoft.com'}\n",
    "print(my_dict)"
   ]
  },
  {
   "cell_type": "code",
   "execution_count": 2,
   "id": "e5964452",
   "metadata": {},
   "outputs": [
    {
     "name": "stdout",
     "output_type": "stream",
     "text": [
      "{'James Bond': 'bond007@mi7.gov.uk', 'Bill Gates': 'billg@microsoft.com'}\n"
     ]
    }
   ],
   "source": [
    "my_dict1 = dict([('James Bond','bond007@mi7.gov.uk'),\n",
    "                 ('Bill Gates','billg@microsoft.com')])\n",
    "print(my_dict1)"
   ]
  },
  {
   "cell_type": "code",
   "execution_count": 3,
   "id": "0b520e03",
   "metadata": {},
   "outputs": [
    {
     "data": {
      "text/plain": [
       "dict"
      ]
     },
     "execution_count": 3,
     "metadata": {},
     "output_type": "execute_result"
    }
   ],
   "source": [
    "empty_dict = {}\n",
    "type(empty_dict)"
   ]
  },
  {
   "cell_type": "markdown",
   "id": "80e05017",
   "metadata": {},
   "source": [
    "### Restrictions on Dictionary Keys"
   ]
  },
  {
   "cell_type": "markdown",
   "id": "65f49495",
   "metadata": {},
   "source": [
    "There are 2 restrictions on dictionary keys\n",
    "- First, a given key can appear in a dictionary only once. Duplicate keys are not allowed."
   ]
  },
  {
   "cell_type": "code",
   "execution_count": 1,
   "id": "cb13e015",
   "metadata": {},
   "outputs": [
    {
     "data": {
      "text/plain": [
       "{'a': 3, 'b': 2}"
      ]
     },
     "execution_count": 1,
     "metadata": {},
     "output_type": "execute_result"
    }
   ],
   "source": [
    "dict_1 = {'a':1, 'b':2, 'a':3}\n",
    "dict_1"
   ]
  },
  {
   "cell_type": "markdown",
   "id": "8ef90140",
   "metadata": {},
   "source": [
    " -  dictionary key must be of a type that is **immutable**. You have already seen examples where several of the immutable types you are familiar with — integer, float, string, Boolean, and even tuple — have served as dictionary keys"
   ]
  },
  {
   "cell_type": "code",
   "execution_count": 6,
   "id": "d7951a55",
   "metadata": {
    "scrolled": true
   },
   "outputs": [],
   "source": [
    "def func(a, b):\n",
    "    return a + b"
   ]
  },
  {
   "cell_type": "code",
   "execution_count": 7,
   "id": "66ad5903",
   "metadata": {},
   "outputs": [],
   "source": [
    "dict_2 = {1:1,\n",
    "          2.2:2,\n",
    "          'hello':3,\n",
    "          True:4,\n",
    "          (1,2):4,\n",
    "          int:5,\n",
    "          float:6,\n",
    "          func:7,\n",
    "        \n",
    "}"
   ]
  },
  {
   "cell_type": "code",
   "execution_count": 8,
   "id": "7d733cb6",
   "metadata": {},
   "outputs": [
    {
     "data": {
      "text/plain": [
       "{1: 4,\n",
       " 2.2: 2,\n",
       " 'hello': 3,\n",
       " (1, 2): 4,\n",
       " int: 5,\n",
       " float: 6,\n",
       " <function __main__.func(a, b)>: 7}"
      ]
     },
     "execution_count": 8,
     "metadata": {},
     "output_type": "execute_result"
    }
   ],
   "source": [
    "dict_2"
   ]
  },
  {
   "cell_type": "markdown",
   "id": "b8ccc57a",
   "metadata": {},
   "source": [
    "Але ми не можемо використовувати списки в якості ключа"
   ]
  },
  {
   "cell_type": "code",
   "execution_count": 9,
   "id": "6cbf2b16",
   "metadata": {
    "scrolled": true
   },
   "outputs": [
    {
     "ename": "TypeError",
     "evalue": "unhashable type: 'list'",
     "output_type": "error",
     "traceback": [
      "\u001b[1;31m---------------------------------------------------------------------------\u001b[0m",
      "\u001b[1;31mTypeError\u001b[0m                                 Traceback (most recent call last)",
      "Cell \u001b[1;32mIn[9], line 1\u001b[0m\n\u001b[1;32m----> 1\u001b[0m dict_3 \u001b[38;5;241m=\u001b[39m {[\u001b[38;5;241m1\u001b[39m, \u001b[38;5;241m2\u001b[39m]:\u001b[38;5;124m'\u001b[39m\u001b[38;5;124ma\u001b[39m\u001b[38;5;124m'\u001b[39m}\n",
      "\u001b[1;31mTypeError\u001b[0m: unhashable type: 'list'"
     ]
    }
   ],
   "source": [
    "dict_3 = {[1, 2]:'a'}"
   ]
  },
  {
   "cell_type": "markdown",
   "id": "f613a5a0",
   "metadata": {},
   "source": [
    "Множини також не можуть бути ключами словника"
   ]
  },
  {
   "cell_type": "code",
   "execution_count": 10,
   "id": "2742d603",
   "metadata": {
    "scrolled": false
   },
   "outputs": [
    {
     "ename": "TypeError",
     "evalue": "unhashable type: 'set'",
     "output_type": "error",
     "traceback": [
      "\u001b[1;31m---------------------------------------------------------------------------\u001b[0m",
      "\u001b[1;31mTypeError\u001b[0m                                 Traceback (most recent call last)",
      "Cell \u001b[1;32mIn[10], line 1\u001b[0m\n\u001b[1;32m----> 1\u001b[0m dict_3 \u001b[38;5;241m=\u001b[39m {{\u001b[38;5;241m1\u001b[39m, \u001b[38;5;241m2\u001b[39m}:\u001b[38;5;124m'\u001b[39m\u001b[38;5;124ma\u001b[39m\u001b[38;5;124m'\u001b[39m}\n",
      "\u001b[1;31mTypeError\u001b[0m: unhashable type: 'set'"
     ]
    }
   ],
   "source": [
    "dict_3 = {{1, 2}:'a'}"
   ]
  },
  {
   "cell_type": "markdown",
   "id": "fd6c7ed5",
   "metadata": {},
   "source": [
    "Точніше, об’єкт має бути хешованим, тобто його можна передати хеш-функції. Хеш-функція приймає дані довільного розміру та відображає їх у відносно простішому фіксованому розмірі, що називається хеш-значенням (або просто хеш), яке використовується для пошуку та порівняння в таблиці.\n",
    "\n",
    "Вбудована функція `hash()` Python повертає хеш-значення для об’єкта, який можна хешувати, і викликає виняток для об’єкта, який не є:"
   ]
  },
  {
   "cell_type": "code",
   "execution_count": 11,
   "id": "922d0315",
   "metadata": {},
   "outputs": [
    {
     "data": {
      "text/plain": [
       "994727857"
      ]
     },
     "execution_count": 11,
     "metadata": {},
     "output_type": "execute_result"
    }
   ],
   "source": [
    "hash((1, 2))"
   ]
  },
  {
   "cell_type": "code",
   "execution_count": 12,
   "id": "e5747b94",
   "metadata": {},
   "outputs": [
    {
     "ename": "TypeError",
     "evalue": "unhashable type: 'list'",
     "output_type": "error",
     "traceback": [
      "\u001b[1;31m---------------------------------------------------------------------------\u001b[0m",
      "\u001b[1;31mTypeError\u001b[0m                                 Traceback (most recent call last)",
      "Cell \u001b[1;32mIn[12], line 1\u001b[0m\n\u001b[1;32m----> 1\u001b[0m \u001b[38;5;28;43mhash\u001b[39;49m\u001b[43m(\u001b[49m\u001b[43m[\u001b[49m\u001b[38;5;241;43m1\u001b[39;49m\u001b[43m,\u001b[49m\u001b[43m \u001b[49m\u001b[38;5;241;43m2\u001b[39;49m\u001b[43m]\u001b[49m\u001b[43m)\u001b[49m\n",
      "\u001b[1;31mTypeError\u001b[0m: unhashable type: 'list'"
     ]
    }
   ],
   "source": [
    "hash([1, 2])"
   ]
  },
  {
   "cell_type": "markdown",
   "id": "6fb69561",
   "metadata": {},
   "source": [
    "## Обмеження на значення словника"
   ]
  },
  {
   "cell_type": "markdown",
   "id": "93641db9",
   "metadata": {},
   "source": [
    "Немає жодних обмежень на значення словника.\n",
    "Будь який тип даних Python може бути значенням словника"
   ]
  },
  {
   "cell_type": "code",
   "execution_count": 13,
   "id": "b54998d3",
   "metadata": {},
   "outputs": [],
   "source": [
    "dict_4 = {1:1,\n",
    "          2.2:2.2,\n",
    "          'hello':'hi',\n",
    "          True:False,\n",
    "          (1,2):(2, 3),\n",
    "          int:[1, 2],\n",
    "          float:{1,2, 3},\n",
    "          func:func(2, 3),\n",
    "          bool: {'a': 3, 'b':'bye'}\n",
    "}"
   ]
  },
  {
   "cell_type": "code",
   "execution_count": 14,
   "id": "c57d2d87",
   "metadata": {},
   "outputs": [
    {
     "data": {
      "text/plain": [
       "{1: False,\n",
       " 2.2: 2.2,\n",
       " 'hello': 'hi',\n",
       " (1, 2): (2, 3),\n",
       " int: [1, 2],\n",
       " float: {1, 2, 3},\n",
       " <function __main__.func(a, b)>: 5,\n",
       " bool: {'a': 3, 'b': 'bye'}}"
      ]
     },
     "execution_count": 14,
     "metadata": {},
     "output_type": "execute_result"
    }
   ],
   "source": [
    "dict_4"
   ]
  },
  {
   "cell_type": "code",
   "execution_count": 15,
   "id": "5ceee20d",
   "metadata": {},
   "outputs": [
    {
     "data": {
      "text/plain": [
       "5"
      ]
     },
     "execution_count": 15,
     "metadata": {},
     "output_type": "execute_result"
    }
   ],
   "source": [
    "dict_4[func]"
   ]
  },
  {
   "cell_type": "code",
   "execution_count": 17,
   "id": "8d1031b8",
   "metadata": {},
   "outputs": [
    {
     "data": {
      "text/plain": [
       "False"
      ]
     },
     "execution_count": 17,
     "metadata": {},
     "output_type": "execute_result"
    }
   ],
   "source": [
    "dict_4[1]"
   ]
  },
  {
   "cell_type": "code",
   "execution_count": 20,
   "id": "0cb47118",
   "metadata": {},
   "outputs": [
    {
     "data": {
      "text/plain": [
       "{1: False,\n",
       " 2.2: 2.2,\n",
       " 'hello': 'hi',\n",
       " (1, 2): (2, 3),\n",
       " int: [1, 2],\n",
       " float: {1, 2, 3},\n",
       " <function __main__.func(a, b)>: 5,\n",
       " bool: {'a': 3, 'b': 'bye'},\n",
       " 'last': 'OK'}"
      ]
     },
     "execution_count": 20,
     "metadata": {},
     "output_type": "execute_result"
    }
   ],
   "source": [
    "dict_4['last'] = 'OK'\n",
    "dict_4"
   ]
  },
  {
   "cell_type": "markdown",
   "id": "9025f92d",
   "metadata": {},
   "source": [
    "Починаючи з Python 3.7 словники є впорядкованими"
   ]
  },
  {
   "cell_type": "code",
   "execution_count": 86,
   "id": "179738bc",
   "metadata": {},
   "outputs": [
    {
     "data": {
      "text/plain": [
       "9"
      ]
     },
     "execution_count": 86,
     "metadata": {},
     "output_type": "execute_result"
    }
   ],
   "source": [
    "# довжина словника\n",
    "len(dict_4)"
   ]
  },
  {
   "cell_type": "markdown",
   "id": "30fc1fd4",
   "metadata": {},
   "source": [
    "## Методи словників"
   ]
  },
  {
   "cell_type": "code",
   "execution_count": 22,
   "id": "523fbf6b",
   "metadata": {},
   "outputs": [
    {
     "data": {
      "text/plain": [
       "['__class__',\n",
       " '__contains__',\n",
       " '__delattr__',\n",
       " '__delitem__',\n",
       " '__dir__',\n",
       " '__doc__',\n",
       " '__eq__',\n",
       " '__format__',\n",
       " '__ge__',\n",
       " '__getattribute__',\n",
       " '__getitem__',\n",
       " '__gt__',\n",
       " '__hash__',\n",
       " '__init__',\n",
       " '__init_subclass__',\n",
       " '__iter__',\n",
       " '__le__',\n",
       " '__len__',\n",
       " '__lt__',\n",
       " '__ne__',\n",
       " '__new__',\n",
       " '__reduce__',\n",
       " '__reduce_ex__',\n",
       " '__repr__',\n",
       " '__reversed__',\n",
       " '__setattr__',\n",
       " '__setitem__',\n",
       " '__sizeof__',\n",
       " '__str__',\n",
       " '__subclasshook__',\n",
       " 'clear',\n",
       " 'copy',\n",
       " 'fromkeys',\n",
       " 'get',\n",
       " 'items',\n",
       " 'keys',\n",
       " 'pop',\n",
       " 'popitem',\n",
       " 'setdefault',\n",
       " 'update',\n",
       " 'values']"
      ]
     },
     "execution_count": 22,
     "metadata": {},
     "output_type": "execute_result"
    }
   ],
   "source": [
    "dir(dict)"
   ]
  },
  {
   "cell_type": "code",
   "execution_count": 23,
   "id": "65b761bd",
   "metadata": {},
   "outputs": [
    {
     "data": {
      "text/plain": [
       "{1: False,\n",
       " 2.2: 2.2,\n",
       " 'hello': 'hi',\n",
       " (1, 2): (2, 3),\n",
       " int: [1, 2],\n",
       " float: {1, 2, 3},\n",
       " <function __main__.func(a, b)>: 5,\n",
       " bool: {'a': 3, 'b': 'bye'},\n",
       " 'last': 'OK'}"
      ]
     },
     "execution_count": 23,
     "metadata": {},
     "output_type": "execute_result"
    }
   ],
   "source": [
    "dict_4"
   ]
  },
  {
   "cell_type": "code",
   "execution_count": 25,
   "id": "a94bd99c",
   "metadata": {},
   "outputs": [
    {
     "data": {
      "text/plain": [
       "'OK'"
      ]
     },
     "execution_count": 25,
     "metadata": {},
     "output_type": "execute_result"
    }
   ],
   "source": [
    "dict_4['last']"
   ]
  },
  {
   "cell_type": "markdown",
   "id": "1b38d1ae",
   "metadata": {},
   "source": [
    "Якщо у словнику нема шуканого ключа, по викликається помилка при використанні оператора індексування `[]`"
   ]
  },
  {
   "cell_type": "code",
   "execution_count": 26,
   "id": "1fc82cfa",
   "metadata": {
    "scrolled": true
   },
   "outputs": [
    {
     "ename": "KeyError",
     "evalue": "'first'",
     "output_type": "error",
     "traceback": [
      "\u001b[1;31m---------------------------------------------------------------------------\u001b[0m",
      "\u001b[1;31mKeyError\u001b[0m                                  Traceback (most recent call last)",
      "Cell \u001b[1;32mIn[26], line 1\u001b[0m\n\u001b[1;32m----> 1\u001b[0m \u001b[43mdict_4\u001b[49m\u001b[43m[\u001b[49m\u001b[38;5;124;43m'\u001b[39;49m\u001b[38;5;124;43mfirst\u001b[39;49m\u001b[38;5;124;43m'\u001b[39;49m\u001b[43m]\u001b[49m\n",
      "\u001b[1;31mKeyError\u001b[0m: 'first'"
     ]
    }
   ],
   "source": [
    "dict_4['first']"
   ]
  },
  {
   "cell_type": "markdown",
   "id": "4b3a2564",
   "metadata": {},
   "source": [
    "Метод `get()` не викликає помилку, якщо у словнику нема шуканого ключа"
   ]
  },
  {
   "cell_type": "code",
   "execution_count": 28,
   "id": "96e8154a",
   "metadata": {},
   "outputs": [],
   "source": [
    "x = dict_4.get('last')"
   ]
  },
  {
   "cell_type": "code",
   "execution_count": 29,
   "id": "e0c2db9e",
   "metadata": {},
   "outputs": [
    {
     "data": {
      "text/plain": [
       "'OK'"
      ]
     },
     "execution_count": 29,
     "metadata": {},
     "output_type": "execute_result"
    }
   ],
   "source": [
    "x"
   ]
  },
  {
   "cell_type": "code",
   "execution_count": 32,
   "id": "fce34f08",
   "metadata": {},
   "outputs": [
    {
     "name": "stdout",
     "output_type": "stream",
     "text": [
      "None\n"
     ]
    }
   ],
   "source": [
    "x1 = dict_4.get('first')\n",
    "print(x1)"
   ]
  },
  {
   "cell_type": "code",
   "execution_count": 33,
   "id": "dfadad79",
   "metadata": {},
   "outputs": [
    {
     "name": "stdout",
     "output_type": "stream",
     "text": [
      "Help on method_descriptor:\n",
      "\n",
      "get(self, key, default=None, /)\n",
      "    Return the value for key if key is in the dictionary, else default.\n",
      "\n"
     ]
    }
   ],
   "source": [
    "help(dict.get)"
   ]
  },
  {
   "cell_type": "code",
   "execution_count": 34,
   "id": "eab1e298",
   "metadata": {},
   "outputs": [
    {
     "data": {
      "text/plain": [
       "-1"
      ]
     },
     "execution_count": 34,
     "metadata": {},
     "output_type": "execute_result"
    }
   ],
   "source": [
    "x2 = dict_4.get('first', -1)\n",
    "x2"
   ]
  },
  {
   "cell_type": "code",
   "execution_count": 35,
   "id": "16ef1b48",
   "metadata": {},
   "outputs": [
    {
     "data": {
      "text/plain": [
       "'OK'"
      ]
     },
     "execution_count": 35,
     "metadata": {},
     "output_type": "execute_result"
    }
   ],
   "source": [
    "x3 = dict_4.get('last', -1)\n",
    "x3"
   ]
  },
  {
   "cell_type": "markdown",
   "id": "d73dad95",
   "metadata": {},
   "source": [
    "Mетод `keys()`повертає список усіх ключів у словнику."
   ]
  },
  {
   "cell_type": "code",
   "execution_count": 36,
   "id": "4b1cc79a",
   "metadata": {
    "scrolled": true
   },
   "outputs": [
    {
     "data": {
      "text/plain": [
       "{'James Bond': 'bond007@mi7.gov.uk', 'Bill Gates': 'billg@microsoft.com'}"
      ]
     },
     "execution_count": 36,
     "metadata": {},
     "output_type": "execute_result"
    }
   ],
   "source": [
    "my_dict"
   ]
  },
  {
   "cell_type": "code",
   "execution_count": 38,
   "id": "78f0f136",
   "metadata": {},
   "outputs": [
    {
     "data": {
      "text/plain": [
       "dict_keys(['James Bond', 'Bill Gates'])"
      ]
     },
     "execution_count": 38,
     "metadata": {},
     "output_type": "execute_result"
    }
   ],
   "source": [
    "k = my_dict.keys()\n",
    "k"
   ]
  },
  {
   "cell_type": "markdown",
   "id": "ce6ad06e",
   "metadata": {},
   "source": [
    "Список ключів — це відображення словника, тобто будь-які зміни, внесені до словника, відображатимуться в списку ключів."
   ]
  },
  {
   "cell_type": "code",
   "execution_count": 41,
   "id": "cfd602fe",
   "metadata": {},
   "outputs": [
    {
     "data": {
      "text/plain": [
       "{'James Bond': 'bond007@mi7.gov.uk',\n",
       " 'Bill Gates': 'billg@microsoft.com',\n",
       " 'Peter Parker': 'spider@kharkiv.ua'}"
      ]
     },
     "execution_count": 41,
     "metadata": {},
     "output_type": "execute_result"
    }
   ],
   "source": [
    "my_dict['Peter Parker'] = 'spider@kharkiv.ua'\n",
    "my_dict"
   ]
  },
  {
   "cell_type": "code",
   "execution_count": 42,
   "id": "ea9c9a3d",
   "metadata": {},
   "outputs": [
    {
     "data": {
      "text/plain": [
       "dict_keys(['James Bond', 'Bill Gates', 'Peter Parker'])"
      ]
     },
     "execution_count": 42,
     "metadata": {},
     "output_type": "execute_result"
    }
   ],
   "source": [
    "k"
   ]
  },
  {
   "cell_type": "markdown",
   "id": "56ee0028",
   "metadata": {},
   "source": [
    "Отримання значень\n",
    "\n",
    "Метод `values()` поверне список усіх значень у словнику."
   ]
  },
  {
   "cell_type": "code",
   "execution_count": 43,
   "id": "6d74995a",
   "metadata": {
    "scrolled": true
   },
   "outputs": [
    {
     "data": {
      "text/plain": [
       "dict_values(['bond007@mi7.gov.uk', 'billg@microsoft.com', 'spider@kharkiv.ua'])"
      ]
     },
     "execution_count": 43,
     "metadata": {},
     "output_type": "execute_result"
    }
   ],
   "source": [
    "x = my_dict.values()\n",
    "x"
   ]
  },
  {
   "cell_type": "code",
   "execution_count": 44,
   "id": "c59ec043",
   "metadata": {},
   "outputs": [
    {
     "data": {
      "text/plain": [
       "{'James Bond': 'bond007@mi7.gov.uk',\n",
       " 'Bill Gates': 'billg@microsoft.com',\n",
       " 'Peter Parker': 'spider@kharkiv.ua',\n",
       " 'Bruce Wayne': 'batman@kharkiv.ua'}"
      ]
     },
     "execution_count": 44,
     "metadata": {},
     "output_type": "execute_result"
    }
   ],
   "source": [
    "my_dict['Bruce Wayne'] = 'batman@kharkiv.ua'\n",
    "my_dict"
   ]
  },
  {
   "cell_type": "markdown",
   "id": "6160b67e",
   "metadata": {},
   "source": [
    "Список значень є також відображенням словника, тобто будь-які зміни, внесені до словника, будуть відображені в списку значень."
   ]
  },
  {
   "cell_type": "code",
   "execution_count": 45,
   "id": "68c0960b",
   "metadata": {
    "scrolled": true
   },
   "outputs": [
    {
     "data": {
      "text/plain": [
       "dict_values(['bond007@mi7.gov.uk', 'billg@microsoft.com', 'spider@kharkiv.ua', 'batman@kharkiv.ua'])"
      ]
     },
     "execution_count": 45,
     "metadata": {},
     "output_type": "execute_result"
    }
   ],
   "source": [
    "x"
   ]
  },
  {
   "cell_type": "code",
   "execution_count": 46,
   "id": "a886e705",
   "metadata": {},
   "outputs": [
    {
     "data": {
      "text/plain": [
       "dict_values(['bond007@mi7.gov.uk', 'billg@microsoft.com', 'spider@kharkiv.ua', 'batman@gotham.ua'])"
      ]
     },
     "execution_count": 46,
     "metadata": {},
     "output_type": "execute_result"
    }
   ],
   "source": [
    "my_dict['Bruce Wayne'] = 'batman@gotham.ua'\n",
    "x"
   ]
  },
  {
   "cell_type": "markdown",
   "id": "19c91e2d",
   "metadata": {},
   "source": [
    "Отримання елементів словника\n",
    "\n",
    "Метод `items()` поверне кожен елемент у словнику у вигляді кортежів у списку."
   ]
  },
  {
   "cell_type": "code",
   "execution_count": 48,
   "id": "fe2fcf0f",
   "metadata": {
    "scrolled": true
   },
   "outputs": [
    {
     "data": {
      "text/plain": [
       "dict_items([('James Bond', 'bond007@mi7.gov.uk'), ('Bill Gates', 'billg@microsoft.com'), ('Peter Parker', 'spider@kharkiv.ua'), ('Bruce Wayne', 'batman@gotham.ua')])"
      ]
     },
     "execution_count": 48,
     "metadata": {},
     "output_type": "execute_result"
    }
   ],
   "source": [
    "y = my_dict.items()\n",
    "y"
   ]
  },
  {
   "cell_type": "code",
   "execution_count": 49,
   "id": "28030a92",
   "metadata": {},
   "outputs": [
    {
     "data": {
      "text/plain": [
       "dict_items([('James Bond', 'bond007@zsu.ua'), ('Bill Gates', 'billg@microsoft.com'), ('Peter Parker', 'spider@kharkiv.ua'), ('Bruce Wayne', 'batman@gotham.ua')])"
      ]
     },
     "execution_count": 49,
     "metadata": {},
     "output_type": "execute_result"
    }
   ],
   "source": [
    "my_dict['James Bond'] = 'bond007@zsu.ua'\n",
    "y"
   ]
  },
  {
   "cell_type": "code",
   "execution_count": 50,
   "id": "8660fe1f",
   "metadata": {},
   "outputs": [
    {
     "name": "stdout",
     "output_type": "stream",
     "text": [
      "James Bond: bond007@zsu.ua\n",
      "Bill Gates: billg@microsoft.com\n",
      "Peter Parker: spider@kharkiv.ua\n",
      "Bruce Wayne: batman@gotham.ua\n"
     ]
    }
   ],
   "source": [
    "for key, value in my_dict.items():\n",
    "    print(key +':', end=' ' )\n",
    "    print(value)"
   ]
  },
  {
   "cell_type": "markdown",
   "id": "12e2de49",
   "metadata": {},
   "source": [
    "Створення мілкої копії словника"
   ]
  },
  {
   "cell_type": "code",
   "execution_count": 51,
   "id": "3e7b3b8e",
   "metadata": {
    "scrolled": true
   },
   "outputs": [
    {
     "data": {
      "text/plain": [
       "{'James Bond': 'bond007@zsu.ua',\n",
       " 'Bill Gates': 'billg@microsoft.com',\n",
       " 'Peter Parker': 'spider@kharkiv.ua',\n",
       " 'Bruce Wayne': 'batman@gotham.ua'}"
      ]
     },
     "execution_count": 51,
     "metadata": {},
     "output_type": "execute_result"
    }
   ],
   "source": [
    "my_dict_copy = my_dict.copy()\n",
    "my_dict_copy"
   ]
  },
  {
   "cell_type": "markdown",
   "id": "0ee3f533",
   "metadata": {},
   "source": [
    "Очищення словника"
   ]
  },
  {
   "cell_type": "code",
   "execution_count": 52,
   "id": "dc81d811",
   "metadata": {
    "scrolled": true
   },
   "outputs": [
    {
     "data": {
      "text/plain": [
       "{}"
      ]
     },
     "execution_count": 52,
     "metadata": {},
     "output_type": "execute_result"
    }
   ],
   "source": [
    "my_dict_copy.clear()\n",
    "my_dict_copy"
   ]
  },
  {
   "cell_type": "code",
   "execution_count": 53,
   "id": "f2353120",
   "metadata": {},
   "outputs": [
    {
     "data": {
      "text/plain": [
       "{'James Bond': 'bond007@zsu.ua',\n",
       " 'Bill Gates': 'billg@microsoft.com',\n",
       " 'Peter Parker': 'spider@kharkiv.ua',\n",
       " 'Bruce Wayne': 'batman@gotham.ua'}"
      ]
     },
     "execution_count": 53,
     "metadata": {},
     "output_type": "execute_result"
    }
   ],
   "source": [
    "my_dict"
   ]
  },
  {
   "cell_type": "markdown",
   "id": "096686d3",
   "metadata": {},
   "source": [
    "Видалення ключа зі словника"
   ]
  },
  {
   "cell_type": "code",
   "execution_count": 54,
   "id": "331e1381",
   "metadata": {},
   "outputs": [
    {
     "data": {
      "text/plain": [
       "'spider@kharkiv.ua'"
      ]
     },
     "execution_count": 54,
     "metadata": {},
     "output_type": "execute_result"
    }
   ],
   "source": [
    "my_dict.pop('Peter Parker')"
   ]
  },
  {
   "cell_type": "code",
   "execution_count": 55,
   "id": "9e625d0e",
   "metadata": {},
   "outputs": [
    {
     "data": {
      "text/plain": [
       "{'James Bond': 'bond007@zsu.ua',\n",
       " 'Bill Gates': 'billg@microsoft.com',\n",
       " 'Bruce Wayne': 'batman@gotham.ua'}"
      ]
     },
     "execution_count": 55,
     "metadata": {},
     "output_type": "execute_result"
    }
   ],
   "source": [
    "my_dict"
   ]
  },
  {
   "cell_type": "code",
   "execution_count": 56,
   "id": "6df1edea",
   "metadata": {},
   "outputs": [
    {
     "ename": "KeyError",
     "evalue": "'Captane America'",
     "output_type": "error",
     "traceback": [
      "\u001b[1;31m---------------------------------------------------------------------------\u001b[0m",
      "\u001b[1;31mKeyError\u001b[0m                                  Traceback (most recent call last)",
      "Cell \u001b[1;32mIn[56], line 1\u001b[0m\n\u001b[1;32m----> 1\u001b[0m \u001b[43mmy_dict\u001b[49m\u001b[38;5;241;43m.\u001b[39;49m\u001b[43mpop\u001b[49m\u001b[43m(\u001b[49m\u001b[38;5;124;43m'\u001b[39;49m\u001b[38;5;124;43mCaptane America\u001b[39;49m\u001b[38;5;124;43m'\u001b[39;49m\u001b[43m)\u001b[49m\n",
      "\u001b[1;31mKeyError\u001b[0m: 'Captane America'"
     ]
    }
   ],
   "source": [
    "my_dict.pop('Captane America')"
   ]
  },
  {
   "cell_type": "code",
   "execution_count": 57,
   "id": "81163dc1",
   "metadata": {},
   "outputs": [
    {
     "data": {
      "text/plain": [
       "-1"
      ]
     },
     "execution_count": 57,
     "metadata": {},
     "output_type": "execute_result"
    }
   ],
   "source": [
    "my_dict.pop('Captane America', -1)"
   ]
  },
  {
   "cell_type": "code",
   "execution_count": 58,
   "id": "9c42eb0e",
   "metadata": {},
   "outputs": [
    {
     "data": {
      "text/plain": [
       "{'James Bond': 'bond007@zsu.ua',\n",
       " 'Bill Gates': 'billg@microsoft.com',\n",
       " 'Bruce Wayne': 'batman@gotham.ua'}"
      ]
     },
     "execution_count": 58,
     "metadata": {},
     "output_type": "execute_result"
    }
   ],
   "source": [
    "my_dict"
   ]
  },
  {
   "cell_type": "markdown",
   "id": "02aab424",
   "metadata": {},
   "source": [
    "Видалення пари ключ-значення зі словника"
   ]
  },
  {
   "cell_type": "code",
   "execution_count": 59,
   "id": "0026297d",
   "metadata": {},
   "outputs": [
    {
     "data": {
      "text/plain": [
       "('Bruce Wayne', 'batman@gotham.ua')"
      ]
     },
     "execution_count": 59,
     "metadata": {},
     "output_type": "execute_result"
    }
   ],
   "source": [
    "my_dict.popitem()"
   ]
  },
  {
   "cell_type": "code",
   "execution_count": 60,
   "id": "3c7e6e4f",
   "metadata": {},
   "outputs": [
    {
     "data": {
      "text/plain": [
       "{'James Bond': 'bond007@zsu.ua', 'Bill Gates': 'billg@microsoft.com'}"
      ]
     },
     "execution_count": 60,
     "metadata": {},
     "output_type": "execute_result"
    }
   ],
   "source": [
    "my_dict"
   ]
  },
  {
   "cell_type": "code",
   "execution_count": 61,
   "id": "1bd630d3",
   "metadata": {},
   "outputs": [
    {
     "data": {
      "text/plain": [
       "('Bill Gates', 'billg@microsoft.com')"
      ]
     },
     "execution_count": 61,
     "metadata": {},
     "output_type": "execute_result"
    }
   ],
   "source": [
    "my_dict.popitem()"
   ]
  },
  {
   "cell_type": "code",
   "execution_count": 62,
   "id": "66dbd1c4",
   "metadata": {},
   "outputs": [
    {
     "data": {
      "text/plain": [
       "{'James Bond': 'bond007@zsu.ua'}"
      ]
     },
     "execution_count": 62,
     "metadata": {},
     "output_type": "execute_result"
    }
   ],
   "source": [
    "my_dict"
   ]
  },
  {
   "cell_type": "code",
   "execution_count": 63,
   "id": "d948a671",
   "metadata": {},
   "outputs": [
    {
     "ename": "KeyError",
     "evalue": "'popitem(): dictionary is empty'",
     "output_type": "error",
     "traceback": [
      "\u001b[1;31m---------------------------------------------------------------------------\u001b[0m",
      "\u001b[1;31mKeyError\u001b[0m                                  Traceback (most recent call last)",
      "Cell \u001b[1;32mIn[63], line 2\u001b[0m\n\u001b[0;32m      1\u001b[0m d \u001b[38;5;241m=\u001b[39m {}\n\u001b[1;32m----> 2\u001b[0m \u001b[43md\u001b[49m\u001b[38;5;241;43m.\u001b[39;49m\u001b[43mpopitem\u001b[49m\u001b[43m(\u001b[49m\u001b[43m)\u001b[49m\n",
      "\u001b[1;31mKeyError\u001b[0m: 'popitem(): dictionary is empty'"
     ]
    }
   ],
   "source": [
    "d = {}\n",
    "d.popitem()"
   ]
  },
  {
   "cell_type": "markdown",
   "id": "442ca980",
   "metadata": {},
   "source": [
    "Об’єднання словників"
   ]
  },
  {
   "cell_type": "code",
   "execution_count": 65,
   "id": "2169ccf1",
   "metadata": {},
   "outputs": [
    {
     "data": {
      "text/plain": [
       "{'a': 10, 'b': 200, 'c': 30, 'd': 400}"
      ]
     },
     "execution_count": 65,
     "metadata": {},
     "output_type": "execute_result"
    }
   ],
   "source": [
    "d1 = {'a': 10, 'b': 20, 'c': 30}\n",
    "d1.update([('b', 200),('d', 400)])\n",
    "d1"
   ]
  },
  {
   "cell_type": "markdown",
   "id": "22ad74fe",
   "metadata": {},
   "source": [
    "Функція `zip()`.\n",
    "Функція `zip()` повертає об’єкт zip, який є ітератором кортежів, де перший елемент у кожному переданому ітераторі поєднується разом, а потім другий елемент у кожному переданому ітераторі об’єднується разом тощо."
   ]
  },
  {
   "cell_type": "code",
   "execution_count": 75,
   "id": "64545ea0",
   "metadata": {},
   "outputs": [
    {
     "data": {
      "text/plain": [
       "<zip at 0x77d6f08>"
      ]
     },
     "execution_count": 75,
     "metadata": {},
     "output_type": "execute_result"
    }
   ],
   "source": [
    "a = ['James', 'Bill', 'Peter']\n",
    "b = ['Bond', 'Gates', 'Parker']\n",
    "\n",
    "x = zip(a,b)\n",
    "x"
   ]
  },
  {
   "cell_type": "code",
   "execution_count": 76,
   "id": "265baac1",
   "metadata": {},
   "outputs": [
    {
     "name": "stdout",
     "output_type": "stream",
     "text": [
      "('James', 'Bond')\n",
      "('Bill', 'Gates')\n",
      "('Peter', 'Parker')\n"
     ]
    }
   ],
   "source": [
    "for i in x:\n",
    "    print(i)"
   ]
  },
  {
   "cell_type": "code",
   "execution_count": 79,
   "id": "6ef56218",
   "metadata": {
    "scrolled": false
   },
   "outputs": [
    {
     "data": {
      "text/plain": [
       "[('James', 'Bond'), ('Bill', 'Gates'), ('Peter', 'Parker')]"
      ]
     },
     "execution_count": 79,
     "metadata": {},
     "output_type": "execute_result"
    }
   ],
   "source": [
    "list(zip(a, b))"
   ]
  },
  {
   "cell_type": "code",
   "execution_count": 81,
   "id": "3cdd9b3a",
   "metadata": {},
   "outputs": [
    {
     "data": {
      "text/plain": [
       "{'Bond': 'James', 'Gates': 'Bill', 'Parker': 'Peter'}"
      ]
     },
     "execution_count": 81,
     "metadata": {},
     "output_type": "execute_result"
    }
   ],
   "source": [
    "dict(zip(b, a))"
   ]
  },
  {
   "cell_type": "markdown",
   "id": "615ebf10",
   "metadata": {},
   "source": [
    "### Приклад 1\n",
    "- потрібна програма для оцінювання середніх балів студентів;\n",
    "- програма має запитувати ім'я студента, а потім його/його один бал;\n",
    "- імена можна вводити в довільному порядку;\n",
    "- введення порожнього імені завершує введення даних (примітка 1: введення порожнього балу призведе до виключення `ValueError`, але ми побачимо, як обробляти такі випадки, коли ми говоримо про винятки)\n",
    "- має бути виведений список усіх імен разом із розрахованим середнім балом."
   ]
  },
  {
   "cell_type": "code",
   "execution_count": 83,
   "id": "ee651939",
   "metadata": {},
   "outputs": [
    {
     "name": "stdout",
     "output_type": "stream",
     "text": [
      "Enter the student's name: Mary\n",
      "Enter the student's score (0-100): 100\n",
      "Enter the student's name: John\n",
      "Enter the student's score (0-100): 80\n",
      "Enter the student's name: Mary\n",
      "Enter the student's score (0-100): 60\n",
      "Enter the student's name: John\n",
      "Enter the student's score (0-100): 100\n",
      "Enter the student's name: James\n",
      "Enter the student's score (0-100): 60\n",
      "Enter the student's name: \n",
      "Mary :  80.0\n",
      "John :  90.0\n",
      "James :  60.0\n"
     ]
    }
   ],
   "source": [
    "school_class = {}\n",
    "\n",
    "while True:\n",
    "    name = input('Enter the student\\'s name: ')\n",
    "    if name == '':\n",
    "        break\n",
    "        \n",
    "    score = int(input('Enter the student\\'s score (0-100): ' ))\n",
    "    if score not in range(0, 101):\n",
    "        break\n",
    "        \n",
    "    if name in school_class:\n",
    "        school_class[name] += (score, )\n",
    "    else:\n",
    "        school_class[name] = (score, )\n",
    "        \n",
    "for name in school_class.keys():\n",
    "    adding = 0\n",
    "    counter = 0\n",
    "    for score in school_class[name]:\n",
    "        adding += score\n",
    "        counter += 1\n",
    "    print(name, ': ', adding/counter)"
   ]
  },
  {
   "cell_type": "markdown",
   "id": "015ad022",
   "metadata": {},
   "source": [
    "## Приклад 2. Початок\n",
    "Створити програму погоди за допомогою API `openweatherapp`"
   ]
  },
  {
   "cell_type": "code",
   "execution_count": null,
   "id": "5bf9891f",
   "metadata": {},
   "outputs": [],
   "source": [
    "https://openweathermap.org/current"
   ]
  },
  {
   "cell_type": "markdown",
   "id": "434dae96",
   "metadata": {},
   "source": [
    "API - API (інтерфейси прикладного програмування) — це набір програмного коду, який забезпечує передачу даних між одним програмним продуктом та іншим. Він також містить умови цього обміну даними."
   ]
  },
  {
   "cell_type": "markdown",
   "id": "0f49d220",
   "metadata": {},
   "source": [
    "Нам необхідний модуль `requests`"
   ]
  },
  {
   "cell_type": "code",
   "execution_count": null,
   "id": "453327ed",
   "metadata": {},
   "outputs": [],
   "source": []
  }
 ],
 "metadata": {
  "kernelspec": {
   "display_name": "Python 3",
   "language": "python",
   "name": "python3"
  },
  "language_info": {
   "codemirror_mode": {
    "name": "ipython",
    "version": 3
   },
   "file_extension": ".py",
   "mimetype": "text/x-python",
   "name": "python",
   "nbconvert_exporter": "python",
   "pygments_lexer": "ipython3",
   "version": "3.8.2"
  }
 },
 "nbformat": 4,
 "nbformat_minor": 5
}
