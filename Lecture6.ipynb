{
 "cells": [
  {
   "cell_type": "markdown",
   "id": "2f7971f1",
   "metadata": {},
   "source": [
    "<a target=\"_blank\" href=\"https://colab.research.google.com/github/svniko/python-fund-2023/blob/main/Lecture6.ipynb\">\n",
    "  <img src=\"https://colab.research.google.com/assets/colab-badge.svg\" alt=\"Open In Colab\"/>"
   ]
  },
  {
   "cell_type": "markdown",
   "id": "c90d7f6c",
   "metadata": {},
   "source": [
    "# Лекція 6"
   ]
  },
  {
   "cell_type": "markdown",
   "id": "e9dd1476",
   "metadata": {},
   "source": [
    "## Слайсинг"
   ]
  },
  {
   "cell_type": "markdown",
   "id": "799ef1bc",
   "metadata": {},
   "source": [
    "One of the most general forms of the slice looks as follows:\n",
    "```Python\n",
    "my_list[start:end:step]\n",
    "```"
   ]
  },
  {
   "cell_type": "markdown",
   "id": "3f419cf4",
   "metadata": {},
   "source": [
    "A slice of this form **makes a new (target) list, taking elements from the source list - the elements of the indices from start to end - 1**.\n",
    "\n",
    "Note: not to `end `but to `end - 1`. An element with an index equal to end is the first element which **does not take part in the slicing**.\n",
    "\n",
    "In other words:\n",
    "- start is the index of the first element included in the slice;\n",
    "- end is the index of the first element not included in the slice.\n",
    "- step allows you to select nth item within the range start to stop."
   ]
  },
  {
   "cell_type": "code",
   "execution_count": 4,
   "id": "ff523250",
   "metadata": {},
   "outputs": [
    {
     "name": "stdout",
     "output_type": "stream",
     "text": [
      "112197384 112197384\n"
     ]
    }
   ],
   "source": [
    "list1 = [1, 3, 4, 5]\n",
    "list2 = list1\n",
    "print(id(list1), id(list2))"
   ]
  },
  {
   "cell_type": "code",
   "execution_count": 5,
   "id": "33608df4",
   "metadata": {},
   "outputs": [
    {
     "name": "stdout",
     "output_type": "stream",
     "text": [
      "113040808 113038248\n"
     ]
    }
   ],
   "source": [
    "list1 = [1, 3, 4, 5]\n",
    "list2 = list1[:]\n",
    "print(id(list1), id(list2))"
   ]
  },
  {
   "cell_type": "code",
   "execution_count": 6,
   "id": "ff11eb52",
   "metadata": {},
   "outputs": [
    {
     "data": {
      "text/plain": [
       "[1, 3, 4, 5]"
      ]
     },
     "execution_count": 6,
     "metadata": {},
     "output_type": "execute_result"
    }
   ],
   "source": [
    "list2"
   ]
  },
  {
   "cell_type": "code",
   "execution_count": null,
   "id": "c59f3f2b",
   "metadata": {},
   "outputs": [],
   "source": [
    "list1 = [1, 3, 4, 5]\n",
    "list2 = list1[:]"
   ]
  },
  {
   "cell_type": "code",
   "execution_count": 8,
   "id": "79dd0d66",
   "metadata": {},
   "outputs": [
    {
     "data": {
      "text/plain": [
       "[1, 3, 4]"
      ]
     },
     "execution_count": 8,
     "metadata": {},
     "output_type": "execute_result"
    }
   ],
   "source": [
    "list1 = [1, 3, 4, 5]\n",
    "list2 = list1[0:3]\n",
    "list2"
   ]
  },
  {
   "cell_type": "code",
   "execution_count": 10,
   "id": "287ea1e6",
   "metadata": {},
   "outputs": [
    {
     "data": {
      "text/plain": [
       "[1, 3, 4]"
      ]
     },
     "execution_count": 10,
     "metadata": {},
     "output_type": "execute_result"
    }
   ],
   "source": [
    "list1 = [1, 3, 4, 5]\n",
    "list2 = list1[:3]\n",
    "list2"
   ]
  },
  {
   "cell_type": "code",
   "execution_count": 11,
   "id": "84989069",
   "metadata": {},
   "outputs": [
    {
     "data": {
      "text/plain": [
       "[3, 4, 5]"
      ]
     },
     "execution_count": 11,
     "metadata": {},
     "output_type": "execute_result"
    }
   ],
   "source": [
    "list1 = [1, 3, 4, 5]\n",
    "list2 = list1[1:len(list1)]\n",
    "list2"
   ]
  },
  {
   "cell_type": "code",
   "execution_count": 12,
   "id": "3aabae39",
   "metadata": {},
   "outputs": [
    {
     "data": {
      "text/plain": [
       "[3, 4, 5]"
      ]
     },
     "execution_count": 12,
     "metadata": {},
     "output_type": "execute_result"
    }
   ],
   "source": [
    "list1 = [1, 3, 4, 5]\n",
    "list2 = list1[1:4]\n",
    "list2"
   ]
  },
  {
   "cell_type": "code",
   "execution_count": 13,
   "id": "c0a2e0b7",
   "metadata": {},
   "outputs": [
    {
     "data": {
      "text/plain": [
       "[3, 4, 5]"
      ]
     },
     "execution_count": 13,
     "metadata": {},
     "output_type": "execute_result"
    }
   ],
   "source": [
    "list1 = [1, 3, 4, 5]\n",
    "list2 = list1[1:]\n",
    "list2"
   ]
  },
  {
   "cell_type": "code",
   "execution_count": 14,
   "id": "de13527e",
   "metadata": {},
   "outputs": [
    {
     "data": {
      "text/plain": [
       "[1, 3, 4, 5]"
      ]
     },
     "execution_count": 14,
     "metadata": {},
     "output_type": "execute_result"
    }
   ],
   "source": [
    "list1 = [1, 3, 4, 5]\n",
    "list2 = list1[:]\n",
    "list2"
   ]
  },
  {
   "cell_type": "code",
   "execution_count": 15,
   "id": "9a31ffb9",
   "metadata": {},
   "outputs": [
    {
     "data": {
      "text/plain": [
       "[3, 5]"
      ]
     },
     "execution_count": 15,
     "metadata": {},
     "output_type": "execute_result"
    }
   ],
   "source": [
    "list1 = [1, 3, 4, 5, 6, 7, 8, 9]\n",
    "list2 = list1[1:5:2]\n",
    "list2"
   ]
  },
  {
   "cell_type": "code",
   "execution_count": 16,
   "id": "4b20462e",
   "metadata": {},
   "outputs": [
    {
     "data": {
      "text/plain": [
       "[1, 4, 6, 8]"
      ]
     },
     "execution_count": 16,
     "metadata": {},
     "output_type": "execute_result"
    }
   ],
   "source": [
    "list1 = [1, 3, 4, 5, 6, 7, 8, 9]\n",
    "list2 = list1[::2]\n",
    "list2"
   ]
  },
  {
   "cell_type": "code",
   "execution_count": 17,
   "id": "4b36a2e1",
   "metadata": {},
   "outputs": [
    {
     "data": {
      "text/plain": [
       "(8, 6)"
      ]
     },
     "execution_count": 17,
     "metadata": {},
     "output_type": "execute_result"
    }
   ],
   "source": [
    "list2[-1], list2[-2]"
   ]
  },
  {
   "cell_type": "code",
   "execution_count": 18,
   "id": "78b7f3c6",
   "metadata": {},
   "outputs": [
    {
     "data": {
      "text/plain": [
       "[3, 4, 5, 6, 7, 8]"
      ]
     },
     "execution_count": 18,
     "metadata": {},
     "output_type": "execute_result"
    }
   ],
   "source": [
    "list1 = [1, 3, 4, 5, 6, 7, 8, 9]\n",
    "list2 = list1[1:-1]\n",
    "list2"
   ]
  },
  {
   "cell_type": "code",
   "execution_count": 19,
   "id": "add0d082",
   "metadata": {},
   "outputs": [
    {
     "data": {
      "text/plain": [
       "[]"
      ]
     },
     "execution_count": 19,
     "metadata": {},
     "output_type": "execute_result"
    }
   ],
   "source": [
    "list1 = [1, 3, 4, 5, 6, 7, 8, 9]\n",
    "list2 = list1[-1:1]\n",
    "list2"
   ]
  },
  {
   "cell_type": "code",
   "execution_count": 20,
   "id": "1022a8e9",
   "metadata": {},
   "outputs": [
    {
     "data": {
      "text/plain": [
       "[9, 8, 7, 6, 5, 4]"
      ]
     },
     "execution_count": 20,
     "metadata": {},
     "output_type": "execute_result"
    }
   ],
   "source": [
    "list1 = [1, 3, 4, 5, 6, 7, 8, 9]\n",
    "list2 = list1[-1:1:-1]\n",
    "list2"
   ]
  },
  {
   "cell_type": "code",
   "execution_count": 21,
   "id": "44d5795d",
   "metadata": {},
   "outputs": [
    {
     "data": {
      "text/plain": [
       "[]"
      ]
     },
     "execution_count": 21,
     "metadata": {},
     "output_type": "execute_result"
    }
   ],
   "source": [
    "list1 = [1, 3, 4, 5, 6, 7, 8, 9]\n",
    "list2 = list1[-4:-2:-1]\n",
    "list2"
   ]
  },
  {
   "cell_type": "code",
   "execution_count": 23,
   "id": "ef8f6c05",
   "metadata": {},
   "outputs": [
    {
     "data": {
      "text/plain": [
       "[6, 7]"
      ]
     },
     "execution_count": 23,
     "metadata": {},
     "output_type": "execute_result"
    }
   ],
   "source": [
    "list1 = [1, 3, 4, 5, 6, 7, 8, 9]\n",
    "list2 = list1[-4:-2]\n",
    "list2"
   ]
  },
  {
   "cell_type": "code",
   "execution_count": 24,
   "id": "6c0f910a",
   "metadata": {},
   "outputs": [
    {
     "data": {
      "text/plain": [
       "[8, 7]"
      ]
     },
     "execution_count": 24,
     "metadata": {},
     "output_type": "execute_result"
    }
   ],
   "source": [
    "list1 = [1, 3, 4, 5, 6, 7, 8, 9]\n",
    "list2 = list1[-2:-4:-1]\n",
    "list2"
   ]
  },
  {
   "cell_type": "code",
   "execution_count": 25,
   "id": "43ca5e05",
   "metadata": {},
   "outputs": [
    {
     "data": {
      "text/plain": [
       "[9, 8, 7, 6, 5, 4, 3, 1]"
      ]
     },
     "execution_count": 25,
     "metadata": {},
     "output_type": "execute_result"
    }
   ],
   "source": [
    "list1 = [1, 3, 4, 5, 6, 7, 8, 9]\n",
    "list2 = list1[::-1]\n",
    "list2"
   ]
  },
  {
   "cell_type": "code",
   "execution_count": 26,
   "id": "41f03f5d",
   "metadata": {},
   "outputs": [
    {
     "data": {
      "text/plain": [
       "['__add__',\n",
       " '__class__',\n",
       " '__contains__',\n",
       " '__delattr__',\n",
       " '__delitem__',\n",
       " '__dir__',\n",
       " '__doc__',\n",
       " '__eq__',\n",
       " '__format__',\n",
       " '__ge__',\n",
       " '__getattribute__',\n",
       " '__getitem__',\n",
       " '__gt__',\n",
       " '__hash__',\n",
       " '__iadd__',\n",
       " '__imul__',\n",
       " '__init__',\n",
       " '__init_subclass__',\n",
       " '__iter__',\n",
       " '__le__',\n",
       " '__len__',\n",
       " '__lt__',\n",
       " '__mul__',\n",
       " '__ne__',\n",
       " '__new__',\n",
       " '__reduce__',\n",
       " '__reduce_ex__',\n",
       " '__repr__',\n",
       " '__reversed__',\n",
       " '__rmul__',\n",
       " '__setattr__',\n",
       " '__setitem__',\n",
       " '__sizeof__',\n",
       " '__str__',\n",
       " '__subclasshook__',\n",
       " 'append',\n",
       " 'clear',\n",
       " 'copy',\n",
       " 'count',\n",
       " 'extend',\n",
       " 'index',\n",
       " 'insert',\n",
       " 'pop',\n",
       " 'remove',\n",
       " 'reverse',\n",
       " 'sort']"
      ]
     },
     "execution_count": 26,
     "metadata": {},
     "output_type": "execute_result"
    }
   ],
   "source": [
    "dir(list)"
   ]
  },
  {
   "cell_type": "code",
   "execution_count": 27,
   "id": "323d7f90",
   "metadata": {},
   "outputs": [
    {
     "data": {
      "text/plain": [
       "[3, 4, 5, 6, 7, 8, 9]"
      ]
     },
     "execution_count": 27,
     "metadata": {},
     "output_type": "execute_result"
    }
   ],
   "source": [
    "list1 = [1, 3, 4, 5, 6, 7, 8, 9]\n",
    "del list1[0]\n",
    "list1"
   ]
  },
  {
   "cell_type": "code",
   "execution_count": 28,
   "id": "619e56a2",
   "metadata": {},
   "outputs": [
    {
     "ename": "NameError",
     "evalue": "name 'list1' is not defined",
     "output_type": "error",
     "traceback": [
      "\u001b[1;31m---------------------------------------------------------------------------\u001b[0m",
      "\u001b[1;31mNameError\u001b[0m                                 Traceback (most recent call last)",
      "Cell \u001b[1;32mIn[28], line 3\u001b[0m\n\u001b[0;32m      1\u001b[0m list1 \u001b[38;5;241m=\u001b[39m [\u001b[38;5;241m1\u001b[39m, \u001b[38;5;241m3\u001b[39m, \u001b[38;5;241m4\u001b[39m, \u001b[38;5;241m5\u001b[39m, \u001b[38;5;241m6\u001b[39m, \u001b[38;5;241m7\u001b[39m, \u001b[38;5;241m8\u001b[39m, \u001b[38;5;241m9\u001b[39m]\n\u001b[0;32m      2\u001b[0m \u001b[38;5;28;01mdel\u001b[39;00m list1\n\u001b[1;32m----> 3\u001b[0m \u001b[43mlist1\u001b[49m\n",
      "\u001b[1;31mNameError\u001b[0m: name 'list1' is not defined"
     ]
    }
   ],
   "source": [
    "list1 = [1, 3, 4, 5, 6, 7, 8, 9]\n",
    "del list1\n",
    "list1"
   ]
  },
  {
   "cell_type": "code",
   "execution_count": 29,
   "id": "f2439b61",
   "metadata": {},
   "outputs": [
    {
     "data": {
      "text/plain": [
       "[1, 5, 6, 7, 8, 9]"
      ]
     },
     "execution_count": 29,
     "metadata": {},
     "output_type": "execute_result"
    }
   ],
   "source": [
    "list1 = [1, 3, 4, 5, 6, 7, 8, 9]\n",
    "del list1[1:3]\n",
    "list1"
   ]
  },
  {
   "cell_type": "code",
   "execution_count": 30,
   "id": "55c55330",
   "metadata": {},
   "outputs": [
    {
     "data": {
      "text/plain": [
       "[]"
      ]
     },
     "execution_count": 30,
     "metadata": {},
     "output_type": "execute_result"
    }
   ],
   "source": [
    "list1 = [1, 3, 4, 5, 6, 7, 8, 9]\n",
    "del list1[:]\n",
    "list1"
   ]
  },
  {
   "cell_type": "code",
   "execution_count": null,
   "id": "64cea1cc",
   "metadata": {},
   "outputs": [],
   "source": [
    "# in\n",
    "# not in"
   ]
  },
  {
   "cell_type": "code",
   "execution_count": null,
   "id": "26778690",
   "metadata": {},
   "outputs": [],
   "source": [
    "# elem in my_list\n",
    "# elem not in my_list"
   ]
  },
  {
   "cell_type": "code",
   "execution_count": 32,
   "id": "7df45149",
   "metadata": {},
   "outputs": [
    {
     "name": "stdout",
     "output_type": "stream",
     "text": [
      "True\n",
      "False\n",
      "False\n",
      "True\n"
     ]
    }
   ],
   "source": [
    "list1 = [1, 3, 4, 5, 6, 7, 8, 9]\n",
    "print(5 in list1)\n",
    "print(10 in list1)\n",
    "print(5 not in list1)\n",
    "print(10 not in list1)"
   ]
  },
  {
   "cell_type": "markdown",
   "id": "219c68c7",
   "metadata": {},
   "source": [
    "exercise 1"
   ]
  },
  {
   "cell_type": "code",
   "execution_count": 33,
   "id": "533763e0",
   "metadata": {},
   "outputs": [
    {
     "name": "stdout",
     "output_type": "stream",
     "text": [
      "[6, 2, 3, 4, 5, 1]\n"
     ]
    }
   ],
   "source": [
    "#What is the output of the following snippet?\n",
    "lst = [1, 2, 3, 4, 5]\n",
    "lst.insert(1, 6)\n",
    "del lst[0]\n",
    "lst.append(1)\n",
    "\n",
    "print(lst)"
   ]
  },
  {
   "cell_type": "code",
   "execution_count": 34,
   "id": "9299865c",
   "metadata": {},
   "outputs": [
    {
     "name": "stdout",
     "output_type": "stream",
     "text": [
      "[1, 3, 6, 10, 15]\n"
     ]
    }
   ],
   "source": [
    "#What is the output of the following snippet?\n",
    "lst = [1, 2, 3, 4, 5]\n",
    "lst_2 = []\n",
    "add = 0\n",
    "\n",
    "for number in lst:\n",
    "    add += number\n",
    "    lst_2.append(add)\n",
    "\n",
    "print(lst_2)"
   ]
  },
  {
   "cell_type": "code",
   "execution_count": 36,
   "id": "9f6a59cf",
   "metadata": {},
   "outputs": [
    {
     "name": "stdout",
     "output_type": "stream",
     "text": [
      "[]\n"
     ]
    }
   ],
   "source": [
    "#What happens when you run the following snippet?\n",
    "lst = []\n",
    "del lst[:]\n",
    "print(lst)"
   ]
  },
  {
   "cell_type": "code",
   "execution_count": 37,
   "id": "a99cb823",
   "metadata": {},
   "outputs": [
    {
     "name": "stdout",
     "output_type": "stream",
     "text": [
      "[2, 3]\n",
      "3\n"
     ]
    }
   ],
   "source": [
    "#What is the output of the following snippet?\n",
    "lst = [1, [2, 3], 4]\n",
    "print(lst[1])\n",
    "print(len(lst))"
   ]
  },
  {
   "cell_type": "code",
   "execution_count": 38,
   "id": "37f63ba9",
   "metadata": {},
   "outputs": [
    {
     "name": "stdout",
     "output_type": "stream",
     "text": [
      "['A', 'D', 'F', 'Z']\n"
     ]
    }
   ],
   "source": [
    "#Exercise 1\n",
    "#What is the output of the following snippet?\n",
    "lst = [\"D\", \"F\", \"A\", \"Z\"]\n",
    "lst.sort()\n",
    "\n",
    "print(lst)"
   ]
  },
  {
   "cell_type": "code",
   "execution_count": null,
   "id": "55a4dcd7",
   "metadata": {},
   "outputs": [],
   "source": [
    "#Exercise 2\n",
    "#What is the output of the following snippet?\n",
    "a = 3\n",
    "b = 1\n",
    "c = 2\n",
    "\n",
    "lst = [a, c, b]\n",
    "lst.sort()\n",
    "\n",
    "print(lst)"
   ]
  },
  {
   "cell_type": "code",
   "execution_count": null,
   "id": "daba030b",
   "metadata": {},
   "outputs": [],
   "source": [
    "#Exercise 3\n",
    "#What is the output of the following snippet?\n",
    "a = \"A\"\n",
    "b = \"B\"\n",
    "c = \"C\"\n",
    "d = \" \"\n",
    "\n",
    "lst = [a, b, c, d]\n",
    "lst.reverse()\n",
    "\n",
    "print(lst)"
   ]
  },
  {
   "cell_type": "code",
   "execution_count": null,
   "id": "83a9c58c",
   "metadata": {},
   "outputs": [],
   "source": [
    "#What is the output of the following snippet?\n",
    "list_1 = [\"A\", \"B\", \"C\"]\n",
    "list_2 = list_1\n",
    "list_3 = list_2\n",
    "\n",
    "del list_1[0]\n",
    "del list_2[0]\n",
    "\n",
    "print(list_3)\n"
   ]
  },
  {
   "cell_type": "code",
   "execution_count": null,
   "id": "d02d54ef",
   "metadata": {},
   "outputs": [],
   "source": [
    "#What is the output of the following snippet?\n",
    "list_1 = [\"A\", \"B\", \"C\"]\n",
    "list_2 = list_1\n",
    "list_3 = list_2\n",
    "\n",
    "del list_1[0]\n",
    "del list_2\n",
    "\n",
    "print(list_3)"
   ]
  },
  {
   "cell_type": "code",
   "execution_count": null,
   "id": "04282bac",
   "metadata": {},
   "outputs": [],
   "source": [
    "#What is the output of the following snippet?\n",
    "list_1 = [\"A\", \"B\", \"C\"]\n",
    "list_2 = list_1\n",
    "list_3 = list_2\n",
    "\n",
    "del list_1[0]\n",
    "del list_2[:]\n",
    "\n",
    "print(list_3)"
   ]
  },
  {
   "cell_type": "code",
   "execution_count": null,
   "id": "97bfe9ce",
   "metadata": {},
   "outputs": [],
   "source": [
    "#What is the output of the following snippet?\n",
    "list_1 = [\"A\", \"B\", \"C\"]\n",
    "list_2 = list_1[:]\n",
    "list_3 = list_2[:]\n",
    "\n",
    "del list_1[0]\n",
    "del list_2[0]\n",
    "\n",
    "print(list_3)"
   ]
  },
  {
   "cell_type": "code",
   "execution_count": 40,
   "id": "b1f2fa84",
   "metadata": {},
   "outputs": [
    {
     "name": "stdout",
     "output_type": "stream",
     "text": [
      "True\n",
      "True\n",
      "True\n",
      "False\n"
     ]
    }
   ],
   "source": [
    "#Insert in or not in instead of ??? so that the code outputs the expected result.\n",
    "my_list = [1, 2, \"in\", True, \"ABC\"]\n",
    "\n",
    "print(1 in my_list)  # outputs True\n",
    "print(\"A\" not in my_list)  # outputs True\n",
    "print(3 not in my_list)  # outputs True\n",
    "print(False in my_list)  # outputs False"
   ]
  },
  {
   "cell_type": "markdown",
   "id": "db90c242",
   "metadata": {},
   "source": [
    "### List comprehension"
   ]
  },
  {
   "cell_type": "markdown",
   "id": "3901f7fb",
   "metadata": {},
   "source": [
    "A Python `List comprehension` consists of brackets containing the expression, which is executed for each element along with the for loop to iterate over each element in the Python list. \n",
    "\n",
    "Python `List comprehension` provides a much more short syntax for creating a new list based on the values of an existing list.\n",
    "\n",
    "*Advantages of `List Comprehension`*\n",
    "- More time-efficient and space-efficient than loops.\n",
    "- Require fewer lines of code.\n",
    "- Transforms iterative statement into a formula.\n",
    "\n",
    "Syntax of  `List Comprehension`\n",
    "\n",
    "```Python\n",
    "newList = [ expression(element) for element in oldList if condition ] \n",
    "```"
   ]
  },
  {
   "cell_type": "markdown",
   "id": "ffa63cad",
   "metadata": {},
   "source": [
    "Let's see some list comprehension examples:\n",
    "\n",
    "Example #1:\n",
    "Create a list with the squares of 10 first integer numbers\n"
   ]
  },
  {
   "cell_type": "code",
   "execution_count": 41,
   "id": "44e02a0e",
   "metadata": {},
   "outputs": [
    {
     "name": "stdout",
     "output_type": "stream",
     "text": [
      "[0, 1, 4, 9, 16, 25, 36, 49, 64, 81]\n"
     ]
    }
   ],
   "source": [
    "#insted of\n",
    "squares = []\n",
    "for x in range(10):\n",
    "    squares.append(x**2)\n",
    "\n",
    "print(squares)"
   ]
  },
  {
   "cell_type": "code",
   "execution_count": 42,
   "id": "f155db44",
   "metadata": {},
   "outputs": [
    {
     "name": "stdout",
     "output_type": "stream",
     "text": [
      "[0, 1, 4, 9, 16, 25, 36, 49, 64, 81]\n"
     ]
    }
   ],
   "source": [
    "#we can write\n",
    "squares = [x**2 for x in range(10)]\n",
    "print(squares)"
   ]
  },
  {
   "cell_type": "markdown",
   "id": "af085a07",
   "metadata": {},
   "source": [
    "The snippet produces a ten-element list filled with squares of ten integer numbers starting from zero (0, 1, 4, 9, 16, 25, 36, 49, 64, 81)\n",
    "\n",
    "Example #2: Create a list with first 10 power of 2"
   ]
  },
  {
   "cell_type": "code",
   "execution_count": 43,
   "id": "5b14ad93",
   "metadata": {},
   "outputs": [
    {
     "name": "stdout",
     "output_type": "stream",
     "text": [
      "[1, 2, 4, 8, 16, 32, 64, 128, 256, 512]\n"
     ]
    }
   ],
   "source": [
    "#insted of\n",
    "twos = []\n",
    "for i in range(10):\n",
    "    twos.append(2**i)\n",
    "\n",
    "print(twos)"
   ]
  },
  {
   "cell_type": "code",
   "execution_count": 44,
   "id": "ceabea59",
   "metadata": {},
   "outputs": [
    {
     "name": "stdout",
     "output_type": "stream",
     "text": [
      "[1, 2, 4, 8, 16, 32, 64, 128, 256, 512]\n"
     ]
    }
   ],
   "source": [
    "twos = [2**i for i in range(10)]\n",
    "print(twos)"
   ]
  },
  {
   "cell_type": "markdown",
   "id": "871dd1af",
   "metadata": {},
   "source": [
    "The snippet creates an eight-element array containing the first eight powers of two (1, 2, 4, 8, 16, 32, 64, 128)\n",
    "\n",
    "Example #3. Create a list that contains only odd elements of the squares of 10  first integer numbers"
   ]
  },
  {
   "cell_type": "code",
   "execution_count": 45,
   "id": "94d0af53",
   "metadata": {},
   "outputs": [
    {
     "data": {
      "text/plain": [
       "[0, 1, 4, 9, 16, 25, 36, 49, 64, 81]"
      ]
     },
     "execution_count": 45,
     "metadata": {},
     "output_type": "execute_result"
    }
   ],
   "source": [
    "squares"
   ]
  },
  {
   "cell_type": "code",
   "execution_count": 46,
   "id": "a0152a90",
   "metadata": {},
   "outputs": [
    {
     "name": "stdout",
     "output_type": "stream",
     "text": [
      "[1, 9, 25, 49, 81]\n"
     ]
    }
   ],
   "source": [
    "#insted of\n",
    "odds = []\n",
    "for x in squares:\n",
    "    if x % 2 != 0:\n",
    "        odds.append(x)\n",
    "        \n",
    "print(odds)"
   ]
  },
  {
   "cell_type": "code",
   "execution_count": 48,
   "id": "3589b345",
   "metadata": {
    "scrolled": true
   },
   "outputs": [
    {
     "name": "stdout",
     "output_type": "stream",
     "text": [
      "[1, 9, 25, 49, 81]\n"
     ]
    }
   ],
   "source": [
    "odds = [x for x in squares if x % 2 ]\n",
    "print(odds)"
   ]
  },
  {
   "cell_type": "code",
   "execution_count": 50,
   "id": "697f1322",
   "metadata": {
    "scrolled": true
   },
   "outputs": [
    {
     "name": "stdout",
     "output_type": "stream",
     "text": [
      "[1, 9, 25, 49, 81]\n"
     ]
    }
   ],
   "source": [
    "odds = [x for x in squares if x % 2 ]\n",
    "print(odds)"
   ]
  },
  {
   "cell_type": "code",
   "execution_count": 51,
   "id": "e9e4c10b",
   "metadata": {
    "scrolled": true
   },
   "outputs": [
    {
     "ename": "SyntaxError",
     "evalue": "invalid syntax (254037290.py, line 1)",
     "output_type": "error",
     "traceback": [
      "\u001b[1;36m  Cell \u001b[1;32mIn[51], line 1\u001b[1;36m\u001b[0m\n\u001b[1;33m    odds = [x if x % 2 for x in squares  ]\u001b[0m\n\u001b[1;37m                       ^\u001b[0m\n\u001b[1;31mSyntaxError\u001b[0m\u001b[1;31m:\u001b[0m invalid syntax\n"
     ]
    }
   ],
   "source": [
    "# не правильно!\n",
    "odds = [x if x % 2 for x in squares  ]\n",
    "print(odds)"
   ]
  },
  {
   "cell_type": "code",
   "execution_count": 52,
   "id": "6366db08",
   "metadata": {},
   "outputs": [
    {
     "ename": "SyntaxError",
     "evalue": "invalid syntax (2227036042.py, line 2)",
     "output_type": "error",
     "traceback": [
      "\u001b[1;36m  Cell \u001b[1;32mIn[52], line 2\u001b[1;36m\u001b[0m\n\u001b[1;33m    odds = [x  for x in squares if x % 2 else 0]\u001b[0m\n\u001b[1;37m                                         ^\u001b[0m\n\u001b[1;31mSyntaxError\u001b[0m\u001b[1;31m:\u001b[0m invalid syntax\n"
     ]
    }
   ],
   "source": [
    "# не правильно!\n",
    "odds = [x  for x in squares if x % 2 else 0]\n",
    "print(odds)"
   ]
  },
  {
   "cell_type": "code",
   "execution_count": 53,
   "id": "63ac074f",
   "metadata": {},
   "outputs": [
    {
     "data": {
      "text/plain": [
       "[0, 1, 0, 9, 0, 25, 0, 49, 0, 81]"
      ]
     },
     "execution_count": 53,
     "metadata": {},
     "output_type": "execute_result"
    }
   ],
   "source": [
    "# but\n",
    "odds_1 = [x if x % 2 else 0 for x in squares ]\n",
    "odds_1"
   ]
  },
  {
   "cell_type": "markdown",
   "id": "6013b9c0",
   "metadata": {},
   "source": [
    "The snippet makes a list with only the odd elements of the `squares` list."
   ]
  },
  {
   "cell_type": "markdown",
   "id": "35605594",
   "metadata": {},
   "source": [
    " Time Analysis in List Comprehensions and Loop"
   ]
  },
  {
   "cell_type": "markdown",
   "id": "ad59b909",
   "metadata": {},
   "source": [
    "The list comprehensions are more efficient both computationally and in terms of coding space and time than a for a loop. Typically, they are written in a single line of code. The below program depicts the difference between for loops and list comprehension based on performance."
   ]
  },
  {
   "cell_type": "code",
   "execution_count": 54,
   "id": "14220093",
   "metadata": {},
   "outputs": [
    {
     "name": "stdout",
     "output_type": "stream",
     "text": [
      "Time taken for loop: 1.48 s\n",
      "Time taken for list comprehension: 1.06 s\n"
     ]
    }
   ],
   "source": [
    "# Import required module\n",
    "import time\n",
    "  \n",
    "n = 10**6\n",
    "# Calculate time takens by for loop \n",
    "begin = time.time()\n",
    "result = []\n",
    "for i in range(n):\n",
    "    result.append(i**2)\n",
    "end = time.time()\n",
    " \n",
    "# Display time taken by for loop\n",
    "print('Time taken for loop:', round(end-begin, 2), 's')\n",
    " \n",
    "# Calculate time takens by list comprehension\n",
    "begin = time.time()\n",
    "[i**2 for i in range(n)]\n",
    "end = time.time()\n",
    " \n",
    "# Display time taken by list comprehension\n",
    "print('Time taken for list comprehension:', round(end-begin, 2), 's')"
   ]
  },
  {
   "cell_type": "markdown",
   "id": "d9ae1f5b",
   "metadata": {},
   "source": [
    "## Lists in lists: two-dimensional arrays"
   ]
  },
  {
   "cell_type": "markdown",
   "id": "0e35067b",
   "metadata": {},
   "source": [
    "In real-world often tasks have to store rectangular data table. \n",
    "\n",
    "Such tables are called matrices or two-dimensional arrays. \n",
    "\n",
    "In Python any table can be represented as a list of lists (a list, where each element is in turn a list). \n",
    "\n",
    "For example, here's the program that creates a numerical table with two rows and three columns, and then makes some manipulations with it:"
   ]
  },
  {
   "cell_type": "code",
   "execution_count": 56,
   "id": "29b2b749",
   "metadata": {},
   "outputs": [
    {
     "name": "stdout",
     "output_type": "stream",
     "text": [
      "[1, 2, 3]\n",
      "[4, 5, 6]\n"
     ]
    },
    {
     "data": {
      "text/plain": [
       "[1, 2, 3]"
      ]
     },
     "execution_count": 56,
     "metadata": {},
     "output_type": "execute_result"
    }
   ],
   "source": [
    "a = [[1, 2, 3], [4, 5, 6]]\n",
    "print(a[0])\n",
    "print(a[1])\n",
    "a[0]"
   ]
  },
  {
   "cell_type": "code",
   "execution_count": 57,
   "id": "44ba1746",
   "metadata": {},
   "outputs": [
    {
     "name": "stdout",
     "output_type": "stream",
     "text": [
      "[1, 2, 3]\n",
      "3\n"
     ]
    }
   ],
   "source": [
    "b = a[0]\n",
    "print(b)\n",
    "print(a[0][2])"
   ]
  },
  {
   "cell_type": "code",
   "execution_count": 59,
   "id": "b4fdfd1a",
   "metadata": {},
   "outputs": [
    {
     "name": "stdout",
     "output_type": "stream",
     "text": [
      "[[1, 7, 3], [4, 5, 6]]\n",
      "[1, 7, 3]\n"
     ]
    }
   ],
   "source": [
    "a[0][1] = 7\n",
    "print(a)\n",
    "print(b)"
   ]
  },
  {
   "cell_type": "code",
   "execution_count": 60,
   "id": "7dfdd585",
   "metadata": {},
   "outputs": [
    {
     "name": "stdout",
     "output_type": "stream",
     "text": [
      "[1, 7, 9]\n",
      "[1, 7, 9]\n"
     ]
    }
   ],
   "source": [
    "b[2] = 9\n",
    "print(a[0])\n",
    "print(b)"
   ]
  },
  {
   "cell_type": "markdown",
   "id": "fd5434b8",
   "metadata": {},
   "source": [
    "The first element of `a` here — `a[0]` — is a list of numbers `[1, 2, 3]`. \n",
    "\n",
    "The first element of this new list is `a[0][0] == 1`; moreover, `a[0][1] == 2`, `a[0][2] == 3`, `a[1][0] == 4`, `a[1][1] == 5`, `a[1][2] == 6`."
   ]
  },
  {
   "cell_type": "markdown",
   "id": "e0637667",
   "metadata": {},
   "source": [
    "To process 2-dimensional array, you typically use nested loops. The first loop iterates through the row number, the second loop runs through the elements inside of a row. For example, that's how you display two-dimensional numerical list on the screen line by line, separating the numbers with spaces:"
   ]
  },
  {
   "cell_type": "code",
   "execution_count": 61,
   "id": "a5a63508",
   "metadata": {
    "scrolled": true
   },
   "outputs": [
    {
     "data": {
      "text/plain": [
       "[[1, 7, 9], [4, 5, 6]]"
      ]
     },
     "execution_count": 61,
     "metadata": {},
     "output_type": "execute_result"
    }
   ],
   "source": [
    "a"
   ]
  },
  {
   "cell_type": "code",
   "execution_count": 62,
   "id": "81246df5",
   "metadata": {
    "scrolled": true
   },
   "outputs": [
    {
     "data": {
      "text/plain": [
       "2"
      ]
     },
     "execution_count": 62,
     "metadata": {},
     "output_type": "execute_result"
    }
   ],
   "source": [
    "len(a)"
   ]
  },
  {
   "cell_type": "code",
   "execution_count": 63,
   "id": "02f685eb",
   "metadata": {},
   "outputs": [
    {
     "data": {
      "text/plain": [
       "3"
      ]
     },
     "execution_count": 63,
     "metadata": {},
     "output_type": "execute_result"
    }
   ],
   "source": [
    "len(a[0])"
   ]
  },
  {
   "cell_type": "code",
   "execution_count": 64,
   "id": "3beb9260",
   "metadata": {},
   "outputs": [
    {
     "name": "stdout",
     "output_type": "stream",
     "text": [
      "1 2 3 4 \n",
      "5 6 \n",
      "7 8 9 \n"
     ]
    }
   ],
   "source": [
    "a = [[1, 2, 3, 4], [5, 6], [7, 8, 9]]\n",
    "for i in range(len(a)):\n",
    "    for j in range(len(a[i])):\n",
    "        print(a[i][j], end=' ')\n",
    "    print()"
   ]
  },
  {
   "cell_type": "markdown",
   "id": "27c845de",
   "metadata": {},
   "source": [
    "We have already tried to explain that a for-loop variable in Python can iterate not only over a range(), but generally over all the elements of any sequence. Sequences in Python are lists and strings (and some other objects that we haven't met yet). Look how you can print a two-dimensional array, using this handy feature of loop for:"
   ]
  },
  {
   "cell_type": "code",
   "execution_count": 65,
   "id": "7aa13c23",
   "metadata": {},
   "outputs": [
    {
     "name": "stdout",
     "output_type": "stream",
     "text": [
      "1 2 3 4 \n",
      "5 6 \n",
      "7 8 9 \n"
     ]
    }
   ],
   "source": [
    "a = [[1, 2, 3, 4], [5, 6], [7, 8, 9]]\n",
    "for row in a:\n",
    "    for elem in row:\n",
    "        print(elem, end=' ')\n",
    "    print()"
   ]
  },
  {
   "cell_type": "markdown",
   "id": "8548058e",
   "metadata": {},
   "source": [
    "This is how you can use 2 nested loops to calculate the sum of all the numbers in the 2-dimensional list"
   ]
  },
  {
   "cell_type": "code",
   "execution_count": 66,
   "id": "39b13598",
   "metadata": {},
   "outputs": [
    {
     "name": "stdout",
     "output_type": "stream",
     "text": [
      "45\n"
     ]
    }
   ],
   "source": [
    "a = [[1, 2, 3, 4], [5, 6], [7, 8, 9]]\n",
    "s = 0\n",
    "for i in range(len(a)):\n",
    "    for j in range(len(a[i])):\n",
    "        s += a[i][j]\n",
    "print(s)"
   ]
  },
  {
   "cell_type": "markdown",
   "id": "05c7f08f",
   "metadata": {},
   "source": [
    "Or the same with iterating by elements, not by the variables i and j:"
   ]
  },
  {
   "cell_type": "code",
   "execution_count": 67,
   "id": "2c7f6899",
   "metadata": {},
   "outputs": [
    {
     "name": "stdout",
     "output_type": "stream",
     "text": [
      "45\n"
     ]
    }
   ],
   "source": [
    "a = [[1, 2, 3, 4], [5, 6], [7, 8, 9]]\n",
    "s = 0\n",
    "for row in a:\n",
    "    for elem in row:\n",
    "        s += elem\n",
    "print(s)"
   ]
  },
  {
   "cell_type": "code",
   "execution_count": null,
   "id": "1dea8b20",
   "metadata": {},
   "outputs": [],
   "source": []
  },
  {
   "cell_type": "markdown",
   "id": "361572a0",
   "metadata": {},
   "source": [
    "# Built-in Python Functions"
   ]
  },
  {
   "cell_type": "markdown",
   "id": "047f45d9",
   "metadata": {},
   "source": [
    "The total list is here - https://docs.python.org/3/library/functions.html"
   ]
  },
  {
   "cell_type": "markdown",
   "id": "df76b948",
   "metadata": {},
   "source": [
    "|Name|Syntax|Description|\n",
    "|----|------|-----------|\n",
    "|**len**|len(s)|Returns the number of element in the list|.\n",
    "|**list**|list([iterable])|Creates a list out of an iterable.|\n",
    "|**sum**|sum(iterable[,start])|Adds all items of an iterable.|\n",
    "|**min**|min(iterable[,key, default])|Gets the smallest item in a sequence.|\n",
    "|**max**|max(iterable[,key, default])|Gets the largest item in a sequence.|\n",
    "|**sorted**|sorted(iterable[,key,reverse])|Returns a new list of sorted items in iterable.|\n",
    "|**reversed**|reversed(iterator)|Reverses an iterator.|\n",
    "|**map**|map(function, iterable,...]|Returns iterator that applies function to each item of iterables.|\n",
    "\n"
   ]
  },
  {
   "cell_type": "code",
   "execution_count": 68,
   "id": "5948fb5e",
   "metadata": {},
   "outputs": [
    {
     "data": {
      "text/plain": [
       "3"
      ]
     },
     "execution_count": 68,
     "metadata": {},
     "output_type": "execute_result"
    }
   ],
   "source": [
    "abs(-3)"
   ]
  },
  {
   "cell_type": "code",
   "execution_count": 69,
   "id": "e75ba482",
   "metadata": {},
   "outputs": [
    {
     "data": {
      "text/plain": [
       "8"
      ]
     },
     "execution_count": 69,
     "metadata": {},
     "output_type": "execute_result"
    }
   ],
   "source": [
    "pow(2, 3)"
   ]
  },
  {
   "cell_type": "code",
   "execution_count": 70,
   "id": "0c5c686d",
   "metadata": {},
   "outputs": [
    {
     "data": {
      "text/plain": [
       "[1, 3, 4, 5, 6, 7, 8, 9]"
      ]
     },
     "execution_count": 70,
     "metadata": {},
     "output_type": "execute_result"
    }
   ],
   "source": [
    "list1"
   ]
  },
  {
   "cell_type": "code",
   "execution_count": 71,
   "id": "766cbf80",
   "metadata": {},
   "outputs": [
    {
     "data": {
      "text/plain": [
       "8"
      ]
     },
     "execution_count": 71,
     "metadata": {},
     "output_type": "execute_result"
    }
   ],
   "source": [
    "len(list1)"
   ]
  },
  {
   "cell_type": "code",
   "execution_count": 72,
   "id": "1c959bcc",
   "metadata": {},
   "outputs": [
    {
     "data": {
      "text/plain": [
       "(43, 9, 1)"
      ]
     },
     "execution_count": 72,
     "metadata": {},
     "output_type": "execute_result"
    }
   ],
   "source": [
    "sum(list1), max(list1), min(list1)"
   ]
  },
  {
   "cell_type": "code",
   "execution_count": 74,
   "id": "94a80027",
   "metadata": {},
   "outputs": [
    {
     "data": {
      "text/plain": [
       "33"
      ]
     },
     "execution_count": 74,
     "metadata": {},
     "output_type": "execute_result"
    }
   ],
   "source": [
    "sum(list1, -10)"
   ]
  },
  {
   "cell_type": "code",
   "execution_count": 75,
   "id": "db80f62c",
   "metadata": {},
   "outputs": [
    {
     "data": {
      "text/plain": [
       "1"
      ]
     },
     "execution_count": 75,
     "metadata": {},
     "output_type": "execute_result"
    }
   ],
   "source": [
    "lst = [1, 2, 3, 5, 6]\n",
    "min(lst)"
   ]
  },
  {
   "cell_type": "code",
   "execution_count": 78,
   "id": "92d8ce90",
   "metadata": {},
   "outputs": [
    {
     "ename": "ValueError",
     "evalue": "min() arg is an empty sequence",
     "output_type": "error",
     "traceback": [
      "\u001b[1;31m---------------------------------------------------------------------------\u001b[0m",
      "\u001b[1;31mValueError\u001b[0m                                Traceback (most recent call last)",
      "Cell \u001b[1;32mIn[78], line 2\u001b[0m\n\u001b[0;32m      1\u001b[0m lst \u001b[38;5;241m=\u001b[39m []\n\u001b[1;32m----> 2\u001b[0m \u001b[38;5;28;43mmin\u001b[39;49m\u001b[43m(\u001b[49m\u001b[43mlst\u001b[49m\u001b[43m)\u001b[49m\n",
      "\u001b[1;31mValueError\u001b[0m: min() arg is an empty sequence"
     ]
    }
   ],
   "source": [
    "lst = []\n",
    "min(lst)"
   ]
  },
  {
   "cell_type": "code",
   "execution_count": 80,
   "id": "20d136d0",
   "metadata": {},
   "outputs": [
    {
     "data": {
      "text/plain": [
       "-1"
      ]
     },
     "execution_count": 80,
     "metadata": {},
     "output_type": "execute_result"
    }
   ],
   "source": [
    "lst = []\n",
    "min(lst, default=-1)"
   ]
  },
  {
   "cell_type": "code",
   "execution_count": 81,
   "id": "ee377c1f",
   "metadata": {},
   "outputs": [
    {
     "data": {
      "text/plain": [
       "'10'"
      ]
     },
     "execution_count": 81,
     "metadata": {},
     "output_type": "execute_result"
    }
   ],
   "source": [
    "lst = ['3', '5', '6', '10','100']\n",
    "min(lst)"
   ]
  },
  {
   "cell_type": "code",
   "execution_count": 82,
   "id": "f788569c",
   "metadata": {},
   "outputs": [
    {
     "data": {
      "text/plain": [
       "'3'"
      ]
     },
     "execution_count": 82,
     "metadata": {},
     "output_type": "execute_result"
    }
   ],
   "source": [
    "lst = ['3', '5', '6', '10','100']\n",
    "min(lst, key=int)"
   ]
  },
  {
   "cell_type": "code",
   "execution_count": 83,
   "id": "98c0627a",
   "metadata": {},
   "outputs": [
    {
     "data": {
      "text/plain": [
       "['3', '5', '6', '10', '100']"
      ]
     },
     "execution_count": 83,
     "metadata": {},
     "output_type": "execute_result"
    }
   ],
   "source": [
    "lst"
   ]
  },
  {
   "cell_type": "code",
   "execution_count": 84,
   "id": "4e56ff05",
   "metadata": {},
   "outputs": [
    {
     "data": {
      "text/plain": [
       "'100'"
      ]
     },
     "execution_count": 84,
     "metadata": {},
     "output_type": "execute_result"
    }
   ],
   "source": [
    "lst = ['3', '5', '6', '10','100']\n",
    "max(lst, key=int)"
   ]
  },
  {
   "cell_type": "code",
   "execution_count": 85,
   "id": "27a6bb63",
   "metadata": {},
   "outputs": [
    {
     "data": {
      "text/plain": [
       "'6'"
      ]
     },
     "execution_count": 85,
     "metadata": {},
     "output_type": "execute_result"
    }
   ],
   "source": [
    "lst = ['3', '5', '6', '10','100']\n",
    "max(lst)"
   ]
  },
  {
   "cell_type": "code",
   "execution_count": 86,
   "id": "210e6379",
   "metadata": {},
   "outputs": [
    {
     "data": {
      "text/plain": [
       "['10', '100', '3', '33', '5', '6', '90']"
      ]
     },
     "execution_count": 86,
     "metadata": {},
     "output_type": "execute_result"
    }
   ],
   "source": [
    "lst = ['3', '5', '6', '10','100','33','90']\n",
    "sorted(lst)"
   ]
  },
  {
   "cell_type": "code",
   "execution_count": 87,
   "id": "13080d35",
   "metadata": {},
   "outputs": [
    {
     "data": {
      "text/plain": [
       "['3', '5', '6', '10', '33', '90', '100']"
      ]
     },
     "execution_count": 87,
     "metadata": {},
     "output_type": "execute_result"
    }
   ],
   "source": [
    "lst = ['3', '5', '6', '10','100','33','90']\n",
    "sorted(lst,key=int)"
   ]
  },
  {
   "cell_type": "code",
   "execution_count": null,
   "id": "7a37057d",
   "metadata": {},
   "outputs": [],
   "source": []
  },
  {
   "cell_type": "code",
   "execution_count": null,
   "id": "095a684f",
   "metadata": {},
   "outputs": [],
   "source": []
  }
 ],
 "metadata": {
  "kernelspec": {
   "display_name": "Python 3",
   "language": "python",
   "name": "python3"
  },
  "language_info": {
   "codemirror_mode": {
    "name": "ipython",
    "version": 3
   },
   "file_extension": ".py",
   "mimetype": "text/x-python",
   "name": "python",
   "nbconvert_exporter": "python",
   "pygments_lexer": "ipython3",
   "version": "3.8.2"
  }
 },
 "nbformat": 4,
 "nbformat_minor": 5
}
